{
 "cells": [
  {
   "cell_type": "code",
   "execution_count": null,
   "id": "9118d0a4-8698-4a79-9191-a565f79daa98",
   "metadata": {},
   "outputs": [],
   "source": [
    "# 주석 사용하기\n",
    "x = 1 # 여기서 =(등호) 기호는 수학의 같다는 의미와는 다르다.\n",
    "      # ... 우측 변의 리터럴을 좌측 변의 변수에 대입한다는 의미다.\n",
    "text = \"# 이것은 주석이 아닙니다. 따옴표 안은 문자열 리터럴입니다.\""
   ]
  },
  {
   "cell_type": "code",
   "execution_count": 3,
   "id": "7dbd9416-4c17-4958-a74f-c7a8673a5ede",
   "metadata": {},
   "outputs": [
    {
     "name": "stdout",
     "output_type": "stream",
     "text": [
      "Hello, world!\n",
      "Hello, world!\n",
      "Python Programming\n"
     ]
    }
   ],
   "source": [
    "print(\"Hello, world!\\nHello, world!\\nPython Programming\")"
   ]
  },
  {
   "cell_type": "code",
   "execution_count": null,
   "id": "72177c52-6646-4f72-bed2-de393334ff9c",
   "metadata": {},
   "outputs": [],
   "source": [
    "print(\"Hello, world!)\n",
    "print(\"Hello, world!\")\n",
    "print(\"Python Programming\")"
   ]
  },
  {
   "cell_type": "code",
   "execution_count": 4,
   "id": "b69b6188-6eb9-435b-b76e-7b5df6b652ed",
   "metadata": {},
   "outputs": [
    {
     "name": "stdout",
     "output_type": "stream",
     "text": [
      "4\n"
     ]
    }
   ],
   "source": [
    "print(2+2) # 답이 정수"
   ]
  },
  {
   "cell_type": "code",
   "execution_count": 6,
   "id": "fde23869-662f-42d8-9564-e0eb9fb01386",
   "metadata": {},
   "outputs": [
    {
     "name": "stdout",
     "output_type": "stream",
     "text": [
      "0\n"
     ]
    }
   ],
   "source": [
    "print(2-2) # 위와 동일"
   ]
  },
  {
   "cell_type": "code",
   "execution_count": 7,
   "id": "d4915c31-e70d-474a-ba4e-3fff88637d2d",
   "metadata": {},
   "outputs": [
    {
     "name": "stdout",
     "output_type": "stream",
     "text": [
      "4\n"
     ]
    }
   ],
   "source": [
    "print(2*2) # 위와 동일"
   ]
  },
  {
   "cell_type": "code",
   "execution_count": 8,
   "id": "ea1db74a-e919-4716-bd71-d750288ca8dd",
   "metadata": {},
   "outputs": [
    {
     "name": "stdout",
     "output_type": "stream",
     "text": [
      "1.0\n"
     ]
    }
   ],
   "source": [
    "print(2/2) # 나눗셈만 항상 실수, 위의 경우도 연산에 쓰이는 변수가 정수가 아닌 실수가 들어가면 답이 실수로 나온다."
   ]
  },
  {
   "cell_type": "code",
   "execution_count": 9,
   "id": "889901a8-bd75-488f-a01b-d2141dc2931c",
   "metadata": {},
   "outputs": [
    {
     "data": {
      "text/plain": [
       "89"
      ]
     },
     "execution_count": 9,
     "metadata": {},
     "output_type": "execute_result"
    }
   ],
   "source": [
    "13+(22-3)*4"
   ]
  },
  {
   "cell_type": "code",
   "execution_count": 10,
   "id": "ad253ecd-6b1b-400f-9f1f-f9b23729aba4",
   "metadata": {},
   "outputs": [
    {
     "data": {
      "text/plain": [
       "28.2"
      ]
     },
     "execution_count": 10,
     "metadata": {},
     "output_type": "execute_result"
    }
   ],
   "source": [
    "13+((22-3)*4)/5"
   ]
  },
  {
   "cell_type": "code",
   "execution_count": 11,
   "id": "992d1ece-36d1-4c88-884a-48678ac5adcd",
   "metadata": {},
   "outputs": [
    {
     "data": {
      "text/plain": [
       "3"
      ]
     },
     "execution_count": 11,
     "metadata": {},
     "output_type": "execute_result"
    }
   ],
   "source": [
    "7//2 # 몫 구하기"
   ]
  },
  {
   "cell_type": "code",
   "execution_count": 12,
   "id": "bb52f755-d1c8-41c9-bd0f-e89e3b8f0ee4",
   "metadata": {},
   "outputs": [
    {
     "data": {
      "text/plain": [
       "1"
      ]
     },
     "execution_count": 12,
     "metadata": {},
     "output_type": "execute_result"
    }
   ],
   "source": [
    "3%2 # 나머지 구하기"
   ]
  },
  {
   "cell_type": "code",
   "execution_count": 13,
   "id": "89bfecb9-b34f-457b-b0f4-50ddbd232742",
   "metadata": {},
   "outputs": [
    {
     "data": {
      "text/plain": [
       "128"
      ]
     },
     "execution_count": 13,
     "metadata": {},
     "output_type": "execute_result"
    }
   ],
   "source": [
    "2**7 # 거듭제곱"
   ]
  },
  {
   "cell_type": "code",
   "execution_count": 14,
   "id": "9d00e1e6-46bd-429f-9c59-88f8144086c0",
   "metadata": {},
   "outputs": [
    {
     "data": {
      "text/plain": [
       "1.7320508075688772"
      ]
     },
     "execution_count": 14,
     "metadata": {},
     "output_type": "execute_result"
    }
   ],
   "source": [
    "3 ** (1/2) # 제곱근"
   ]
  },
  {
   "cell_type": "code",
   "execution_count": 15,
   "id": "ba9c70bb-57ae-40c1-b813-716ee86a7f61",
   "metadata": {},
   "outputs": [],
   "source": [
    "# 정수 int\n",
    "# 실수 float\n",
    "# 복소수 complex: 실수 + 허수j 로 표현\n",
    "# - 실수 접근 -> 복소수.real\n",
    "# ..."
   ]
  },
  {
   "cell_type": "code",
   "execution_count": null,
   "id": "651980bb-375f-45c2-9c19-372df81e8dc5",
   "metadata": {},
   "outputs": [],
   "source": [
    "# int(정수로 변환할 것) : 정수 타입으로 변환하기"
   ]
  },
  {
   "cell_type": "code",
   "execution_count": null,
   "id": "94bee251-9ff5-4fa7-ac3f-3ef83970b2dc",
   "metadata": {},
   "outputs": [],
   "source": [
    "# float(실수로 변환할 것) : 실수 타입으로 변환하기"
   ]
  },
  {
   "cell_type": "code",
   "execution_count": 18,
   "id": "258b4d7c-e276-4ba0-a288-45c0dd5d7019",
   "metadata": {},
   "outputs": [
    {
     "data": {
      "text/plain": [
       "7"
      ]
     },
     "execution_count": 18,
     "metadata": {},
     "output_type": "execute_result"
    }
   ],
   "source": [
    "print(int(0.2467 * 12 + 4.159))"
   ]
  },
  {
   "cell_type": "code",
   "execution_count": 23,
   "id": "88e07f49-f5e6-45c2-bad2-0b1c10955252",
   "metadata": {},
   "outputs": [
    {
     "name": "stdout",
     "output_type": "stream",
     "text": [
      "가장 시끄러운 층은 = 7 층\n"
     ]
    }
   ],
   "source": [
    "print(\"가장 시끄러운 층은\", \"=\", int(0.2467 * 12 + 4.159), \"층\")"
   ]
  },
  {
   "cell_type": "code",
   "execution_count": null,
   "id": "b38a6df5-74d2-4148-a229-d9bedfdd96d5",
   "metadata": {},
   "outputs": [],
   "source": []
  }
 ],
 "metadata": {
  "kernelspec": {
   "display_name": "Python 3 (ipykernel)",
   "language": "python",
   "name": "python3"
  },
  "language_info": {
   "codemirror_mode": {
    "name": "ipython",
    "version": 3
   },
   "file_extension": ".py",
   "mimetype": "text/x-python",
   "name": "python",
   "nbconvert_exporter": "python",
   "pygments_lexer": "ipython3",
   "version": "3.9.13"
  }
 },
 "nbformat": 4,
 "nbformat_minor": 5
}
