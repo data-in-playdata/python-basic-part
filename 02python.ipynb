{
 "cells": [
  {
   "cell_type": "code",
   "execution_count": 1,
   "id": "9118d0a4-8698-4a79-9191-a565f79daa98",
   "metadata": {},
   "outputs": [],
   "source": [
    "# 주석 사용하기\n",
    "x = 1 # 여기서 =(등호) 기호는 수학의 같다는 의미와는 다르다.\n",
    "      # ... 우측 변의 리터럴을 좌측 변의 변수에 대입한다는 의미다.\n",
    "text = \"# 이것은 주석이 아닙니다. 따옴표 안은 문자열 리터럴입니다.\""
   ]
  },
  {
   "cell_type": "code",
   "execution_count": 2,
   "id": "7dbd9416-4c17-4958-a74f-c7a8673a5ede",
   "metadata": {},
   "outputs": [
    {
     "name": "stdout",
     "output_type": "stream",
     "text": [
      "Hello, world!\n",
      "Hello, world!\n",
      "Python Programming\n"
     ]
    }
   ],
   "source": [
    "print(\"Hello, world!\\nHello, world!\\nPython Programming\")"
   ]
  },
  {
   "cell_type": "code",
   "execution_count": 3,
   "id": "72177c52-6646-4f72-bed2-de393334ff9c",
   "metadata": {},
   "outputs": [
    {
     "name": "stdout",
     "output_type": "stream",
     "text": [
      "Hello, world!\n",
      "Hello, world!\n",
      "Python Programming\n"
     ]
    }
   ],
   "source": [
    "print(\"Hello, world!\")\n",
    "print(\"Hello, world!\")\n",
    "print(\"Python Programming\")"
   ]
  },
  {
   "cell_type": "code",
   "execution_count": 4,
   "id": "b69b6188-6eb9-435b-b76e-7b5df6b652ed",
   "metadata": {},
   "outputs": [
    {
     "name": "stdout",
     "output_type": "stream",
     "text": [
      "4\n"
     ]
    }
   ],
   "source": [
    "print(2+2) # 답이 정수"
   ]
  },
  {
   "cell_type": "code",
   "execution_count": 5,
   "id": "fde23869-662f-42d8-9564-e0eb9fb01386",
   "metadata": {},
   "outputs": [
    {
     "name": "stdout",
     "output_type": "stream",
     "text": [
      "0\n"
     ]
    }
   ],
   "source": [
    "print(2-2) # 위와 동일"
   ]
  },
  {
   "cell_type": "code",
   "execution_count": 6,
   "id": "d4915c31-e70d-474a-ba4e-3fff88637d2d",
   "metadata": {},
   "outputs": [
    {
     "name": "stdout",
     "output_type": "stream",
     "text": [
      "4\n"
     ]
    }
   ],
   "source": [
    "print(2*2) # 위와 동일"
   ]
  },
  {
   "cell_type": "code",
   "execution_count": 7,
   "id": "ea1db74a-e919-4716-bd71-d750288ca8dd",
   "metadata": {},
   "outputs": [
    {
     "name": "stdout",
     "output_type": "stream",
     "text": [
      "1.0\n"
     ]
    }
   ],
   "source": [
    "print(2/2) # 나눗셈만 항상 실수, 위의 경우도 연산에 쓰이는 변수가 정수가 아닌 실수가 들어가면 답이 실수로 나온다."
   ]
  },
  {
   "cell_type": "code",
   "execution_count": 8,
   "id": "889901a8-bd75-488f-a01b-d2141dc2931c",
   "metadata": {},
   "outputs": [
    {
     "data": {
      "text/plain": [
       "89"
      ]
     },
     "execution_count": 8,
     "metadata": {},
     "output_type": "execute_result"
    }
   ],
   "source": [
    "13+(22-3)*4"
   ]
  },
  {
   "cell_type": "code",
   "execution_count": 9,
   "id": "ad253ecd-6b1b-400f-9f1f-f9b23729aba4",
   "metadata": {},
   "outputs": [
    {
     "data": {
      "text/plain": [
       "28.2"
      ]
     },
     "execution_count": 9,
     "metadata": {},
     "output_type": "execute_result"
    }
   ],
   "source": [
    "13+((22-3)*4)/5"
   ]
  },
  {
   "cell_type": "code",
   "execution_count": 10,
   "id": "992d1ece-36d1-4c88-884a-48678ac5adcd",
   "metadata": {},
   "outputs": [
    {
     "data": {
      "text/plain": [
       "3"
      ]
     },
     "execution_count": 10,
     "metadata": {},
     "output_type": "execute_result"
    }
   ],
   "source": [
    "7//2 # 몫 구하기"
   ]
  },
  {
   "cell_type": "code",
   "execution_count": 11,
   "id": "bb52f755-d1c8-41c9-bd0f-e89e3b8f0ee4",
   "metadata": {},
   "outputs": [
    {
     "data": {
      "text/plain": [
       "1"
      ]
     },
     "execution_count": 11,
     "metadata": {},
     "output_type": "execute_result"
    }
   ],
   "source": [
    "3%2 # 나머지 구하기"
   ]
  },
  {
   "cell_type": "code",
   "execution_count": 12,
   "id": "89bfecb9-b34f-457b-b0f4-50ddbd232742",
   "metadata": {},
   "outputs": [
    {
     "data": {
      "text/plain": [
       "128"
      ]
     },
     "execution_count": 12,
     "metadata": {},
     "output_type": "execute_result"
    }
   ],
   "source": [
    "2**7 # 거듭제곱"
   ]
  },
  {
   "cell_type": "code",
   "execution_count": 13,
   "id": "9d00e1e6-46bd-429f-9c59-88f8144086c0",
   "metadata": {},
   "outputs": [
    {
     "data": {
      "text/plain": [
       "1.7320508075688772"
      ]
     },
     "execution_count": 13,
     "metadata": {},
     "output_type": "execute_result"
    }
   ],
   "source": [
    "3 ** (1/2) # 제곱근"
   ]
  },
  {
   "cell_type": "code",
   "execution_count": 14,
   "id": "ba9c70bb-57ae-40c1-b813-716ee86a7f61",
   "metadata": {},
   "outputs": [],
   "source": [
    "# 정수 int\n",
    "# 실수 float\n",
    "# 복소수 complex: 실수 + 허수j 로 표현\n",
    "# - 실수 접근 -> 복소수.real\n",
    "# ..."
   ]
  },
  {
   "cell_type": "code",
   "execution_count": 15,
   "id": "651980bb-375f-45c2-9c19-372df81e8dc5",
   "metadata": {},
   "outputs": [],
   "source": [
    "# int(정수로 변환할 것) : 정수 타입으로 변환하기"
   ]
  },
  {
   "cell_type": "code",
   "execution_count": 16,
   "id": "94bee251-9ff5-4fa7-ac3f-3ef83970b2dc",
   "metadata": {},
   "outputs": [],
   "source": [
    "# float(실수로 변환할 것) : 실수 타입으로 변환하기"
   ]
  },
  {
   "cell_type": "code",
   "execution_count": 17,
   "id": "258b4d7c-e276-4ba0-a288-45c0dd5d7019",
   "metadata": {},
   "outputs": [
    {
     "name": "stdout",
     "output_type": "stream",
     "text": [
      "7\n"
     ]
    }
   ],
   "source": [
    "print(int(0.2467 * 12 + 4.159))"
   ]
  },
  {
   "cell_type": "code",
   "execution_count": 18,
   "id": "88e07f49-f5e6-45c2-bad2-0b1c10955252",
   "metadata": {},
   "outputs": [
    {
     "name": "stdout",
     "output_type": "stream",
     "text": [
      "가장 시끄러운 층은 = 7 층\n"
     ]
    }
   ],
   "source": [
    "print(\"가장 시끄러운 층은\", \"=\", int(0.2467 * 12 + 4.159), \"층\")"
   ]
  },
  {
   "cell_type": "code",
   "execution_count": 19,
   "id": "b38a6df5-74d2-4148-a229-d9bedfdd96d5",
   "metadata": {},
   "outputs": [
    {
     "name": "stdout",
     "output_type": "stream",
     "text": [
      "냉장고 가격은 1272000 원 입니다.\n"
     ]
    }
   ],
   "source": [
    "print(\"냉장고 가격은\", 53000 * 24, \"원 입니다.\")"
   ]
  },
  {
   "cell_type": "code",
   "execution_count": 20,
   "id": "b97a7f60-7ddb-4296-866a-ee6e248d5865",
   "metadata": {},
   "outputs": [
    {
     "name": "stdout",
     "output_type": "stream",
     "text": [
      "총 지불 해야할 금액은 16500000.000000002 원 입니다.\n"
     ]
    }
   ],
   "source": [
    "tax = 1.1\n",
    "people = 250\n",
    "print(\"총 지불 해야할 금액은\", ((people * 20000 *3) * tax), \"원 입니다.\")"
   ]
  },
  {
   "cell_type": "code",
   "execution_count": 21,
   "id": "e8865c0b-0c7a-4216-b01d-b50299b61380",
   "metadata": {},
   "outputs": [
    {
     "data": {
      "text/plain": [
       "12345000000.0"
      ]
     },
     "execution_count": 21,
     "metadata": {},
     "output_type": "execute_result"
    }
   ],
   "source": [
    "# 지수 표기(Exponenetial Notation) 방법 사용하기\n",
    "1.2345e10"
   ]
  },
  {
   "cell_type": "code",
   "execution_count": 22,
   "id": "7b067598-d217-4ee4-be17-e3a3d05b13f4",
   "metadata": {},
   "outputs": [
    {
     "data": {
      "text/plain": [
       "0.00012345"
      ]
     },
     "execution_count": 22,
     "metadata": {},
     "output_type": "execute_result"
    }
   ],
   "source": [
    "1.2345e-4 # 마이너스 지수로는 -4보다 작은 값이 들어갈 경우 e-5 와 같이 그대로 출력됨"
   ]
  },
  {
   "cell_type": "markdown",
   "id": "7bdd84d0-af19-4f60-ab36-e456d627d348",
   "metadata": {},
   "source": [
    "## 2진수 표기"
   ]
  },
  {
   "cell_type": "code",
   "execution_count": 23,
   "id": "9333b1eb-3ea4-4ba9-99c0-0534d3ae072a",
   "metadata": {},
   "outputs": [
    {
     "data": {
      "text/plain": [
       "17"
      ]
     },
     "execution_count": 23,
     "metadata": {},
     "output_type": "execute_result"
    }
   ],
   "source": [
    "0b10001"
   ]
  },
  {
   "cell_type": "code",
   "execution_count": 24,
   "id": "268ebdc9-3b21-4031-af22-2a76a7b8966d",
   "metadata": {},
   "outputs": [
    {
     "data": {
      "text/plain": [
       "22"
      ]
     },
     "execution_count": 24,
     "metadata": {},
     "output_type": "execute_result"
    }
   ],
   "source": [
    "0b10110"
   ]
  },
  {
   "cell_type": "code",
   "execution_count": 25,
   "id": "bb589288-2bd1-44e5-94bd-1125a76bc8c4",
   "metadata": {},
   "outputs": [
    {
     "data": {
      "text/plain": [
       "'0b10001'"
      ]
     },
     "execution_count": 25,
     "metadata": {},
     "output_type": "execute_result"
    }
   ],
   "source": [
    "bin(17)"
   ]
  },
  {
   "cell_type": "code",
   "execution_count": 26,
   "id": "c861fa3c-1d54-4d44-9bdb-d8e56a0c0f13",
   "metadata": {},
   "outputs": [],
   "source": [
    "# bin(2ㅁㄴㅇ2)"
   ]
  },
  {
   "cell_type": "markdown",
   "id": "9b896729-0d88-4686-9767-3d1235bf0810",
   "metadata": {},
   "source": [
    "## 8진수 표기"
   ]
  },
  {
   "cell_type": "code",
   "execution_count": 27,
   "id": "6678ed65-24cd-49f1-9cb6-ada29c22fd9e",
   "metadata": {},
   "outputs": [
    {
     "data": {
      "text/plain": [
       "17"
      ]
     },
     "execution_count": 27,
     "metadata": {},
     "output_type": "execute_result"
    }
   ],
   "source": [
    "0o21"
   ]
  },
  {
   "cell_type": "code",
   "execution_count": 28,
   "id": "a150bd43-6ea8-41f6-9013-cce5d9754987",
   "metadata": {},
   "outputs": [
    {
     "data": {
      "text/plain": [
       "22"
      ]
     },
     "execution_count": 28,
     "metadata": {},
     "output_type": "execute_result"
    }
   ],
   "source": [
    "0o26"
   ]
  },
  {
   "cell_type": "code",
   "execution_count": 29,
   "id": "2f5932d6-55b1-403d-ac73-f950624c1f74",
   "metadata": {},
   "outputs": [
    {
     "data": {
      "text/plain": [
       "'0o21'"
      ]
     },
     "execution_count": 29,
     "metadata": {},
     "output_type": "execute_result"
    }
   ],
   "source": [
    "oct(17)"
   ]
  },
  {
   "cell_type": "code",
   "execution_count": 30,
   "id": "4254dc51-28d0-4146-babc-64cd2180c835",
   "metadata": {},
   "outputs": [
    {
     "data": {
      "text/plain": [
       "'0o26'"
      ]
     },
     "execution_count": 30,
     "metadata": {},
     "output_type": "execute_result"
    }
   ],
   "source": [
    "oct(22)"
   ]
  },
  {
   "cell_type": "markdown",
   "id": "ab651428-4a7e-4273-a0c3-3a8133e38506",
   "metadata": {},
   "source": [
    "## 16진수 표기"
   ]
  },
  {
   "cell_type": "code",
   "execution_count": 31,
   "id": "46d8fc89-8d75-4cf5-9efd-0fa22be041c0",
   "metadata": {},
   "outputs": [
    {
     "data": {
      "text/plain": [
       "31"
      ]
     },
     "execution_count": 31,
     "metadata": {},
     "output_type": "execute_result"
    }
   ],
   "source": [
    "0x1f"
   ]
  },
  {
   "cell_type": "code",
   "execution_count": 32,
   "id": "b328136f-6a2b-4efe-8a94-5c74ddcb314e",
   "metadata": {},
   "outputs": [
    {
     "data": {
      "text/plain": [
       "22"
      ]
     },
     "execution_count": 32,
     "metadata": {},
     "output_type": "execute_result"
    }
   ],
   "source": [
    "0x16"
   ]
  },
  {
   "cell_type": "code",
   "execution_count": 33,
   "id": "87ac9fd2-ac37-4433-a3ed-c78a98439196",
   "metadata": {},
   "outputs": [
    {
     "data": {
      "text/plain": [
       "'0x1f'"
      ]
     },
     "execution_count": 33,
     "metadata": {},
     "output_type": "execute_result"
    }
   ],
   "source": [
    "hex(31)"
   ]
  },
  {
   "cell_type": "code",
   "execution_count": 34,
   "id": "6f60ffd2-49ed-4402-bc32-fd32147ef873",
   "metadata": {},
   "outputs": [
    {
     "data": {
      "text/plain": [
       "'0x16'"
      ]
     },
     "execution_count": 34,
     "metadata": {},
     "output_type": "execute_result"
    }
   ],
   "source": [
    "hex(22)"
   ]
  },
  {
   "cell_type": "code",
   "execution_count": 35,
   "id": "f1e899a4-e4db-4c77-baad-b9bfa02add53",
   "metadata": {},
   "outputs": [
    {
     "name": "stdout",
     "output_type": "stream",
     "text": [
      "453.0\n"
     ]
    }
   ],
   "source": [
    "AP = 380\n",
    "print(AP * 0.6 +225)"
   ]
  },
  {
   "cell_type": "code",
   "execution_count": 36,
   "id": "0bd6b6b0-e67b-4769-9b89-0696c27af112",
   "metadata": {},
   "outputs": [
    {
     "name": "stdout",
     "output_type": "stream",
     "text": [
      "20\n"
     ]
    }
   ],
   "source": [
    "a = 10 # a 변수 선언 후 숫자 리터럴 10 값을 할당\n",
    "a = a + 10 # a 변수 값에 20을 더한 결과를 다시 a에 할당\n",
    "print(a)"
   ]
  },
  {
   "cell_type": "code",
   "execution_count": 37,
   "id": "f5cb9318-0c4b-47dc-b3cd-a9efcaca994f",
   "metadata": {},
   "outputs": [
    {
     "ename": "NameError",
     "evalue": "name 'a' is not defined",
     "output_type": "error",
     "traceback": [
      "\u001b[1;31m---------------------------------------------------------------------------\u001b[0m",
      "\u001b[1;31mNameError\u001b[0m                                 Traceback (most recent call last)",
      "\u001b[1;32m~\\AppData\\Local\\Temp\\ipykernel_11664\\4024933596.py\u001b[0m in \u001b[0;36m<module>\u001b[1;34m\u001b[0m\n\u001b[0;32m      1\u001b[0m \u001b[1;32mdel\u001b[0m \u001b[0ma\u001b[0m \u001b[1;31m# 변수 a 를 삭제\u001b[0m\u001b[1;33m\u001b[0m\u001b[1;33m\u001b[0m\u001b[0m\n\u001b[1;32m----> 2\u001b[1;33m \u001b[0mprint\u001b[0m\u001b[1;33m(\u001b[0m\u001b[0ma\u001b[0m\u001b[1;33m)\u001b[0m \u001b[1;31m# 삭제된 a 변수이므로 정의되어있지 않다는 에러 발생\u001b[0m\u001b[1;33m\u001b[0m\u001b[1;33m\u001b[0m\u001b[0m\n\u001b[0m",
      "\u001b[1;31mNameError\u001b[0m: name 'a' is not defined"
     ]
    }
   ],
   "source": [
    "del a # 변수 a 를 삭제\n",
    "print(a) # 삭제된 a 변수이므로 정의되어있지 않다는 에러 발생"
   ]
  },
  {
   "cell_type": "code",
   "execution_count": 38,
   "id": "69bb82d3-7fcb-4643-ac5a-3e5d38052101",
   "metadata": {},
   "outputs": [
    {
     "name": "stdout",
     "output_type": "stream",
     "text": [
      "10\n",
      "20\n"
     ]
    }
   ],
   "source": [
    "a = 10\n",
    "\n",
    "# 변수 a에 20 값을 더하고 할당하지 않았을 때\n",
    "a + 20\n",
    "print(a) # a 값아 그대로 유지된다.\n",
    "\n",
    "a += 10 # a = a + 10 과 같다.\n",
    "print(a) # 파이썬에선 증감연산자가 없어 이런 방식으로 접근한다."
   ]
  },
  {
   "cell_type": "code",
   "execution_count": 39,
   "id": "82f48011-3610-484c-9e85-f6a9c58304b7",
   "metadata": {},
   "outputs": [
    {
     "name": "stdout",
     "output_type": "stream",
     "text": [
      "None\n"
     ]
    }
   ],
   "source": [
    "a = None \n",
    "print(a) # 파이썬에서 빈 값은 None으로, 보통 다른 언어에서의 null과 같다."
   ]
  },
  {
   "cell_type": "code",
   "execution_count": 40,
   "id": "373e4fbf-dcd1-4b21-b853-3aa406b5dfe2",
   "metadata": {},
   "outputs": [],
   "source": [
    "# 상수\n",
    "# -> 변수와 상반되며, 변하지 않는 값, 다만 "
   ]
  },
  {
   "cell_type": "code",
   "execution_count": 41,
   "id": "78efdd62-6cf5-43b6-ac30-8f06f55151b9",
   "metadata": {},
   "outputs": [
    {
     "name": "stdout",
     "output_type": "stream",
     "text": [
      "이것은 문자열입니다.\n",
      "<class 'str'>\n",
      "이것은 문자열입니다.\n",
      "<class 'str'>\n"
     ]
    }
   ],
   "source": [
    "# 문자열 리터럴은 작은 따옴표('...'), 큰 따옴표(\"...\")를 사용해 표현 가능함. 두가지 모두 같은 결과를 줌.\n",
    "text = '이것은 문자열입니다.'\n",
    "text2 = \"이것은 문자열입니다.\"\n",
    "\n",
    "print(text)\n",
    "print(type(text))\n",
    "\n",
    "print(text2)\n",
    "print(type(text2))"
   ]
  },
  {
   "cell_type": "code",
   "execution_count": 42,
   "id": "f6d5049b-a1cb-411a-b146-5108c27e39e0",
   "metadata": {},
   "outputs": [],
   "source": [
    "text3 = 'don\\'t do that'\n",
    "text4 = \"don't do that\" # 큰 따옴표로 문자열 리터럴을 열 땐 닫는 기호로 큰 따옴표를 찾으므로 작은 따옴표가 중간에 개입되어도 괜찮다."
   ]
  },
  {
   "cell_type": "code",
   "execution_count": 43,
   "id": "92e6a651-e7ff-4223-a4a7-a0bf21538bfd",
   "metadata": {},
   "outputs": [
    {
     "name": "stdout",
     "output_type": "stream",
     "text": [
      "\"안녕?\"이라는 그 인사를 듣고 나는 '누구지?'라고 생각했다.\n"
     ]
    }
   ],
   "source": [
    "print(\"\\\"안녕?\\\"이라는 그 인사를 듣고 나는 '누구지?'라고 생각했다.\")"
   ]
  },
  {
   "cell_type": "code",
   "execution_count": 44,
   "id": "c6a13be5-236b-40f5-8b7c-500626b62e7f",
   "metadata": {},
   "outputs": [],
   "source": [
    "# 문자열 리터럴에 줄바꿈을 하려면 개행 문자인 \\n을 사용하면 된다.\n",
    "# 경우에 따라 \\n을 그대로 출력하고 싶은 경우가 있는데 raw string(r을 맨 앞에 붙여 raw string으로 문자열 리터럴을 만든다.)\n",
    "# 으로 표현하거나 \\를 \\앞에 하나 더 붙이면 된다."
   ]
  },
  {
   "cell_type": "code",
   "execution_count": 45,
   "id": "34b7d06e-9625-47df-b86c-54e9a72145aa",
   "metadata": {},
   "outputs": [
    {
     "name": "stdout",
     "output_type": "stream",
     "text": [
      "\n",
      "안녕하세요.\n",
      "나는 파이썬을 공부하고 있습니다.\n",
      "반갑습니다.\n",
      "\n"
     ]
    }
   ],
   "source": [
    "# 삼중 따옴표를 사용하면 여러 줄로 확장하여 문자열 리터럴을 만들 수 있다. 이때는 개행 문자를 사용하지 않는다.\n",
    "s3 = \"\"\"\n",
    "안녕하세요.\n",
    "나는 파이썬을 공부하고 있습니다.\n",
    "반갑습니다.\n",
    "\"\"\"\n",
    "print(s3) # Enter로 바꾼 줄 바꿈 그대로 출력된다."
   ]
  },
  {
   "cell_type": "code",
   "execution_count": 46,
   "id": "62212f3f-ea65-41b4-9f1b-0f105ddc37bb",
   "metadata": {},
   "outputs": [
    {
     "name": "stdout",
     "output_type": "stream",
     "text": [
      "안녕하세요.\n",
      "나는 파이썬을 공부하고 있습니다.\n",
      "반갑습니다.\n",
      "\n"
     ]
    }
   ],
   "source": [
    "# 삼중 따옴표 사용 시 Enter키로 줄이 바뀌는걸 막고 싶다면 \\를 사용한다.\n",
    "s4 = \"\"\"\\\n",
    "안녕하세요.\n",
    "나는 파이썬을 공부하고 있습니다.\n",
    "반갑습니다.\n",
    "\"\"\"\n",
    "print(s4)"
   ]
  },
  {
   "cell_type": "code",
   "execution_count": 47,
   "id": "8731aef2-03d2-41f0-96e9-91a1bc6b056e",
   "metadata": {},
   "outputs": [
    {
     "name": "stdout",
     "output_type": "stream",
     "text": [
      "안녕하세요.\n",
      "나는 파이썬을 공부하고 있습니다.\n",
      "반갑습니다.\n"
     ]
    }
   ],
   "source": [
    "s4 = \"\"\"\\\n",
    "안녕하세요.\n",
    "나는 파이썬을 공부하고 있습니다.\n",
    "반갑습니다.\\\n",
    "\"\"\"\n",
    "print(s4)"
   ]
  },
  {
   "cell_type": "code",
   "execution_count": 48,
   "id": "9216a2ee-7408-43e9-b8f4-218377a5c8d8",
   "metadata": {},
   "outputs": [
    {
     "ename": "SyntaxError",
     "evalue": "EOF while scanning triple-quoted string literal (2112838667.py, line 6)",
     "output_type": "error",
     "traceback": [
      "\u001b[1;36m  File \u001b[1;32m\"C:\\Users\\PlayData\\AppData\\Local\\Temp\\ipykernel_11664\\2112838667.py\"\u001b[1;36m, line \u001b[1;32m6\u001b[0m\n\u001b[1;33m    print(s4) # 이렇게 하면\u001b[0m\n\u001b[1;37m                      \n^\u001b[0m\n\u001b[1;31mSyntaxError\u001b[0m\u001b[1;31m:\u001b[0m EOF while scanning triple-quoted string literal\n"
     ]
    }
   ],
   "source": [
    "s5 = \"\"\"\\\n",
    "안녕하세요.\n",
    "나는 파이썬을 공부하고 있습니다.\n",
    "반갑습니다.\n",
    "\\\"\"\"\n",
    "print(s4) # 이렇게 하면"
   ]
  },
  {
   "cell_type": "code",
   "execution_count": 49,
   "id": "be4096f7-f8b2-4814-8e0a-6d301bc02765",
   "metadata": {},
   "outputs": [
    {
     "name": "stdout",
     "output_type": "stream",
     "text": [
      "\"안녕하세요.\"\n",
      "나는 파이썬을 공부하고 있습니다.\n",
      "반갑습니다.\n"
     ]
    }
   ],
   "source": [
    "s6 = \"\"\"\\\n",
    "\"안녕하세요.\"\n",
    "나는 파이썬을 공부하고 있습니다.\n",
    "반갑습니다.\\\n",
    "\"\"\"\n",
    "print(s6) # 이렇게 하면"
   ]
  },
  {
   "cell_type": "code",
   "execution_count": 50,
   "id": "2e8ce36e-7856-417e-90d9-006797c6357c",
   "metadata": {},
   "outputs": [
    {
     "name": "stdout",
     "output_type": "stream",
     "text": [
      "너무 너무 너무 너무 너무 너무 너무 파이썬 공부가 즐겁습니다.\n"
     ]
    }
   ],
   "source": [
    "s7 = \"너무 \"\n",
    "print(s7 * 7 + \"파이썬 공부가 즐겁습니다.\")\n",
    "# *를 사용하면 문자열의 반복을 쉽게 할 수 있다. 또 +를 사용하면 문자열과 문자열을 이을 수 있다.(concatenation)"
   ]
  },
  {
   "cell_type": "code",
   "execution_count": 51,
   "id": "5afb2358-92ab-48d3-83f9-415b815f5b94",
   "metadata": {},
   "outputs": [],
   "source": [
    "# 시퀀스 자료형 : 순서에 따라 연속적으로 값들을 갖는 자료형.\n",
    "# 모든 시퀀스 형은 인덱싱과 슬라이싱이 가능한데, 인덱싱과 슬라이싱을 잘 알아둬야 한다."
   ]
  },
  {
   "cell_type": "code",
   "execution_count": 52,
   "id": "8ee66d90-d296-49cc-96f8-e1ac2fb7b12c",
   "metadata": {},
   "outputs": [
    {
     "name": "stdout",
     "output_type": "stream",
     "text": [
      "p\n",
      "n\n",
      "p\n",
      "n\n"
     ]
    }
   ],
   "source": [
    "word = 'python'\n",
    "print(word[0])\n",
    "print(word[5])\n",
    "print(word[-6])\n",
    "print(word[-1])"
   ]
  },
  {
   "cell_type": "code",
   "execution_count": 53,
   "id": "66c4fd9d-8eb8-4a35-8997-05472a660b9b",
   "metadata": {},
   "outputs": [
    {
     "name": "stdout",
     "output_type": "stream",
     "text": [
      "꺾\n"
     ]
    }
   ],
   "source": [
    "sentence = '중요한 것은 꺾이지 않는 마음'\n",
    "print(sentence[7])"
   ]
  },
  {
   "cell_type": "code",
   "execution_count": 54,
   "id": "0d85a5a7-4222-4597-ae4f-6021ea735cc9",
   "metadata": {},
   "outputs": [
    {
     "name": "stdout",
     "output_type": "stream",
     "text": [
      "중요한 것\n"
     ]
    }
   ],
   "source": [
    "# 슬라이싱은 범위에 해당하는 요소들을 가져오는 방법.\n",
    "print(sentence[0:5]) # [이상:미만] 으로 슬라이싱이 적용된다."
   ]
  },
  {
   "cell_type": "code",
   "execution_count": 55,
   "id": "9993d13a-1ca7-4c56-b687-39236dbb7cc5",
   "metadata": {},
   "outputs": [
    {
     "name": "stdout",
     "output_type": "stream",
     "text": [
      "중한것\n"
     ]
    }
   ],
   "source": [
    "print(sentence[0:5:2]) # [시작 숫자(이상):끝 숫자(미만):증감 크기] , 모두 생략가능하며 그 경우 default 값으로 '처음부터 끝까지 1씩 증가'로 적용된다."
   ]
  },
  {
   "cell_type": "code",
   "execution_count": 56,
   "id": "6f2bb1c6-46b9-4948-a671-be8890f8a494",
   "metadata": {},
   "outputs": [
    {
     "name": "stdout",
     "output_type": "stream",
     "text": [
      "\n",
      "한 것은 꺾이지 않는 마음\n"
     ]
    }
   ],
   "source": [
    "# 슬라이싱은 인덱스 범위를 벗어나도 유연하게 처리됨.\n",
    "print(sentence[42:])\n",
    "print(sentence[2:42])"
   ]
  },
  {
   "cell_type": "code",
   "execution_count": 57,
   "id": "d7c85b36-1c00-4cbf-b2bb-16075a5f5824",
   "metadata": {},
   "outputs": [
    {
     "name": "stdout",
     "output_type": "stream",
     "text": [
      "꺾이지 않는 마음\n",
      "꺾이지 않는 마음\n"
     ]
    }
   ],
   "source": [
    "print(sentence[7:20])\n",
    "print(sentence[7:])"
   ]
  },
  {
   "cell_type": "code",
   "execution_count": 58,
   "id": "f9449963-0785-4e8b-b11d-b2491886a4d9",
   "metadata": {},
   "outputs": [
    {
     "name": "stdout",
     "output_type": "stream",
     "text": [
      "한요중\n"
     ]
    }
   ],
   "source": [
    "print(sentence[-14:-17:-1])"
   ]
  },
  {
   "cell_type": "code",
   "execution_count": 59,
   "id": "d2bd8230-c3e6-44e3-961a-859a7d48c88a",
   "metadata": {},
   "outputs": [
    {
     "name": "stdout",
     "output_type": "stream",
     "text": [
      "한요중\n"
     ]
    }
   ],
   "source": [
    "print(sentence[2::-1])"
   ]
  },
  {
   "cell_type": "code",
   "execution_count": 60,
   "id": "9249d6ce-fc55-4126-9d03-c511bc5acd78",
   "metadata": {},
   "outputs": [
    {
     "ename": "TypeError",
     "evalue": "'str' object does not support item assignment",
     "output_type": "error",
     "traceback": [
      "\u001b[1;31m---------------------------------------------------------------------------\u001b[0m",
      "\u001b[1;31mTypeError\u001b[0m                                 Traceback (most recent call last)",
      "\u001b[1;32m~\\AppData\\Local\\Temp\\ipykernel_11664\\1336313261.py\u001b[0m in \u001b[0;36m<module>\u001b[1;34m\u001b[0m\n\u001b[1;32m----> 1\u001b[1;33m \u001b[0msentence\u001b[0m\u001b[1;33m[\u001b[0m\u001b[1;36m0\u001b[0m\u001b[1;33m]\u001b[0m \u001b[1;33m=\u001b[0m \u001b[1;34m\"한\"\u001b[0m \u001b[1;31m# string은 immutable 하므로 불가능하다.\u001b[0m\u001b[1;33m\u001b[0m\u001b[1;33m\u001b[0m\u001b[0m\n\u001b[0m",
      "\u001b[1;31mTypeError\u001b[0m: 'str' object does not support item assignment"
     ]
    }
   ],
   "source": [
    "sentence[0] = \"한\" # string은 immutable 하므로 불가능하다."
   ]
  },
  {
   "cell_type": "code",
   "execution_count": 61,
   "id": "be474a0f-bd64-4b61-80e2-82d529d70c27",
   "metadata": {},
   "outputs": [
    {
     "ename": "TypeError",
     "evalue": "'str' object does not support item assignment",
     "output_type": "error",
     "traceback": [
      "\u001b[1;31m---------------------------------------------------------------------------\u001b[0m",
      "\u001b[1;31mTypeError\u001b[0m                                 Traceback (most recent call last)",
      "\u001b[1;32m~\\AppData\\Local\\Temp\\ipykernel_11664\\3251341484.py\u001b[0m in \u001b[0;36m<module>\u001b[1;34m\u001b[0m\n\u001b[1;32m----> 1\u001b[1;33m \u001b[0msentence\u001b[0m\u001b[1;33m[\u001b[0m\u001b[1;36m0\u001b[0m\u001b[1;33m:\u001b[0m\u001b[1;36m2\u001b[0m\u001b[1;33m]\u001b[0m \u001b[1;33m=\u001b[0m \u001b[1;34m\"대단한\"\u001b[0m \u001b[1;31m# string은 immutable 하므로 불가능하다. slicing으로 접근해도 같다.\u001b[0m\u001b[1;33m\u001b[0m\u001b[1;33m\u001b[0m\u001b[0m\n\u001b[0m",
      "\u001b[1;31mTypeError\u001b[0m: 'str' object does not support item assignment"
     ]
    }
   ],
   "source": [
    "sentence[0:2] = \"대단한\" # string은 immutable 하므로 불가능하다. slicing으로 접근해도 같다."
   ]
  },
  {
   "cell_type": "code",
   "execution_count": 62,
   "id": "1a0cb8c7-526f-4cb8-b476-b537c3ba9cbb",
   "metadata": {},
   "outputs": [
    {
     "name": "stdout",
     "output_type": "stream",
     "text": [
      "대단한 것은 꺾이지 않는 마음\n"
     ]
    }
   ],
   "source": [
    "# 변경하고 싶다면\n",
    "sentence = \"대단한\" + sentence[3:]\n",
    "print(sentence)\n",
    "# 새로운 문자열 리터럴을 만들어서 변수의 값에 다시 할당하면 가능하다."
   ]
  },
  {
   "cell_type": "code",
   "execution_count": 63,
   "id": "ac7488f6-62e1-4f41-b48a-119befa0eb96",
   "metadata": {},
   "outputs": [
    {
     "name": "stdout",
     "output_type": "stream",
     "text": [
      "재밌어요재밌어요재밌어요재밌어요재밌어요재밌어요재밌어요재밌어요재밌어요재밌어요\n",
      "40\n"
     ]
    }
   ],
   "source": [
    "s7 = '재밌어요' * 10\n",
    "print(s7)\n",
    "print(len(s7))"
   ]
  },
  {
   "cell_type": "code",
   "execution_count": 64,
   "id": "57221643-0969-4fe6-bfd7-595f8c512ca6",
   "metadata": {},
   "outputs": [],
   "source": [
    "# 리스트 : 파이썬 언어에서 가장 융통성 있는 자료형 중 하나\n",
    "# 서로 다른 형의 항목들을 포함 가능, 가변(mutable)의 특성을 갖기에 수정도 용이\n",
    "# 파이썬의 리스트는 배열과 차이점이 있음"
   ]
  },
  {
   "cell_type": "code",
   "execution_count": 65,
   "id": "80366a5f-094f-4481-8f35-12c4c7d4979b",
   "metadata": {},
   "outputs": [],
   "source": [
    "# 시퀀스 자료형은 모두 인덱싱과 슬라이싱이 가능"
   ]
  },
  {
   "cell_type": "code",
   "execution_count": 66,
   "id": "2f7c5aed-27b5-432a-9ad4-2a1dc2ce5c50",
   "metadata": {},
   "outputs": [
    {
     "name": "stdout",
     "output_type": "stream",
     "text": [
      "[1, 8, 27, 64, 125]\n"
     ]
    }
   ],
   "source": [
    "cubes = [1, 8, 27, 65, 125]\n",
    "cubes[3] = 4 ** 3\n",
    "print(cubes)"
   ]
  },
  {
   "cell_type": "code",
   "execution_count": 67,
   "id": "efd33131-054d-4d61-a6fc-612f6833f26e",
   "metadata": {},
   "outputs": [
    {
     "name": "stdout",
     "output_type": "stream",
     "text": [
      "['a', 'b', 'B', 'C', 'D']\n"
     ]
    }
   ],
   "source": [
    "letters = ['a', 'b', 'c', 'd', 'e']\n",
    "letters[2:5] = ['B', 'C', 'D']\n",
    "print(letters)"
   ]
  },
  {
   "cell_type": "code",
   "execution_count": 68,
   "id": "090caa40-d644-4df8-8958-ceeb5e64132a",
   "metadata": {},
   "outputs": [
    {
     "name": "stdout",
     "output_type": "stream",
     "text": [
      "True\n",
      "False\n"
     ]
    }
   ],
   "source": [
    "# 리스트에 특정 요소가 있는지 궁금할 때\n",
    "numbers = [1, 2, 3, 4, 5, 6, 7]\n",
    "print(5 in numbers)\n",
    "print(10 in numbers)"
   ]
  },
  {
   "cell_type": "code",
   "execution_count": 69,
   "id": "c7de5916-1e3f-4d90-bc8c-8ddd6f42b6b8",
   "metadata": {},
   "outputs": [
    {
     "data": {
      "text/plain": [
       "128"
      ]
     },
     "execution_count": 69,
     "metadata": {},
     "output_type": "execute_result"
    }
   ],
   "source": [
    "2 ** 7"
   ]
  }
 ],
 "metadata": {
  "kernelspec": {
   "display_name": "Python 3 (ipykernel)",
   "language": "python",
   "name": "python3"
  },
  "language_info": {
   "codemirror_mode": {
    "name": "ipython",
    "version": 3
   },
   "file_extension": ".py",
   "mimetype": "text/x-python",
   "name": "python",
   "nbconvert_exporter": "python",
   "pygments_lexer": "ipython3",
   "version": "3.9.13"
  }
 },
 "nbformat": 4,
 "nbformat_minor": 5
}
