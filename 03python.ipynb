{
 "cells": [
  {
   "cell_type": "code",
   "execution_count": 1,
   "id": "809c619e-7b11-49a7-ae74-ed862df1ccb0",
   "metadata": {},
   "outputs": [
    {
     "name": "stdout",
     "output_type": "stream",
     "text": [
      "False\n"
     ]
    }
   ],
   "source": [
    "scores = [88, 73, 89, 59, 77]\n",
    "print(scores[0] >= 60 and scores[1] >= 60 and scores[2] >= 60 and scores[3] >= 60 and scores[4] >= 60)"
   ]
  },
  {
   "cell_type": "markdown",
   "id": "e2007006-0473-4797-9ef7-40cf43267030",
   "metadata": {},
   "source": [
    "### append로 리스트 맨 뒤에 요소를 추가할 수 있다."
   ]
  },
  {
   "cell_type": "code",
   "execution_count": 2,
   "id": "ef7c0428-d586-4368-8ed0-3d5e96bf9762",
   "metadata": {},
   "outputs": [
    {
     "name": "stdout",
     "output_type": "stream",
     "text": [
      "[1, 2, 3, 4, 5, 6, 7, 8]\n"
     ]
    }
   ],
   "source": [
    "numbers = [1, 2, 3, 4, 5, 6, 7]\n",
    "numbers.append(8) # 리스트 맨 뒤에 추가\n",
    "print(numbers)"
   ]
  },
  {
   "cell_type": "markdown",
   "id": "4c2d1871-9b34-4dad-9fd8-6d4f3ab952b7",
   "metadata": {},
   "source": [
    "### insert는 요소를 원하는 위치에 넣을 수 있다.\n",
    "insert(인덱스, 요소)"
   ]
  },
  {
   "cell_type": "code",
   "execution_count": 3,
   "id": "84f3c0d5-4def-4a8f-a99b-0d5f945bc6a0",
   "metadata": {},
   "outputs": [
    {
     "name": "stdout",
     "output_type": "stream",
     "text": [
      "[0, 1, 2, 3, 0, 4, 0, 5, 6, 7, 8, 0]\n"
     ]
    }
   ],
   "source": [
    "numbers.insert(0, 0)\n",
    "numbers.insert(4, 0)\n",
    "numbers.insert(6, 0)\n",
    "numbers.insert(len(numbers), 0) # insert는 요소를 원하는 위치에 넣을 수 있다.\n",
    "print(numbers)"
   ]
  },
  {
   "cell_type": "markdown",
   "id": "05a71ac4-23b6-4b2f-8062-f628d455364d",
   "metadata": {},
   "source": [
    "### extend는 리스트에 리스트를 뒤로 붙여 추가시킨다.\n",
    "리스트1.extend(리스트2)"
   ]
  },
  {
   "cell_type": "code",
   "execution_count": 4,
   "id": "06a1d98a-da90-46ae-a17c-aaecab585f92",
   "metadata": {},
   "outputs": [
    {
     "name": "stdout",
     "output_type": "stream",
     "text": [
      "[0, 1, 2, 3, 0, 4, 0, 5, 6, 7, 8, 0, 9, 10, 11]\n"
     ]
    }
   ],
   "source": [
    "numbers.extend([9, 10, 11])\n",
    "print(numbers)"
   ]
  },
  {
   "cell_type": "markdown",
   "id": "c0252e52-4c88-40f5-ad9b-145c3cbac538",
   "metadata": {},
   "source": [
    "### remove는 입력값과 첫 번째로 일치하는 요소를 리스트에서 삭제한다.\n",
    "remove(요소)"
   ]
  },
  {
   "cell_type": "code",
   "execution_count": 5,
   "id": "68b948dd-638d-4757-8dac-bab17130a39d",
   "metadata": {},
   "outputs": [
    {
     "name": "stdout",
     "output_type": "stream",
     "text": [
      "[0, 1, 2, 3, 0, 4, 0, 5, 6, 7, 8, 0, 9, 10, 11]\n",
      "[1, 2, 3, 0, 4, 0, 5, 6, 7, 8, 0, 9, 10, 11]\n"
     ]
    }
   ],
   "source": [
    "print(numbers)\n",
    "numbers.remove(0)\n",
    "print(numbers)"
   ]
  },
  {
   "cell_type": "code",
   "execution_count": 6,
   "id": "1507fd7e-032d-4522-b409-63aff5c434b3",
   "metadata": {},
   "outputs": [
    {
     "name": "stdout",
     "output_type": "stream",
     "text": [
      "[2, 3, 0, 4, 0, 5, 6, 7, 8, 0, 9, 10, 11]\n"
     ]
    }
   ],
   "source": [
    "del numbers[0] # del은 인덱스 위치의 요소를 삭제한다.\n",
    "print(numbers)"
   ]
  },
  {
   "cell_type": "markdown",
   "id": "bf532ba7-3afc-484c-8841-a56734bf07d5",
   "metadata": {},
   "source": [
    "### pop은 리스트 맨 뒤의 요소를 꺼내서 반환시켜주고 제거한다."
   ]
  },
  {
   "cell_type": "code",
   "execution_count": 7,
   "id": "1a9cd73b-d8c0-4659-9c5e-bac00a84fdfc",
   "metadata": {},
   "outputs": [
    {
     "name": "stdout",
     "output_type": "stream",
     "text": [
      "[2, 3, 0, 4, 0, 5, 6, 7, 8, 0, 9, 10, 11]\n",
      "11\n",
      "[2, 3, 0, 4, 0, 5, 6, 7, 8, 0, 9, 10]\n"
     ]
    }
   ],
   "source": [
    "print(numbers)\n",
    "print(numbers.pop())\n",
    "print(numbers)"
   ]
  },
  {
   "cell_type": "markdown",
   "id": "39ae12e8-9ae8-4ec6-9d0a-3dfb0ada6354",
   "metadata": {},
   "source": [
    "### index(인자)는 리스트에 인자와 같은 요소를 앞에서 부터 찾는다. 제일 처음 발견된 요소의 인덱스 위치를 반환한다."
   ]
  },
  {
   "cell_type": "code",
   "execution_count": 8,
   "id": "cf97eb54-e6c0-4f0b-8826-1a7fd2abd2ef",
   "metadata": {},
   "outputs": [
    {
     "name": "stdout",
     "output_type": "stream",
     "text": [
      "3\n"
     ]
    }
   ],
   "source": [
    "print(numbers.index(4))"
   ]
  },
  {
   "cell_type": "markdown",
   "id": "be650bd0-e964-429b-928f-b716d49ce53c",
   "metadata": {},
   "source": [
    "### count(인자)는 리스트 안에 인자와 같은 요소가 몇 개 있는지 반환해준다."
   ]
  },
  {
   "cell_type": "code",
   "execution_count": 9,
   "id": "338bc7e7-ffb9-4d17-bc1a-717af1b13f26",
   "metadata": {},
   "outputs": [
    {
     "name": "stdout",
     "output_type": "stream",
     "text": [
      "3\n"
     ]
    }
   ],
   "source": [
    "print(numbers.count(0))"
   ]
  },
  {
   "cell_type": "markdown",
   "id": "f43fcbce-d322-4930-bf55-c2a2f298c7c0",
   "metadata": {},
   "source": [
    "### 리스트 요소 정렬하기\n",
    "리스트.sort() : 리스트 요소를 오름차순으로 정렬한다.  \n",
    "리스트.reverse() : 리스트 요소를 거꾸로 정렬한다.  \n",
    "두 명령어 모두 반환값은 None."
   ]
  },
  {
   "cell_type": "markdown",
   "id": "47f97b05-06b0-4061-b3dc-9124d8416cb1",
   "metadata": {},
   "source": [
    "### 리스트를 stack처럼 활용하기\n",
    "Stack은 후입선출(Last in First out)\n",
    "\n",
    "함수를 호출할 때도 Stack 구조로 이루어진다. ((정리하기))"
   ]
  },
  {
   "cell_type": "markdown",
   "id": "2ebe6b6b-28d9-4bca-8277-2d7c16842240",
   "metadata": {
    "tags": []
   },
   "source": [
    "### 튜플 "
   ]
  },
  {
   "cell_type": "code",
   "execution_count": 10,
   "id": "7da275d8-030b-46ca-b852-630fe04d3069",
   "metadata": {},
   "outputs": [
    {
     "name": "stdout",
     "output_type": "stream",
     "text": [
      "1\n"
     ]
    }
   ],
   "source": [
    "tuple_variable = (1, 2, 3, 4, 5, \"Hello\")\n",
    "print(tuple_variable[0])"
   ]
  },
  {
   "cell_type": "code",
   "execution_count": 11,
   "id": "ea18f7b8-b62a-41c0-be96-10d54525a8da",
   "metadata": {},
   "outputs": [],
   "source": [
    "# tuple_variable[0] = 0"
   ]
  },
  {
   "cell_type": "code",
   "execution_count": 12,
   "id": "ae052e2a-ade3-4b80-9bfd-99a605217081",
   "metadata": {},
   "outputs": [],
   "source": [
    "# tuple_variable[0:3] = (\"Dd\", \"ww\", \"RR\")"
   ]
  },
  {
   "cell_type": "code",
   "execution_count": 13,
   "id": "6c8ff974-a4ff-42f0-87d1-63e244ffcfab",
   "metadata": {},
   "outputs": [],
   "source": [
    "# del tuple_variable[0]"
   ]
  },
  {
   "cell_type": "markdown",
   "id": "ccf48896-4c56-470f-a342-3dbbd193c0a9",
   "metadata": {
    "tags": []
   },
   "source": [
    "#### 튜플 자료형은 소괄호 생략이 가능하다. 하지만 명시해서 명확하게 표현하는 것이 더 좋다."
   ]
  },
  {
   "cell_type": "code",
   "execution_count": 14,
   "id": "043dbb96-bac1-4a8d-9c3a-3f037dc3640d",
   "metadata": {},
   "outputs": [],
   "source": [
    "t_v = \"음\", \"오\", \"아\", \"예\""
   ]
  },
  {
   "cell_type": "code",
   "execution_count": 15,
   "id": "262c9526-f12b-4ce7-b740-ffe8228060b7",
   "metadata": {},
   "outputs": [
    {
     "name": "stdout",
     "output_type": "stream",
     "text": [
      "<class 'tuple'>\n"
     ]
    }
   ],
   "source": [
    "print(type(t_v))"
   ]
  },
  {
   "cell_type": "markdown",
   "id": "5b0399a7-942d-43f6-ac46-ca1422edb95e",
   "metadata": {},
   "source": [
    "### 튜플과 리스트의 소요시간 비교"
   ]
  },
  {
   "cell_type": "code",
   "execution_count": 16,
   "id": "e29b72d9-893d-4898-8d7a-da3927236180",
   "metadata": {},
   "outputs": [
    {
     "name": "stdout",
     "output_type": "stream",
     "text": [
      "17.64247441291809\n"
     ]
    }
   ],
   "source": [
    "# import time\n",
    "\n",
    "# curr = time.time()\n",
    "# total = []\n",
    "\n",
    "# for i in range(10000):\n",
    "#     for j in range(10000):\n",
    "#         total.append((i, j))\n",
    "# last = time.time()\n",
    "# print(last - curr)"
   ]
  },
  {
   "cell_type": "code",
   "execution_count": 17,
   "id": "fa2663c0-7bda-4fa7-86c2-5279088b6276",
   "metadata": {},
   "outputs": [
    {
     "ename": "KeyboardInterrupt",
     "evalue": "",
     "output_type": "error",
     "traceback": [
      "\u001b[1;31m---------------------------------------------------------------------------\u001b[0m",
      "\u001b[1;31mKeyboardInterrupt\u001b[0m                         Traceback (most recent call last)",
      "\u001b[1;32m~\\AppData\\Local\\Temp\\ipykernel_18244\\3382957619.py\u001b[0m in \u001b[0;36m<module>\u001b[1;34m\u001b[0m\n\u001b[0;32m      6\u001b[0m \u001b[1;32mfor\u001b[0m \u001b[0mi\u001b[0m \u001b[1;32min\u001b[0m \u001b[0mrange\u001b[0m\u001b[1;33m(\u001b[0m\u001b[1;36m10000\u001b[0m\u001b[1;33m)\u001b[0m\u001b[1;33m:\u001b[0m\u001b[1;33m\u001b[0m\u001b[1;33m\u001b[0m\u001b[0m\n\u001b[0;32m      7\u001b[0m     \u001b[1;32mfor\u001b[0m \u001b[0mj\u001b[0m \u001b[1;32min\u001b[0m \u001b[0mrange\u001b[0m\u001b[1;33m(\u001b[0m\u001b[1;36m10000\u001b[0m\u001b[1;33m)\u001b[0m\u001b[1;33m:\u001b[0m\u001b[1;33m\u001b[0m\u001b[1;33m\u001b[0m\u001b[0m\n\u001b[1;32m----> 8\u001b[1;33m         \u001b[0mtotal\u001b[0m\u001b[1;33m.\u001b[0m\u001b[0mappend\u001b[0m\u001b[1;33m(\u001b[0m\u001b[1;33m[\u001b[0m\u001b[0mi\u001b[0m\u001b[1;33m,\u001b[0m \u001b[0mj\u001b[0m\u001b[1;33m]\u001b[0m\u001b[1;33m)\u001b[0m\u001b[1;33m\u001b[0m\u001b[1;33m\u001b[0m\u001b[0m\n\u001b[0m\u001b[0;32m      9\u001b[0m \u001b[0mlast\u001b[0m \u001b[1;33m=\u001b[0m \u001b[0mtime\u001b[0m\u001b[1;33m.\u001b[0m\u001b[0mtime\u001b[0m\u001b[1;33m(\u001b[0m\u001b[1;33m)\u001b[0m\u001b[1;33m\u001b[0m\u001b[1;33m\u001b[0m\u001b[0m\n\u001b[0;32m     10\u001b[0m \u001b[0mprint\u001b[0m\u001b[1;33m(\u001b[0m\u001b[0mlast\u001b[0m \u001b[1;33m-\u001b[0m \u001b[0mcurr\u001b[0m\u001b[1;33m)\u001b[0m\u001b[1;33m\u001b[0m\u001b[1;33m\u001b[0m\u001b[0m\n",
      "\u001b[1;31mKeyboardInterrupt\u001b[0m: "
     ]
    }
   ],
   "source": [
    "# import time\n",
    "\n",
    "# curr = time.time()\n",
    "# total = []\n",
    "\n",
    "# for i in range(10000):\n",
    "#     for j in range(10000):\n",
    "#         total.append([i, j])\n",
    "# last = time.time()\n",
    "# print(last - curr)"
   ]
  },
  {
   "cell_type": "markdown",
   "id": "5752b10f-6c55-44fc-8d84-1bc5f930b010",
   "metadata": {},
   "source": [
    "### Unpacking(변수 여럿에 동시 할당하기)"
   ]
  },
  {
   "cell_type": "code",
   "execution_count": null,
   "id": "71a932fd-dad3-4738-a030-3cabc8d13514",
   "metadata": {},
   "outputs": [],
   "source": [
    "s1, s2 = \"text1\", \"text2\"\n",
    "print(s1)\n",
    "print(s2)"
   ]
  },
  {
   "cell_type": "markdown",
   "id": "0dfb91b6-b6f0-473a-a71d-9cf5d88ec6f6",
   "metadata": {},
   "source": [
    "#### 튜플 이외의 시퀀스 자료형도 unpacking이 가능하다."
   ]
  },
  {
   "cell_type": "code",
   "execution_count": null,
   "id": "295fc059-aaea-44ad-be94-8d3cd7bb86b4",
   "metadata": {},
   "outputs": [],
   "source": [
    "s3, s4, s5 = [\"이렇게\", \"리스트도\", \"가능합니다.\"]\n",
    "print(s3, s4, s5)"
   ]
  },
  {
   "cell_type": "code",
   "execution_count": null,
   "id": "d318dfc6-8cbf-4426-be07-1fad96df2ab6",
   "metadata": {},
   "outputs": [],
   "source": [
    "s6, s7, s8, s9 = \"문자열도\"\n",
    "print(s6, s7, s8, s9)"
   ]
  },
  {
   "cell_type": "markdown",
   "id": "e3f4a431-79aa-4509-9f2f-d3985723eb5b",
   "metadata": {},
   "source": [
    "### 파이썬 입력은 input() 내장 함수로 가능하다."
   ]
  },
  {
   "cell_type": "code",
   "execution_count": null,
   "id": "feff355b-017b-4719-9aa7-6795b299bd6e",
   "metadata": {},
   "outputs": [],
   "source": [
    "input_value = input(\"Message\")"
   ]
  },
  {
   "cell_type": "code",
   "execution_count": null,
   "id": "60683949-ea63-44e8-b5b2-d162597593d4",
   "metadata": {},
   "outputs": [],
   "source": [
    "print(\"input_value:\", input_value, \"\\ntype:\", type(input_value))"
   ]
  },
  {
   "cell_type": "markdown",
   "id": "c8688660-d370-413d-8855-0a144ab206f3",
   "metadata": {},
   "source": [
    "### append로 리스트 맨 뒤에 요소를 추가할 수 있다."
   ]
  },
  {
   "cell_type": "code",
   "execution_count": null,
   "id": "e5b89f2c-2440-4127-9465-136c855fafec",
   "metadata": {},
   "outputs": [],
   "source": [
    "numbers = [1, 2, 3, 4, 5, 6, 7]\n",
    "numbers.append(8) # 리스트 맨 뒤에 추가\n",
    "print(numbers)"
   ]
  },
  {
   "cell_type": "markdown",
   "id": "a499c01e-5e83-4879-8a2e-9e4380c9c1da",
   "metadata": {},
   "source": [
    "### insert는 요소를 원하는 위치에 넣을 수 있다.\n",
    "insert(인덱스, 요소)"
   ]
  },
  {
   "cell_type": "code",
   "execution_count": null,
   "id": "0d853934-61b9-4e7e-9d2f-8c6fb57db327",
   "metadata": {},
   "outputs": [],
   "source": [
    "numbers.insert(0, 0)\n",
    "numbers.insert(4, 0)\n",
    "numbers.insert(6, 0)\n",
    "numbers.insert(len(numbers), 0) # insert는 요소를 원하는 위치에 넣을 수 있다.\n",
    "print(numbers)"
   ]
  },
  {
   "cell_type": "markdown",
   "id": "b1563d2c-8f0f-4293-8928-63603d3340a0",
   "metadata": {},
   "source": [
    "### extend는 리스트에 리스트를 뒤로 붙여 추가시킨다.\n",
    "리스트1.extend(리스트2)"
   ]
  },
  {
   "cell_type": "code",
   "execution_count": null,
   "id": "2c04e2a1-e6fb-4d22-9d0b-58bd46a68124",
   "metadata": {},
   "outputs": [],
   "source": [
    "numbers.extend([9, 10, 11])\n",
    "print(numbers)"
   ]
  },
  {
   "cell_type": "markdown",
   "id": "f93a1a7e-f5b7-43c6-ba85-c24223fee950",
   "metadata": {},
   "source": [
    "### remove는 인덱스 위치의 요소를 제거한다.\n",
    "remove(인덱스 번호)"
   ]
  },
  {
   "cell_type": "code",
   "execution_count": null,
   "id": "bd1d4228-3649-4f43-bacb-ce973a3fabf0",
   "metadata": {},
   "outputs": [],
   "source": [
    "print(numbers)\n",
    "numbers.remove(0)\n",
    "print(numbers)"
   ]
  },
  {
   "cell_type": "code",
   "execution_count": null,
   "id": "28319ec4-1acb-4343-b679-bf743fbb63e8",
   "metadata": {},
   "outputs": [],
   "source": [
    "del numbers[0]\n",
    "print(numbers)"
   ]
  },
  {
   "cell_type": "markdown",
   "id": "e0078e47-b353-41e2-baa2-0060bf4af8f9",
   "metadata": {},
   "source": [
    "### pop은 리스트 맨 뒤의 요소를 꺼내서 반환시켜주고 제거한다."
   ]
  },
  {
   "cell_type": "code",
   "execution_count": null,
   "id": "ba76f561-c0d4-4f87-a989-8b67d23328f6",
   "metadata": {},
   "outputs": [],
   "source": [
    "print(numbers)\n",
    "print(numbers.pop())\n",
    "print(numbers)"
   ]
  },
  {
   "cell_type": "markdown",
   "id": "11b3bfac-999d-416c-b48e-f7d57187ed40",
   "metadata": {},
   "source": [
    "### index(인자)는 리스트에 인자와 같은 요소를 앞에서 부터 찾는다. 제일 처음 발견된 요소의 인덱스 위치를 반환한다."
   ]
  },
  {
   "cell_type": "code",
   "execution_count": null,
   "id": "8bca42fe-75db-4531-bda1-ee8482794aa9",
   "metadata": {},
   "outputs": [],
   "source": [
    "print(numbers.index(4))"
   ]
  },
  {
   "cell_type": "markdown",
   "id": "fb3c68a3-016b-4b46-bc54-6c6fa0cf39fa",
   "metadata": {},
   "source": [
    "### count(인자)는 리스트 안에 인자와 같은 요소가 몇 개 있는지 반환해준다."
   ]
  },
  {
   "cell_type": "code",
   "execution_count": null,
   "id": "65830af6-1804-4d49-8ff8-177092738a35",
   "metadata": {},
   "outputs": [],
   "source": [
    "print(numbers.count(0))"
   ]
  },
  {
   "cell_type": "markdown",
   "id": "99148b5a-1c9f-4a04-807d-6b7140ec60d8",
   "metadata": {},
   "source": [
    "### 리스트 요소 정렬하기\n",
    "리스트.sort() : 리스트 요소를 오름차순으로 정렬한다.  \n",
    "리스트.reverse() : 리스트 요소를 거꾸로 정렬한다.  \n",
    "두 명령어 모두 반환값은 None."
   ]
  },
  {
   "cell_type": "markdown",
   "id": "07494033-03fb-4f38-9755-b821cc7f3b57",
   "metadata": {},
   "source": [
    "### 리스트를 stack처럼 활용하기\n",
    "Stack은 후입선출(Last in First out)\n",
    "\n",
    "함수를 호출할 때도 Stack 구조로 이루어진다. ((정리하기))"
   ]
  },
  {
   "cell_type": "markdown",
   "id": "7ca0fac8-babb-473d-9cc8-89120741552b",
   "metadata": {
    "tags": []
   },
   "source": [
    "### 튜플 "
   ]
  },
  {
   "cell_type": "code",
   "execution_count": null,
   "id": "0f6c46e2-4583-4437-89d6-6cfd03e04d4a",
   "metadata": {},
   "outputs": [],
   "source": [
    "tuple_variable = (1, 2, 3, 4, 5, \"Hello\")\n",
    "print(tuple_variable[0])"
   ]
  },
  {
   "cell_type": "code",
   "execution_count": null,
   "id": "eac92b70-a767-48a8-ba9e-6ec354b288a3",
   "metadata": {},
   "outputs": [],
   "source": [
    "# tuple_variable[0] = 0"
   ]
  },
  {
   "cell_type": "code",
   "execution_count": null,
   "id": "e25cd586-7eec-4a6c-9e86-4728f824432a",
   "metadata": {},
   "outputs": [],
   "source": [
    "# tuple_variable[0:3] = (\"Dd\", \"ww\", \"RR\")"
   ]
  },
  {
   "cell_type": "code",
   "execution_count": null,
   "id": "54b2e202-b900-401d-9118-6079f4980faf",
   "metadata": {},
   "outputs": [],
   "source": [
    "# del tuple_variable[0]"
   ]
  },
  {
   "cell_type": "markdown",
   "id": "56972d4a-7cc2-433e-8166-225211dd8374",
   "metadata": {
    "tags": []
   },
   "source": [
    "#### 튜플 자료형은 소괄호 생략이 가능하다. 하지만 명시해서 명확하게 표현하는 것이 더 좋다."
   ]
  },
  {
   "cell_type": "code",
   "execution_count": null,
   "id": "7dffbf84-61ae-411d-8f28-325a523d93d7",
   "metadata": {},
   "outputs": [],
   "source": [
    "t_v = \"음\", \"오\", \"아\", \"예\""
   ]
  },
  {
   "cell_type": "code",
   "execution_count": null,
   "id": "c31f3501-0f5d-4f50-af65-a90360dcbd49",
   "metadata": {},
   "outputs": [],
   "source": [
    "print(type(t_v))"
   ]
  },
  {
   "cell_type": "markdown",
   "id": "00055b96-c9e1-4594-962a-bd9100c0a486",
   "metadata": {},
   "source": [
    "### 튜플과 리스트의 소요시간 비교"
   ]
  },
  {
   "cell_type": "code",
   "execution_count": null,
   "id": "604e5987-4b72-460b-859b-d609b1683e3e",
   "metadata": {},
   "outputs": [],
   "source": [
    "import time\n",
    "\n",
    "curr = time.time()\n",
    "total = []\n",
    "\n",
    "for i in range(10000):\n",
    "    for j in range(10000):\n",
    "        total.append((i, j))\n",
    "last = time.time()\n",
    "print(last - curr)"
   ]
  },
  {
   "cell_type": "code",
   "execution_count": null,
   "id": "d7dd9c6c-ffc0-4697-9621-0ade30541781",
   "metadata": {},
   "outputs": [],
   "source": [
    "import time\n",
    "\n",
    "curr = time.time()\n",
    "total = []\n",
    "\n",
    "for i in range(10000):\n",
    "    for j in range(10000):\n",
    "        total.append([i, j])\n",
    "last = time.time()\n",
    "print(last - curr)"
   ]
  },
  {
   "cell_type": "markdown",
   "id": "08151c24-c732-4160-ad8e-a7518a8e297e",
   "metadata": {},
   "source": [
    "### Unpacking(변수 여럿에 동시 할당하기)"
   ]
  },
  {
   "cell_type": "code",
   "execution_count": null,
   "id": "b84d895e-9ae3-4318-bae1-96a7019bfe8b",
   "metadata": {},
   "outputs": [],
   "source": [
    "s1, s2 = \"text1\", \"text2\"\n",
    "print(s1)\n",
    "print(s2)"
   ]
  },
  {
   "cell_type": "markdown",
   "id": "dca3e539-9ada-4a99-b753-70097877a07b",
   "metadata": {},
   "source": [
    "#### 튜플 이외의 시퀀스 자료형도 unpacking이 가능하다."
   ]
  },
  {
   "cell_type": "code",
   "execution_count": null,
   "id": "74d3ffe9-2c21-4421-8d5f-6d2b1ef578fb",
   "metadata": {},
   "outputs": [],
   "source": [
    "s3, s4, s5 = [\"이렇게\", \"리스트도\", \"가능합니다.\"]\n",
    "print(s3, s4, s5)"
   ]
  },
  {
   "cell_type": "code",
   "execution_count": null,
   "id": "3611aad2-bb0b-4f59-8e7c-257eaf0202ee",
   "metadata": {},
   "outputs": [],
   "source": [
    "s6, s7, s8, s9 = \"문자열도\"\n",
    "print(s6, s7, s8, s9)"
   ]
  },
  {
   "cell_type": "markdown",
   "id": "a6d01854-0d08-4e83-be1d-67346ee9027f",
   "metadata": {},
   "source": [
    "### 파이썬 입력은 input() 내장 함수로 가능하다."
   ]
  },
  {
   "cell_type": "code",
   "execution_count": null,
   "id": "e98217a8-5659-4d02-b9cf-b10fb76f15a9",
   "metadata": {},
   "outputs": [],
   "source": [
    "input_value = input(\"Message\")"
   ]
  },
  {
   "cell_type": "code",
   "execution_count": null,
   "id": "5eb1ed46-2214-4754-9eac-a8d3dd7d2c67",
   "metadata": {},
   "outputs": [],
   "source": [
    "print(\"input_value:\", input_value, \"\\ntype:\", type(input_value))"
   ]
  },
  {
   "cell_type": "code",
   "execution_count": null,
   "id": "cb12980a-fdc9-4d17-aae7-5716a6d6bbf6",
   "metadata": {},
   "outputs": [],
   "source": [
    "input_value2 = input(\"Message\")"
   ]
  },
  {
   "cell_type": "code",
   "execution_count": null,
   "id": "1b9e2f89-73b3-4805-9ba2-d8774b46c52a",
   "metadata": {},
   "outputs": [],
   "source": [
    "input_value2 = int(input_value2) # input 입력값은 항상 str, 문자열"
   ]
  },
  {
   "cell_type": "code",
   "execution_count": null,
   "id": "f7647e2a-7989-48c5-ad01-cb41967a1d20",
   "metadata": {},
   "outputs": [],
   "source": [
    "input_value2 = float(input_value2)\n",
    "print(input_value2)"
   ]
  },
  {
   "cell_type": "code",
   "execution_count": null,
   "id": "4226cbd2-aa6a-4203-a4ab-595d24ac3b48",
   "metadata": {},
   "outputs": [],
   "source": [
    "input_value2 = int(input_value2"
   ]
  },
  {
   "cell_type": "code",
   "execution_count": null,
   "id": "0cbd25ab-bce9-4c00-a295-25dc719ca6a7",
   "metadata": {
    "tags": []
   },
   "outputs": [],
   "source": [
    "input10 = input(\"이름을 입력하시오:\")\n",
    "print(input10, \"씨, 안녕하세요?\\n파이썬에 오신 것을 환영합니다.\")\n",
    "input11 = int(input(\"첫 번째 정수를 입력하세요:\"))\n",
    "input12 = int(input(\"두 번째 정수를 입력하세요:\"))\n",
    "print(input11, \"과\", input12, \"의 합은\", input11 + input12, \"입니다.\") # 이 라인에서 int로 변환해도 같은 결과가 나온다."
   ]
  },
  {
   "cell_type": "code",
   "execution_count": null,
   "id": "6c519314-83d9-4f4b-b6bd-8caf24e30cdc",
   "metadata": {},
   "outputs": [],
   "source": [
    "input13 = input(\"경기장은 어디입니까?\")\n",
    "input14 = input(\"이긴 팀은 어디입니까?\")\n",
    "input15 = input(\"진 팀은 어디입니까?\")\n",
    "input16 = input(\"우수 선수는 누구입니까?\")\n",
    "input17 = input(\"스코어는 몇대몇입니까?\")\n",
    "\n",
    "print(input14, \"가\", input17, \"로 승리...\", \"\\n오늘\", input13, \"경기장에서 야구 경기가 있었습니다.\\n\", input14, \"와\", input15, \"는 치열한 공방전을 펼쳤습니다.\\n이 경기에서\", input16, \"가 맹활약을 했습니다.\", \"\\n그 끝내\", input14, \"가\", input15, \"를\", input17, \"로 승리하였습니다.\\n기사 끝.\")"
   ]
  },
  {
   "cell_type": "markdown",
   "id": "0f2436c8-9ed4-43ec-9108-36cdcd726d21",
   "metadata": {},
   "source": [
    "### 입력 값을 여러 개의 변수에 저장하기"
   ]
  },
  {
   "cell_type": "code",
   "execution_count": null,
   "id": "434f9a52-95dd-43e6-9290-ed6f140ba3e9",
   "metadata": {},
   "outputs": [],
   "source": [
    "result = '1,2,3'.split(',')\n",
    "print(type(result))\n",
    "print(result)"
   ]
  },
  {
   "cell_type": "code",
   "execution_count": null,
   "id": "f8184820-cb70-490a-9b4b-2aedabc182d0",
   "metadata": {},
   "outputs": [],
   "source": [
    "input_time = input(\"hh:mm:ss 의 형태로 시간을 입력해주세요\")\n",
    "input_time_result = input_time.split(':')\n",
    "print(\"시 :\", input_time_result[0], \"\\n분 :\", input_time_result[1], \"\\n분 :\", input_time_result[2]) "
   ]
  },
  {
   "cell_type": "markdown",
   "id": "842d4c11-6b0e-441f-93ac-12ff5b074e53",
   "metadata": {},
   "source": [
    "### map()함수로 여러 번의 변환을 한번에 가능하다"
   ]
  },
  {
   "cell_type": "code",
   "execution_count": null,
   "id": "790338ce-6dda-49b1-8c31-04e61c446909",
   "metadata": {},
   "outputs": [],
   "source": [
    "a = [1.2, 2.5, 3.7, 4.6]\n",
    "a = list(map(int, a))\n",
    "print(a)"
   ]
  },
  {
   "cell_type": "code",
   "execution_count": 20,
   "id": "5230b090-eb53-4c16-86e6-cbbdb613cc30",
   "metadata": {},
   "outputs": [
    {
     "name": "stdin",
     "output_type": "stream",
     "text": [
      "국어, 영어, 수학, 과학 점수를 입력해주세요 98,100,96,100\n"
     ]
    },
    {
     "name": "stdout",
     "output_type": "stream",
     "text": [
      "평균 점수는 98.5 점입니다.\n"
     ]
    }
   ],
   "source": [
    "grade = input(\"국어, 영어, 수학, 과학 점수를 입력해주세요\")\n",
    "grade_result = grade.split(',')\n",
    "grade_result = list(map(int, grade_result))\n",
    "kor = grade_result[0]\n",
    "eng = grade_result[1]\n",
    "mat = grade_result[2]\n",
    "sci = grade_result[3]\n",
    "\n",
    "mean = (kor + eng + mat + sci)/4\n",
    "print(\"평균 점수는\", mean, \"점입니다.\")"
   ]
  },
  {
   "cell_type": "code",
   "execution_count": 21,
   "id": "83b4cde9-49f9-413e-bf58-326270ed6f8f",
   "metadata": {},
   "outputs": [
    {
     "name": "stdout",
     "output_type": "stream",
     "text": [
      "value, 1, 1.1, [1, 2, 'text']\n"
     ]
    }
   ],
   "source": [
    "print(\"value\", 1, 1.1, [1, 2, 'text'], sep = \", \")"
   ]
  },
  {
   "cell_type": "markdown",
   "id": "3f898fc7-11a3-43fa-b527-20ac63b16f4f",
   "metadata": {},
   "source": [
    "print() 에 줄바꿈이 들어가도록 되어있다. 때문에 따로 줄바꿈을 하지 않아도 되는 것."
   ]
  },
  {
   "cell_type": "markdown",
   "id": "76deda0e-7e02-4e20-a2a3-4081fa809b7e",
   "metadata": {},
   "source": [
    "키워드는 맨 뒤에"
   ]
  },
  {
   "cell_type": "code",
   "execution_count": 23,
   "id": "e0e0bdc7-3e3d-4234-a10f-57a58a1a2f07",
   "metadata": {},
   "outputs": [
    {
     "name": "stdout",
     "output_type": "stream",
     "text": [
      "2021/02/03 18:33:23"
     ]
    }
   ],
   "source": [
    "year = '2021'\n",
    "month = '02'\n",
    "day = '03'\n",
    "hour = '18'\n",
    "minute = '33'\n",
    "second = '23'\n",
    "\n",
    "print(year, month, day, sep = \"/\", end = \" \")\n",
    "print(hour, minute, second, sep = \":\", end = \"\")"
   ]
  },
  {
   "cell_type": "code",
   "execution_count": 29,
   "id": "89d8facb-ff0e-46fc-8895-bf43dc6cebb3",
   "metadata": {},
   "outputs": [
    {
     "name": "stdin",
     "output_type": "stream",
     "text": [
      "사과와 귤을 몇개 드릴까요? 10,20\n"
     ]
    },
    {
     "name": "stdout",
     "output_type": "stream",
     "text": [
      "총 가격은 14000원입니다.\n"
     ]
    }
   ],
   "source": [
    "apple, orange = map(int, input(\"사과와 귤을 몇개 드릴까요?\").split(\",\"))\n",
    "price = apple * 1000 + orange * 200\n",
    "print(\"총 가격은 \", price, \"원입니다.\", sep = \"\")"
   ]
  },
  {
   "cell_type": "markdown",
   "id": "c53242ef-7f4b-41df-9886-0cc10e6f1a59",
   "metadata": {},
   "source": [
    "## 흐름제어문"
   ]
  },
  {
   "cell_type": "markdown",
   "id": "824f7349-1a11-48bd-8113-aa5c00e2a28c",
   "metadata": {},
   "source": [
    "### if문"
   ]
  },
  {
   "cell_type": "code",
   "execution_count": 31,
   "id": "dd2b787c-de3c-4dc6-b756-ec395a8b335c",
   "metadata": {},
   "outputs": [
    {
     "name": "stdout",
     "output_type": "stream",
     "text": [
      "input_value4는 정수입니다.\n"
     ]
    }
   ],
   "source": [
    "input_value4 = 4\n",
    "if type(input_value4) is int:\n",
    "    print(\"input_value4는 정수입니다.\")"
   ]
  },
  {
   "cell_type": "code",
   "execution_count": 37,
   "id": "59cb26d6-a269-422f-af72-4df53aa5e9d6",
   "metadata": {},
   "outputs": [
    {
     "name": "stdin",
     "output_type": "stream",
     "text": [
      "아이디를 입력하세요: admin\n"
     ]
    }
   ],
   "source": [
    "id = input(\"아이디를 입력하세요:\")\n",
    "\n",
    "if id == 'admin':\n",
    "    print(\"최고 관리자, 모든 권한을 갖습니다.\")\n",
    "    exit()\n",
    "elif not id == 'admin':\n",
    "    i_grade = int(input(\"회원 등급을 입력해주세요 : \"))\n",
    "    \n",
    "    if 0 < i_grade < 4:\n",
    "        print(\"제한적인 권한을 갖습니다.\")\n",
    "    else:\n",
    "            print(\"권한이 없습니다.\")"
   ]
  },
  {
   "cell_type": "code",
   "execution_count": null,
   "id": "aeb3ec19-01e6-4676-8bf4-6b5ea8303580",
   "metadata": {},
   "outputs": [],
   "source": []
  }
 ],
 "metadata": {
  "kernelspec": {
   "display_name": "Python 3 (ipykernel)",
   "language": "python",
   "name": "python3"
  },
  "language_info": {
   "codemirror_mode": {
    "name": "ipython",
    "version": 3
   },
   "file_extension": ".py",
   "mimetype": "text/x-python",
   "name": "python",
   "nbconvert_exporter": "python",
   "pygments_lexer": "ipython3",
   "version": "3.9.13"
  }
 },
 "nbformat": 4,
 "nbformat_minor": 5
}
