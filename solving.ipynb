{
 "cells": [
  {
   "cell_type": "code",
   "execution_count": 5,
   "id": "25aa3bfd-dfef-4032-a926-986d2e3b312f",
   "metadata": {},
   "outputs": [
    {
     "name": "stdout",
     "output_type": "stream",
     "text": [
      "24 18\n",
      "6\n",
      "72\n"
     ]
    }
   ],
   "source": [
    "biggest, smallest = map(int, input().split())\n",
    "b_list = []\n",
    "s_list = []\n",
    "denominator = []\n",
    "for i in range(1, biggest+1):\n",
    "    if biggest % i == 0:\n",
    "        b_list.append(i)\n",
    "for i in range(1, smallest+1):\n",
    "    if smallest % i == 0:\n",
    "        s_list.append(i)\n",
    "for i in range(len(s_list)):\n",
    "    if s_list[i] in b_list:\n",
    "        denominator.append(s_list[i]) \n",
    "denominator.sort()\n",
    "b_deno = denominator[-1]\n",
    "for i in range(len(denominator)):\n",
    "    bmul = denominator[0]\n",
    "    bmul *= denominator[i]\n",
    "bmulti = bmul * (biggest // bmul) * (smallest // bmul)\n",
    "print(b_deno)\n",
    "print(bmulti)"
   ]
  },
  {
   "cell_type": "code",
   "execution_count": null,
   "id": "ba020d6a",
   "metadata": {},
   "outputs": [],
   "source": [
    "test"
   ]
  }
 ],
 "metadata": {
  "kernelspec": {
   "display_name": "Python 3 (ipykernel)",
   "language": "python",
   "name": "python3"
  },
  "language_info": {
   "codemirror_mode": {
    "name": "ipython",
    "version": 3
   },
   "file_extension": ".py",
   "mimetype": "text/x-python",
   "name": "python",
   "nbconvert_exporter": "python",
   "pygments_lexer": "ipython3",
   "version": "3.9.13"
  }
 },
 "nbformat": 4,
 "nbformat_minor": 5
}
