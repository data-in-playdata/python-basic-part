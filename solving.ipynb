{
 "cells": [
  {
   "cell_type": "code",
   "execution_count": null,
   "id": "4912fbc5-80a2-4161-8ed4-18810f691673",
   "metadata": {},
   "outputs": [],
   "source": [
    "T = int(input())\n",
    "for i in range(T):\n",
    "    n = bin(int(input()))[2:] # bin함수는 10진수 숫자를 2진수 문자열로 바꾼다. 문자열임에 주목!\n",
    "    for idx, val in enumerate(n[::-1]):\n",
    "        if val == '1':\n",
    "            print(idx, end = ' ')"
   ]
  },
  {
   "cell_type": "code",
   "execution_count": null,
   "id": "e2f78145-7bb4-4b10-bf4a-bc7c3f46601f",
   "metadata": {},
   "outputs": [],
   "source": [
    "import math\n",
    "N = int(input())\n",
    "cnt = 0\n",
    "for i in range(1, int(math.sqrt(N)) + 1):\n",
    "    if N == i * i:\n",
    "        cnt += 1\n",
    "        continue\n",
    "    if N % i == 0:\n",
    "        cnt += 2\n",
    "\n",
    "print(cnt)"
   ]
  },
  {
   "cell_type": "code",
   "execution_count": null,
   "id": "ba093a43-04a5-4782-a536-a1b6319d3fee",
   "metadata": {},
   "outputs": [],
   "source": []
  }
 ],
 "metadata": {
  "kernelspec": {
   "display_name": "Python 3 (ipykernel)",
   "language": "python",
   "name": "python3"
  },
  "language_info": {
   "codemirror_mode": {
    "name": "ipython",
    "version": 3
   },
   "file_extension": ".py",
   "mimetype": "text/x-python",
   "name": "python",
   "nbconvert_exporter": "python",
   "pygments_lexer": "ipython3",
   "version": "3.9.13"
  }
 },
 "nbformat": 4,
 "nbformat_minor": 5
}
