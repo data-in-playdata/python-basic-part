{
 "cells": [
  {
   "cell_type": "markdown",
   "id": "362604aa-cc91-499c-9069-cd3be9139183",
   "metadata": {
    "tags": []
   },
   "source": [
    "### 문자열 메서드 join()"
   ]
  },
  {
   "cell_type": "code",
   "execution_count": 1,
   "id": "6e540b9b-6bcc-4ce6-b195-3648b153bdaf",
   "metadata": {},
   "outputs": [
    {
     "name": "stdout",
     "output_type": "stream",
     "text": [
      "list_strs = ['a', 'b', 'c', 'd', 'e', 'f', 'g', 'h', 'i', 'j', 'k', 'l', 'm', 'n', 'o', 'p', 'q', 'r', 's', 't', 'u', 'v', 'w', 'x', 'y', 'z']\n",
      "\n",
      "whole_str = a*b*c*d*e*f*g*h*i*j*k*l*m*n*o*p*q*r*s*t*u*v*w*x*y*z\n"
     ]
    }
   ],
   "source": [
    "list_strs = [i for i in \"abcdefghijklmnopqrstuvwxyz\"]\n",
    "print(f\"list_strs = {list_strs}\")\n",
    "\n",
    "# str.join(list)\n",
    "# str 요소들로 이뤄진 list를 합쳐 하나의 문자열로 만듭니다. \n",
    "whole_str = \"*\".join(list_strs)\n",
    "print(f\"\\nwhole_str = {whole_str}\")"
   ]
  },
  {
   "cell_type": "markdown",
   "id": "5d897c7f-dbcf-4c5f-90b5-bf58e24c0209",
   "metadata": {},
   "source": [
    "### 위에 while문 문젠데 for문으로 푼게 있다 가서 다시 풀어보도록"
   ]
  },
  {
   "cell_type": "markdown",
   "id": "5407cc78-067c-41c8-bbaa-1e0f5fb3ac4a",
   "metadata": {},
   "source": [
    "#### 연습 문제"
   ]
  },
  {
   "cell_type": "code",
   "execution_count": 6,
   "id": "cd9b63c3-05e6-48a3-bfa2-a73115cfa199",
   "metadata": {},
   "outputs": [
    {
     "name": "stdin",
     "output_type": "stream",
     "text": [
      " 5\n"
     ]
    },
    {
     "name": "stdout",
     "output_type": "stream",
     "text": [
      "그보다 큽니다\n"
     ]
    },
    {
     "name": "stdin",
     "output_type": "stream",
     "text": [
      " 8\n"
     ]
    },
    {
     "name": "stdout",
     "output_type": "stream",
     "text": [
      "그보다 큽니다\n"
     ]
    },
    {
     "name": "stdin",
     "output_type": "stream",
     "text": [
      " 10\n"
     ]
    },
    {
     "name": "stdout",
     "output_type": "stream",
     "text": [
      "그보다 작습니다\n"
     ]
    },
    {
     "name": "stdin",
     "output_type": "stream",
     "text": [
      " 9\n"
     ]
    },
    {
     "name": "stdout",
     "output_type": "stream",
     "text": [
      "맞췄습니다\n"
     ]
    }
   ],
   "source": [
    "import random\n",
    "\n",
    "random_number = random.randint(1, 100)\n",
    "while 1:\n",
    "    for i in range(1):\n",
    "        input_number = int(input())\n",
    "        if input_number < 1 or input_number > 100:\n",
    "            print(\"1~100 사이의 숫자를 입력하세요\")\n",
    "            break\n",
    "        elif input_number > random_number:\n",
    "            print(\"그보다 작습니다\")\n",
    "            break\n",
    "        elif input_number < random_number:\n",
    "            print(\"그보다 큽니다\")\n",
    "            break\n",
    "        elif input_number == random_number:\n",
    "            print(\"맞췄습니다\")\n",
    "            break\n",
    "    if input_number == random_number:\n",
    "        break"
   ]
  },
  {
   "cell_type": "code",
   "execution_count": 15,
   "id": "7b3794b8-1af7-4270-a6eb-a7bb13078626",
   "metadata": {},
   "outputs": [
    {
     "name": "stdin",
     "output_type": "stream",
     "text": [
      " -1 10 50\n"
     ]
    },
    {
     "ename": "TypeError",
     "evalue": "sequence item 0: expected str instance, int found",
     "output_type": "error",
     "traceback": [
      "\u001b[1;31m---------------------------------------------------------------------------\u001b[0m",
      "\u001b[1;31mTypeError\u001b[0m                                 Traceback (most recent call last)",
      "\u001b[1;32m~\\AppData\\Local\\Temp\\ipykernel_18536\\2106447379.py\u001b[0m in \u001b[0;36m<module>\u001b[1;34m\u001b[0m\n\u001b[0;32m      8\u001b[0m \u001b[1;32mwhile\u001b[0m \u001b[1;36m1\u001b[0m\u001b[1;33m:\u001b[0m\u001b[1;33m\u001b[0m\u001b[1;33m\u001b[0m\u001b[0m\n\u001b[0;32m      9\u001b[0m     \u001b[1;32mfor\u001b[0m \u001b[0mi\u001b[0m \u001b[1;32min\u001b[0m \u001b[0mrange\u001b[0m\u001b[1;33m(\u001b[0m\u001b[1;36m1\u001b[0m\u001b[1;33m)\u001b[0m\u001b[1;33m:\u001b[0m\u001b[1;33m\u001b[0m\u001b[1;33m\u001b[0m\u001b[0m\n\u001b[1;32m---> 10\u001b[1;33m         \u001b[0minput_number\u001b[0m \u001b[1;33m=\u001b[0m \u001b[1;34m\", \"\u001b[0m\u001b[1;33m.\u001b[0m\u001b[0mjoin\u001b[0m\u001b[1;33m(\u001b[0m\u001b[0mlist\u001b[0m\u001b[1;33m(\u001b[0m\u001b[0mmap\u001b[0m\u001b[1;33m(\u001b[0m\u001b[0mint\u001b[0m\u001b[1;33m,\u001b[0m \u001b[0minput\u001b[0m\u001b[1;33m(\u001b[0m\u001b[1;33m)\u001b[0m\u001b[1;33m.\u001b[0m\u001b[0msplit\u001b[0m\u001b[1;33m(\u001b[0m\u001b[1;33m)\u001b[0m\u001b[1;33m)\u001b[0m\u001b[1;33m)\u001b[0m\u001b[1;33m)\u001b[0m\u001b[1;33m\u001b[0m\u001b[1;33m\u001b[0m\u001b[0m\n\u001b[0m\u001b[0;32m     11\u001b[0m         \u001b[1;32mfor\u001b[0m \u001b[0mi\u001b[0m \u001b[1;32min\u001b[0m \u001b[0mrange\u001b[0m\u001b[1;33m(\u001b[0m\u001b[0mlen\u001b[0m\u001b[1;33m(\u001b[0m\u001b[0minput_number\u001b[0m\u001b[1;33m)\u001b[0m\u001b[1;33m)\u001b[0m\u001b[1;33m:\u001b[0m\u001b[1;33m\u001b[0m\u001b[1;33m\u001b[0m\u001b[0m\n\u001b[0;32m     12\u001b[0m             \u001b[0mnum\u001b[0m \u001b[1;33m=\u001b[0m \u001b[0minput_number\u001b[0m\u001b[1;33m[\u001b[0m\u001b[0mi\u001b[0m\u001b[1;33m]\u001b[0m\u001b[1;33m\u001b[0m\u001b[1;33m\u001b[0m\u001b[0m\n",
      "\u001b[1;31mTypeError\u001b[0m: sequence item 0: expected str instance, int found"
     ]
    }
   ],
   "source": [
    "# 입력 받은 값을 리스트에 담아서 join하는 방법을 활용해 푸는 방법은...\n",
    "\n",
    "\n",
    "import random\n",
    "\n",
    "random_number = random.randint(1, 100)\n",
    "input_number = []\n",
    "while 1:\n",
    "    for i in range(1):\n",
    "        input_number = \", \".join(list(map(int, input().split())))  # join 할 때는 str type 이 입력되어야 한다.\n",
    "        for i in range(len(input_number)):\n",
    "            num = input_number[i]\n",
    "            if input_number[i] < 1 or input_number[i] > 100:\n",
    "                print(\"1~100 사이의 숫자를 입력하세요\")\n",
    "                break\n",
    "            elif input_number[i] > random_number:\n",
    "                print(\"그보다 작습니다\")\n",
    "                break\n",
    "            elif input_number[i] < random_number:\n",
    "                print(\"그보다 큽니다\")\n",
    "                break\n",
    "            elif input_number[i] == random_number:\n",
    "                print(\"맞췄습니다\")\n",
    "                break\n",
    "    if input_number[i] == random_number:\n",
    "        break"
   ]
  },
  {
   "cell_type": "code",
   "execution_count": 11,
   "id": "2f90a8d6-e147-4acf-9a17-fc85fad62ef6",
   "metadata": {},
   "outputs": [
    {
     "data": {
      "text/plain": [
       "-1"
      ]
     },
     "execution_count": 11,
     "metadata": {},
     "output_type": "execute_result"
    }
   ],
   "source": [
    "int(-1)"
   ]
  },
  {
   "cell_type": "markdown",
   "id": "529b7e7c-44ad-486b-a2dd-bcb917af7594",
   "metadata": {
    "tags": []
   },
   "source": [
    "#### 연습 문제"
   ]
  },
  {
   "cell_type": "code",
   "execution_count": 10,
   "id": "2d17bb65-da81-4df9-97fc-4794e31010a5",
   "metadata": {},
   "outputs": [],
   "source": [
    "def to_celsius(fahrenheit):\n",
    "    return (fahrenheit - 32) * 5/9 "
   ]
  },
  {
   "cell_type": "code",
   "execution_count": 11,
   "id": "df42bc56-c6fd-4df8-9362-1bd3dea425b9",
   "metadata": {},
   "outputs": [
    {
     "data": {
      "text/plain": [
       "21.11111111111111"
      ]
     },
     "execution_count": 11,
     "metadata": {},
     "output_type": "execute_result"
    }
   ],
   "source": [
    "to_celsius(70)"
   ]
  },
  {
   "cell_type": "markdown",
   "id": "f0494e77-eb17-4433-99e8-6b1d5c615d90",
   "metadata": {},
   "source": [
    "#### 연습 문제"
   ]
  },
  {
   "cell_type": "code",
   "execution_count": 23,
   "id": "a3baf14c-ec79-4d9b-8ee1-c5cebfa3dc05",
   "metadata": {
    "tags": []
   },
   "outputs": [],
   "source": [
    "# 함수에서 return을 만나면 함수를 즉시 빠져나갑니다. 빠져나가면 함수를 호출한 부분부터 다시 시작이 됩니다.\n",
    "\n",
    "def odd_even(num):\n",
    "    \"\"\"\n",
    "    number가 짝수인지 홀수 인지 알려줍니다\n",
    "    \"\"\"\n",
    "    if type(num) is not int:\n",
    "        return \"자연수가 아닙니다.\"\n",
    "    elif num % 2 == 0:\n",
    "        return \"짝수\"\n",
    "    else:\n",
    "        return \"홀수\""
   ]
  },
  {
   "cell_type": "code",
   "execution_count": 47,
   "id": "bae66885-d6c0-48e7-94b4-9f9c33f6c498",
   "metadata": {},
   "outputs": [
    {
     "name": "stdout",
     "output_type": "stream",
     "text": [
      "\n",
      "    number가 짝수인지 홀수 인지 알려줍니다\n",
      "    \n",
      "짝수\n",
      "홀수\n",
      "None\n"
     ]
    }
   ],
   "source": [
    "print(odd_even.__doc__)\n",
    "print(odd_even(10))\n",
    "print(odd_even(9))\n",
    "print(odd_even(\"가\"))"
   ]
  },
  {
   "cell_type": "code",
   "execution_count": 46,
   "id": "9ab91782-18eb-49ac-884e-ce1d497fb798",
   "metadata": {
    "tags": []
   },
   "outputs": [],
   "source": [
    "def odd_even(num):\n",
    "    \"\"\"\n",
    "    number가 짝수인지 홀수 인지 알려줍니다\n",
    "    \"\"\"\n",
    "    if type(num) is int and num > 0:\n",
    "        return \"짝수\" * (num % 2 ==0) or \"홀수\"            # 신박한 접근법...! 논리연산자 or은 앞이 True면 뒤를 보지 않고 조건문을 끝냅니다.\n",
    "    else:\n",
    "        return None"
   ]
  },
  {
   "cell_type": "code",
   "execution_count": 26,
   "id": "e84b9f9a-dd21-4aa3-9f71-0eb844fb1b10",
   "metadata": {},
   "outputs": [
    {
     "data": {
      "text/plain": [
       "int"
      ]
     },
     "execution_count": 26,
     "metadata": {},
     "output_type": "execute_result"
    }
   ],
   "source": [
    "type(10)"
   ]
  },
  {
   "cell_type": "markdown",
   "id": "86d0f9b8-d165-4686-907f-b96277eef6f0",
   "metadata": {},
   "source": [
    "#### 연습 문제"
   ]
  },
  {
   "cell_type": "code",
   "execution_count": 38,
   "id": "b9e8159f-0f4c-4d37-bb55-830a79330307",
   "metadata": {},
   "outputs": [],
   "source": [
    "def check_leap_year(year):\n",
    "    if year % 100 == 0 and year % 400 != 0:\n",
    "        return \"평년\"\n",
    "    elif year % 4 == 0:\n",
    "        return \"윤년\"\n",
    "    else:\n",
    "        return \"평년\""
   ]
  },
  {
   "cell_type": "code",
   "execution_count": 39,
   "id": "3d72229f-2c39-44dd-a199-a97e4d9df840",
   "metadata": {},
   "outputs": [
    {
     "data": {
      "text/plain": [
       "'윤년'"
      ]
     },
     "execution_count": 39,
     "metadata": {},
     "output_type": "execute_result"
    }
   ],
   "source": [
    "check_leap_year(2004)"
   ]
  },
  {
   "cell_type": "code",
   "execution_count": 40,
   "id": "8cdc4ec8-6d3b-4517-b60e-c59436a01d8d",
   "metadata": {},
   "outputs": [
    {
     "data": {
      "text/plain": [
       "'윤년'"
      ]
     },
     "execution_count": 40,
     "metadata": {},
     "output_type": "execute_result"
    }
   ],
   "source": [
    "check_leap_year(2000)"
   ]
  },
  {
   "cell_type": "code",
   "execution_count": 41,
   "id": "a7d7bb32-212e-41a8-b451-831ab90892d2",
   "metadata": {},
   "outputs": [
    {
     "data": {
      "text/plain": [
       "'평년'"
      ]
     },
     "execution_count": 41,
     "metadata": {},
     "output_type": "execute_result"
    }
   ],
   "source": [
    "check_leap_year(1900)"
   ]
  },
  {
   "cell_type": "code",
   "execution_count": 38,
   "id": "a8cb64c6-b572-467c-bafd-67144aa1a8a2",
   "metadata": {},
   "outputs": [],
   "source": [
    "def check_leap_year(year):\n",
    "    if year % 4 == 0 and (y % 100 != 0 or y % 400 ==0):\n",
    "        return \"윤년\"\n",
    "    else:\n",
    "        return \"평년\""
   ]
  },
  {
   "cell_type": "markdown",
   "id": "58d1dece-a134-4a4e-8ba4-96c2b1caedf3",
   "metadata": {},
   "source": [
    "#### 연습 문제"
   ]
  },
  {
   "cell_type": "code",
   "execution_count": 48,
   "id": "47b036e3-7f62-4e12-af82-80bcb317fabe",
   "metadata": {},
   "outputs": [],
   "source": [
    "def days(month):\n",
    "    if month == 2:\n",
    "        return 28\n",
    "    elif month == 4 or month == 6 or month == 9 or month == 11:\n",
    "        return 30\n",
    "    else:\n",
    "        return 31"
   ]
  },
  {
   "cell_type": "code",
   "execution_count": 49,
   "id": "f8941e7e-77b2-44fc-b93e-ff0dfd25ecb3",
   "metadata": {},
   "outputs": [
    {
     "data": {
      "text/plain": [
       "30"
      ]
     },
     "execution_count": 49,
     "metadata": {},
     "output_type": "execute_result"
    }
   ],
   "source": [
    "days(11)"
   ]
  },
  {
   "cell_type": "code",
   "execution_count": 50,
   "id": "f39a92bd-0950-4551-9892-b035fc95e8b8",
   "metadata": {},
   "outputs": [
    {
     "data": {
      "text/plain": [
       "28"
      ]
     },
     "execution_count": 50,
     "metadata": {},
     "output_type": "execute_result"
    }
   ],
   "source": [
    "days(2)"
   ]
  },
  {
   "cell_type": "code",
   "execution_count": 51,
   "id": "9bd6632b-ca1d-4b71-a521-76d5013f9e0f",
   "metadata": {
    "tags": []
   },
   "outputs": [
    {
     "data": {
      "text/plain": [
       "31"
      ]
     },
     "execution_count": 51,
     "metadata": {},
     "output_type": "execute_result"
    }
   ],
   "source": [
    "days(1)"
   ]
  },
  {
   "cell_type": "code",
   "execution_count": 48,
   "id": "3dd73af6-e5b6-48ba-8a6f-8989ba6a6c92",
   "metadata": {},
   "outputs": [],
   "source": [
    "def days(month):\n",
    "    if month in (1, 3, 5, 7, 8, 10, 12):\n",
    "        return 31\n",
    "    elif month in(4, 6, 11:\n",
    "        return 30\n",
    "    else:\n",
    "        return 31"
   ]
  },
  {
   "cell_type": "code",
   "execution_count": 56,
   "id": "660c881c-0721-45fe-9dc0-5ac4d9d5f859",
   "metadata": {},
   "outputs": [],
   "source": [
    "def days(year, month):\n",
    "    if month == 2:\n",
    "        if year % 100 == 0 and year % 400 != 0:\n",
    "            which_year = \"평년\"\n",
    "        elif year % 4 == 0:\n",
    "            which_year = \"윤년\"\n",
    "        else:\n",
    "            which_year = \"평년\"\n",
    "        if which_year == \"윤년\":\n",
    "            return 29\n",
    "        else:\n",
    "            return 28\n",
    "    elif month == 4 or month == 6 or month == 9 or month == 11:\n",
    "        return 30\n",
    "    else:\n",
    "        return 31"
   ]
  },
  {
   "cell_type": "code",
   "execution_count": 53,
   "id": "09a53883-cc5f-48a2-8692-bea6e4d2d8c7",
   "metadata": {},
   "outputs": [
    {
     "data": {
      "text/plain": [
       "30"
      ]
     },
     "execution_count": 53,
     "metadata": {},
     "output_type": "execute_result"
    }
   ],
   "source": [
    "days(1900, 11)"
   ]
  },
  {
   "cell_type": "code",
   "execution_count": 54,
   "id": "e675c7a9-2505-4237-8e32-b5cab30b6292",
   "metadata": {},
   "outputs": [
    {
     "data": {
      "text/plain": [
       "31"
      ]
     },
     "execution_count": 54,
     "metadata": {},
     "output_type": "execute_result"
    }
   ],
   "source": [
    "days(2004, 10)"
   ]
  },
  {
   "cell_type": "code",
   "execution_count": 57,
   "id": "4d9e5bfb-8110-460a-b5d1-2a5a6731da3a",
   "metadata": {},
   "outputs": [
    {
     "data": {
      "text/plain": [
       "28"
      ]
     },
     "execution_count": 57,
     "metadata": {},
     "output_type": "execute_result"
    }
   ],
   "source": [
    "days(1900, 2)"
   ]
  },
  {
   "cell_type": "code",
   "execution_count": 58,
   "id": "78fe7a61-a625-4607-a9bc-2c180a5b6fee",
   "metadata": {},
   "outputs": [
    {
     "data": {
      "text/plain": [
       "29"
      ]
     },
     "execution_count": 58,
     "metadata": {},
     "output_type": "execute_result"
    }
   ],
   "source": [
    "days(2000, 2)"
   ]
  },
  {
   "cell_type": "markdown",
   "id": "f27d9b9b-cb16-4e08-bb61-1bdd92e7427d",
   "metadata": {},
   "source": [
    "#### 연습 문제"
   ]
  },
  {
   "cell_type": "markdown",
   "id": "449b6953-12fb-46d2-895b-65e03f539997",
   "metadata": {},
   "source": [
    "어떻게 두 변수에 unpacking 할 수 있을까 몰랐었다. 정확하지 않지만 이렇게 하면 될 것 같아 시도했고 성공했다. 기본기가 부족하다는 것을 느낀다."
   ]
  },
  {
   "cell_type": "code",
   "execution_count": 60,
   "id": "7a85894d-df6f-4dac-9864-bb70534d78ce",
   "metadata": {},
   "outputs": [
    {
     "name": "stdout",
     "output_type": "stream",
     "text": [
      "몫:3, 나머지:1\n"
     ]
    }
   ],
   "source": [
    "x = 10\n",
    "y = 3\n",
    "\n",
    "def get_quotient_remainder(p1, p2):  # p1 : 분자, p2 : 분모\n",
    "    a1 = p1 // p2 # a1: 몫\n",
    "    a2 = p1 % p2  # a2: 나머지\n",
    "    return [a1, a2]\n",
    "\n",
    "quitient, remainder = get_quotient_remainder(x, y)\n",
    "print(f\"몫:{quitient}, 나머지:{remainder}\")"
   ]
  },
  {
   "cell_type": "markdown",
   "id": "605ec95b-f772-4afc-b7bd-8f77ea3bb77e",
   "metadata": {},
   "source": [
    "parameter가 튜플 형태로 기입되어 리턴 값을 시퀀스로 돌려주면"
   ]
  },
  {
   "cell_type": "markdown",
   "id": "ea7ba0ec-14bd-4ed3-8c04-0901ba543295",
   "metadata": {},
   "source": [
    "수업 자료의 풀이에 return 값이 두 개인 것 같지만 튜플이다. 만약 함수에 리턴값이 주어지지 않으면 반환값은 None이다. return은 함수의 끝이다. return 값은 생략이 가능해서 없다고 해도 함수의 끝에 return 이 존재하는 것과 같다."
   ]
  },
  {
   "cell_type": "markdown",
   "id": "519e2b65-21de-4c84-9d1d-08da7c53df72",
   "metadata": {},
   "source": [
    "### 변수의 범위(variable scope) - 전역 변수(global variable)\n"
   ]
  },
  {
   "cell_type": "markdown",
   "id": "276296b2-cfac-4889-a360-229199a35e9d",
   "metadata": {},
   "source": [
    "### 변수의 범위(variable scope) - 지역 변수(local variable)\n",
    "전역 변수와 지역 변수가 서로 독립적으로 존재한다. "
   ]
  },
  {
   "cell_type": "markdown",
   "id": "30b0b6d5-c17e-4585-b9b9-00df24788bbb",
   "metadata": {},
   "source": [
    "### 변수의 범위(variable scope) - 지역 범위에서 전역 변수 할당하기\n"
   ]
  },
  {
   "cell_type": "markdown",
   "id": "91a1d473-a84a-47ce-baa4-92767a340b54",
   "metadata": {},
   "source": [
    "### 함수 바디에 함수를 중첩해서 만들기\n",
    "더 안쪽의 바디에서도 그 바디를 포함하고 있다면 접근할 수 있다."
   ]
  },
  {
   "cell_type": "markdown",
   "id": "5f4f2246-db01-4459-9021-de7ee23d8323",
   "metadata": {},
   "source": [
    "### 안쪽 함수에서 바깥쪽 함수의 변수 변경해보기\n"
   ]
  },
  {
   "cell_type": "code",
   "execution_count": null,
   "id": "ec6ed355-43f2-400a-bf37-30ec052f21d7",
   "metadata": {},
   "outputs": [],
   "source": [
    "def level1():\n",
    "    message = \"This is level 1.\"\n",
    "    def level2():\n",
    "        nonlocal message\n",
    "        message = \"Level2 is better than level1.\"\n",
    "    level2()\n",
    "    "
   ]
  },
  {
   "cell_type": "markdown",
   "id": "f78bc7f4-5a41-46b2-a39c-8423c5e3d8f0",
   "metadata": {
    "tags": []
   },
   "source": [
    "### 변수 범위 정리\n"
   ]
  },
  {
   "cell_type": "markdown",
   "id": "d4665372-c649-4894-a111-10a6eed60d5b",
   "metadata": {},
   "source": [
    "#### 연습 문제"
   ]
  },
  {
   "cell_type": "code",
   "execution_count": 61,
   "id": "80c66783-34a9-475b-ac38-0ab2a6561c91",
   "metadata": {},
   "outputs": [
    {
     "name": "stdout",
     "output_type": "stream",
     "text": [
      "전역 변수입니다.\n"
     ]
    }
   ],
   "source": [
    "# 지역 범위(Local scope) 전역 변수(global variable)에 접근 출력\n",
    "global_v = \"전역 변수입니다.\"\n",
    "\n",
    "def local_scope():\n",
    "    print(global_v) # 변경하지 않음\n",
    "    \n",
    "local_scope()"
   ]
  },
  {
   "cell_type": "code",
   "execution_count": 62,
   "id": "9e275a8d-4794-40ea-a125-de095548d01a",
   "metadata": {},
   "outputs": [
    {
     "name": "stdout",
     "output_type": "stream",
     "text": [
      "전역 변수입니다.\n"
     ]
    },
    {
     "ename": "NameError",
     "evalue": "name 'global_v2' is not defined",
     "output_type": "error",
     "traceback": [
      "\u001b[1;31m---------------------------------------------------------------------------\u001b[0m",
      "\u001b[1;31mNameError\u001b[0m                                 Traceback (most recent call last)",
      "\u001b[1;32m~\\AppData\\Local\\Temp\\ipykernel_18536\\3317981381.py\u001b[0m in \u001b[0;36m<module>\u001b[1;34m\u001b[0m\n\u001b[0;32m      7\u001b[0m \u001b[1;33m\u001b[0m\u001b[0m\n\u001b[0;32m      8\u001b[0m \u001b[0mlocal_scope\u001b[0m\u001b[1;33m(\u001b[0m\u001b[1;33m)\u001b[0m\u001b[1;33m\u001b[0m\u001b[1;33m\u001b[0m\u001b[0m\n\u001b[1;32m----> 9\u001b[1;33m \u001b[0mprint\u001b[0m\u001b[1;33m(\u001b[0m\u001b[0mglobal_v2\u001b[0m\u001b[1;33m)\u001b[0m\u001b[1;33m\u001b[0m\u001b[1;33m\u001b[0m\u001b[0m\n\u001b[0m",
      "\u001b[1;31mNameError\u001b[0m: name 'global_v2' is not defined"
     ]
    }
   ],
   "source": [
    "# 지역 범위(Local scope) 전역 변수(global variable)에 접근 출력\n",
    "global_v = \"전역 변수입니다.\"\n",
    "\n",
    "def local_scope2():\n",
    "    global_v2 = \"지역 범위입니다.\"\n",
    "    print(global_v) # 변경하지 않음\n",
    "    \n",
    "local_scope()\n",
    "print(global_v2)"
   ]
  },
  {
   "cell_type": "code",
   "execution_count": 63,
   "id": "e6a39a52-0a84-4f27-aea6-c358cee67097",
   "metadata": {},
   "outputs": [
    {
     "name": "stdout",
     "output_type": "stream",
     "text": [
      "전역 변수입니다.\n",
      "전역 변수입니다.\n"
     ]
    }
   ],
   "source": [
    "# 지역 범위(Local scope) 전역 변수(global variable)에 접근 출력\n",
    "global_v2 = \"전역 변수입니다.\"\n",
    "\n",
    "def local_scope2():\n",
    "    global_v2 = \"지역 범위입니다.\" # 변경하지 않음\n",
    "    \n",
    "local_scope()\n",
    "print(global_v2)"
   ]
  },
  {
   "cell_type": "code",
   "execution_count": 68,
   "id": "eee665fe-88c1-448f-88f0-6f65eab60021",
   "metadata": {},
   "outputs": [
    {
     "name": "stdout",
     "output_type": "stream",
     "text": [
      "전역 변수입니다.\n"
     ]
    }
   ],
   "source": [
    "# 지역 범위(Local scope) 전역 변수(global variable)에 접근 출력\n",
    "global_v2 = \"전역 변수입니다.\"\n",
    "\n",
    "def local_scope2():\n",
    "    global_v2 = \"지역 범위입니다.\" # 변경하지 않음\n",
    "    \n",
    "local_scope2()\n",
    "print(global_v2)\n",
    "# 사실은 전역 범위에서 global_v2를 만들어 할당한 것과\n",
    "# 로컬 범위에서 global_v2를 만들어 할당한 것\n",
    "# 두 가지 일을 각각 독립적으로 실행한 결과를 확인했다."
   ]
  },
  {
   "cell_type": "code",
   "execution_count": 66,
   "id": "3b7cb1f1-dd3b-4592-bb4d-08175ddf9b74",
   "metadata": {},
   "outputs": [
    {
     "name": "stdout",
     "output_type": "stream",
     "text": [
      "지역 범위에서 변경합니다.\n"
     ]
    }
   ],
   "source": [
    "# 지역 범위(Local scope) 전역 변수(global variable)에 접근 출력\n",
    "global_v3 = \"전역 변수입니다.\"\n",
    "\n",
    "def local_scope2():\n",
    "    global global_v3 # 전역 범위에 있는 전역 변수인 global_v3를 사용하겠다.\n",
    "    global_v3 = \"지역 범위에서 변경합니다.\" # 변경하지 않음\n",
    "    \n",
    "local_scope2()\n",
    "print(global_v3)"
   ]
  },
  {
   "cell_type": "markdown",
   "id": "061adfad-a492-4a1f-aaad-06613c1fb52a",
   "metadata": {},
   "source": [
    "### 람다(Lambda)\n"
   ]
  },
  {
   "cell_type": "markdown",
   "id": "5680a112-4a37-4132-bb4d-c46e46b6e3f4",
   "metadata": {},
   "source": [
    "### 조건 표현식(Conditional Expression), inline if else\n"
   ]
  },
  {
   "cell_type": "markdown",
   "id": "493ebdaa-9102-49fb-979d-ba94975ccbb1",
   "metadata": {},
   "source": [
    "### 람다(Lambda) feat. map()\n"
   ]
  },
  {
   "cell_type": "code",
   "execution_count": 69,
   "id": "e15ca719-9b8a-4434-b29a-a660ff89617e",
   "metadata": {},
   "outputs": [
    {
     "name": "stdout",
     "output_type": "stream",
     "text": [
      "[0, 4, 12, 24, 40]\n"
     ]
    }
   ],
   "source": [
    "a = [_ for _ in range(5)]\n",
    "b = [_ for _ in range(2, 11, 2)]\n",
    "\n",
    "c = list(map(lambda x, y: x * y, a, b))\n",
    "print(c)"
   ]
  },
  {
   "cell_type": "code",
   "execution_count": 70,
   "id": "0d05d4e5-2117-44d5-a35a-40f92f30c695",
   "metadata": {},
   "outputs": [
    {
     "data": {
      "text/plain": [
       "100"
      ]
     },
     "execution_count": 70,
     "metadata": {},
     "output_type": "execute_result"
    }
   ],
   "source": [
    "(lambda x: x**2)(10)"
   ]
  },
  {
   "cell_type": "markdown",
   "id": "1e2748c2-e50b-4a03-9505-c2d3ce4f5082",
   "metadata": {},
   "source": [
    "### 람다(Lambda) feat. filter()\n"
   ]
  },
  {
   "cell_type": "markdown",
   "id": "a88d4e72-db4a-4fbc-b92a-84962cb25a93",
   "metadata": {},
   "source": [
    "## 객체지향(Object Oriented) 프로그래밍\n"
   ]
  },
  {
   "cell_type": "markdown",
   "id": "4d6a5a9f-f689-4169-819e-df86d4e9189b",
   "metadata": {},
   "source": [
    "### 클래스(Class)\n"
   ]
  },
  {
   "cell_type": "markdown",
   "id": "a5b1039d-7b71-4988-b836-48372b03bcaa",
   "metadata": {},
   "source": [
    "클래스 정의 후에도 doc string으로 클래스를 설명하는 설명란을 넣는 편이 훨씬 좋다. 나중에 포트폴리오에 도움이 될 것이다."
   ]
  },
  {
   "cell_type": "code",
   "execution_count": 73,
   "id": "dccaa556-f4ee-4d57-b33b-ee9df3141b74",
   "metadata": {},
   "outputs": [],
   "source": [
    "class Student():\n",
    "    pass"
   ]
  },
  {
   "cell_type": "code",
   "execution_count": 74,
   "id": "4dd163c3-f8cb-44b3-990b-7418dd44a8f9",
   "metadata": {},
   "outputs": [],
   "source": [
    "gh = Student() # 독립적인 값을 보장하는 인스턴스로 생성된다."
   ]
  },
  {
   "cell_type": "code",
   "execution_count": 76,
   "id": "07722d01-679a-4bf8-9482-b875142d7723",
   "metadata": {},
   "outputs": [],
   "source": [
    "class Student():\n",
    "    def __init__(self):\n",
    "        pass\n",
    "    def eat_food():\n",
    "        pass"
   ]
  },
  {
   "cell_type": "markdown",
   "id": "b84e85b4-cc5b-4eb6-ba1e-ce300dc358bd",
   "metadata": {},
   "source": [
    "__ : double underscore, dunder"
   ]
  },
  {
   "cell_type": "code",
   "execution_count": 77,
   "id": "3e89ea1f-1dd4-4cf5-8e53-845f138dc9ae",
   "metadata": {},
   "outputs": [],
   "source": [
    "gh = Student() # 독립적인 값을 보장하는 인스턴스로 생성된다."
   ]
  },
  {
   "cell_type": "code",
   "execution_count": 78,
   "id": "2cfeaf74-3fae-46e8-ab4a-54436d457cc6",
   "metadata": {},
   "outputs": [],
   "source": [
    "class Person:\n",
    "    def __init__(self):\n",
    "        self.hello = \"안녕하세요.\""
   ]
  },
  {
   "cell_type": "code",
   "execution_count": 79,
   "id": "ad6a823d-face-4393-8d63-d68b9dfe65f1",
   "metadata": {},
   "outputs": [],
   "source": [
    "james = Person()"
   ]
  },
  {
   "cell_type": "code",
   "execution_count": 80,
   "id": "78015d71-fbd3-417e-9b88-a256001a1a8a",
   "metadata": {},
   "outputs": [
    {
     "name": "stdout",
     "output_type": "stream",
     "text": [
      "안녕하세요.\n"
     ]
    }
   ],
   "source": [
    "print(james.hello)"
   ]
  },
  {
   "cell_type": "code",
   "execution_count": 81,
   "id": "a835b7e5-cc02-4c96-b056-e6b3c6a9cf80",
   "metadata": {},
   "outputs": [
    {
     "name": "stdout",
     "output_type": "stream",
     "text": [
      "안녕하세요.\n"
     ]
    }
   ],
   "source": [
    "bebe = Person()\n",
    "print(bebe.hello)"
   ]
  },
  {
   "cell_type": "markdown",
   "id": "01b3bacb-fad8-4a73-930b-9f6b9143d486",
   "metadata": {},
   "source": [
    "### self란\n",
    "self는 인스턴스 자기 자신을 의미합니다.\n",
    "위 예제에서 인스턴스가 생성될 때 self.hello = '안녕하세요' 처럼 ㅌ"
   ]
  }
 ],
 "metadata": {
  "kernelspec": {
   "display_name": "Python 3 (ipykernel)",
   "language": "python",
   "name": "python3"
  },
  "language_info": {
   "codemirror_mode": {
    "name": "ipython",
    "version": 3
   },
   "file_extension": ".py",
   "mimetype": "text/x-python",
   "name": "python",
   "nbconvert_exporter": "python",
   "pygments_lexer": "ipython3",
   "version": "3.9.13"
  }
 },
 "nbformat": 4,
 "nbformat_minor": 5
}
