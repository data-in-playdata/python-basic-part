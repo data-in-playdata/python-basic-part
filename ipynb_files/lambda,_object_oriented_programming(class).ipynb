{
 "cells": [
  {
   "attachments": {},
   "cell_type": "markdown",
   "metadata": {},
   "source": [
    "### 람다(Lambda)\n",
    "호출될 때 값이 구해지는 하나의 표현식입니다. 또 이름이 없는 인라인 함수입니다.\n",
    "  \n",
    "람다 표현식을 바로 호출하는 방법입니다. 아래 예제와 같이 람다 표현식 전체를 소괄호  \n",
    "(())로 감싸고 뒤에 함수 호출하듯이 소괄호를 붙입니다. 그리고 뒷쪽에 작성한 소괄호 안에 인수를 넣으면 람다 표현식이 바로 호출됩니다.  \n",
    "  \n",
    "람다는 기본적으로 이름없는 함수(anonymous function)입니다. 람다로 만든 익명 함수를 호출하려면 변수에 할당해서 사용할 수 있습니다.(파이썬에서 함수는 일급 객체  (first-class object)입니다.)    \n",
    "  \n",
    "람다의 expression 부분은 변수 없이 식 한 줄로 표현 가능(인라인)해야 합니다. 따라서 람다 표현식 안에 새 변수를 만들 수 없습니다. 변수가 필요한 경우는 def를 써서 함수를  정의해서 사용하는 것이 좋습니다.  "
   ]
  },
  {
   "attachments": {},
   "cell_type": "markdown",
   "metadata": {},
   "source": [
    "### 조건 표현식(Conditional Expression), inline if else\n",
    "if else를 한 줄로 작성할 수 있는 방법입니다.\n",
    "```\n",
    "score = 90\n",
    "'A' if 90 <score <= 100 else 'B' if 80 <score else 'C'\n",
    "```"
   ]
  },
  {
   "attachments": {},
   "cell_type": "markdown",
   "metadata": {},
   "source": [
    "### 람다(Lambda) feat. map()\n",
    "람다와 map() 함수를 같이 쓸 때 다음과 같이 사용합니다. 이때 필요에 따라  \n",
    "parameter와 iterable의 개수를 맞춰서 사용하면 됩니다. 어느 한쪽 iterable의 길이가  \n",
    "짧아도 상관없이 동작하며, 길이가 작은 쪽에 맞춰 값을 반환합니다. "
   ]
  },
  {
   "cell_type": "code",
   "execution_count": 1,
   "metadata": {},
   "outputs": [
    {
     "name": "stdout",
     "output_type": "stream",
     "text": [
      "[0, 4, 12, 24, 40]\n"
     ]
    }
   ],
   "source": [
    "a = [_ for _ in range(5)]\n",
    "b = [_ for _ in range(2, 11, 2)]\n",
    "\n",
    "c = list(map(lambda x, y: x * y, a, b))\n",
    "print(c)"
   ]
  },
  {
   "cell_type": "code",
   "execution_count": 2,
   "metadata": {},
   "outputs": [
    {
     "data": {
      "text/plain": [
       "100"
      ]
     },
     "execution_count": 2,
     "metadata": {},
     "output_type": "execute_result"
    }
   ],
   "source": [
    "(lambda x: x**2)(10)"
   ]
  },
  {
   "attachments": {},
   "cell_type": "markdown",
   "metadata": {},
   "source": [
    "### 람다(Lambda) feat. filter()\n",
    "람다와 filter() 함수를 같이 쓸 때 다음과 같이 사용합니다. filter의 첫 인수로 들어가는  \n",
    "함수의 반환 값이 True일 때만 해당 요소를 가져옵니다. 리스트 컴프리헨션으로도 표현  \n",
    "가능한 부분입니다.(속도와 가독성 모두 리스트 컴프리헨션이 더 낫습니다.)   "
   ]
  },
  {
   "cell_type": "markdown",
   "metadata": {},
   "source": [
    "## 객체지향(Object Oriented) 프로그래밍\n",
    "객체지향 프로그래밍은 복잡한 문제를 잘게 나누어 객체로 만들고, 객체를 조합해서  \n",
    "문제를 해결합니다.  \n",
    "현실 세계의 복잡한 문제를 처리하는데 유용하며 기능을 개선하고 발전시킬 때도 해당  \n",
    "클래스만 수정하면 되므로 큰 프로젝트의 유지보수에도 매우 효율적입니다.  \n",
    "객체가 가진 데이터를 클래스의 속성(Attribute)이라 부르고 객체가 갖는 기능을 메서드  \n",
    "(Method)라고 부릅니다.  "
   ]
  },
  {
   "attachments": {},
   "cell_type": "markdown",
   "metadata": {},
   "source": [
    "### 클래스(Class)\n",
    "클래스는 사용자 정의 객체를 만들기 위한 주형이라고 생각하면 됩니다. 클래스 정의는   \n",
    "보통 클래스의 인스턴스를 대상으로 연산하는 메서드 정의를 포함하고 있습니다.  "
   ]
  },
  {
   "attachments": {},
   "cell_type": "markdown",
   "metadata": {},
   "source": [
    "### 객체(Object)? 인스턴스(Instance)?\n",
    "객체를 언급할 땐 단어 하나만 활용하여 단지 ‘객체’라고 표현합니다. 그와 달리 인스턴스(Instance)는 특정 클래스로부터 만들어진 실체로 언급을 많이 합니다. 예를들어  인스턴스의 경우 ‘리스트 클래스로 만들어진 인스턴스다’라고 말할 수 있습니다.  \n",
    "부르는 구체적인 것은 조금 달라도 결국 둘은 같은 말입니다. 인스턴스의 생성은 아래의 예제처럼 클래스명 오른편에 소괄호를 붙여서 만듭니다.  "
   ]
  },
  {
   "attachments": {},
   "cell_type": "markdown",
   "metadata": {},
   "source": [
    "### 메서드(Method)\n",
    "메서드(Method)는 클래스 바디 안에서 정의되는 함수입니다. 클래스의 인스턴스의 어트리뷰트(attribute)로서 호출되면, 그 메서드는 첫 번째 인자로 인스턴스 객체(self)를 받습니다.  \n",
    "첫 번째 인자를 설정 안 하면 에러가 발생합니다. 이 첫 번째 인자를 ‘self’라고 씁니다.\n",
    "```  \n",
    " class ClassName:  \n",
    "    def method_name(self):  \n",
    "        method_body  \n",
    "    class_body  \n",
    "        ...\n",
    "```"
   ]
  },
  {
   "attachments": {},
   "cell_type": "markdown",
   "metadata": {},
   "source": [
    "### 인스턴스 속성(Attribute)\n",
    "인스턴스 속성(Attribute)를 만들 때는 ```__init__``` 메서드 안에서 <U>self.속성</U> 에 값을 할당하면 됩니다.  \n",
    "```__init__``` 메서드는 james = Person()처럼 클래스에 소괄호(())를 붙여서 인스턴스를 만들 때 호출되는 특별한 메서드(special method, magic method)입니다.  \n",
    "  \n",
    "```__init__```은 initialize의 줄임말로 인스턴스(객체)를 초기화(메모리에 공간을 할당하고 값을 부여함)합니다.  \n",
    "  \n",
    "밑줄 두개(__ double under, 던더)가 양 옆으로 붙어있는 메서드는 파이썬이 자동으로 호출하는 메서드입니다. 스페셜 메서드(special method) 혹은 매직 메서드(magic method)라고 부릅니다. 던더 메서드로 불리기도 합니다. 파이썬의 여러 가지 기능을 사용할 때 이 던더 메서드를 구현하는 식으로 사용하게 됩니다. \n",
    "  \n",
    "인스턴스 속성은 ```__init__```메서드에서 만든다는 점과 self에 마침표(.)를 붙인 후 속성명을 붙여 값을 할당하는 걸 다시 한번 확고히 합시다.\n",
    "  \n",
    "클래스 바디에서도 속성을 접근할 때 self.속성 과 같이 self에 마침표를 찍고 사용하면 됩니다.  "
   ]
  },
  {
   "cell_type": "markdown",
   "metadata": {},
   "source": [
    "#### 클래스 인스턴스 생성할 때 속성 할당하기\n",
    "인스턴스를 생성할 때 속성 값을 할당하려면 다음 예제와 같이 ```__init__``` 메서드에서 self.속성명에 값을 받을 매개변수를 지정해야 합니다. 그리고 매개변수를 self.속성에 할당합니다. "
   ]
  },
  {
   "attachments": {},
   "cell_type": "markdown",
   "metadata": {},
   "source": [
    "### self\n",
    "self는 인스턴스 자기 자신을 의미합니다.  \n",
    "self가 완성된 후에는 변수에 할당될 수 있습니다.  \n",
    "이후 메서드를 호출하면 현재 인스턴스가 자동으로 매개변수 self에 들어옵니다. "
   ]
  },
  {
   "attachments": {},
   "cell_type": "markdown",
   "metadata": {},
   "source": [
    "### 특정 클래스의 인스턴스인지 확인하기\n",
    "클래스는 사용자 정의 객체(Object)를 만들기 위한 주형이라고 소개했습니다. 즉 객체는 클래스의 규격대로 만들어진 메모리상의 실현체입니다. 인스턴스(Instance)는 같은 의미입니다.  "
   ]
  },
  {
   "cell_type": "markdown",
   "metadata": {},
   "source": [
    "### 정적 메서드(Static Method)\n",
    "클래스 바디 안에서 정의되는 함수입니다. 클래스의 인스턴스의 어트리뷰트(attribute)\n",
    "로서 호출되면, 그 메서드는 첫 번째 인자로 인스턴스 객체(self)를 받습니다.\n",
    "```\n",
    "class ClassName:\n",
    "    @staticmethod\n",
    "    def method_name():\n",
    "        method_body\n",
    "    class_body\n",
    "```"
   ]
  },
  {
   "cell_type": "markdown",
   "metadata": {},
   "source": [
    "### 비공개 속성 사용하기\n",
    "우리가 인스턴스.속성 = 값을 통해 새롭게 인스턴스의 속성 값을 변경 못하도록 막고  \n",
    "싶을 때는 비공개 속성을 사용하면 됩니다.  \n",
    "사용법은 해당하는 속성 앞에 던더```(__)```를 붙이면 비공개 속성이 됩니다.  \n"
   ]
  },
  {
   "cell_type": "markdown",
   "metadata": {},
   "source": [
    "### 비공개 메서드(Method)\n",
    "속성뿐만 아니라 메서드도 이름이 __로 시작하면 클래스 안에서만 호출할 수 있는 비공개  \n",
    "메서드가 됩니다.  \n",
    "```\n",
    "class ClassName:\n",
    "    def __method_name(self):\n",
    "        method_body\n",
    "    class_body\n",
    "    ...\n",
    "``` "
   ]
  },
  {
   "attachments": {},
   "cell_type": "markdown",
   "metadata": {},
   "source": [
    "클래스 정의 후에도 doc string으로 클래스를 설명하는 설명란을 넣는 편이 훨씬 좋습니다. "
   ]
  },
  {
   "cell_type": "markdown",
   "metadata": {},
   "source": [
    "#### 클래스 실습 코드"
   ]
  },
  {
   "cell_type": "code",
   "execution_count": 1,
   "metadata": {},
   "outputs": [],
   "source": [
    "class Student():\n",
    "    pass"
   ]
  },
  {
   "cell_type": "code",
   "execution_count": 14,
   "metadata": {},
   "outputs": [],
   "source": [
    "gh = Student() # 독립적인 값을 보장하는 인스턴스로 생성된다. 인스턴스는 메모리에 존재한다.\n",
    "gh2 = Student()"
   ]
  },
  {
   "cell_type": "code",
   "execution_count": 3,
   "metadata": {},
   "outputs": [],
   "source": [
    "gh.hello = \"안녕하세요.\"  # 이렇게 선언된 인스턴스의 속성은 변수가 선언되듯 저장되어진다. __init__ 메서드와 접촉되지 않는다."
   ]
  },
  {
   "cell_type": "code",
   "execution_count": 4,
   "metadata": {},
   "outputs": [
    {
     "name": "stdout",
     "output_type": "stream",
     "text": [
      "안녕하세요.\n"
     ]
    }
   ],
   "source": [
    "print(gh.hello)"
   ]
  },
  {
   "cell_type": "code",
   "execution_count": 6,
   "metadata": {},
   "outputs": [
    {
     "ename": "AttributeError",
     "evalue": "'Student' object has no attribute 'hello'",
     "output_type": "error",
     "traceback": [
      "\u001b[1;31m---------------------------------------------------------------------------\u001b[0m",
      "\u001b[1;31mAttributeError\u001b[0m                            Traceback (most recent call last)",
      "\u001b[1;32m~\\AppData\\Local\\Temp\\ipykernel_17008\\1379495871.py\u001b[0m in \u001b[0;36m<module>\u001b[1;34m\u001b[0m\n\u001b[1;32m----> 1\u001b[1;33m \u001b[0mprint\u001b[0m\u001b[1;33m(\u001b[0m\u001b[0mgh2\u001b[0m\u001b[1;33m.\u001b[0m\u001b[0mhello\u001b[0m\u001b[1;33m)\u001b[0m\u001b[1;33m\u001b[0m\u001b[1;33m\u001b[0m\u001b[0m\n\u001b[0m",
      "\u001b[1;31mAttributeError\u001b[0m: 'Student' object has no attribute 'hello'"
     ]
    }
   ],
   "source": [
    "print(gh2.hello)"
   ]
  },
  {
   "cell_type": "code",
   "execution_count": 13,
   "metadata": {},
   "outputs": [],
   "source": [
    "class Student():\n",
    "    def __init__(self):\n",
    "        self.hello = \"안녕하세요.\""
   ]
  },
  {
   "cell_type": "code",
   "execution_count": 16,
   "metadata": {},
   "outputs": [
    {
     "name": "stdout",
     "output_type": "stream",
     "text": [
      "안녕하세요.\n"
     ]
    }
   ],
   "source": [
    "print(gh2.hello) # 이렇듯 __init__ 속성이 사용가능한 걸 확인할 수 있다. 하지만 클래스를 고쳐 선언해도 인스턴스를 재차 선언하지 않으면 바뀌지 않는다."
   ]
  },
  {
   "cell_type": "code",
   "execution_count": 5,
   "metadata": {},
   "outputs": [],
   "source": [
    "class Student():\n",
    "    def __init__(self):\n",
    "        pass\n",
    "    def eat_food():\n",
    "        pass"
   ]
  },
  {
   "cell_type": "markdown",
   "metadata": {},
   "source": [
    "__ : double underscore, dunder"
   ]
  },
  {
   "cell_type": "code",
   "execution_count": 8,
   "metadata": {},
   "outputs": [],
   "source": [
    "gh = Student() # 독립적인 값을 보장하는 인스턴스로 생성된다."
   ]
  },
  {
   "cell_type": "code",
   "execution_count": 9,
   "metadata": {},
   "outputs": [],
   "source": [
    "class Person:\n",
    "    def __init__(self):\n",
    "        self.hello = \"안녕하세요.\""
   ]
  },
  {
   "cell_type": "code",
   "execution_count": 10,
   "metadata": {},
   "outputs": [],
   "source": [
    "james = Person()"
   ]
  },
  {
   "cell_type": "code",
   "execution_count": 11,
   "metadata": {},
   "outputs": [
    {
     "name": "stdout",
     "output_type": "stream",
     "text": [
      "안녕하세요.\n"
     ]
    }
   ],
   "source": [
    "print(james.hello)"
   ]
  },
  {
   "cell_type": "code",
   "execution_count": 12,
   "metadata": {},
   "outputs": [
    {
     "name": "stdout",
     "output_type": "stream",
     "text": [
      "안녕하세요.\n"
     ]
    }
   ],
   "source": [
    "bebe = Person()\n",
    "print(bebe.hello)"
   ]
  },
  {
   "cell_type": "code",
   "execution_count": 20,
   "metadata": {},
   "outputs": [],
   "source": [
    "class Student():\n",
    "    def __init__(self):\n",
    "        self.hello = \"안녕하세요.\"\n",
    "    def greeting(self):\n",
    "        print(self.hello)"
   ]
  },
  {
   "cell_type": "code",
   "execution_count": 22,
   "metadata": {},
   "outputs": [],
   "source": [
    "gh = Student()"
   ]
  },
  {
   "cell_type": "code",
   "execution_count": null,
   "metadata": {},
   "outputs": [],
   "source": []
  },
  {
   "cell_type": "code",
   "execution_count": 23,
   "metadata": {},
   "outputs": [
    {
     "name": "stdout",
     "output_type": "stream",
     "text": [
      "안녕하세요.\n"
     ]
    }
   ],
   "source": [
    "gh.greeting()"
   ]
  },
  {
   "cell_type": "code",
   "execution_count": 31,
   "metadata": {},
   "outputs": [],
   "source": [
    "class Person():\n",
    "    def __init__(self, name, age):\n",
    "        self.name = name\n",
    "        self.age = age"
   ]
  },
  {
   "cell_type": "code",
   "execution_count": 25,
   "metadata": {},
   "outputs": [],
   "source": [
    "# p1 = Person()\n",
    "# p2 = Person()"
   ]
  },
  {
   "cell_type": "code",
   "execution_count": null,
   "metadata": {},
   "outputs": [],
   "source": [
    "# p1.name = \"name1\"\n",
    "# p1.age = 40\n",
    "# p2.name = \"name2\"\n",
    "# p2.age = 38"
   ]
  },
  {
   "cell_type": "code",
   "execution_count": 32,
   "metadata": {},
   "outputs": [],
   "source": [
    "p1 = Person(\"name1\", 40)\n",
    "p2 = Person(\"name2\", 38)"
   ]
  },
  {
   "cell_type": "code",
   "execution_count": 34,
   "metadata": {},
   "outputs": [
    {
     "data": {
      "text/plain": [
       "{'name': 'name1', 'age': 40}"
      ]
     },
     "execution_count": 34,
     "metadata": {},
     "output_type": "execute_result"
    }
   ],
   "source": [
    "p1.__dict__ # 인스턴스 안의 속성을 보는 방법 중 하나"
   ]
  },
  {
   "cell_type": "code",
   "execution_count": 37,
   "metadata": {},
   "outputs": [],
   "source": [
    "class Person2():\n",
    "    def __init__(self, name, age, address):\n",
    "        self.hello = \"안녕하세요.\"\n",
    "        self.name = name\n",
    "        self.age = age\n",
    "        self.address = address\n",
    "    \n",
    "    def greeting(self):\n",
    "        print(f\"{self.hello} 제 이름은 {self.name}입니다.\")"
   ]
  },
  {
   "cell_type": "code",
   "execution_count": 38,
   "metadata": {},
   "outputs": [
    {
     "name": "stdout",
     "output_type": "stream",
     "text": [
      "안녕하세요. 제 이름은 마리아입니다.\n"
     ]
    }
   ],
   "source": [
    "maria = Person2(\"마리아\", 23, \"서울시 마포구\")\n",
    "maria.greeting()"
   ]
  },
  {
   "cell_type": "markdown",
   "metadata": {},
   "source": [
    "#### 연습 문제\n",
    "Person 클래스로 maria, james라는 인스턴스를 생성합니다.  \n",
    "maria와 james 두 사람의 나이, 이름, 주소를 받아와 객체에 저장하고 화면에 출력해보세요."
   ]
  },
  {
   "cell_type": "code",
   "execution_count": 56,
   "metadata": {},
   "outputs": [],
   "source": [
    "class Person():\n",
    "    def __init__(self):\n",
    "        pass"
   ]
  },
  {
   "cell_type": "code",
   "execution_count": 57,
   "metadata": {},
   "outputs": [
    {
     "name": "stdout",
     "output_type": "stream",
     "text": [
      "이름이 무엇인가요?마리아\n",
      "나이는 무엇인가요?20\n",
      "주소는 무엇인가요?서울시 강남구\n",
      "이름이 무엇인가요?제임스\n",
      "나이는 무엇인가요?21\n",
      "주소는 무엇인가요?서울시 구로구\n",
      "첫번째 이름:마리아\n",
      "첫번째 나이:20\n",
      "첫번째 주소:서울시 강남구\n",
      "두번째 이름:제임스\n",
      "두번째 나이:21\n",
      "두번째 주소:서울시 구로구\n"
     ]
    }
   ],
   "source": [
    "person1, person2 = Person(), Person()\n",
    "person1.name = input(\"이름이 무엇인가요?\")\n",
    "person1.age = input(\"나이는 무엇인가요?\")\n",
    "person1.address = input(\"주소는 무엇인가요?\")\n",
    "person2.name = input(\"이름이 무엇인가요?\")\n",
    "person2.age = input(\"나이는 무엇인가요?\")\n",
    "person2.address = input(\"주소는 무엇인가요?\")\n",
    "\n",
    "print(\"첫번째 이름:\"+person1.name)\n",
    "print(\"첫번째 나이:\"+person1.age)\n",
    "print(\"첫번째 주소:\"+person1.address)\n",
    "print(\"두번째 이름:\"+person2.name)\n",
    "print(\"두번째 나이:\"+person2.age)\n",
    "print(\"두번째 주소:\"+person2.address)\n"
   ]
  },
  {
   "cell_type": "code",
   "execution_count": null,
   "metadata": {},
   "outputs": [],
   "source": [
    "# 다른 풀이\n",
    "class Person():\n",
    "    def __init__(self,name,age,address):\n",
    "        self.name = name\n",
    "        self.age = age\n",
    "        self.address = address\n",
    "    def Person_info(self,n):\n",
    "        print(f\"{n}번째 이름:{self.name}\\n{n}번째 나이:{self.age}\\n{n}번째 주소:{self.address}\")\n",
    "name = input(\"이름은 무엇인가요? :\")\n",
    "age = int(input(\"나이는 무엇인가요? :\"))\n",
    "address = input(\"주소는 무엇인가요? :\")\n",
    "p1 = Person(name,age,address)\n",
    "name = input(\"이름은 무엇인가요? :\")\n",
    "age = int(input(\"나이는 무엇인가요? :\"))\n",
    "address = input(\"주소는 무엇인가요? :\")\n",
    "p2 = Person(name,age,address)\n",
    "p1.Person_info(\"첫\")\n",
    "p2.Person_info(\"두\")"
   ]
  },
  {
   "cell_type": "code",
   "execution_count": null,
   "metadata": {},
   "outputs": [],
   "source": [
    "# 다른 풀이\n",
    "class Person():\n",
    "    def __init__(self):\n",
    "        self.name = input(\"이름은 무엇인가요? :\")\n",
    "        self.age = int(input(\"나이는 무엇인가요? :\"))\n",
    "        self.address = input(\"주소는 무엇인가요? :\")\n",
    "    def Person_info(self,n):\n",
    "        print(f\"{n}번째 이름:{self.name}\\n{n}번째 나이:{self.age}\\n{n}번째 주소:{self.address}\")\n",
    "p1 = Person()\n",
    "p2 = Person()\n",
    "p1.Person_info(\"첫\")\n",
    "p2.Person_info(\"두\")"
   ]
  },
  {
   "cell_type": "markdown",
   "metadata": {},
   "source": [
    "#### 비공개 속성, 메서드 실습 코드"
   ]
  },
  {
   "cell_type": "code",
   "execution_count": 59,
   "metadata": {},
   "outputs": [],
   "source": [
    "class Person3:\n",
    "    def __init__(self, name, age, address, wallet):\n",
    "        self.hello = \"안녕하세요.\"\n",
    "        self.name = name\n",
    "        self.age = age\n",
    "        self.address = address\n",
    "        self.__wallet = wallet\n",
    "    def greeting(self):\n",
    "        print(f\"{self.hello} 제 이름은 {self.name}입니다.\")"
   ]
  },
  {
   "cell_type": "code",
   "execution_count": 60,
   "metadata": {},
   "outputs": [],
   "source": [
    "jw = Person3(\"신제우\", 29, \"서울시 금천구\", 1000)"
   ]
  },
  {
   "cell_type": "code",
   "execution_count": 61,
   "metadata": {},
   "outputs": [
    {
     "name": "stdout",
     "output_type": "stream",
     "text": [
      "신제우\n"
     ]
    }
   ],
   "source": [
    "print(jw.name)"
   ]
  },
  {
   "cell_type": "code",
   "execution_count": 62,
   "metadata": {},
   "outputs": [
    {
     "name": "stdout",
     "output_type": "stream",
     "text": [
      "29\n"
     ]
    }
   ],
   "source": [
    "print(jw.age)"
   ]
  },
  {
   "cell_type": "code",
   "execution_count": 63,
   "metadata": {},
   "outputs": [
    {
     "name": "stdout",
     "output_type": "stream",
     "text": [
      "서울시 금천구\n"
     ]
    }
   ],
   "source": [
    "print(jw.address)"
   ]
  },
  {
   "cell_type": "code",
   "execution_count": null,
   "metadata": {
    "scrolled": true
   },
   "outputs": [],
   "source": [
    "# print(jw.__wallet)  # 비공개 속성은 클래스 영역 밖에서 접근이 불가하다"
   ]
  },
  {
   "cell_type": "code",
   "execution_count": 67,
   "metadata": {},
   "outputs": [],
   "source": [
    "class Person3:\n",
    "    def __init__(self, name, age, address, wallet):\n",
    "        self.hello = \"안녕하세요.\"\n",
    "        self.name = name\n",
    "        self.age = age\n",
    "        self.address = address\n",
    "        self.__wallet = wallet\n",
    "    def greeting(self):\n",
    "        print(f\"{self.hello} 제 이름은 {self.name}입니다.\")\n",
    "    def amount(self):\n",
    "        print(self.__wallet)"
   ]
  },
  {
   "cell_type": "code",
   "execution_count": 109,
   "metadata": {},
   "outputs": [],
   "source": [
    "jw = Person3(\"신제우\", 29, \"서울시 금천구\", 1000)"
   ]
  },
  {
   "cell_type": "code",
   "execution_count": 72,
   "metadata": {},
   "outputs": [
    {
     "name": "stdout",
     "output_type": "stream",
     "text": [
      "1000\n",
      "None\n"
     ]
    }
   ],
   "source": [
    "print(jw.amount())  # 비공개 속성이지만 메서드를 통해 간접적으로 접근하면 가능해지는걸 확인할 수 있다."
   ]
  },
  {
   "cell_type": "code",
   "execution_count": 82,
   "metadata": {},
   "outputs": [],
   "source": [
    "class Person3:\n",
    "    def __init__(self, name, age, address, wallet):\n",
    "        self.hello = \"안녕하세요.\"\n",
    "        self.name = name\n",
    "        self.age = age\n",
    "        self.address = address\n",
    "        self.__wallet = wallet\n",
    "    def greeting(self):\n",
    "        print(f\"{self.hello} 제 이름은 {self.name}입니다.\")\n",
    "    def amount(self):\n",
    "        print(self.__wallet)\n",
    "    def pay(self, amount):\n",
    "        if self.__wallet < amount:\n",
    "            print(\"돈이 모자랍니다.\")\n",
    "            return\n",
    "        self.__wallet -= amount\n",
    "        return self.__wallet\n",
    "        "
   ]
  },
  {
   "cell_type": "code",
   "execution_count": 110,
   "metadata": {
    "scrolled": true
   },
   "outputs": [
    {
     "data": {
      "text/plain": [
       "500"
      ]
     },
     "execution_count": 110,
     "metadata": {},
     "output_type": "execute_result"
    }
   ],
   "source": [
    "jw.pay(500)"
   ]
  },
  {
   "cell_type": "markdown",
   "metadata": {},
   "source": [
    "#### 연습 문제\n",
    "사용자로부터 체력, 마나, AP를 입력받아 옵니다. 주어진 코드에서 애니(Annie)  \n",
    "클래스를 작성하고 티버(tibbers) 스킬의 피해량이 출력되게 만들어보세요. 티버의  \n",
    "피해량은 AP * 0.65 + 400이며 AP(Ability Power, 주문력)는 마법 능력치를 뜻합니다."
   ]
  },
  {
   "cell_type": "code",
   "execution_count": 89,
   "metadata": {},
   "outputs": [],
   "source": [
    "class Annie:\n",
    "    def __init__(self):\n",
    "        global health, mana, ap\n",
    "        health, mana, ap = self.input(\"체력, 마나, AP를 입력하세요.\").split()\n",
    "    def damage(self, ap):\n",
    "        return print(f\"티버: 피해량 {ap * 0.65 + 400}\")\n"
   ]
  },
  {
   "cell_type": "code",
   "execution_count": null,
   "metadata": {},
   "outputs": [],
   "source": [
    "# Annie() # AttributeError"
   ]
  },
  {
   "cell_type": "code",
   "execution_count": 112,
   "metadata": {},
   "outputs": [],
   "source": [
    "class Annie:\n",
    "    def __init__(self):\n",
    "        self.health, self.mana, self.AP = map(float, input(\"체력, 마나, AP를 입력하세요.\").split())\n",
    "    def tiber(self):\n",
    "        print(f\"티버: 피해량 {self.AP * 0.65 + 400}\")\n"
   ]
  },
  {
   "cell_type": "code",
   "execution_count": 116,
   "metadata": {},
   "outputs": [
    {
     "name": "stdout",
     "output_type": "stream",
     "text": [
      "체력, 마나, AP를 입력하세요.222 222 222\n",
      "티버: 피해량 544.3\n"
     ]
    }
   ],
   "source": [
    "annie = Annie()\n",
    "annie.tiber()"
   ]
  },
  {
   "cell_type": "markdown",
   "metadata": {},
   "source": [
    "### 클래스 속성"
   ]
  },
  {
   "cell_type": "code",
   "execution_count": 117,
   "metadata": {},
   "outputs": [],
   "source": [
    "class Person3:\n",
    "    org = \"Play Data\"   # 클래스 속성  \n",
    "    def __init__(self, name, age, address, wallet):\n",
    "        self.hello = \"안녕하세요.\"\n",
    "        self.name = name\n",
    "        self.age = age\n",
    "        self.address = address\n",
    "        self.__wallet = wallet\n",
    "    def greeting(self):\n",
    "        print(f\"{self.hello} 제 이름은 {self.name}입니다.\")\n",
    "    def amount(self):\n",
    "        print(self.__wallet)\n",
    "    def pay(self, amount):\n",
    "        if self.__wallet < amount:\n",
    "            print(\"돈이 모자랍니다.\")\n",
    "            return\n",
    "        self.__wallet -= amount\n",
    "        return self.__wallet\n",
    "        "
   ]
  },
  {
   "cell_type": "code",
   "execution_count": 118,
   "metadata": {},
   "outputs": [],
   "source": [
    "jw = Person3(\"신제우\", 29, \"서울시 금천구\", 1000)"
   ]
  },
  {
   "cell_type": "code",
   "execution_count": 119,
   "metadata": {},
   "outputs": [
    {
     "data": {
      "text/plain": [
       "'Play Data'"
      ]
     },
     "execution_count": 119,
     "metadata": {},
     "output_type": "execute_result"
    }
   ],
   "source": [
    "jw.org"
   ]
  },
  {
   "cell_type": "code",
   "execution_count": 120,
   "metadata": {},
   "outputs": [],
   "source": [
    "ygh = Person3(\"윤규헌\", 26, \"경기도 광명\", 1000000)"
   ]
  },
  {
   "cell_type": "code",
   "execution_count": 121,
   "metadata": {},
   "outputs": [
    {
     "data": {
      "text/plain": [
       "'Play Data'"
      ]
     },
     "execution_count": 121,
     "metadata": {},
     "output_type": "execute_result"
    }
   ],
   "source": [
    "ygh.org"
   ]
  },
  {
   "cell_type": "code",
   "execution_count": 122,
   "metadata": {},
   "outputs": [],
   "source": [
    "Person3.org = \"Study Data\""
   ]
  },
  {
   "cell_type": "code",
   "execution_count": 123,
   "metadata": {},
   "outputs": [
    {
     "name": "stdout",
     "output_type": "stream",
     "text": [
      "Study Data\n",
      "Study Data\n"
     ]
    }
   ],
   "source": [
    "print(jw.org)\n",
    "print(ygh.org)  # 클래스 인스턴스의 속성이 다 같이 바뀐다."
   ]
  },
  {
   "cell_type": "markdown",
   "metadata": {},
   "source": [
    "self를 먼저 찾고 그 다음에 클래스 속성을 찾는다."
   ]
  },
  {
   "cell_type": "markdown",
   "metadata": {},
   "source": [
    "#### 다른 method"
   ]
  },
  {
   "cell_type": "code",
   "execution_count": 117,
   "metadata": {},
   "outputs": [],
   "source": [
    "class Person3:\n",
    "    org = \"Play Data\"    \n",
    "    def __init__(self, name, age, address, wallet):\n",
    "        self.hello = \"안녕하세요.\"\n",
    "        self.name = name\n",
    "        self.age = age\n",
    "        self.address = address\n",
    "        self.__wallet = wallet\n",
    "    def greeting(self):\n",
    "        print(f\"{self.hello} 제 이름은 {self.name}입니다.\")\n",
    "    def amount(self):\n",
    "        print(self.__wallet)\n",
    "    @staticmethod \n",
    "    def pay(amount):       # self 없이, cls도 없이\n",
    "        if self.__wallet < amount:\n",
    "            print(\"돈이 모자랍니다.\")\n",
    "            return\n",
    "        self.__wallet -= amount\n",
    "        return self.__wallet\n",
    "    @classmethod\n",
    "    def from_string(cls, string):\n",
    "        name, age, address, __wallet = string.split(',')\n",
    "        return cls(name, age, address, __wallet)"
   ]
  }
 ],
 "metadata": {
  "kernelspec": {
   "display_name": "Python 3 (ipykernel)",
   "language": "python",
   "name": "python3"
  },
  "language_info": {
   "codemirror_mode": {
    "name": "ipython",
    "version": 3
   },
   "file_extension": ".py",
   "mimetype": "text/x-python",
   "name": "python",
   "nbconvert_exporter": "python",
   "pygments_lexer": "ipython3",
   "version": "3.9.13"
  },
  "vscode": {
   "interpreter": {
    "hash": "7f3124b86b953d827ebe31858c9d7d57fd1033c1acdaf6cbd0987152aea75cb0"
   }
  }
 },
 "nbformat": 4,
 "nbformat_minor": 2
}
