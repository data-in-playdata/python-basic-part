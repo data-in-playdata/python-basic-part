{
 "cells": [
  {
   "cell_type": "code",
   "execution_count": 1,
   "id": "6654f8a6-489c-490b-bf9b-d61aea33b4ff",
   "metadata": {},
   "outputs": [],
   "source": [
    "import pandas as pd\n",
    "import seaborn as sns\n",
    "import numpy as np\n",
    "import matplotlib as mpl\n",
    "import matplotlib.pyplot as plt"
   ]
  },
  {
   "cell_type": "code",
   "execution_count": 2,
   "id": "c2458f27-cc40-429d-b070-6eb88891d018",
   "metadata": {},
   "outputs": [
    {
     "data": {
      "text/html": [
       "<div>\n",
       "<style scoped>\n",
       "    .dataframe tbody tr th:only-of-type {\n",
       "        vertical-align: middle;\n",
       "    }\n",
       "\n",
       "    .dataframe tbody tr th {\n",
       "        vertical-align: top;\n",
       "    }\n",
       "\n",
       "    .dataframe thead th {\n",
       "        text-align: right;\n",
       "    }\n",
       "</style>\n",
       "<table border=\"1\" class=\"dataframe\">\n",
       "  <thead>\n",
       "    <tr style=\"text-align: right;\">\n",
       "      <th></th>\n",
       "      <th>MainBranch</th>\n",
       "      <th>Employment</th>\n",
       "      <th>RemoteWork</th>\n",
       "      <th>CodingActivities</th>\n",
       "      <th>EdLevel</th>\n",
       "      <th>LearnCode</th>\n",
       "      <th>LearnCodeOnline</th>\n",
       "      <th>LearnCodeCoursesCert</th>\n",
       "      <th>YearsCode</th>\n",
       "      <th>YearsCodePro</th>\n",
       "      <th>...</th>\n",
       "      <th>TimeSearching</th>\n",
       "      <th>TimeAnswering</th>\n",
       "      <th>Onboarding</th>\n",
       "      <th>ProfessionalTech</th>\n",
       "      <th>TrueFalse_1</th>\n",
       "      <th>TrueFalse_2</th>\n",
       "      <th>TrueFalse_3</th>\n",
       "      <th>SurveyLength</th>\n",
       "      <th>SurveyEase</th>\n",
       "      <th>ConvertedCompYearly</th>\n",
       "    </tr>\n",
       "    <tr>\n",
       "      <th>ResponseId</th>\n",
       "      <th></th>\n",
       "      <th></th>\n",
       "      <th></th>\n",
       "      <th></th>\n",
       "      <th></th>\n",
       "      <th></th>\n",
       "      <th></th>\n",
       "      <th></th>\n",
       "      <th></th>\n",
       "      <th></th>\n",
       "      <th></th>\n",
       "      <th></th>\n",
       "      <th></th>\n",
       "      <th></th>\n",
       "      <th></th>\n",
       "      <th></th>\n",
       "      <th></th>\n",
       "      <th></th>\n",
       "      <th></th>\n",
       "      <th></th>\n",
       "      <th></th>\n",
       "    </tr>\n",
       "  </thead>\n",
       "  <tbody>\n",
       "    <tr>\n",
       "      <th>1</th>\n",
       "      <td>None of these</td>\n",
       "      <td>NaN</td>\n",
       "      <td>NaN</td>\n",
       "      <td>NaN</td>\n",
       "      <td>NaN</td>\n",
       "      <td>NaN</td>\n",
       "      <td>NaN</td>\n",
       "      <td>NaN</td>\n",
       "      <td>NaN</td>\n",
       "      <td>NaN</td>\n",
       "      <td>...</td>\n",
       "      <td>NaN</td>\n",
       "      <td>NaN</td>\n",
       "      <td>NaN</td>\n",
       "      <td>NaN</td>\n",
       "      <td>NaN</td>\n",
       "      <td>NaN</td>\n",
       "      <td>NaN</td>\n",
       "      <td>NaN</td>\n",
       "      <td>NaN</td>\n",
       "      <td>NaN</td>\n",
       "    </tr>\n",
       "    <tr>\n",
       "      <th>2</th>\n",
       "      <td>I am a developer by profession</td>\n",
       "      <td>Employed, full-time</td>\n",
       "      <td>Fully remote</td>\n",
       "      <td>Hobby;Contribute to open-source projects</td>\n",
       "      <td>NaN</td>\n",
       "      <td>NaN</td>\n",
       "      <td>NaN</td>\n",
       "      <td>NaN</td>\n",
       "      <td>NaN</td>\n",
       "      <td>NaN</td>\n",
       "      <td>...</td>\n",
       "      <td>NaN</td>\n",
       "      <td>NaN</td>\n",
       "      <td>NaN</td>\n",
       "      <td>NaN</td>\n",
       "      <td>NaN</td>\n",
       "      <td>NaN</td>\n",
       "      <td>NaN</td>\n",
       "      <td>Too long</td>\n",
       "      <td>Difficult</td>\n",
       "      <td>NaN</td>\n",
       "    </tr>\n",
       "    <tr>\n",
       "      <th>3</th>\n",
       "      <td>I am not primarily a developer, but I write co...</td>\n",
       "      <td>Employed, full-time</td>\n",
       "      <td>Hybrid (some remote, some in-person)</td>\n",
       "      <td>Hobby</td>\n",
       "      <td>Master’s degree (M.A., M.S., M.Eng., MBA, etc.)</td>\n",
       "      <td>Books / Physical media;Friend or family member...</td>\n",
       "      <td>Technical documentation;Blogs;Programming Game...</td>\n",
       "      <td>NaN</td>\n",
       "      <td>14</td>\n",
       "      <td>5</td>\n",
       "      <td>...</td>\n",
       "      <td>NaN</td>\n",
       "      <td>NaN</td>\n",
       "      <td>NaN</td>\n",
       "      <td>NaN</td>\n",
       "      <td>NaN</td>\n",
       "      <td>NaN</td>\n",
       "      <td>NaN</td>\n",
       "      <td>Appropriate in length</td>\n",
       "      <td>Neither easy nor difficult</td>\n",
       "      <td>40205.0</td>\n",
       "    </tr>\n",
       "    <tr>\n",
       "      <th>4</th>\n",
       "      <td>I am a developer by profession</td>\n",
       "      <td>Employed, full-time</td>\n",
       "      <td>Fully remote</td>\n",
       "      <td>I don’t code outside of work</td>\n",
       "      <td>Bachelor’s degree (B.A., B.S., B.Eng., etc.)</td>\n",
       "      <td>Books / Physical media;School (i.e., Universit...</td>\n",
       "      <td>NaN</td>\n",
       "      <td>NaN</td>\n",
       "      <td>20</td>\n",
       "      <td>17</td>\n",
       "      <td>...</td>\n",
       "      <td>NaN</td>\n",
       "      <td>NaN</td>\n",
       "      <td>NaN</td>\n",
       "      <td>NaN</td>\n",
       "      <td>NaN</td>\n",
       "      <td>NaN</td>\n",
       "      <td>NaN</td>\n",
       "      <td>Appropriate in length</td>\n",
       "      <td>Easy</td>\n",
       "      <td>215232.0</td>\n",
       "    </tr>\n",
       "    <tr>\n",
       "      <th>5</th>\n",
       "      <td>I am a developer by profession</td>\n",
       "      <td>Employed, full-time</td>\n",
       "      <td>Hybrid (some remote, some in-person)</td>\n",
       "      <td>Hobby</td>\n",
       "      <td>Bachelor’s degree (B.A., B.S., B.Eng., etc.)</td>\n",
       "      <td>Other online resources (e.g., videos, blogs, f...</td>\n",
       "      <td>Technical documentation;Blogs;Stack Overflow;O...</td>\n",
       "      <td>NaN</td>\n",
       "      <td>8</td>\n",
       "      <td>3</td>\n",
       "      <td>...</td>\n",
       "      <td>NaN</td>\n",
       "      <td>NaN</td>\n",
       "      <td>NaN</td>\n",
       "      <td>NaN</td>\n",
       "      <td>NaN</td>\n",
       "      <td>NaN</td>\n",
       "      <td>NaN</td>\n",
       "      <td>Too long</td>\n",
       "      <td>Easy</td>\n",
       "      <td>NaN</td>\n",
       "    </tr>\n",
       "    <tr>\n",
       "      <th>...</th>\n",
       "      <td>...</td>\n",
       "      <td>...</td>\n",
       "      <td>...</td>\n",
       "      <td>...</td>\n",
       "      <td>...</td>\n",
       "      <td>...</td>\n",
       "      <td>...</td>\n",
       "      <td>...</td>\n",
       "      <td>...</td>\n",
       "      <td>...</td>\n",
       "      <td>...</td>\n",
       "      <td>...</td>\n",
       "      <td>...</td>\n",
       "      <td>...</td>\n",
       "      <td>...</td>\n",
       "      <td>...</td>\n",
       "      <td>...</td>\n",
       "      <td>...</td>\n",
       "      <td>...</td>\n",
       "      <td>...</td>\n",
       "      <td>...</td>\n",
       "    </tr>\n",
       "    <tr>\n",
       "      <th>73264</th>\n",
       "      <td>I am a developer by profession</td>\n",
       "      <td>Employed, full-time</td>\n",
       "      <td>Fully remote</td>\n",
       "      <td>Freelance/contract work</td>\n",
       "      <td>Bachelor’s degree (B.A., B.S., B.Eng., etc.)</td>\n",
       "      <td>Books / Physical media;Other online resources ...</td>\n",
       "      <td>Technical documentation;Blogs;Written Tutorial...</td>\n",
       "      <td>Udemy</td>\n",
       "      <td>8</td>\n",
       "      <td>5</td>\n",
       "      <td>...</td>\n",
       "      <td>30-60 minutes a day</td>\n",
       "      <td>Less than 15 minutes a day</td>\n",
       "      <td>Just right</td>\n",
       "      <td>DevOps function;Microservices;Developer portal...</td>\n",
       "      <td>Yes</td>\n",
       "      <td>Yes</td>\n",
       "      <td>Yes</td>\n",
       "      <td>Too long</td>\n",
       "      <td>Easy</td>\n",
       "      <td>NaN</td>\n",
       "    </tr>\n",
       "    <tr>\n",
       "      <th>73265</th>\n",
       "      <td>I am a developer by profession</td>\n",
       "      <td>Employed, full-time</td>\n",
       "      <td>Full in-person</td>\n",
       "      <td>Hobby</td>\n",
       "      <td>Master’s degree (M.A., M.S., M.Eng., MBA, etc.)</td>\n",
       "      <td>Other online resources (e.g., videos, blogs, f...</td>\n",
       "      <td>Technical documentation;Blogs;Written Tutorial...</td>\n",
       "      <td>Coursera;Udemy;Udacity</td>\n",
       "      <td>6</td>\n",
       "      <td>5</td>\n",
       "      <td>...</td>\n",
       "      <td>15-30 minutes a day</td>\n",
       "      <td>60-120 minutes a day</td>\n",
       "      <td>Very long</td>\n",
       "      <td>None of these</td>\n",
       "      <td>No</td>\n",
       "      <td>Yes</td>\n",
       "      <td>Yes</td>\n",
       "      <td>Too long</td>\n",
       "      <td>Easy</td>\n",
       "      <td>NaN</td>\n",
       "    </tr>\n",
       "    <tr>\n",
       "      <th>73266</th>\n",
       "      <td>I am not primarily a developer, but I write co...</td>\n",
       "      <td>Employed, full-time</td>\n",
       "      <td>Hybrid (some remote, some in-person)</td>\n",
       "      <td>Hobby;School or academic work</td>\n",
       "      <td>Bachelor’s degree (B.A., B.S., B.Eng., etc.)</td>\n",
       "      <td>Books / Physical media;Other online resources ...</td>\n",
       "      <td>Technical documentation;Programming Games;Stac...</td>\n",
       "      <td>Udemy;Codecademy;Pluralsight;edX</td>\n",
       "      <td>42</td>\n",
       "      <td>33</td>\n",
       "      <td>...</td>\n",
       "      <td>30-60 minutes a day</td>\n",
       "      <td>60-120 minutes a day</td>\n",
       "      <td>Just right</td>\n",
       "      <td>None of these</td>\n",
       "      <td>No</td>\n",
       "      <td>No</td>\n",
       "      <td>No</td>\n",
       "      <td>Appropriate in length</td>\n",
       "      <td>Easy</td>\n",
       "      <td>NaN</td>\n",
       "    </tr>\n",
       "    <tr>\n",
       "      <th>73267</th>\n",
       "      <td>I am a developer by profession</td>\n",
       "      <td>Employed, full-time</td>\n",
       "      <td>Hybrid (some remote, some in-person)</td>\n",
       "      <td>Hobby</td>\n",
       "      <td>Bachelor’s degree (B.A., B.S., B.Eng., etc.)</td>\n",
       "      <td>Books / Physical media;On the job training</td>\n",
       "      <td>NaN</td>\n",
       "      <td>NaN</td>\n",
       "      <td>50</td>\n",
       "      <td>31</td>\n",
       "      <td>...</td>\n",
       "      <td>NaN</td>\n",
       "      <td>NaN</td>\n",
       "      <td>NaN</td>\n",
       "      <td>NaN</td>\n",
       "      <td>NaN</td>\n",
       "      <td>NaN</td>\n",
       "      <td>NaN</td>\n",
       "      <td>Appropriate in length</td>\n",
       "      <td>Easy</td>\n",
       "      <td>NaN</td>\n",
       "    </tr>\n",
       "    <tr>\n",
       "      <th>73268</th>\n",
       "      <td>I used to be a developer by profession, but no...</td>\n",
       "      <td>Independent contractor, freelancer, or self-em...</td>\n",
       "      <td>Fully remote</td>\n",
       "      <td>Hobby;Contribute to open-source projects;Boots...</td>\n",
       "      <td>Bachelor’s degree (B.A., B.S., B.Eng., etc.)</td>\n",
       "      <td>Books / Physical media;Friend or family member...</td>\n",
       "      <td>Technical documentation;Blogs;Programming Game...</td>\n",
       "      <td>Udemy;Pluralsight</td>\n",
       "      <td>16</td>\n",
       "      <td>5</td>\n",
       "      <td>...</td>\n",
       "      <td>NaN</td>\n",
       "      <td>NaN</td>\n",
       "      <td>NaN</td>\n",
       "      <td>NaN</td>\n",
       "      <td>NaN</td>\n",
       "      <td>NaN</td>\n",
       "      <td>NaN</td>\n",
       "      <td>Appropriate in length</td>\n",
       "      <td>Easy</td>\n",
       "      <td>NaN</td>\n",
       "    </tr>\n",
       "  </tbody>\n",
       "</table>\n",
       "<p>73268 rows × 78 columns</p>\n",
       "</div>"
      ],
      "text/plain": [
       "                                                   MainBranch  \\\n",
       "ResponseId                                                      \n",
       "1                                               None of these   \n",
       "2                              I am a developer by profession   \n",
       "3           I am not primarily a developer, but I write co...   \n",
       "4                              I am a developer by profession   \n",
       "5                              I am a developer by profession   \n",
       "...                                                       ...   \n",
       "73264                          I am a developer by profession   \n",
       "73265                          I am a developer by profession   \n",
       "73266       I am not primarily a developer, but I write co...   \n",
       "73267                          I am a developer by profession   \n",
       "73268       I used to be a developer by profession, but no...   \n",
       "\n",
       "                                                   Employment  \\\n",
       "ResponseId                                                      \n",
       "1                                                         NaN   \n",
       "2                                         Employed, full-time   \n",
       "3                                         Employed, full-time   \n",
       "4                                         Employed, full-time   \n",
       "5                                         Employed, full-time   \n",
       "...                                                       ...   \n",
       "73264                                     Employed, full-time   \n",
       "73265                                     Employed, full-time   \n",
       "73266                                     Employed, full-time   \n",
       "73267                                     Employed, full-time   \n",
       "73268       Independent contractor, freelancer, or self-em...   \n",
       "\n",
       "                                      RemoteWork  \\\n",
       "ResponseId                                         \n",
       "1                                            NaN   \n",
       "2                                   Fully remote   \n",
       "3           Hybrid (some remote, some in-person)   \n",
       "4                                   Fully remote   \n",
       "5           Hybrid (some remote, some in-person)   \n",
       "...                                          ...   \n",
       "73264                               Fully remote   \n",
       "73265                             Full in-person   \n",
       "73266       Hybrid (some remote, some in-person)   \n",
       "73267       Hybrid (some remote, some in-person)   \n",
       "73268                               Fully remote   \n",
       "\n",
       "                                             CodingActivities  \\\n",
       "ResponseId                                                      \n",
       "1                                                         NaN   \n",
       "2                    Hobby;Contribute to open-source projects   \n",
       "3                                                       Hobby   \n",
       "4                                I don’t code outside of work   \n",
       "5                                                       Hobby   \n",
       "...                                                       ...   \n",
       "73264                                 Freelance/contract work   \n",
       "73265                                                   Hobby   \n",
       "73266                           Hobby;School or academic work   \n",
       "73267                                                   Hobby   \n",
       "73268       Hobby;Contribute to open-source projects;Boots...   \n",
       "\n",
       "                                                    EdLevel  \\\n",
       "ResponseId                                                    \n",
       "1                                                       NaN   \n",
       "2                                                       NaN   \n",
       "3           Master’s degree (M.A., M.S., M.Eng., MBA, etc.)   \n",
       "4              Bachelor’s degree (B.A., B.S., B.Eng., etc.)   \n",
       "5              Bachelor’s degree (B.A., B.S., B.Eng., etc.)   \n",
       "...                                                     ...   \n",
       "73264          Bachelor’s degree (B.A., B.S., B.Eng., etc.)   \n",
       "73265       Master’s degree (M.A., M.S., M.Eng., MBA, etc.)   \n",
       "73266          Bachelor’s degree (B.A., B.S., B.Eng., etc.)   \n",
       "73267          Bachelor’s degree (B.A., B.S., B.Eng., etc.)   \n",
       "73268          Bachelor’s degree (B.A., B.S., B.Eng., etc.)   \n",
       "\n",
       "                                                    LearnCode  \\\n",
       "ResponseId                                                      \n",
       "1                                                         NaN   \n",
       "2                                                         NaN   \n",
       "3           Books / Physical media;Friend or family member...   \n",
       "4           Books / Physical media;School (i.e., Universit...   \n",
       "5           Other online resources (e.g., videos, blogs, f...   \n",
       "...                                                       ...   \n",
       "73264       Books / Physical media;Other online resources ...   \n",
       "73265       Other online resources (e.g., videos, blogs, f...   \n",
       "73266       Books / Physical media;Other online resources ...   \n",
       "73267              Books / Physical media;On the job training   \n",
       "73268       Books / Physical media;Friend or family member...   \n",
       "\n",
       "                                              LearnCodeOnline  \\\n",
       "ResponseId                                                      \n",
       "1                                                         NaN   \n",
       "2                                                         NaN   \n",
       "3           Technical documentation;Blogs;Programming Game...   \n",
       "4                                                         NaN   \n",
       "5           Technical documentation;Blogs;Stack Overflow;O...   \n",
       "...                                                       ...   \n",
       "73264       Technical documentation;Blogs;Written Tutorial...   \n",
       "73265       Technical documentation;Blogs;Written Tutorial...   \n",
       "73266       Technical documentation;Programming Games;Stac...   \n",
       "73267                                                     NaN   \n",
       "73268       Technical documentation;Blogs;Programming Game...   \n",
       "\n",
       "                        LearnCodeCoursesCert YearsCode YearsCodePro  ...  \\\n",
       "ResponseId                                                           ...   \n",
       "1                                        NaN       NaN          NaN  ...   \n",
       "2                                        NaN       NaN          NaN  ...   \n",
       "3                                        NaN        14            5  ...   \n",
       "4                                        NaN        20           17  ...   \n",
       "5                                        NaN         8            3  ...   \n",
       "...                                      ...       ...          ...  ...   \n",
       "73264                                  Udemy         8            5  ...   \n",
       "73265                 Coursera;Udemy;Udacity         6            5  ...   \n",
       "73266       Udemy;Codecademy;Pluralsight;edX        42           33  ...   \n",
       "73267                                    NaN        50           31  ...   \n",
       "73268                      Udemy;Pluralsight        16            5  ...   \n",
       "\n",
       "                  TimeSearching               TimeAnswering  Onboarding  \\\n",
       "ResponseId                                                                \n",
       "1                           NaN                         NaN         NaN   \n",
       "2                           NaN                         NaN         NaN   \n",
       "3                           NaN                         NaN         NaN   \n",
       "4                           NaN                         NaN         NaN   \n",
       "5                           NaN                         NaN         NaN   \n",
       "...                         ...                         ...         ...   \n",
       "73264       30-60 minutes a day  Less than 15 minutes a day  Just right   \n",
       "73265       15-30 minutes a day        60-120 minutes a day   Very long   \n",
       "73266       30-60 minutes a day        60-120 minutes a day  Just right   \n",
       "73267                       NaN                         NaN         NaN   \n",
       "73268                       NaN                         NaN         NaN   \n",
       "\n",
       "                                             ProfessionalTech TrueFalse_1  \\\n",
       "ResponseId                                                                  \n",
       "1                                                         NaN         NaN   \n",
       "2                                                         NaN         NaN   \n",
       "3                                                         NaN         NaN   \n",
       "4                                                         NaN         NaN   \n",
       "5                                                         NaN         NaN   \n",
       "...                                                       ...         ...   \n",
       "73264       DevOps function;Microservices;Developer portal...         Yes   \n",
       "73265                                           None of these          No   \n",
       "73266                                           None of these          No   \n",
       "73267                                                     NaN         NaN   \n",
       "73268                                                     NaN         NaN   \n",
       "\n",
       "           TrueFalse_2  TrueFalse_3           SurveyLength  \\\n",
       "ResponseId                                                   \n",
       "1                  NaN          NaN                    NaN   \n",
       "2                  NaN          NaN               Too long   \n",
       "3                  NaN          NaN  Appropriate in length   \n",
       "4                  NaN          NaN  Appropriate in length   \n",
       "5                  NaN          NaN               Too long   \n",
       "...                ...          ...                    ...   \n",
       "73264              Yes          Yes               Too long   \n",
       "73265              Yes          Yes               Too long   \n",
       "73266               No           No  Appropriate in length   \n",
       "73267              NaN          NaN  Appropriate in length   \n",
       "73268              NaN          NaN  Appropriate in length   \n",
       "\n",
       "                            SurveyEase ConvertedCompYearly  \n",
       "ResponseId                                                  \n",
       "1                                  NaN                 NaN  \n",
       "2                            Difficult                 NaN  \n",
       "3           Neither easy nor difficult             40205.0  \n",
       "4                                 Easy            215232.0  \n",
       "5                                 Easy                 NaN  \n",
       "...                                ...                 ...  \n",
       "73264                             Easy                 NaN  \n",
       "73265                             Easy                 NaN  \n",
       "73266                             Easy                 NaN  \n",
       "73267                             Easy                 NaN  \n",
       "73268                             Easy                 NaN  \n",
       "\n",
       "[73268 rows x 78 columns]"
      ]
     },
     "execution_count": 2,
     "metadata": {},
     "output_type": "execute_result"
    }
   ],
   "source": [
    "survey_raw_df = pd.read_csv('../data/stack-overflow-developer-survey-2022/survey_results_public.csv', index_col=\"ResponseId\")\n",
    "survey_raw_df"
   ]
  },
  {
   "cell_type": "code",
   "execution_count": 3,
   "id": "a7464e1a-295a-47ec-b9f2-f2c0c0715b75",
   "metadata": {},
   "outputs": [
    {
     "data": {
      "text/plain": [
       "qname\n",
       "S0             <div><span style=\"font-size:19px;\"><strong>Hel...\n",
       "MetaInfo                                       Browser Meta Info\n",
       "S1             <span style=\"font-size:22px; font-family: aria...\n",
       "MainBranch     Which of the following options best describes ...\n",
       "Employment     Which of the following best describes your cur...\n",
       "                                     ...                        \n",
       "Frequency_2    Interacting with people outside of your immedi...\n",
       "Frequency_3    Encountering knowledge silos (where one indivi...\n",
       "TrueFalse_1    Are you involved in supporting new hires durin...\n",
       "TrueFalse_2    Do you use learning resources provided by your...\n",
       "TrueFalse_3    Does your employer give you time to learn new ...\n",
       "Name: question, Length: 79, dtype: object"
      ]
     },
     "execution_count": 3,
     "metadata": {},
     "output_type": "execute_result"
    }
   ],
   "source": [
    "schema_raw = pd.read_csv('../data/stack-overflow-developer-survey-2022/survey_results_schema.csv', index_col=\"qname\")[\"question\"]\n",
    "schema_raw"
   ]
  },
  {
   "cell_type": "code",
   "execution_count": 4,
   "id": "64a1f33b-b051-48bd-8854-d753b9f5d138",
   "metadata": {},
   "outputs": [
    {
     "data": {
      "text/plain": [
       "'What is your current total compensation (salary, bonuses, and perks, before taxes and deductions)? Please enter a whole number in the box below, without any punctuation.  If you are paid hourly, please estimate an equivalent weekly, monthly, or yearly salary. If you prefer not to answer, please leave the box empty.'"
      ]
     },
     "execution_count": 4,
     "metadata": {},
     "output_type": "execute_result"
    }
   ],
   "source": [
    "schema_raw[\"CompTotal\"]"
   ]
  },
  {
   "cell_type": "code",
   "execution_count": 5,
   "id": "5c35d5bd-838b-4ccd-833c-40bbed434753",
   "metadata": {},
   "outputs": [
    {
     "data": {
      "text/plain": [
       "'Is that compensation weekly, monthly, or yearly?'"
      ]
     },
     "execution_count": 5,
     "metadata": {},
     "output_type": "execute_result"
    }
   ],
   "source": [
    "schema_raw[\"CompFreq\"]"
   ]
  },
  {
   "cell_type": "code",
   "execution_count": 6,
   "id": "e44facb0-0bf5-4b57-8af1-9dce5ec93aa3",
   "metadata": {},
   "outputs": [
    {
     "name": "stdout",
     "output_type": "stream",
     "text": [
      "<class 'pandas.core.frame.DataFrame'>\n",
      "Int64Index: 73268 entries, 1 to 73268\n",
      "Data columns (total 78 columns):\n",
      " #   Column                          Non-Null Count  Dtype  \n",
      "---  ------                          --------------  -----  \n",
      " 0   MainBranch                      73268 non-null  object \n",
      " 1   Employment                      71709 non-null  object \n",
      " 2   RemoteWork                      58958 non-null  object \n",
      " 3   CodingActivities                58899 non-null  object \n",
      " 4   EdLevel                         71571 non-null  object \n",
      " 5   LearnCode                       71580 non-null  object \n",
      " 6   LearnCodeOnline                 50685 non-null  object \n",
      " 7   LearnCodeCoursesCert            29389 non-null  object \n",
      " 8   YearsCode                       71331 non-null  object \n",
      " 9   YearsCodePro                    51833 non-null  object \n",
      " 10  DevType                         61302 non-null  object \n",
      " 11  OrgSize                         51039 non-null  object \n",
      " 12  PurchaseInfluence               50969 non-null  object \n",
      " 13  BuyNewTool                      67963 non-null  object \n",
      " 14  Country                         71771 non-null  object \n",
      " 15  Currency                        51264 non-null  object \n",
      " 16  CompTotal                       38422 non-null  float64\n",
      " 17  CompFreq                        44425 non-null  object \n",
      " 18  LanguageHaveWorkedWith          70975 non-null  object \n",
      " 19  LanguageWantToWorkWith          67027 non-null  object \n",
      " 20  DatabaseHaveWorkedWith          60121 non-null  object \n",
      " 21  DatabaseWantToWorkWith          51014 non-null  object \n",
      " 22  PlatformHaveWorkedWith          49924 non-null  object \n",
      " 23  PlatformWantToWorkWith          40415 non-null  object \n",
      " 24  WebframeHaveWorkedWith          53544 non-null  object \n",
      " 25  WebframeWantToWorkWith          46122 non-null  object \n",
      " 26  MiscTechHaveWorkedWith          44992 non-null  object \n",
      " 27  MiscTechWantToWorkWith          36810 non-null  object \n",
      " 28  ToolsTechHaveWorkedWith         54171 non-null  object \n",
      " 29  ToolsTechWantToWorkWith         46566 non-null  object \n",
      " 30  NEWCollabToolsHaveWorkedWith    70347 non-null  object \n",
      " 31  NEWCollabToolsWantToWorkWith    64108 non-null  object \n",
      " 32  OpSysProfessional use           65503 non-null  object \n",
      " 33  OpSysPersonal use               70963 non-null  object \n",
      " 34  VersionControlSystem            71379 non-null  object \n",
      " 35  VCInteraction                   68156 non-null  object \n",
      " 36  VCHostingPersonal use           0 non-null      float64\n",
      " 37  VCHostingProfessional use       0 non-null      float64\n",
      " 38  OfficeStackAsyncHaveWorkedWith  46223 non-null  object \n",
      " 39  OfficeStackAsyncWantToWorkWith  32072 non-null  object \n",
      " 40  OfficeStackSyncHaveWorkedWith   62128 non-null  object \n",
      " 41  OfficeStackSyncWantToWorkWith   47688 non-null  object \n",
      " 42  Blockchain                      71071 non-null  object \n",
      " 43  NEWSOSites                      71365 non-null  object \n",
      " 44  SOVisitFreq                     70961 non-null  object \n",
      " 45  SOAccount                       71572 non-null  object \n",
      " 46  SOPartFreq                      58229 non-null  object \n",
      " 47  SOComm                          71408 non-null  object \n",
      " 48  Age                             70946 non-null  object \n",
      " 49  Gender                          70853 non-null  object \n",
      " 50  Trans                           70315 non-null  object \n",
      " 51  Sexuality                       66565 non-null  object \n",
      " 52  Ethnicity                       69474 non-null  object \n",
      " 53  Accessibility                   67244 non-null  object \n",
      " 54  MentalHealth                    66447 non-null  object \n",
      " 55  TBranch                         52670 non-null  object \n",
      " 56  ICorPM                          36283 non-null  object \n",
      " 57  WorkExp                         36769 non-null  float64\n",
      " 58  Knowledge_1                     35804 non-null  object \n",
      " 59  Knowledge_2                     34973 non-null  object \n",
      " 60  Knowledge_3                     35133 non-null  object \n",
      " 61  Knowledge_4                     35097 non-null  object \n",
      " 62  Knowledge_5                     35014 non-null  object \n",
      " 63  Knowledge_6                     34991 non-null  object \n",
      " 64  Knowledge_7                     34977 non-null  object \n",
      " 65  Frequency_1                     35371 non-null  object \n",
      " 66  Frequency_2                     35344 non-null  object \n",
      " 67  Frequency_3                     34515 non-null  object \n",
      " 68  TimeSearching                   36198 non-null  object \n",
      " 69  TimeAnswering                   36022 non-null  object \n",
      " 70  Onboarding                      35679 non-null  object \n",
      " 71  ProfessionalTech                34906 non-null  object \n",
      " 72  TrueFalse_1                     35819 non-null  object \n",
      " 73  TrueFalse_2                     35715 non-null  object \n",
      " 74  TrueFalse_3                     35749 non-null  object \n",
      " 75  SurveyLength                    70444 non-null  object \n",
      " 76  SurveyEase                      70508 non-null  object \n",
      " 77  ConvertedCompYearly             38071 non-null  float64\n",
      "dtypes: float64(5), object(73)\n",
      "memory usage: 44.2+ MB\n"
     ]
    }
   ],
   "source": [
    "survey_raw_df.info()"
   ]
  },
  {
   "cell_type": "code",
   "execution_count": 7,
   "id": "4030be6b-bcff-4968-804b-6280658a0f44",
   "metadata": {},
   "outputs": [],
   "source": [
    "pd.set_option('display.max_columns', 78)\n",
    "pd.set_option('display.max_rows', 78)"
   ]
  },
  {
   "cell_type": "code",
   "execution_count": 8,
   "id": "fa64e331-9f4f-4b5e-b0b3-1b5ace443cf4",
   "metadata": {},
   "outputs": [],
   "source": [
    "selected_columns = [\n",
    "    # 인구 통계\n",
    "    'Country',\n",
    "    'Age',\n",
    "    'Gender',\n",
    "    'EdLevel',\n",
    "    # 프로그래밍 경험\n",
    "    'YearsCode',\n",
    "    'YearsCodePro',\n",
    "    'LanguageHaveWorkedWith',\n",
    "    'LanguageWantToWorkWith',\n",
    "    'LearnCodeCoursesCert',\n",
    "    'ProfessionalTech',\n",
    "    'SOAccount',\n",
    "    # 고용 관련 정보\n",
    "    'Employment',\n",
    "    'DevType',\n",
    "    'WorkExp',\n",
    "]"
   ]
  },
  {
   "cell_type": "code",
   "execution_count": 9,
   "id": "eb9caeca-6749-47fd-a16a-855427baa010",
   "metadata": {},
   "outputs": [
    {
     "data": {
      "text/html": [
       "<div>\n",
       "<style scoped>\n",
       "    .dataframe tbody tr th:only-of-type {\n",
       "        vertical-align: middle;\n",
       "    }\n",
       "\n",
       "    .dataframe tbody tr th {\n",
       "        vertical-align: top;\n",
       "    }\n",
       "\n",
       "    .dataframe thead th {\n",
       "        text-align: right;\n",
       "    }\n",
       "</style>\n",
       "<table border=\"1\" class=\"dataframe\">\n",
       "  <thead>\n",
       "    <tr style=\"text-align: right;\">\n",
       "      <th></th>\n",
       "      <th>Country</th>\n",
       "      <th>Age</th>\n",
       "      <th>Gender</th>\n",
       "      <th>EdLevel</th>\n",
       "      <th>YearsCode</th>\n",
       "      <th>YearsCodePro</th>\n",
       "      <th>LanguageHaveWorkedWith</th>\n",
       "      <th>LanguageWantToWorkWith</th>\n",
       "      <th>LearnCodeCoursesCert</th>\n",
       "      <th>ProfessionalTech</th>\n",
       "      <th>SOAccount</th>\n",
       "      <th>Employment</th>\n",
       "      <th>DevType</th>\n",
       "      <th>WorkExp</th>\n",
       "    </tr>\n",
       "    <tr>\n",
       "      <th>ResponseId</th>\n",
       "      <th></th>\n",
       "      <th></th>\n",
       "      <th></th>\n",
       "      <th></th>\n",
       "      <th></th>\n",
       "      <th></th>\n",
       "      <th></th>\n",
       "      <th></th>\n",
       "      <th></th>\n",
       "      <th></th>\n",
       "      <th></th>\n",
       "      <th></th>\n",
       "      <th></th>\n",
       "      <th></th>\n",
       "    </tr>\n",
       "  </thead>\n",
       "  <tbody>\n",
       "    <tr>\n",
       "      <th>1</th>\n",
       "      <td>NaN</td>\n",
       "      <td>NaN</td>\n",
       "      <td>NaN</td>\n",
       "      <td>NaN</td>\n",
       "      <td>NaN</td>\n",
       "      <td>NaN</td>\n",
       "      <td>NaN</td>\n",
       "      <td>NaN</td>\n",
       "      <td>NaN</td>\n",
       "      <td>NaN</td>\n",
       "      <td>NaN</td>\n",
       "      <td>NaN</td>\n",
       "      <td>NaN</td>\n",
       "      <td>NaN</td>\n",
       "    </tr>\n",
       "    <tr>\n",
       "      <th>2</th>\n",
       "      <td>Canada</td>\n",
       "      <td>NaN</td>\n",
       "      <td>NaN</td>\n",
       "      <td>NaN</td>\n",
       "      <td>NaN</td>\n",
       "      <td>NaN</td>\n",
       "      <td>JavaScript;TypeScript</td>\n",
       "      <td>Rust;TypeScript</td>\n",
       "      <td>NaN</td>\n",
       "      <td>NaN</td>\n",
       "      <td>Yes</td>\n",
       "      <td>Employed, full-time</td>\n",
       "      <td>NaN</td>\n",
       "      <td>NaN</td>\n",
       "    </tr>\n",
       "    <tr>\n",
       "      <th>3</th>\n",
       "      <td>United Kingdom of Great Britain and Northern I...</td>\n",
       "      <td>25-34 years old</td>\n",
       "      <td>Man</td>\n",
       "      <td>Master’s degree (M.A., M.S., M.Eng., MBA, etc.)</td>\n",
       "      <td>14</td>\n",
       "      <td>5</td>\n",
       "      <td>C#;C++;HTML/CSS;JavaScript;Python</td>\n",
       "      <td>C#;C++;HTML/CSS;JavaScript;TypeScript</td>\n",
       "      <td>NaN</td>\n",
       "      <td>NaN</td>\n",
       "      <td>Yes</td>\n",
       "      <td>Employed, full-time</td>\n",
       "      <td>Data scientist or machine learning specialist;...</td>\n",
       "      <td>NaN</td>\n",
       "    </tr>\n",
       "    <tr>\n",
       "      <th>4</th>\n",
       "      <td>Israel</td>\n",
       "      <td>35-44 years old</td>\n",
       "      <td>Man</td>\n",
       "      <td>Bachelor’s degree (B.A., B.S., B.Eng., etc.)</td>\n",
       "      <td>20</td>\n",
       "      <td>17</td>\n",
       "      <td>C#;JavaScript;SQL;TypeScript</td>\n",
       "      <td>C#;SQL;TypeScript</td>\n",
       "      <td>NaN</td>\n",
       "      <td>NaN</td>\n",
       "      <td>Yes</td>\n",
       "      <td>Employed, full-time</td>\n",
       "      <td>Developer, full-stack</td>\n",
       "      <td>NaN</td>\n",
       "    </tr>\n",
       "    <tr>\n",
       "      <th>5</th>\n",
       "      <td>United States of America</td>\n",
       "      <td>25-34 years old</td>\n",
       "      <td>NaN</td>\n",
       "      <td>Bachelor’s degree (B.A., B.S., B.Eng., etc.)</td>\n",
       "      <td>8</td>\n",
       "      <td>3</td>\n",
       "      <td>C#;HTML/CSS;JavaScript;SQL;Swift;TypeScript</td>\n",
       "      <td>C#;Elixir;F#;Go;JavaScript;Rust;TypeScript</td>\n",
       "      <td>NaN</td>\n",
       "      <td>NaN</td>\n",
       "      <td>Yes</td>\n",
       "      <td>Employed, full-time</td>\n",
       "      <td>Developer, front-end;Developer, full-stack;Dev...</td>\n",
       "      <td>NaN</td>\n",
       "    </tr>\n",
       "    <tr>\n",
       "      <th>...</th>\n",
       "      <td>...</td>\n",
       "      <td>...</td>\n",
       "      <td>...</td>\n",
       "      <td>...</td>\n",
       "      <td>...</td>\n",
       "      <td>...</td>\n",
       "      <td>...</td>\n",
       "      <td>...</td>\n",
       "      <td>...</td>\n",
       "      <td>...</td>\n",
       "      <td>...</td>\n",
       "      <td>...</td>\n",
       "      <td>...</td>\n",
       "      <td>...</td>\n",
       "    </tr>\n",
       "    <tr>\n",
       "      <th>73264</th>\n",
       "      <td>Nigeria</td>\n",
       "      <td>25-34 years old</td>\n",
       "      <td>Man</td>\n",
       "      <td>Bachelor’s degree (B.A., B.S., B.Eng., etc.)</td>\n",
       "      <td>8</td>\n",
       "      <td>5</td>\n",
       "      <td>Bash/Shell;Dart;JavaScript;PHP;Python;SQL;Type...</td>\n",
       "      <td>Bash/Shell;Go;JavaScript;Python;SQL;TypeScript</td>\n",
       "      <td>Udemy</td>\n",
       "      <td>DevOps function;Microservices;Developer portal...</td>\n",
       "      <td>Yes</td>\n",
       "      <td>Employed, full-time</td>\n",
       "      <td>Developer, back-end</td>\n",
       "      <td>5.0</td>\n",
       "    </tr>\n",
       "    <tr>\n",
       "      <th>73265</th>\n",
       "      <td>United States of America</td>\n",
       "      <td>25-34 years old</td>\n",
       "      <td>Man</td>\n",
       "      <td>Master’s degree (M.A., M.S., M.Eng., MBA, etc.)</td>\n",
       "      <td>6</td>\n",
       "      <td>5</td>\n",
       "      <td>Bash/Shell;HTML/CSS;JavaScript;Python;SQL</td>\n",
       "      <td>HTML/CSS;JavaScript;Python</td>\n",
       "      <td>Coursera;Udemy;Udacity</td>\n",
       "      <td>None of these</td>\n",
       "      <td>Not sure/can't remember</td>\n",
       "      <td>Employed, full-time</td>\n",
       "      <td>Data scientist or machine learning specialist</td>\n",
       "      <td>6.0</td>\n",
       "    </tr>\n",
       "    <tr>\n",
       "      <th>73266</th>\n",
       "      <td>United States of America</td>\n",
       "      <td>55-64 years old</td>\n",
       "      <td>Man</td>\n",
       "      <td>Bachelor’s degree (B.A., B.S., B.Eng., etc.)</td>\n",
       "      <td>42</td>\n",
       "      <td>33</td>\n",
       "      <td>HTML/CSS;JavaScript;PHP;Python;SQL</td>\n",
       "      <td>C#;HTML/CSS;JavaScript;PHP;Python;SQL</td>\n",
       "      <td>Udemy;Codecademy;Pluralsight;edX</td>\n",
       "      <td>None of these</td>\n",
       "      <td>Yes</td>\n",
       "      <td>Employed, full-time</td>\n",
       "      <td>Developer, full-stack;Developer, desktop or en...</td>\n",
       "      <td>42.0</td>\n",
       "    </tr>\n",
       "    <tr>\n",
       "      <th>73267</th>\n",
       "      <td>United Kingdom of Great Britain and Northern I...</td>\n",
       "      <td>55-64 years old</td>\n",
       "      <td>Man</td>\n",
       "      <td>Bachelor’s degree (B.A., B.S., B.Eng., etc.)</td>\n",
       "      <td>50</td>\n",
       "      <td>31</td>\n",
       "      <td>C#;Delphi;VBA</td>\n",
       "      <td>Delphi</td>\n",
       "      <td>NaN</td>\n",
       "      <td>NaN</td>\n",
       "      <td>Yes</td>\n",
       "      <td>Employed, full-time</td>\n",
       "      <td>Developer, front-end;Developer, desktop or ent...</td>\n",
       "      <td>NaN</td>\n",
       "    </tr>\n",
       "    <tr>\n",
       "      <th>73268</th>\n",
       "      <td>Canada</td>\n",
       "      <td>25-34 years old</td>\n",
       "      <td>Man</td>\n",
       "      <td>Bachelor’s degree (B.A., B.S., B.Eng., etc.)</td>\n",
       "      <td>16</td>\n",
       "      <td>5</td>\n",
       "      <td>C#;JavaScript;Lua;PowerShell;SQL;TypeScript</td>\n",
       "      <td>PowerShell;Rust;TypeScript</td>\n",
       "      <td>Udemy;Pluralsight</td>\n",
       "      <td>NaN</td>\n",
       "      <td>Yes</td>\n",
       "      <td>Independent contractor, freelancer, or self-em...</td>\n",
       "      <td>Developer, front-end;Engineer, data;Engineer, ...</td>\n",
       "      <td>NaN</td>\n",
       "    </tr>\n",
       "  </tbody>\n",
       "</table>\n",
       "<p>73268 rows × 14 columns</p>\n",
       "</div>"
      ],
      "text/plain": [
       "                                                      Country  \\\n",
       "ResponseId                                                      \n",
       "1                                                         NaN   \n",
       "2                                                      Canada   \n",
       "3           United Kingdom of Great Britain and Northern I...   \n",
       "4                                                      Israel   \n",
       "5                                    United States of America   \n",
       "...                                                       ...   \n",
       "73264                                                 Nigeria   \n",
       "73265                                United States of America   \n",
       "73266                                United States of America   \n",
       "73267       United Kingdom of Great Britain and Northern I...   \n",
       "73268                                                  Canada   \n",
       "\n",
       "                        Age Gender  \\\n",
       "ResponseId                           \n",
       "1                       NaN    NaN   \n",
       "2                       NaN    NaN   \n",
       "3           25-34 years old    Man   \n",
       "4           35-44 years old    Man   \n",
       "5           25-34 years old    NaN   \n",
       "...                     ...    ...   \n",
       "73264       25-34 years old    Man   \n",
       "73265       25-34 years old    Man   \n",
       "73266       55-64 years old    Man   \n",
       "73267       55-64 years old    Man   \n",
       "73268       25-34 years old    Man   \n",
       "\n",
       "                                                    EdLevel YearsCode  \\\n",
       "ResponseId                                                              \n",
       "1                                                       NaN       NaN   \n",
       "2                                                       NaN       NaN   \n",
       "3           Master’s degree (M.A., M.S., M.Eng., MBA, etc.)        14   \n",
       "4              Bachelor’s degree (B.A., B.S., B.Eng., etc.)        20   \n",
       "5              Bachelor’s degree (B.A., B.S., B.Eng., etc.)         8   \n",
       "...                                                     ...       ...   \n",
       "73264          Bachelor’s degree (B.A., B.S., B.Eng., etc.)         8   \n",
       "73265       Master’s degree (M.A., M.S., M.Eng., MBA, etc.)         6   \n",
       "73266          Bachelor’s degree (B.A., B.S., B.Eng., etc.)        42   \n",
       "73267          Bachelor’s degree (B.A., B.S., B.Eng., etc.)        50   \n",
       "73268          Bachelor’s degree (B.A., B.S., B.Eng., etc.)        16   \n",
       "\n",
       "           YearsCodePro                             LanguageHaveWorkedWith  \\\n",
       "ResponseId                                                                   \n",
       "1                   NaN                                                NaN   \n",
       "2                   NaN                              JavaScript;TypeScript   \n",
       "3                     5                  C#;C++;HTML/CSS;JavaScript;Python   \n",
       "4                    17                       C#;JavaScript;SQL;TypeScript   \n",
       "5                     3        C#;HTML/CSS;JavaScript;SQL;Swift;TypeScript   \n",
       "...                 ...                                                ...   \n",
       "73264                 5  Bash/Shell;Dart;JavaScript;PHP;Python;SQL;Type...   \n",
       "73265                 5          Bash/Shell;HTML/CSS;JavaScript;Python;SQL   \n",
       "73266                33                 HTML/CSS;JavaScript;PHP;Python;SQL   \n",
       "73267                31                                      C#;Delphi;VBA   \n",
       "73268                 5        C#;JavaScript;Lua;PowerShell;SQL;TypeScript   \n",
       "\n",
       "                                    LanguageWantToWorkWith  \\\n",
       "ResponseId                                                   \n",
       "1                                                      NaN   \n",
       "2                                          Rust;TypeScript   \n",
       "3                    C#;C++;HTML/CSS;JavaScript;TypeScript   \n",
       "4                                        C#;SQL;TypeScript   \n",
       "5               C#;Elixir;F#;Go;JavaScript;Rust;TypeScript   \n",
       "...                                                    ...   \n",
       "73264       Bash/Shell;Go;JavaScript;Python;SQL;TypeScript   \n",
       "73265                           HTML/CSS;JavaScript;Python   \n",
       "73266                C#;HTML/CSS;JavaScript;PHP;Python;SQL   \n",
       "73267                                               Delphi   \n",
       "73268                           PowerShell;Rust;TypeScript   \n",
       "\n",
       "                        LearnCodeCoursesCert  \\\n",
       "ResponseId                                     \n",
       "1                                        NaN   \n",
       "2                                        NaN   \n",
       "3                                        NaN   \n",
       "4                                        NaN   \n",
       "5                                        NaN   \n",
       "...                                      ...   \n",
       "73264                                  Udemy   \n",
       "73265                 Coursera;Udemy;Udacity   \n",
       "73266       Udemy;Codecademy;Pluralsight;edX   \n",
       "73267                                    NaN   \n",
       "73268                      Udemy;Pluralsight   \n",
       "\n",
       "                                             ProfessionalTech  \\\n",
       "ResponseId                                                      \n",
       "1                                                         NaN   \n",
       "2                                                         NaN   \n",
       "3                                                         NaN   \n",
       "4                                                         NaN   \n",
       "5                                                         NaN   \n",
       "...                                                       ...   \n",
       "73264       DevOps function;Microservices;Developer portal...   \n",
       "73265                                           None of these   \n",
       "73266                                           None of these   \n",
       "73267                                                     NaN   \n",
       "73268                                                     NaN   \n",
       "\n",
       "                          SOAccount  \\\n",
       "ResponseId                            \n",
       "1                               NaN   \n",
       "2                               Yes   \n",
       "3                               Yes   \n",
       "4                               Yes   \n",
       "5                               Yes   \n",
       "...                             ...   \n",
       "73264                           Yes   \n",
       "73265       Not sure/can't remember   \n",
       "73266                           Yes   \n",
       "73267                           Yes   \n",
       "73268                           Yes   \n",
       "\n",
       "                                                   Employment  \\\n",
       "ResponseId                                                      \n",
       "1                                                         NaN   \n",
       "2                                         Employed, full-time   \n",
       "3                                         Employed, full-time   \n",
       "4                                         Employed, full-time   \n",
       "5                                         Employed, full-time   \n",
       "...                                                       ...   \n",
       "73264                                     Employed, full-time   \n",
       "73265                                     Employed, full-time   \n",
       "73266                                     Employed, full-time   \n",
       "73267                                     Employed, full-time   \n",
       "73268       Independent contractor, freelancer, or self-em...   \n",
       "\n",
       "                                                      DevType  WorkExp  \n",
       "ResponseId                                                              \n",
       "1                                                         NaN      NaN  \n",
       "2                                                         NaN      NaN  \n",
       "3           Data scientist or machine learning specialist;...      NaN  \n",
       "4                                       Developer, full-stack      NaN  \n",
       "5           Developer, front-end;Developer, full-stack;Dev...      NaN  \n",
       "...                                                       ...      ...  \n",
       "73264                                     Developer, back-end      5.0  \n",
       "73265           Data scientist or machine learning specialist      6.0  \n",
       "73266       Developer, full-stack;Developer, desktop or en...     42.0  \n",
       "73267       Developer, front-end;Developer, desktop or ent...      NaN  \n",
       "73268       Developer, front-end;Engineer, data;Engineer, ...      NaN  \n",
       "\n",
       "[73268 rows x 14 columns]"
      ]
     },
     "execution_count": 9,
     "metadata": {},
     "output_type": "execute_result"
    }
   ],
   "source": [
    "survey_df = survey_raw_df[selected_columns].copy()\n",
    "survey_df"
   ]
  },
  {
   "cell_type": "code",
   "execution_count": 10,
   "id": "99c6a136-4039-4ccc-86a6-81b3af1f1da6",
   "metadata": {},
   "outputs": [
    {
     "name": "stdout",
     "output_type": "stream",
     "text": [
      "<class 'pandas.core.frame.DataFrame'>\n",
      "Int64Index: 73268 entries, 1 to 73268\n",
      "Data columns (total 14 columns):\n",
      " #   Column                  Non-Null Count  Dtype  \n",
      "---  ------                  --------------  -----  \n",
      " 0   Country                 71771 non-null  object \n",
      " 1   Age                     70946 non-null  object \n",
      " 2   Gender                  70853 non-null  object \n",
      " 3   EdLevel                 71571 non-null  object \n",
      " 4   YearsCode               71331 non-null  object \n",
      " 5   YearsCodePro            51833 non-null  object \n",
      " 6   LanguageHaveWorkedWith  70975 non-null  object \n",
      " 7   LanguageWantToWorkWith  67027 non-null  object \n",
      " 8   LearnCodeCoursesCert    29389 non-null  object \n",
      " 9   ProfessionalTech        34906 non-null  object \n",
      " 10  SOAccount               71572 non-null  object \n",
      " 11  Employment              71709 non-null  object \n",
      " 12  DevType                 61302 non-null  object \n",
      " 13  WorkExp                 36769 non-null  float64\n",
      "dtypes: float64(1), object(13)\n",
      "memory usage: 8.4+ MB\n"
     ]
    }
   ],
   "source": [
    "survey_df.info()"
   ]
  },
  {
   "cell_type": "code",
   "execution_count": 11,
   "id": "a290a909-de0a-4d65-a6f9-b8925a1c95c3",
   "metadata": {},
   "outputs": [
    {
     "name": "stdout",
     "output_type": "stream",
     "text": [
      "Including any education, how many years have you been coding in total?\n"
     ]
    }
   ],
   "source": [
    "print(schema_raw[\"YearsCode\"])"
   ]
  },
  {
   "cell_type": "code",
   "execution_count": 12,
   "id": "9a04baa1-b507-4762-8f75-da4ebeb864ee",
   "metadata": {},
   "outputs": [
    {
     "data": {
      "text/plain": [
       "10                    5217\n",
       "5                     5193\n",
       "6                     4651\n",
       "4                     4480\n",
       "7                     4237\n",
       "8                     4227\n",
       "3                     4122\n",
       "2                     3351\n",
       "12                    2995\n",
       "15                    2962\n",
       "20                    2659\n",
       "9                     2581\n",
       "11                    1819\n",
       "14                    1811\n",
       "13                    1624\n",
       "25                    1582\n",
       "1                     1566\n",
       "Less than 1 year      1413\n",
       "16                    1406\n",
       "30                    1330\n",
       "22                    1176\n",
       "18                    1150\n",
       "17                    1080\n",
       "40                     777\n",
       "24                     752\n",
       "35                     742\n",
       "23                     644\n",
       "19                     563\n",
       "26                     489\n",
       "27                     485\n",
       "21                     483\n",
       "28                     425\n",
       "32                     371\n",
       "38                     288\n",
       "37                     277\n",
       "34                     241\n",
       "36                     236\n",
       "33                     229\n",
       "42                     216\n",
       "29                     208\n",
       "More than 50 years     172\n",
       "31                     170\n",
       "45                     167\n",
       "39                     159\n",
       "41                     143\n",
       "43                     115\n",
       "44                     104\n",
       "50                      68\n",
       "46                      57\n",
       "47                      42\n",
       "48                      41\n",
       "49                      35\n",
       "Name: YearsCode, dtype: int64"
      ]
     },
     "execution_count": 12,
     "metadata": {},
     "output_type": "execute_result"
    }
   ],
   "source": [
    "survey_df['YearsCode'].value_counts()"
   ]
  },
  {
   "cell_type": "markdown",
   "id": "1ef4571a-29c5-4c77-89d7-71c3db9758c4",
   "metadata": {},
   "source": [
    "#### 연습 문제\n",
    "해당 컬럼이 난값을 얼마나 갖는지"
   ]
  },
  {
   "cell_type": "code",
   "execution_count": 13,
   "id": "e2c59cf9-8c51-4b9e-a53a-5670e2496866",
   "metadata": {},
   "outputs": [],
   "source": [
    "def count_nan(series):\n",
    "    return len(series) - series.count()"
   ]
  },
  {
   "cell_type": "code",
   "execution_count": 14,
   "id": "684479d3-792c-42ff-8d0f-07d737f46c89",
   "metadata": {},
   "outputs": [
    {
     "data": {
      "text/plain": [
       "1937"
      ]
     },
     "execution_count": 14,
     "metadata": {},
     "output_type": "execute_result"
    }
   ],
   "source": [
    "count_nan(survey_df['YearsCode'])"
   ]
  },
  {
   "cell_type": "markdown",
   "id": "b0ed8501-411a-440e-a235-5dd4b1b00cff",
   "metadata": {},
   "source": [
    "#### 연습 문제\n",
    "이얼스코드의 레스댄 원 이어으 ㅣ값은 0으로 변경하고 모덴피프티이어스의 값은 51로 일괄적으로 변경"
   ]
  },
  {
   "cell_type": "code",
   "execution_count": 15,
   "id": "e6698b85-5468-4d16-9490-f02e3ec87cff",
   "metadata": {},
   "outputs": [
    {
     "data": {
      "text/plain": [
       "10.0    5217\n",
       "5.0     5193\n",
       "6.0     4651\n",
       "4.0     4480\n",
       "7.0     4237\n",
       "8.0     4227\n",
       "3.0     4122\n",
       "2.0     3351\n",
       "12.0    2995\n",
       "15.0    2962\n",
       "20.0    2659\n",
       "9.0     2581\n",
       "11.0    1819\n",
       "14.0    1811\n",
       "13.0    1624\n",
       "25.0    1582\n",
       "1.0     1566\n",
       "0.0     1413\n",
       "16.0    1406\n",
       "30.0    1330\n",
       "22.0    1176\n",
       "18.0    1150\n",
       "17.0    1080\n",
       "40.0     777\n",
       "24.0     752\n",
       "35.0     742\n",
       "23.0     644\n",
       "19.0     563\n",
       "26.0     489\n",
       "27.0     485\n",
       "21.0     483\n",
       "28.0     425\n",
       "32.0     371\n",
       "38.0     288\n",
       "37.0     277\n",
       "34.0     241\n",
       "36.0     236\n",
       "33.0     229\n",
       "42.0     216\n",
       "29.0     208\n",
       "51.0     172\n",
       "31.0     170\n",
       "45.0     167\n",
       "39.0     159\n",
       "41.0     143\n",
       "43.0     115\n",
       "44.0     104\n",
       "50.0      68\n",
       "46.0      57\n",
       "47.0      42\n",
       "48.0      41\n",
       "49.0      35\n",
       "Name: YearsCode, dtype: int64"
      ]
     },
     "execution_count": 15,
     "metadata": {},
     "output_type": "execute_result"
    }
   ],
   "source": [
    "survey_df[\"YearsCode\"].replace('Less than 1 year', 0, inplace=True)\n",
    "survey_df[\"YearsCode\"].replace('More than 50 years', 51, inplace=True)\n",
    "survey_df[\"YearsCode\"] = survey_df[\"YearsCode\"].astype('f')\n",
    "survey_df[\"YearsCode\"].value_counts()"
   ]
  },
  {
   "cell_type": "code",
   "execution_count": 16,
   "id": "9cf154b6-1df4-4874-9553-567f1400648c",
   "metadata": {},
   "outputs": [
    {
     "data": {
      "text/plain": [
       "ResponseId\n",
       "1         NaN\n",
       "2         NaN\n",
       "3        14.0\n",
       "4        20.0\n",
       "5         8.0\n",
       "         ... \n",
       "73264     8.0\n",
       "73265     6.0\n",
       "73266    42.0\n",
       "73267    50.0\n",
       "73268    16.0\n",
       "Name: YearsCode, Length: 73268, dtype: float32"
      ]
     },
     "execution_count": 16,
     "metadata": {},
     "output_type": "execute_result"
    }
   ],
   "source": [
    "# survey_df[\"YearsCode\"] = survey_df[\"YearsCode\"].astype('f')\n",
    "survey_df[\"YearsCode\"]"
   ]
  },
  {
   "cell_type": "code",
   "execution_count": 17,
   "id": "844e5577-3623-49cc-a73a-d57ddf1a2d1b",
   "metadata": {},
   "outputs": [
    {
     "name": "stdout",
     "output_type": "stream",
     "text": [
      "NOT including education, how many years have you coded professionally (as a part of your work)?\n"
     ]
    }
   ],
   "source": [
    "print(schema_raw['YearsCodePro'])"
   ]
  },
  {
   "cell_type": "code",
   "execution_count": 18,
   "id": "338011f0-50f6-4212-9337-5c75be5f79a9",
   "metadata": {},
   "outputs": [
    {
     "data": {
      "text/plain": [
       "21435"
      ]
     },
     "execution_count": 18,
     "metadata": {},
     "output_type": "execute_result"
    }
   ],
   "source": [
    "count_nan(survey_df['YearsCodePro'])"
   ]
  },
  {
   "cell_type": "code",
   "execution_count": 19,
   "id": "ef233579-13b5-4d39-8590-bab987148fd7",
   "metadata": {},
   "outputs": [
    {
     "data": {
      "text/plain": [
       "3                     4261\n",
       "5                     4057\n",
       "2                     3945\n",
       "4                     3884\n",
       "10                    3333\n",
       "6                     3184\n",
       "7                     2760\n",
       "8                     2646\n",
       "1                     2644\n",
       "Less than 1 year      1972\n",
       "15                    1822\n",
       "12                    1711\n",
       "9                     1583\n",
       "20                    1472\n",
       "11                    1369\n",
       "14                    1048\n",
       "22                     933\n",
       "16                     921\n",
       "13                     914\n",
       "25                     877\n",
       "18                     787\n",
       "17                     723\n",
       "30                     568\n",
       "23                     463\n",
       "24                     454\n",
       "21                     429\n",
       "19                     380\n",
       "26                     320\n",
       "27                     286\n",
       "35                     266\n",
       "28                     254\n",
       "32                     223\n",
       "40                     175\n",
       "29                     126\n",
       "33                     122\n",
       "31                     121\n",
       "34                     113\n",
       "36                     111\n",
       "37                     100\n",
       "38                      96\n",
       "42                      67\n",
       "45                      52\n",
       "39                      51\n",
       "41                      42\n",
       "More than 50 years      41\n",
       "43                      31\n",
       "44                      26\n",
       "46                      19\n",
       "48                      18\n",
       "50                      14\n",
       "47                      10\n",
       "49                       9\n",
       "Name: YearsCodePro, dtype: int64"
      ]
     },
     "execution_count": 19,
     "metadata": {},
     "output_type": "execute_result"
    }
   ],
   "source": [
    "survey_df['YearsCodePro'].value_counts()"
   ]
  },
  {
   "cell_type": "code",
   "execution_count": 20,
   "id": "afdff6e5-f455-461f-b1fc-011ed67716f5",
   "metadata": {},
   "outputs": [
    {
     "data": {
      "text/plain": [
       "3.0     4261\n",
       "5.0     4057\n",
       "2.0     3945\n",
       "4.0     3884\n",
       "10.0    3333\n",
       "6.0     3184\n",
       "7.0     2760\n",
       "8.0     2646\n",
       "1.0     2644\n",
       "0.0     1972\n",
       "15.0    1822\n",
       "12.0    1711\n",
       "9.0     1583\n",
       "20.0    1472\n",
       "11.0    1369\n",
       "14.0    1048\n",
       "22.0     933\n",
       "16.0     921\n",
       "13.0     914\n",
       "25.0     877\n",
       "18.0     787\n",
       "17.0     723\n",
       "30.0     568\n",
       "23.0     463\n",
       "24.0     454\n",
       "21.0     429\n",
       "19.0     380\n",
       "26.0     320\n",
       "27.0     286\n",
       "35.0     266\n",
       "28.0     254\n",
       "32.0     223\n",
       "40.0     175\n",
       "29.0     126\n",
       "33.0     122\n",
       "31.0     121\n",
       "34.0     113\n",
       "36.0     111\n",
       "37.0     100\n",
       "38.0      96\n",
       "42.0      67\n",
       "45.0      52\n",
       "39.0      51\n",
       "41.0      42\n",
       "51.0      41\n",
       "43.0      31\n",
       "44.0      26\n",
       "46.0      19\n",
       "48.0      18\n",
       "50.0      14\n",
       "47.0      10\n",
       "49.0       9\n",
       "Name: YearsCodePro, dtype: int64"
      ]
     },
     "execution_count": 20,
     "metadata": {},
     "output_type": "execute_result"
    }
   ],
   "source": [
    "survey_df[\"YearsCodePro\"].replace('Less than 1 year', 0, inplace=True)\n",
    "survey_df[\"YearsCodePro\"].replace('More than 50 years', 51, inplace=True)\n",
    "survey_df[\"YearsCodePro\"] = survey_df[\"YearsCodePro\"].astype('f')\n",
    "survey_df[\"YearsCodePro\"].value_counts()"
   ]
  },
  {
   "cell_type": "code",
   "execution_count": 21,
   "id": "09fd9a9e-fec9-4327-a893-813cd328f7d7",
   "metadata": {},
   "outputs": [
    {
     "data": {
      "text/html": [
       "<div>\n",
       "<style scoped>\n",
       "    .dataframe tbody tr th:only-of-type {\n",
       "        vertical-align: middle;\n",
       "    }\n",
       "\n",
       "    .dataframe tbody tr th {\n",
       "        vertical-align: top;\n",
       "    }\n",
       "\n",
       "    .dataframe thead th {\n",
       "        text-align: right;\n",
       "    }\n",
       "</style>\n",
       "<table border=\"1\" class=\"dataframe\">\n",
       "  <thead>\n",
       "    <tr style=\"text-align: right;\">\n",
       "      <th></th>\n",
       "      <th>YearsCode</th>\n",
       "      <th>YearsCodePro</th>\n",
       "      <th>WorkExp</th>\n",
       "    </tr>\n",
       "  </thead>\n",
       "  <tbody>\n",
       "    <tr>\n",
       "      <th>count</th>\n",
       "      <td>71331.000000</td>\n",
       "      <td>51833.000000</td>\n",
       "      <td>36769.000000</td>\n",
       "    </tr>\n",
       "    <tr>\n",
       "      <th>mean</th>\n",
       "      <td>12.251307</td>\n",
       "      <td>9.910270</td>\n",
       "      <td>10.242378</td>\n",
       "    </tr>\n",
       "    <tr>\n",
       "      <th>std</th>\n",
       "      <td>9.950397</td>\n",
       "      <td>8.712011</td>\n",
       "      <td>8.706850</td>\n",
       "    </tr>\n",
       "    <tr>\n",
       "      <th>min</th>\n",
       "      <td>0.000000</td>\n",
       "      <td>0.000000</td>\n",
       "      <td>0.000000</td>\n",
       "    </tr>\n",
       "    <tr>\n",
       "      <th>25%</th>\n",
       "      <td>5.000000</td>\n",
       "      <td>4.000000</td>\n",
       "      <td>4.000000</td>\n",
       "    </tr>\n",
       "    <tr>\n",
       "      <th>50%</th>\n",
       "      <td>9.000000</td>\n",
       "      <td>7.000000</td>\n",
       "      <td>8.000000</td>\n",
       "    </tr>\n",
       "    <tr>\n",
       "      <th>75%</th>\n",
       "      <td>16.000000</td>\n",
       "      <td>14.000000</td>\n",
       "      <td>15.000000</td>\n",
       "    </tr>\n",
       "    <tr>\n",
       "      <th>max</th>\n",
       "      <td>51.000000</td>\n",
       "      <td>51.000000</td>\n",
       "      <td>50.000000</td>\n",
       "    </tr>\n",
       "  </tbody>\n",
       "</table>\n",
       "</div>"
      ],
      "text/plain": [
       "          YearsCode  YearsCodePro       WorkExp\n",
       "count  71331.000000  51833.000000  36769.000000\n",
       "mean      12.251307      9.910270     10.242378\n",
       "std        9.950397      8.712011      8.706850\n",
       "min        0.000000      0.000000      0.000000\n",
       "25%        5.000000      4.000000      4.000000\n",
       "50%        9.000000      7.000000      8.000000\n",
       "75%       16.000000     14.000000     15.000000\n",
       "max       51.000000     51.000000     50.000000"
      ]
     },
     "execution_count": 21,
     "metadata": {},
     "output_type": "execute_result"
    }
   ],
   "source": [
    "survey_df.describe()"
   ]
  },
  {
   "cell_type": "markdown",
   "id": "af0a9cae-f07e-42b3-9914-7724c30fbe8e",
   "metadata": {},
   "source": [
    "### pandas.to_numeric"
   ]
  },
  {
   "cell_type": "markdown",
   "id": "cda1eeb1-2b44-4ff2-b7a5-a85c3b3abeef",
   "metadata": {},
   "source": [
    "### return previous part"
   ]
  },
  {
   "cell_type": "code",
   "execution_count": 22,
   "id": "6d52478a-11d7-432f-938c-b62c5231213a",
   "metadata": {},
   "outputs": [
    {
     "data": {
      "text/plain": [
       "'Which of the following describe you, if any? Please check all that apply.'"
      ]
     },
     "execution_count": 22,
     "metadata": {},
     "output_type": "execute_result"
    }
   ],
   "source": [
    "schema_raw['Gender']"
   ]
  },
  {
   "cell_type": "code",
   "execution_count": 23,
   "id": "e5cbc326-8a9a-45f7-a656-a6c64433c600",
   "metadata": {},
   "outputs": [
    {
     "data": {
      "text/plain": [
       "Man                                                                                   64607\n",
       "Woman                                                                                  3399\n",
       "Prefer not to say                                                                      1172\n",
       "Non-binary, genderqueer, or gender non-conforming                                       704\n",
       "Or, in your own words:                                                                  279\n",
       "Man;Non-binary, genderqueer, or gender non-conforming                                   235\n",
       "Man;Or, in your own words:                                                              171\n",
       "Woman;Non-binary, genderqueer, or gender non-conforming                                 160\n",
       "Man;Woman;Non-binary, genderqueer, or gender non-conforming                              31\n",
       "Man;Woman                                                                                24\n",
       "Man;Or, in your own words:;Woman;Non-binary, genderqueer, or gender non-conforming       18\n",
       "Or, in your own words:;Woman;Non-binary, genderqueer, or gender non-conforming           15\n",
       "Or, in your own words:;Non-binary, genderqueer, or gender non-conforming                 14\n",
       "Or, in your own words:;Woman                                                             13\n",
       "Man;Or, in your own words:;Non-binary, genderqueer, or gender non-conforming              9\n",
       "Man;Or, in your own words:;Woman                                                          2\n",
       "Name: Gender, dtype: int64"
      ]
     },
     "execution_count": 23,
     "metadata": {},
     "output_type": "execute_result"
    }
   ],
   "source": [
    "survey_df['Gender'].value_counts()"
   ]
  },
  {
   "cell_type": "markdown",
   "id": "029675ee-e26f-4f8b-9acb-b38639509e90",
   "metadata": {},
   "source": [
    "### pandas.Series.str.contains()"
   ]
  },
  {
   "cell_type": "markdown",
   "id": "5bee1502-ff50-429b-a968-13157fdcab93",
   "metadata": {},
   "source": [
    "### pandas.DataFrame.where() \n",
    "첫 인수로 받은 Bool 타입 Series에서 False 인 값들을 두번째 인수로 바꿔주는 메서드"
   ]
  },
  {
   "cell_type": "code",
   "execution_count": 24,
   "id": "3fdc5823-f798-4769-b6fe-8cfd9f37d3b4",
   "metadata": {
    "tags": []
   },
   "outputs": [],
   "source": [
    "survey_df.where(~(survey_df['Gender'].str.contains(';', na=False)), np.nan, inplace=True) # ~ : 비트연산자로 반전시키는 역할 (like not). 여기서 True를 False로, False를 True로 반전시켜준다. "
   ]
  },
  {
   "cell_type": "code",
   "execution_count": 25,
   "id": "289ec0ad-694c-4a78-9e91-33ce91997c1a",
   "metadata": {},
   "outputs": [
    {
     "data": {
      "text/plain": [
       "Man                                                  64607\n",
       "Woman                                                 3399\n",
       "Prefer not to say                                     1172\n",
       "Non-binary, genderqueer, or gender non-conforming      704\n",
       "Or, in your own words:                                 279\n",
       "Name: Gender, dtype: int64"
      ]
     },
     "execution_count": 25,
     "metadata": {},
     "output_type": "execute_result"
    }
   ],
   "source": [
    "survey_df['Gender'].value_counts()"
   ]
  },
  {
   "cell_type": "code",
   "execution_count": 53,
   "id": "07300564-7ea6-45de-a27a-0b8721345c2e",
   "metadata": {},
   "outputs": [],
   "source": [
    "# Control graph style\n",
    "\n",
    "%matplotlib inline\n",
    "sns.set_style('darkgrid')\n",
    "mpl.rcParams['font.size'] = 14\n",
    "mpl.rcParams['figure.figsize'] = (9, 5)\n",
    "mpl.rcParams['figure.facecolor'] = '#00000000'"
   ]
  },
  {
   "cell_type": "code",
   "execution_count": 54,
   "id": "8350e49d-3aa9-44b6-abea-621efd54d1a2",
   "metadata": {},
   "outputs": [
    {
     "name": "stdout",
     "output_type": "stream",
     "text": [
      "????\n",
      "Dokdo\n",
      "EF_????\n",
      "NanumGothic\n",
      "Dongle\n",
      "['????']\n"
     ]
    }
   ],
   "source": [
    "# Control font process\n",
    "import matplotlib.font_manager as font_manager\n",
    "import matplotlib as mpl\n",
    "# Add every font at the specified location\n",
    "font_dir = ['C:/Users/PlayData/AppData/Local/Microsoft/Windows/Fonts']\n",
    "for font in font_manager.findSystemFonts(fontpaths=font_dir):\n",
    "    print(mpl.font_manager.FontProperties(fname=font).get_name())\n",
    "    font_manager.fontManager.addfont(font)\n",
    "# Set font family globally\n",
    "mpl.rcParams['font.family'] = '????'\n",
    "print(mpl.rcParams['font.family'])"
   ]
  },
  {
   "cell_type": "code",
   "execution_count": 28,
   "id": "a543520b-b7f7-425e-983c-582aca5457cf",
   "metadata": {},
   "outputs": [],
   "source": [
    "# 마이너스 기호를 ASCII로 합니다.\n",
    "mpl.rcParams['axes.unicode_minus'] = False"
   ]
  },
  {
   "cell_type": "code",
   "execution_count": 29,
   "id": "a6b3b7c8-d926-446e-ad20-47eaa60bd68b",
   "metadata": {},
   "outputs": [
    {
     "data": {
      "text/plain": [
       "'Where do you live? <span style=\"font-weight: bolder;\">*</span>'"
      ]
     },
     "execution_count": 29,
     "metadata": {},
     "output_type": "execute_result"
    }
   ],
   "source": [
    "schema_raw['Country']"
   ]
  },
  {
   "cell_type": "code",
   "execution_count": 30,
   "id": "d08d9a19-06cf-4532-91f6-a4e22e1066d7",
   "metadata": {},
   "outputs": [
    {
     "data": {
      "text/plain": [
       "array([nan, 'Canada',\n",
       "       'United Kingdom of Great Britain and Northern Ireland', 'Israel',\n",
       "       'United States of America', 'Germany', 'India', 'Netherlands',\n",
       "       'Croatia', 'Australia', 'Russian Federation', 'Czech Republic',\n",
       "       'Austria', 'Serbia', 'Italy', 'Ireland', 'Poland', 'Slovenia',\n",
       "       'Iraq', 'Sweden', 'Madagascar', 'Norway', 'Taiwan',\n",
       "       'Hong Kong (S.A.R.)', 'Mexico', 'France', 'Brazil', 'Lithuania',\n",
       "       'Uruguay', 'Denmark', 'Spain', 'Egypt', 'Turkey', 'South Africa',\n",
       "       'Ukraine', 'Finland', 'Romania', 'Portugal', 'Singapore', 'Oman',\n",
       "       'Belgium', 'Chile', 'Bulgaria', 'Latvia', 'Philippines', 'Greece',\n",
       "       'Belarus', 'Saudi Arabia', 'Kenya', 'Switzerland', 'Iceland',\n",
       "       'Viet Nam', 'Thailand', 'China', 'Montenegro', 'Slovakia', 'Japan',\n",
       "       'Luxembourg', 'Turkmenistan', 'Argentina', 'Hungary', 'Tunisia',\n",
       "       'Bangladesh', 'Maldives', 'Dominican Republic', 'Jordan',\n",
       "       'Pakistan', 'Nepal', 'Iran, Islamic Republic of...', 'Indonesia',\n",
       "       'Ecuador', 'Bosnia and Herzegovina', 'Armenia', 'Colombia',\n",
       "       'Kazakhstan', 'South Korea', 'Costa Rica', 'Honduras', 'Mauritius',\n",
       "       'Estonia', 'Algeria', 'Trinidad and Tobago', 'Mali', 'Morocco',\n",
       "       'Swaziland', 'New Zealand',\n",
       "       'The former Yugoslav Republic of Macedonia', 'Afghanistan',\n",
       "       'Cyprus', 'United Arab Emirates', 'Peru', 'Uzbekistan', 'Ethiopia',\n",
       "       'Bahrain', 'Malta', 'Nicaragua', 'Andorra', 'Republic of Korea',\n",
       "       'Lebanon', 'Belize', 'Zambia', 'Bolivia', 'Malaysia', 'Sri Lanka',\n",
       "       \"Lao People's Democratic Republic\", 'Guatemala', 'Azerbaijan',\n",
       "       'Suriname', 'El Salvador', 'Syrian Arab Republic', 'Qatar',\n",
       "       'Nigeria', 'Kyrgyzstan', 'Zimbabwe', 'Rwanda', 'Georgia',\n",
       "       'Cambodia', 'Malawi', 'Yemen', 'Fiji', 'Nomadic', 'Uganda',\n",
       "       'Albania', 'Timor-Leste', 'Mongolia', 'Republic of Moldova',\n",
       "       'Tajikistan', 'Ghana', 'United Republic of Tanzania', 'Myanmar',\n",
       "       'Kuwait', 'Cameroon', 'Kosovo', 'Jamaica', 'Benin', 'Botswana',\n",
       "       'Niger', 'Palestine', 'Cape Verde', 'Libyan Arab Jamahiriya',\n",
       "       'Venezuela, Bolivarian Republic of...', 'Senegal', 'Cuba', 'Togo',\n",
       "       'Angola', 'Isle of Man', 'Panama', 'Bahamas', 'Paraguay', 'Sudan',\n",
       "       'Liberia', 'Bhutan', 'Democratic Republic of the Congo',\n",
       "       \"Côte d'Ivoire\", 'Barbados', 'Congo, Republic of the...',\n",
       "       'Namibia', 'Sierra Leone', 'Mozambique', 'Lesotho', 'Chad',\n",
       "       'North Korea', 'Antigua and Barbuda', 'Papua New Guinea', 'Palau',\n",
       "       'Somalia', 'Guinea', 'Haiti', 'Gabon', 'Mauritania', 'San Marino',\n",
       "       'Guyana', 'Saint Lucia', 'Burkina Faso', 'Brunei Darussalam',\n",
       "       'Gambia', 'Monaco', 'Djibouti', 'Seychelles', 'Solomon Islands',\n",
       "       'Saint Kitts and Nevis'], dtype=object)"
      ]
     },
     "execution_count": 30,
     "metadata": {},
     "output_type": "execute_result"
    }
   ],
   "source": [
    "survey_df['Country'].unique()"
   ]
  },
  {
   "cell_type": "code",
   "execution_count": 31,
   "id": "183c5a67-fb5c-4e87-80e2-142773bc90a1",
   "metadata": {},
   "outputs": [
    {
     "data": {
      "text/plain": [
       "180"
      ]
     },
     "execution_count": 31,
     "metadata": {},
     "output_type": "execute_result"
    }
   ],
   "source": [
    "survey_df['Country'].nunique() # nunique()메서드: 해당 데이터에서 유일한 값의 개수를 확인합니다. NaN값은 세지 않습니다."
   ]
  },
  {
   "cell_type": "markdown",
   "id": "1a5f1593-1341-4a94-a4e7-32f7ffcd2ff9",
   "metadata": {},
   "source": [
    "#### 연습 문제\n",
    "상위 15개 국가를 구현해보세요"
   ]
  },
  {
   "cell_type": "code",
   "execution_count": 32,
   "id": "2dc43b79-7fd8-41cf-ba69-c17e67780dbf",
   "metadata": {},
   "outputs": [
    {
     "data": {
      "text/plain": [
       "United States of America                                13321\n",
       "India                                                    6618\n",
       "Germany                                                  5342\n",
       "United Kingdom of Great Britain and Northern Ireland     4132\n",
       "Canada                                                   2459\n",
       "France                                                   2306\n",
       "Brazil                                                   2088\n",
       "Poland                                                   1719\n",
       "Netherlands                                              1539\n",
       "Spain                                                    1511\n",
       "Italy                                                    1504\n",
       "Australia                                                1449\n",
       "Russian Federation                                       1215\n",
       "Turkey                                                   1014\n",
       "Sweden                                                   1008\n",
       "Name: Country, dtype: int64"
      ]
     },
     "execution_count": 32,
     "metadata": {},
     "output_type": "execute_result"
    }
   ],
   "source": [
    "survey_df['Country'].value_counts().head(15)"
   ]
  },
  {
   "cell_type": "markdown",
   "id": "87aa1f3d-302f-45e2-8734-94a651251414",
   "metadata": {},
   "source": [
    "#### 연습 문제\n",
    "위 문제에서 구한 데이터들로 다음의 차트를 작성해보세요."
   ]
  },
  {
   "cell_type": "code",
   "execution_count": 38,
   "id": "619ed29e-ab79-481d-934d-34b0d258c660",
   "metadata": {},
   "outputs": [
    {
     "data": {
      "text/plain": [
       "([0, 1, 2, 3, 4, 5, 6, 7, 8, 9, 10, 11, 12, 13, 14],\n",
       " [Text(0, 0, ''),\n",
       "  Text(0, 0, ''),\n",
       "  Text(0, 0, ''),\n",
       "  Text(0, 0, ''),\n",
       "  Text(0, 0, ''),\n",
       "  Text(0, 0, ''),\n",
       "  Text(0, 0, ''),\n",
       "  Text(0, 0, ''),\n",
       "  Text(0, 0, ''),\n",
       "  Text(0, 0, ''),\n",
       "  Text(0, 0, ''),\n",
       "  Text(0, 0, ''),\n",
       "  Text(0, 0, ''),\n",
       "  Text(0, 0, ''),\n",
       "  Text(0, 0, '')])"
      ]
     },
     "execution_count": 38,
     "metadata": {},
     "output_type": "execute_result"
    },
    {
     "data": {
      "image/png": "[encoded data removed]",
      "text/plain": [
       "<Figure size 900x500 with 1 Axes>"
      ]
     },
     "metadata": {
      "needs_background": "light"
     },
     "output_type": "display_data"
    }
   ],
   "source": [
    "top15_survey_by_area = survey_df['Country'].value_counts().head(15)\n",
    "plt.bar(top15_survey_by_area.index, top15_survey_by_area.values)\n",
    "plt.xticks(rotation=90)"
   ]
  },
  {
   "cell_type": "code",
   "execution_count": 45,
   "id": "afd0c731-2f53-4899-a860-9a66380a377c",
   "metadata": {},
   "outputs": [
    {
     "data": {
      "text/plain": [
       "(array([ 0,  1,  2,  3,  4,  5,  6,  7,  8,  9, 10, 11, 12, 13, 14]),\n",
       " [Text(0, 0, 'United States of America'),\n",
       "  Text(1, 0, 'India'),\n",
       "  Text(2, 0, 'Germany'),\n",
       "  Text(3, 0, 'United Kingdom of Great Britain and Northern Ireland'),\n",
       "  Text(4, 0, 'Canada'),\n",
       "  Text(5, 0, 'France'),\n",
       "  Text(6, 0, 'Brazil'),\n",
       "  Text(7, 0, 'Poland'),\n",
       "  Text(8, 0, 'Netherlands'),\n",
       "  Text(9, 0, 'Spain'),\n",
       "  Text(10, 0, 'Italy'),\n",
       "  Text(11, 0, 'Australia'),\n",
       "  Text(12, 0, 'Russian Federation'),\n",
       "  Text(13, 0, 'Turkey'),\n",
       "  Text(14, 0, 'Sweden')])"
      ]
     },
     "execution_count": 45,
     "metadata": {},
     "output_type": "execute_result"
    },
    {
     "data": {
      "image/png": "[encoded data removed]",
      "text/plain": [
       "<Figure size 900x500 with 1 Axes>"
      ]
     },
     "metadata": {
      "needs_background": "light"
     },
     "output_type": "display_data"
    }
   ],
   "source": [
    "sns.barplot(x=top15_survey_by_area.index, y=top15_survey_by_area.values)\n",
    "plt.xticks(rotation=90)"
   ]
  },
  {
   "cell_type": "code",
   "execution_count": 44,
   "id": "6b4df03f-b1b1-4009-a833-e939ae28ac64",
   "metadata": {},
   "outputs": [
    {
     "data": {
      "text/plain": [
       "United States of America                                13321\n",
       "India                                                    6618\n",
       "Germany                                                  5342\n",
       "United Kingdom of Great Britain and Northern Ireland     4132\n",
       "Canada                                                   2459\n",
       "France                                                   2306\n",
       "Brazil                                                   2088\n",
       "Poland                                                   1719\n",
       "Netherlands                                              1539\n",
       "Spain                                                    1511\n",
       "Italy                                                    1504\n",
       "Australia                                                1449\n",
       "Russian Federation                                       1215\n",
       "Turkey                                                   1014\n",
       "Sweden                                                   1008\n",
       "Name: Country, dtype: int64"
      ]
     },
     "execution_count": 44,
     "metadata": {},
     "output_type": "execute_result"
    }
   ],
   "source": [
    "top15_survey_by_area"
   ]
  },
  {
   "cell_type": "code",
   "execution_count": 55,
   "id": "16cf898f-35ea-43a7-8a28-f424ae9a9e8e",
   "metadata": {},
   "outputs": [
    {
     "data": {
      "image/png": "[encoded data removed]",
      "text/plain": [
       "<Figure size 1200x600 with 1 Axes>"
      ]
     },
     "metadata": {
      "needs_background": "light"
     },
     "output_type": "display_data"
    }
   ],
   "source": [
    "plt.figure(figsize=(12, 6))\n",
    "plt.title('응답자의 지역')\n",
    "plt.xticks(rotation=90)\n",
    "sns.barplot(x=top15_survey_by_area.index, y=top15_survey_by_area)\n",
    "plt.ylabel('응답자 수')\n",
    "plt.show()"
   ]
  },
  {
   "cell_type": "code",
   "execution_count": 56,
   "id": "71800f52-cbd3-43d8-a98a-b63ed5397dd1",
   "metadata": {},
   "outputs": [
    {
     "data": {
      "text/plain": [
       "3011"
      ]
     },
     "execution_count": 56,
     "metadata": {},
     "output_type": "execute_result"
    }
   ],
   "source": [
    "count_nan(survey_df['Age'])"
   ]
  },
  {
   "cell_type": "code",
   "execution_count": 58,
   "id": "12454ddd-cf59-48c2-a6af-c3f5ec8fbff9",
   "metadata": {},
   "outputs": [
    {
     "data": {
      "text/plain": [
       "25-34 years old       27878\n",
       "18-24 years old       16455\n",
       "35-44 years old       13866\n",
       "45-54 years old        5250\n",
       "Under 18 years old     3775\n",
       "55-64 years old        1974\n",
       "65 years or older       547\n",
       "Prefer not to say       512\n",
       "Name: Age, dtype: int64"
      ]
     },
     "execution_count": 58,
     "metadata": {},
     "output_type": "execute_result"
    }
   ],
   "source": [
    "age_counts = survey_df['Age'].value_counts()\n",
    "age_counts"
   ]
  },
  {
   "cell_type": "code",
   "execution_count": 59,
   "id": "95250a92-3540-4911-96c7-3505e0350807",
   "metadata": {},
   "outputs": [
    {
     "data": {
      "text/plain": [
       "array([nan, '25-34 years old', '35-44 years old', 'Under 18 years old',\n",
       "       '18-24 years old', '45-54 years old', '55-64 years old',\n",
       "       '65 years or older', 'Prefer not to say'], dtype=object)"
      ]
     },
     "execution_count": 59,
     "metadata": {},
     "output_type": "execute_result"
    }
   ],
   "source": [
    "survey_df['Age'].unique()"
   ]
  },
  {
   "cell_type": "code",
   "execution_count": 60,
   "id": "a70f13c0-f8c7-482e-9f7d-555304923540",
   "metadata": {},
   "outputs": [
    {
     "data": {
      "text/plain": [
       "8"
      ]
     },
     "execution_count": 60,
     "metadata": {},
     "output_type": "execute_result"
    }
   ],
   "source": [
    "survey_df['Age'].nunique()"
   ]
  },
  {
   "cell_type": "markdown",
   "id": "226a452b-fe01-4165-a908-42f6ad6fd6f0",
   "metadata": {
    "tags": []
   },
   "source": [
    "#### 연습 문제\n",
    "연령의 분포가 한눈에 들어오도록 그래프로 출력해보세요."
   ]
  },
  {
   "cell_type": "code",
   "execution_count": 61,
   "id": "7d23befc-37d7-40a9-bae2-97448eea8cd0",
   "metadata": {},
   "outputs": [
    {
     "data": {
      "image/png": "[encoded data removed]",
      "text/plain": [
       "<Figure size 1200x600 with 1 Axes>"
      ]
     },
     "metadata": {
      "needs_background": "light"
     },
     "output_type": "display_data"
    }
   ],
   "source": [
    "plt.figure(figsize=(12, 6))\n",
    "plt.title(schema_raw['Age'])\n",
    "plt.xticks(rotation=90)\n",
    "sns.barplot(x=age_counts.index, y=age_counts, order=['Under 18 years old', '18-24 years old', '25-34 years old', \n",
    "                                                     '35-44 years old', '45-54 years old', '55-64 years old', '65 years or older',\n",
    "                                                     'Prefer not to say']\n",
    "           )\n",
    "plt.ylabel('응답자 수')\n",
    "plt.show()"
   ]
  },
  {
   "cell_type": "markdown",
   "id": "b07b4b54-c3a8-443a-8f87-dd87b4b7ef17",
   "metadata": {
    "tags": []
   },
   "source": [
    "#### 연습 문제\n",
    "앞의 Gender 데이터를 활용해서 파이 플롯을 작성해보세요."
   ]
  },
  {
   "cell_type": "code",
   "execution_count": 65,
   "id": "cc4c3a79-8341-4eeb-b723-e4cda0574054",
   "metadata": {},
   "outputs": [],
   "source": [
    "survey_gender_pie_val = survey_df['Gender'].value_counts()"
   ]
  },
  {
   "cell_type": "code",
   "execution_count": 71,
   "id": "76f3f672-c777-4629-8be5-418fd9a060c5",
   "metadata": {},
   "outputs": [
    {
     "name": "stdout",
     "output_type": "stream",
     "text": [
      "['Solarize_Light2', '_classic_test_patch', '_mpl-gallery', '_mpl-gallery-nogrid', 'bmh', 'classic', 'dark_background', 'fast', 'fivethirtyeight', 'ggplot', 'grayscale', 'seaborn', 'seaborn-bright', 'seaborn-colorblind', 'seaborn-dark', 'seaborn-dark-palette', 'seaborn-darkgrid', 'seaborn-deep', 'seaborn-muted', 'seaborn-notebook', 'seaborn-paper', 'seaborn-pastel', 'seaborn-poster', 'seaborn-talk', 'seaborn-ticks', 'seaborn-white', 'seaborn-whitegrid', 'tableau-colorblind10']\n"
     ]
    }
   ],
   "source": [
    "# matplotlib에서 적용할 수 있는 style 목록 조회\n",
    "print(plt.style.available)"
   ]
  },
  {
   "cell_type": "code",
   "execution_count": 70,
   "id": "8a54f1b8-3073-431b-acae-779464200628",
   "metadata": {},
   "outputs": [],
   "source": [
    "plt.style.use('Solarize_Light2')"
   ]
  },
  {
   "cell_type": "code",
   "execution_count": null,
   "id": "effa12d5-36e7-4b43-b114-4856a9dbf196",
   "metadata": {},
   "outputs": [],
   "source": [
    "# axes만 색상 변경하는 법\n",
    "# plt.style.use(\"default\") 로 변경해줘야 함\n",
    "mpl.rcParams[\"axes.facecolor\"] = \"white\""
   ]
  },
  {
   "cell_type": "code",
   "execution_count": 76,
   "id": "635ea9cf-55f4-40c6-9675-4bfd9c705752",
   "metadata": {},
   "outputs": [
    {
     "data": {
      "image/png": "[encoded data removed]",
      "text/plain": [
       "<Figure size 900x500 with 1 Axes>"
      ]
     },
     "metadata": {},
     "output_type": "display_data"
    }
   ],
   "source": [
    "plt.title(schema_raw['Gender'])\n",
    "plt.pie(survey_gender_pie_val, labels=survey_gender_pie_val.index, autopct='%1.1f%%', startangle=180)\n",
    "plt.show()"
   ]
  },
  {
   "cell_type": "markdown",
   "id": "c5552b7c-c09f-4400-946d-cb1322d7890f",
   "metadata": {
    "tags": []
   },
   "source": [
    "#### 연습 문제\n",
    "교육 수준 데이터를 활용해서 그래프를 작성해보세요."
   ]
  },
  {
   "cell_type": "code",
   "execution_count": 87,
   "id": "5a910af3-bcdc-43c2-a882-d6ec1749369c",
   "metadata": {},
   "outputs": [
    {
     "data": {
      "text/plain": [
       "Bachelor’s degree (B.A., B.S., B.Eng., etc.)                                          0.423962\n",
       "Master’s degree (M.A., M.S., M.Eng., MBA, etc.)                                       0.217187\n",
       "Some college/university study without earning a degree                                0.129714\n",
       "Secondary school (e.g. American high school, German Realschule or Gymnasium, etc.)    0.109609\n",
       "Associate degree (A.A., A.S., etc.)                                                   0.031335\n",
       "Other doctoral degree (Ph.D., Ed.D., etc.)                                            0.030362\n",
       "Primary/elementary school                                                             0.024930\n",
       "Something else                                                                        0.017241\n",
       "Professional degree (JD, MD, etc.)                                                    0.015660\n",
       "Name: EdLevel, dtype: float64"
      ]
     },
     "execution_count": 87,
     "metadata": {},
     "output_type": "execute_result"
    }
   ],
   "source": [
    "survey_edu_ratio = survey_df[\"EdLevel\"].value_counts(normalize=True)\n",
    "survey_edu_ratio"
   ]
  },
  {
   "cell_type": "code",
   "execution_count": 92,
   "id": "4f0d88b1-c27a-4cf2-9064-015c77577179",
   "metadata": {},
   "outputs": [
    {
     "data": {
      "text/plain": [
       "<AxesSubplot:xlabel='count', ylabel='EdLevel'>"
      ]
     },
     "execution_count": 92,
     "metadata": {},
     "output_type": "execute_result"
    },
    {
     "data": {
      "image/png": "[encoded data removed]",
      "text/plain": [
       "<Figure size 900x500 with 1 Axes>"
      ]
     },
     "metadata": {},
     "output_type": "display_data"
    }
   ],
   "source": [
    "sns.countplot(y=survey_df[\"EdLevel\"])"
   ]
  },
  {
   "cell_type": "code",
   "execution_count": 94,
   "id": "57ded0a2-e6d9-416b-856a-79f4eba979dc",
   "metadata": {},
   "outputs": [
    {
     "data": {
      "text/plain": [
       "ResponseId\n",
       "1                                                    NaN\n",
       "2                                                    NaN\n",
       "3        Master’s degree (M.A., M.S., M.Eng., MBA, etc.)\n",
       "4           Bachelor’s degree (B.A., B.S., B.Eng., etc.)\n",
       "5           Bachelor’s degree (B.A., B.S., B.Eng., etc.)\n",
       "                              ...                       \n",
       "73264       Bachelor’s degree (B.A., B.S., B.Eng., etc.)\n",
       "73265    Master’s degree (M.A., M.S., M.Eng., MBA, etc.)\n",
       "73266       Bachelor’s degree (B.A., B.S., B.Eng., etc.)\n",
       "73267       Bachelor’s degree (B.A., B.S., B.Eng., etc.)\n",
       "73268       Bachelor’s degree (B.A., B.S., B.Eng., etc.)\n",
       "Name: EdLevel, Length: 73268, dtype: object"
      ]
     },
     "execution_count": 94,
     "metadata": {},
     "output_type": "execute_result"
    }
   ],
   "source": [
    "survey_df[\"EdLevel\"]"
   ]
  },
  {
   "cell_type": "code",
   "execution_count": 101,
   "id": "2b59764f-f22d-493e-ae6a-165dba8e24c9",
   "metadata": {},
   "outputs": [
    {
     "data": {
      "image/png": "[encoded data removed]",
      "text/plain": [
       "<Figure size 900x500 with 1 Axes>"
      ]
     },
     "metadata": {},
     "output_type": "display_data"
    }
   ],
   "source": [
    "sns.barplot(y=survey_edu_ratio.index, x=survey_edu_ratio)\n",
    "plt.xlabel(\"Percentage\")\n",
    "plt.title(schema_raw[\"EdLevel\"])\n",
    "plt.show()"
   ]
  },
  {
   "cell_type": "code",
   "execution_count": 105,
   "id": "3693f414-dc9b-4872-b6de-c01d73844b72",
   "metadata": {},
   "outputs": [
    {
     "data": {
      "text/plain": [
       "Employed, full-time                                                                                               42644\n",
       "Student, full-time                                                                                                 6663\n",
       "Independent contractor, freelancer, or self-employed                                                               4941\n",
       "Employed, full-time;Independent contractor, freelancer, or self-employed                                           3456\n",
       "Not employed, but looking for work                                                                                 1810\n",
       "                                                                                                                  ...  \n",
       "Student, part-time;Independent contractor, freelancer, or self-employed;Retired                                       1\n",
       "Employed, full-time;Student, full-time;Student, part-time;Independent contractor, freelancer, or self-employed        1\n",
       "Employed, part-time;Not employed, and not looking for work                                                            1\n",
       "Employed, full-time;Student, full-time;Retired                                                                        1\n",
       "Student, part-time;Independent contractor, freelancer, or self-employed;Employed, part-time;Retired                   1\n",
       "Name: Employment, Length: 100, dtype: int64"
      ]
     },
     "execution_count": 105,
     "metadata": {},
     "output_type": "execute_result"
    }
   ],
   "source": [
    "survey_df['Employment'].value_counts()"
   ]
  },
  {
   "cell_type": "code",
   "execution_count": 109,
   "id": "25243599-3e8f-4a1c-85e3-e0c2e4a29bfb",
   "metadata": {},
   "outputs": [
    {
     "data": {
      "image/png": "[encoded data removed]",
      "text/plain": [
       "<Figure size 900x500 with 1 Axes>"
      ]
     },
     "metadata": {},
     "output_type": "display_data"
    }
   ],
   "source": [
    "survey_employ_ratio = survey_df['Employment'].value_counts(True).head(15)*100\n",
    "sns.barplot(x=survey_employ_ratio, y=survey_employ_ratio.index)\n",
    "plt.title(schema_raw[\"Employment\"])\n",
    "plt.xlabel(\"Percentage\")\n",
    "plt.show()"
   ]
  },
  {
   "cell_type": "code",
   "execution_count": null,
   "id": "3affb954-5323-45df-960e-3e00a3ba635a",
   "metadata": {},
   "outputs": [],
   "source": []
  }
 ],
 "metadata": {
  "kernelspec": {
   "display_name": "Python 3 (ipykernel)",
   "language": "python",
   "name": "python3"
  },
  "language_info": {
   "codemirror_mode": {
    "name": "ipython",
    "version": 3
   },
   "file_extension": ".py",
   "mimetype": "text/x-python",
   "name": "python",
   "nbconvert_exporter": "python",
   "pygments_lexer": "ipython3",
   "version": "3.9.13"
  }
 },
 "nbformat": 4,
 "nbformat_minor": 5
}
