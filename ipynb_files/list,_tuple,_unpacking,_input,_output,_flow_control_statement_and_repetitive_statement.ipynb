{
 "cells": [
  {
   "cell_type": "markdown",
   "id": "42edf83d-71bd-4b0b-adfb-1f435c4f491d",
   "metadata": {},
   "source": [
    "- 리스트 : 파이썬 언어에서 가장 융통성 있는 자료형 중 하나\n",
    "- 서로 다른 형의 항목들을 포함 가능, 가변(mutable)의 특성을 갖기에 수정도 용이\n",
    "- 파이썬의 리스트는 배열과 차이점이 있음"
   ]
  },
  {
   "cell_type": "markdown",
   "id": "5a6b7d4f-1489-426e-8af3-b73c60a3e74d",
   "metadata": {},
   "source": [
    "- 시퀀스 자료형은 모두 인덱싱과 슬라이싱이 가능"
   ]
  },
  {
   "cell_type": "code",
   "execution_count": 66,
   "id": "b42dd578-f38c-4064-8f0d-0130803a95e1",
   "metadata": {},
   "outputs": [
    {
     "name": "stdout",
     "output_type": "stream",
     "text": [
      "[1, 8, 27, 64, 125]\n"
     ]
    }
   ],
   "source": [
    "cubes = [1, 8, 27, 65, 125]\n",
    "cubes[3] = 4 ** 3\n",
    "print(cubes)"
   ]
  },
  {
   "cell_type": "code",
   "execution_count": 67,
   "id": "3815316b-a854-4c04-a07c-669a769e0744",
   "metadata": {},
   "outputs": [
    {
     "name": "stdout",
     "output_type": "stream",
     "text": [
      "['a', 'b', 'B', 'C', 'D']\n"
     ]
    }
   ],
   "source": [
    "letters = ['a', 'b', 'c', 'd', 'e']\n",
    "letters[2:5] = ['B', 'C', 'D']\n",
    "print(letters)"
   ]
  },
  {
   "cell_type": "code",
   "execution_count": 68,
   "id": "98cbc78a-fa86-48c1-85bf-a68311a2eec7",
   "metadata": {},
   "outputs": [
    {
     "name": "stdout",
     "output_type": "stream",
     "text": [
      "True\n",
      "False\n"
     ]
    }
   ],
   "source": [
    "# 리스트에 특정 요소가 있는지 궁금할 때\n",
    "numbers = [1, 2, 3, 4, 5, 6, 7]\n",
    "print(5 in numbers)\n",
    "print(10 in numbers)"
   ]
  },
  {
   "cell_type": "code",
   "execution_count": 69,
   "id": "8c659b30-95f9-4d45-a707-20a75d2fda46",
   "metadata": {},
   "outputs": [
    {
     "data": {
      "text/plain": [
       "128"
      ]
     },
     "execution_count": 69,
     "metadata": {},
     "output_type": "execute_result"
    }
   ],
   "source": [
    "2 ** 7"
   ]
  },
  {
   "cell_type": "code",
   "execution_count": 1,
   "id": "79b26115-dba3-4e60-a28f-e921520762ae",
   "metadata": {},
   "outputs": [
    {
     "name": "stdout",
     "output_type": "stream",
     "text": [
      "False\n"
     ]
    }
   ],
   "source": [
    "scores = [88, 73, 89, 59, 77]\n",
    "print(scores[0] >= 60 and scores[1] >= 60 and scores[2] >= 60 and scores[3] >= 60 and scores[4] >= 60)"
   ]
  },
  {
   "cell_type": "markdown",
   "id": "9c1bb12c-968b-4f7c-b1ae-08c786e532c5",
   "metadata": {},
   "source": [
    "### append로 리스트 맨 뒤에 요소를 추가할 수 있다."
   ]
  },
  {
   "cell_type": "code",
   "execution_count": 2,
   "id": "e6e74c3d-5f81-49b6-b68e-786971d5fe2a",
   "metadata": {},
   "outputs": [
    {
     "name": "stdout",
     "output_type": "stream",
     "text": [
      "[1, 2, 3, 4, 5, 6, 7, 8]\n"
     ]
    }
   ],
   "source": [
    "numbers = [1, 2, 3, 4, 5, 6, 7]\n",
    "numbers.append(8) # 리스트 맨 뒤에 추가\n",
    "print(numbers)"
   ]
  },
  {
   "cell_type": "markdown",
   "id": "9af83b7e-9529-49ed-9de2-2c2ffebeb635",
   "metadata": {},
   "source": [
    "### insert는 요소를 원하는 위치에 넣을 수 있다.\n",
    "insert(인덱스, 요소)"
   ]
  },
  {
   "cell_type": "code",
   "execution_count": 3,
   "id": "a516cb1b-4a53-4446-82d6-d5c7cddfa276",
   "metadata": {},
   "outputs": [
    {
     "name": "stdout",
     "output_type": "stream",
     "text": [
      "[0, 1, 2, 3, 0, 4, 0, 5, 6, 7, 8, 0]\n"
     ]
    }
   ],
   "source": [
    "numbers.insert(0, 0)\n",
    "numbers.insert(4, 0)\n",
    "numbers.insert(6, 0)\n",
    "numbers.insert(len(numbers), 0) # insert는 요소를 원하는 위치에 넣을 수 있다.\n",
    "print(numbers)"
   ]
  },
  {
   "cell_type": "markdown",
   "id": "f169a0c5-e331-47e3-8518-e0dfac2bc0f2",
   "metadata": {},
   "source": [
    "### extend는 리스트에 리스트를 뒤로 붙여 추가시킨다.\n",
    "리스트1.extend(리스트2)"
   ]
  },
  {
   "cell_type": "code",
   "execution_count": 4,
   "id": "4f8cbdf0-8db1-4e5e-929a-e60797eba5d1",
   "metadata": {},
   "outputs": [
    {
     "name": "stdout",
     "output_type": "stream",
     "text": [
      "[0, 1, 2, 3, 0, 4, 0, 5, 6, 7, 8, 0, 9, 10, 11]\n"
     ]
    }
   ],
   "source": [
    "numbers.extend([9, 10, 11])\n",
    "print(numbers)"
   ]
  },
  {
   "cell_type": "markdown",
   "id": "4382c20a-cff5-4230-aab7-fd36a542b152",
   "metadata": {},
   "source": [
    "### remove는 입력값과 첫 번째로 일치하는 요소를 리스트에서 삭제한다.\n",
    "remove(요소)"
   ]
  },
  {
   "cell_type": "code",
   "execution_count": 5,
   "id": "c113aa7c-2362-4423-960b-db377b1fa02b",
   "metadata": {},
   "outputs": [
    {
     "name": "stdout",
     "output_type": "stream",
     "text": [
      "[0, 1, 2, 3, 0, 4, 0, 5, 6, 7, 8, 0, 9, 10, 11]\n",
      "[1, 2, 3, 0, 4, 0, 5, 6, 7, 8, 0, 9, 10, 11]\n"
     ]
    }
   ],
   "source": [
    "print(numbers)\n",
    "numbers.remove(0)\n",
    "print(numbers)"
   ]
  },
  {
   "cell_type": "code",
   "execution_count": 6,
   "id": "e6d2ce2e-560f-42b5-bfd1-c53b5e462245",
   "metadata": {},
   "outputs": [
    {
     "name": "stdout",
     "output_type": "stream",
     "text": [
      "[2, 3, 0, 4, 0, 5, 6, 7, 8, 0, 9, 10, 11]\n"
     ]
    }
   ],
   "source": [
    "del numbers[0] # del은 인덱스 위치의 요소를 삭제한다.\n",
    "print(numbers)"
   ]
  },
  {
   "cell_type": "markdown",
   "id": "73b3979b-07e7-4447-8d1a-b0052171cfec",
   "metadata": {},
   "source": [
    "### pop은 리스트 맨 뒤의 요소를 꺼내서 반환시켜주고 제거한다."
   ]
  },
  {
   "cell_type": "code",
   "execution_count": 7,
   "id": "c5685d7d-c439-400f-aae1-eadf748af914",
   "metadata": {},
   "outputs": [
    {
     "name": "stdout",
     "output_type": "stream",
     "text": [
      "[2, 3, 0, 4, 0, 5, 6, 7, 8, 0, 9, 10, 11]\n",
      "11\n",
      "[2, 3, 0, 4, 0, 5, 6, 7, 8, 0, 9, 10]\n"
     ]
    }
   ],
   "source": [
    "print(numbers)\n",
    "print(numbers.pop())\n",
    "print(numbers)"
   ]
  },
  {
   "cell_type": "markdown",
   "id": "7feb896f-0141-4740-8dc2-630641ee9df6",
   "metadata": {},
   "source": [
    "### index(인자)는 리스트에 인자와 같은 요소를 앞에서 부터 찾는다. 제일 처음 발견된 요소의 인덱스 위치를 반환한다."
   ]
  },
  {
   "cell_type": "code",
   "execution_count": 8,
   "id": "0b809943-47da-405c-a201-d571f436974e",
   "metadata": {},
   "outputs": [
    {
     "name": "stdout",
     "output_type": "stream",
     "text": [
      "3\n"
     ]
    }
   ],
   "source": [
    "print(numbers.index(4))"
   ]
  },
  {
   "cell_type": "markdown",
   "id": "3155c6c0-4616-4c07-ac9d-02c67d2e6381",
   "metadata": {},
   "source": [
    "### count(인자)는 리스트 안에 인자와 같은 요소가 몇 개 있는지 반환해준다."
   ]
  },
  {
   "cell_type": "code",
   "execution_count": 9,
   "id": "638cefed-381a-40a3-8bc0-78f3343dfb40",
   "metadata": {},
   "outputs": [
    {
     "name": "stdout",
     "output_type": "stream",
     "text": [
      "3\n"
     ]
    }
   ],
   "source": [
    "print(numbers.count(0))"
   ]
  },
  {
   "cell_type": "markdown",
   "id": "b7758f44-f7c2-4531-ad69-fe8dcc30b94a",
   "metadata": {},
   "source": [
    "### 리스트 요소 정렬하기\n",
    "리스트.sort() : 리스트 요소를 오름차순으로 정렬한다.  \n",
    "리스트.reverse() : 리스트 요소를 거꾸로 정렬한다.  \n",
    "두 명령어 모두 반환값은 None."
   ]
  },
  {
   "cell_type": "markdown",
   "id": "580286cd-f56c-4b8c-aa6e-68872db5ebd1",
   "metadata": {},
   "source": [
    "### 리스트를 stack처럼 활용하기\n",
    "Stack은 후입선출(Last in First out)\n",
    "\n",
    "함수를 호출할 때도 Stack 구조로 이루어진다."
   ]
  },
  {
   "cell_type": "markdown",
   "id": "c3a64ce9-5720-4cfc-a5b4-a41cdfa49276",
   "metadata": {},
   "source": [
    "### 리스트 내장 함수"
   ]
  },
  {
   "attachments": {},
   "cell_type": "markdown",
   "id": "48b5214d-0e78-4703-bd18-a24335bdc820",
   "metadata": {},
   "source": [
    "|리스트 메서드(인수)|반환 값|설명|\n",
    "|--|----|------|\n",
    "append(요소)|None|리스트에서 요소 하나를 맨 마지막에 추가\n",
    "insert(인덱스, 요소)|None|리스트에서 특정 위치에 요소를 삽입\n",
    "extend(리스트)|None|리스트에서 요소 여러 개를 맨 마지막에 추가\n",
    "remove(요소)|None|입력값과 첫 번째로 일치하는 요소를 리스트에서 삭제\n",
    "pop()|마지막 요소|리스트의 마지막 요소를 제거한 후에 반환\n",
    "index(요소)|첫번째로 일치한 요소 인덱스|리스트에서 인자와 일치하는 첫 번째 요소의 위치를 반환\n",
    "count(요소)|일치하는 요소의 총 개수|리스트에서 인자와 일치하는 요소의 개수를 반환\n",
    "sort()|None|숫자나 문자열로 구성된 리스트 요소를 순방향으로 정렬\n",
    "reverse()|None|리스트 요소를 끝에서부터 역순으로 정렬\n",
    "clear()|None|리스트의 모든 요소를 제거"
   ]
  },
  {
   "cell_type": "markdown",
   "id": "c2897a91-25d4-4fb8-8de0-c55de2c8f861",
   "metadata": {
    "tags": []
   },
   "source": [
    "### 튜플 "
   ]
  },
  {
   "cell_type": "code",
   "execution_count": 10,
   "id": "dd045dde-f0da-4da4-a430-6bc404e5f98d",
   "metadata": {},
   "outputs": [
    {
     "name": "stdout",
     "output_type": "stream",
     "text": [
      "1\n"
     ]
    }
   ],
   "source": [
    "tuple_variable = (1, 2, 3, 4, 5, \"Hello\")\n",
    "print(tuple_variable[0])"
   ]
  },
  {
   "cell_type": "code",
   "execution_count": 11,
   "id": "69a93739-1d38-4ca2-aa97-c220294d9167",
   "metadata": {},
   "outputs": [],
   "source": [
    "# tuple_variable[0] = 0"
   ]
  },
  {
   "cell_type": "code",
   "execution_count": 12,
   "id": "a7a083ca-518c-4241-8ac2-f853ebe217b0",
   "metadata": {},
   "outputs": [],
   "source": [
    "# tuple_variable[0:3] = (\"Dd\", \"ww\", \"RR\")"
   ]
  },
  {
   "cell_type": "code",
   "execution_count": 13,
   "id": "6eb35a74-ac07-46a7-b6ac-2c828d7b6990",
   "metadata": {},
   "outputs": [],
   "source": [
    "# del tuple_variable[0]"
   ]
  },
  {
   "cell_type": "markdown",
   "id": "74d0bd5a-7207-40a3-a179-5703a46da7be",
   "metadata": {
    "tags": []
   },
   "source": [
    "#### 튜플 자료형은 소괄호 생략이 가능하다. 하지만 명시해서 명확하게 표현하는 것이 더 좋다."
   ]
  },
  {
   "cell_type": "code",
   "execution_count": 14,
   "id": "7645b33f-453f-493c-bf48-a525d338cca9",
   "metadata": {},
   "outputs": [],
   "source": [
    "t_v = \"음\", \"오\", \"아\", \"예\""
   ]
  },
  {
   "cell_type": "code",
   "execution_count": 15,
   "id": "da243402-17a2-4058-bdd1-1fdb50afb3d1",
   "metadata": {},
   "outputs": [
    {
     "name": "stdout",
     "output_type": "stream",
     "text": [
      "<class 'tuple'>\n"
     ]
    }
   ],
   "source": [
    "print(type(t_v))"
   ]
  },
  {
   "cell_type": "markdown",
   "id": "5e81cc30-5294-48e7-aaa4-3b20a017e74f",
   "metadata": {},
   "source": [
    "### 튜플과 리스트의 소요시간 비교"
   ]
  },
  {
   "cell_type": "code",
   "execution_count": 16,
   "id": "c135ee70-12ae-4bf3-9770-e8d59dcffbdf",
   "metadata": {},
   "outputs": [
    {
     "name": "stdout",
     "output_type": "stream",
     "text": [
      "17.64247441291809\n"
     ]
    }
   ],
   "source": [
    "# import time\n",
    "\n",
    "# curr = time.time()\n",
    "# total = []\n",
    "\n",
    "# for i in range(10000):\n",
    "#     for j in range(10000):\n",
    "#         total.append((i, j))\n",
    "# last = time.time()\n",
    "# print(last - curr)"
   ]
  },
  {
   "cell_type": "code",
   "execution_count": null,
   "id": "149c583c-0087-4c7f-a08a-2625ce73f816",
   "metadata": {},
   "outputs": [],
   "source": [
    "# import time\n",
    "\n",
    "# curr = time.time()\n",
    "# total = []\n",
    "\n",
    "# for i in range(10000):\n",
    "#     for j in range(10000):\n",
    "#         total.append([i, j])\n",
    "# last = time.time()\n",
    "# print(last - curr)"
   ]
  },
  {
   "cell_type": "markdown",
   "id": "583f60ad-bd1e-4ef2-a7be-0e197041c278",
   "metadata": {},
   "source": [
    "### Unpacking(변수 여럿에 동시 할당하기)"
   ]
  },
  {
   "cell_type": "code",
   "execution_count": null,
   "id": "688db442-3d02-4042-b0a7-684ec880a8ac",
   "metadata": {},
   "outputs": [],
   "source": [
    "s1, s2 = \"text1\", \"text2\"\n",
    "print(s1)\n",
    "print(s2)"
   ]
  },
  {
   "cell_type": "markdown",
   "id": "5a187dc5-fc38-4d24-bea4-2961c19325a8",
   "metadata": {},
   "source": [
    "#### 튜플 이외의 시퀀스 자료형도 unpacking이 가능하다."
   ]
  },
  {
   "cell_type": "code",
   "execution_count": null,
   "id": "6310682a-4900-499a-a5aa-04b865a9d135",
   "metadata": {},
   "outputs": [],
   "source": [
    "s3, s4, s5 = [\"이렇게\", \"리스트도\", \"가능합니다.\"]\n",
    "print(s3, s4, s5)"
   ]
  },
  {
   "cell_type": "code",
   "execution_count": null,
   "id": "6d3ee3f6-863d-4fd3-9dbc-408bfbb3c717",
   "metadata": {},
   "outputs": [],
   "source": [
    "s6, s7, s8, s9 = \"문자열도\"\n",
    "print(s6, s7, s8, s9)"
   ]
  },
  {
   "cell_type": "markdown",
   "id": "43b4ce5a-b075-4e00-8ed5-9f7754bf9cc7",
   "metadata": {},
   "source": [
    "### 파이썬 입력은 input() 내장 함수로 가능하다."
   ]
  },
  {
   "cell_type": "code",
   "execution_count": null,
   "id": "fe65136b-400f-48b5-b0d3-39ea8bc5739c",
   "metadata": {},
   "outputs": [],
   "source": [
    "input_value = input(\"Message\")"
   ]
  },
  {
   "cell_type": "code",
   "execution_count": null,
   "id": "47f27122-80e3-4b71-80bf-dda62a4d4e28",
   "metadata": {},
   "outputs": [],
   "source": [
    "print(\"input_value:\", input_value, \"\\ntype:\", type(input_value))"
   ]
  },
  {
   "cell_type": "markdown",
   "id": "b2fa0690-bdde-4d96-a109-9ac531f5aeb5",
   "metadata": {},
   "source": [
    "### append로 리스트 맨 뒤에 요소를 추가할 수 있다."
   ]
  },
  {
   "cell_type": "code",
   "execution_count": null,
   "id": "05f1a799-0de7-4892-b861-1c10d2f97e85",
   "metadata": {},
   "outputs": [],
   "source": [
    "numbers = [1, 2, 3, 4, 5, 6, 7]\n",
    "numbers.append(8) # 리스트 맨 뒤에 추가\n",
    "print(numbers)"
   ]
  },
  {
   "cell_type": "markdown",
   "id": "9a851f59-a64e-43fb-8598-6d0adb1bb391",
   "metadata": {},
   "source": [
    "### insert는 요소를 원하는 위치에 넣을 수 있다.\n",
    "insert(인덱스, 요소)"
   ]
  },
  {
   "cell_type": "code",
   "execution_count": null,
   "id": "aa5be2f6-8798-4e19-b083-5d7cac1704bc",
   "metadata": {},
   "outputs": [],
   "source": [
    "numbers.insert(0, 0)\n",
    "numbers.insert(4, 0)\n",
    "numbers.insert(6, 0)\n",
    "numbers.insert(len(numbers), 0) # insert는 요소를 원하는 위치에 넣을 수 있다.\n",
    "print(numbers)"
   ]
  },
  {
   "cell_type": "markdown",
   "id": "d886d460-8ae1-4485-a5a2-f3e8092d7a29",
   "metadata": {},
   "source": [
    "### extend는 리스트에 리스트를 뒤로 붙여 추가시킨다.\n",
    "리스트1.extend(리스트2)"
   ]
  },
  {
   "cell_type": "code",
   "execution_count": null,
   "id": "9ac48e72-fc8a-4183-ae19-dac0b977fcfe",
   "metadata": {},
   "outputs": [],
   "source": [
    "numbers.extend([9, 10, 11])\n",
    "print(numbers)"
   ]
  },
  {
   "cell_type": "markdown",
   "id": "c94df1f9-c5e4-448c-a83d-e52802a2c2ab",
   "metadata": {},
   "source": [
    "### remove는 입력값과 일치하는 첫번째 요소를 \n",
    "remove(인덱스 번호)  "
   ]
  },
  {
   "cell_type": "code",
   "execution_count": null,
   "id": "8d57f074-9f82-4d5a-9aeb-694b05208da5",
   "metadata": {},
   "outputs": [],
   "source": [
    "print(numbers)\n",
    "numbers.remove(0)\n",
    "print(numbers)"
   ]
  },
  {
   "cell_type": "code",
   "execution_count": null,
   "id": "96d5a9c1-568e-42b1-86fc-aff93389edb1",
   "metadata": {},
   "outputs": [],
   "source": [
    "del numbers[0]\n",
    "print(numbers)"
   ]
  },
  {
   "cell_type": "markdown",
   "id": "cc8a7310-79d7-49cc-8820-ed75b34b6cf7",
   "metadata": {},
   "source": [
    "### pop은 리스트 맨 뒤의 요소를 꺼내서 반환시켜주고 제거한다."
   ]
  },
  {
   "cell_type": "code",
   "execution_count": null,
   "id": "ae72b13f-2b54-436a-9f2e-5bd5874d8c18",
   "metadata": {},
   "outputs": [],
   "source": [
    "print(numbers)\n",
    "print(numbers.pop())\n",
    "print(numbers)"
   ]
  },
  {
   "cell_type": "markdown",
   "id": "d51bc582-ed09-4822-8806-be6a0200e8e0",
   "metadata": {},
   "source": [
    "### index(인자)는 리스트에 인자와 같은 요소를 앞에서 부터 찾는다. 제일 처음 발견된 요소의 인덱스 위치를 반환한다."
   ]
  },
  {
   "cell_type": "code",
   "execution_count": null,
   "id": "bb555203-ebf2-464f-baea-816add58a717",
   "metadata": {},
   "outputs": [],
   "source": [
    "print(numbers.index(4))"
   ]
  },
  {
   "cell_type": "markdown",
   "id": "b369d7df-d0b3-4886-97c4-4c63bc130abb",
   "metadata": {},
   "source": [
    "### count(인자)는 리스트 안에 인자와 같은 요소가 몇 개 있는지 반환해준다."
   ]
  },
  {
   "cell_type": "code",
   "execution_count": null,
   "id": "ebbd6ea0-e982-4d1b-9a3b-baf2c8bd4202",
   "metadata": {},
   "outputs": [],
   "source": [
    "print(numbers.count(0))"
   ]
  },
  {
   "cell_type": "markdown",
   "id": "2c3d5c0e-16df-43a5-a345-d1c8d3f236cb",
   "metadata": {},
   "source": [
    "### 리스트 요소 정렬하기\n",
    "리스트.sort() : 리스트 요소를 오름차순으로 정렬한다.  \n",
    "리스트.reverse() : 리스트 요소를 거꾸로 정렬한다.  \n",
    "두 명령어 모두 반환값은 None."
   ]
  },
  {
   "cell_type": "markdown",
   "id": "f2435358-de47-41e1-a402-ff0b1af2b3ab",
   "metadata": {},
   "source": [
    "### 리스트를 stack처럼 활용하기\n",
    "Stack은 후입선출(Last in First out)\n",
    "\n",
    "함수를 호출할 때도 Stack 구조로 이루어진다. ((정리하기))"
   ]
  },
  {
   "cell_type": "markdown",
   "id": "9abb6e40-c769-4063-b236-51079937075e",
   "metadata": {
    "tags": []
   },
   "source": [
    "### 튜플 "
   ]
  },
  {
   "cell_type": "code",
   "execution_count": 5,
   "id": "606f3852-85bf-4e39-a831-615b9e40b91e",
   "metadata": {},
   "outputs": [
    {
     "name": "stdout",
     "output_type": "stream",
     "text": [
      "1\n"
     ]
    }
   ],
   "source": [
    "tuple_variable = (1, 2, 3, 4, 5, \"Hello\")\n",
    "print(tuple_variable[0])"
   ]
  },
  {
   "cell_type": "markdown",
   "id": "41639575-294d-4359-8e42-107f8e30d4bc",
   "metadata": {},
   "source": [
    "### 튜플이 immutable 한 것을 확인할 수 있다."
   ]
  },
  {
   "cell_type": "code",
   "execution_count": 6,
   "id": "f1cee74f-43db-4699-a267-5ed7ec07a0e3",
   "metadata": {},
   "outputs": [
    {
     "ename": "TypeError",
     "evalue": "'tuple' object does not support item assignment",
     "output_type": "error",
     "traceback": [
      "\u001b[1;31m---------------------------------------------------------------------------\u001b[0m",
      "\u001b[1;31mTypeError\u001b[0m                                 Traceback (most recent call last)",
      "\u001b[1;32m~\\AppData\\Local\\Temp\\ipykernel_12812\\1916826345.py\u001b[0m in \u001b[0;36m<module>\u001b[1;34m\u001b[0m\n\u001b[1;32m----> 1\u001b[1;33m \u001b[0mtuple_variable\u001b[0m\u001b[1;33m[\u001b[0m\u001b[1;36m0\u001b[0m\u001b[1;33m]\u001b[0m \u001b[1;33m=\u001b[0m \u001b[1;36m0\u001b[0m\u001b[1;33m\u001b[0m\u001b[1;33m\u001b[0m\u001b[0m\n\u001b[0m",
      "\u001b[1;31mTypeError\u001b[0m: 'tuple' object does not support item assignment"
     ]
    }
   ],
   "source": [
    "tuple_variable[0] = 0"
   ]
  },
  {
   "cell_type": "code",
   "execution_count": 7,
   "id": "635dca3f-ab1e-43ca-8f76-13ae30a5ef72",
   "metadata": {},
   "outputs": [
    {
     "ename": "TypeError",
     "evalue": "'tuple' object does not support item assignment",
     "output_type": "error",
     "traceback": [
      "\u001b[1;31m---------------------------------------------------------------------------\u001b[0m",
      "\u001b[1;31mTypeError\u001b[0m                                 Traceback (most recent call last)",
      "\u001b[1;32m~\\AppData\\Local\\Temp\\ipykernel_12812\\4118453533.py\u001b[0m in \u001b[0;36m<module>\u001b[1;34m\u001b[0m\n\u001b[1;32m----> 1\u001b[1;33m \u001b[0mtuple_variable\u001b[0m\u001b[1;33m[\u001b[0m\u001b[1;36m0\u001b[0m\u001b[1;33m:\u001b[0m\u001b[1;36m3\u001b[0m\u001b[1;33m]\u001b[0m \u001b[1;33m=\u001b[0m \u001b[1;33m(\u001b[0m\u001b[1;34m\"Dd\"\u001b[0m\u001b[1;33m,\u001b[0m \u001b[1;34m\"ww\"\u001b[0m\u001b[1;33m,\u001b[0m \u001b[1;34m\"RR\"\u001b[0m\u001b[1;33m)\u001b[0m\u001b[1;33m\u001b[0m\u001b[1;33m\u001b[0m\u001b[0m\n\u001b[0m",
      "\u001b[1;31mTypeError\u001b[0m: 'tuple' object does not support item assignment"
     ]
    }
   ],
   "source": [
    "tuple_variable[0:3] = (\"Dd\", \"ww\", \"RR\")"
   ]
  },
  {
   "cell_type": "code",
   "execution_count": 8,
   "id": "4af904c3-5fcf-481b-ae86-d78daad430f6",
   "metadata": {},
   "outputs": [
    {
     "ename": "TypeError",
     "evalue": "'tuple' object doesn't support item deletion",
     "output_type": "error",
     "traceback": [
      "\u001b[1;31m---------------------------------------------------------------------------\u001b[0m",
      "\u001b[1;31mTypeError\u001b[0m                                 Traceback (most recent call last)",
      "\u001b[1;32m~\\AppData\\Local\\Temp\\ipykernel_12812\\3932902972.py\u001b[0m in \u001b[0;36m<module>\u001b[1;34m\u001b[0m\n\u001b[1;32m----> 1\u001b[1;33m \u001b[1;32mdel\u001b[0m \u001b[0mtuple_variable\u001b[0m\u001b[1;33m[\u001b[0m\u001b[1;36m0\u001b[0m\u001b[1;33m]\u001b[0m\u001b[1;33m\u001b[0m\u001b[1;33m\u001b[0m\u001b[0m\n\u001b[0m",
      "\u001b[1;31mTypeError\u001b[0m: 'tuple' object doesn't support item deletion"
     ]
    }
   ],
   "source": [
    "del tuple_variable[0]"
   ]
  },
  {
   "cell_type": "markdown",
   "id": "7367dcb3-c629-4c80-be5b-268d9bbe138c",
   "metadata": {
    "tags": []
   },
   "source": [
    "#### 튜플 자료형은 소괄호 생략이 가능하다. 하지만 명시해서 명확하게 표현하는 것이 더 좋다."
   ]
  },
  {
   "cell_type": "code",
   "execution_count": 3,
   "id": "600db0a4-4bb7-4174-9abe-d09dfd399adb",
   "metadata": {},
   "outputs": [],
   "source": [
    "t_v = \"음\", \"오\", \"아\", \"예\""
   ]
  },
  {
   "cell_type": "code",
   "execution_count": 4,
   "id": "553bba94-7c32-4578-93e5-7549ef576b3f",
   "metadata": {},
   "outputs": [
    {
     "name": "stdout",
     "output_type": "stream",
     "text": [
      "<class 'tuple'>\n"
     ]
    }
   ],
   "source": [
    "print(type(t_v))"
   ]
  },
  {
   "cell_type": "markdown",
   "id": "2485bad3-c1e6-4004-80e7-7fede167454f",
   "metadata": {},
   "source": [
    "### 튜플과 리스트의 소요시간 비교"
   ]
  },
  {
   "cell_type": "code",
   "execution_count": null,
   "id": "b7d76ab9-4390-478d-ae0e-cd3c25d5bc6d",
   "metadata": {},
   "outputs": [],
   "source": [
    "import time\n",
    "\n",
    "curr = time.time()\n",
    "total = []\n",
    "\n",
    "for i in range(1000):\n",
    "    for j in range(1000):\n",
    "        total.append((i, j))\n",
    "last = time.time()\n",
    "print(last - curr)"
   ]
  },
  {
   "cell_type": "code",
   "execution_count": null,
   "id": "8389f2da-f3e7-4813-8fce-56ad9ac2083a",
   "metadata": {},
   "outputs": [],
   "source": [
    "import time\n",
    "\n",
    "curr = time.time()\n",
    "total = []\n",
    "\n",
    "for i in range(1000):\n",
    "    for j in range(1000):\n",
    "        total.append([i, j])\n",
    "last = time.time()\n",
    "print(last - curr)"
   ]
  },
  {
   "cell_type": "markdown",
   "id": "8b4239da-28a1-4a18-b2c7-fdf925df5974",
   "metadata": {},
   "source": [
    "### Unpacking(변수 여럿에 동시 할당하기)"
   ]
  },
  {
   "cell_type": "code",
   "execution_count": 2,
   "id": "e8d3748e-e96a-4908-b378-220056711335",
   "metadata": {},
   "outputs": [
    {
     "name": "stdout",
     "output_type": "stream",
     "text": [
      "text1\n",
      "text2\n"
     ]
    }
   ],
   "source": [
    "s1, s2 = \"text1\", \"text2\"\n",
    "print(s1)\n",
    "print(s2)"
   ]
  },
  {
   "cell_type": "markdown",
   "id": "13a7a4d5-16d4-4fee-992c-cb5c0cf0d5c6",
   "metadata": {},
   "source": [
    "#### 튜플 이외의 시퀀스 자료형도 unpacking이 가능하다."
   ]
  },
  {
   "cell_type": "code",
   "execution_count": null,
   "id": "dae1c113-785f-4ec5-848c-8f64878c71e2",
   "metadata": {},
   "outputs": [],
   "source": [
    "s3, s4, s5 = [\"이렇게\", \"리스트도\", \"가능합니다.\"]\n",
    "print(s3, s4, s5)"
   ]
  },
  {
   "cell_type": "code",
   "execution_count": null,
   "id": "44e861e8-3c63-4f9e-b880-72d4866a959e",
   "metadata": {},
   "outputs": [],
   "source": [
    "s6, s7, s8, s9 = \"문자열도\"\n",
    "print(s6, s7, s8, s9)"
   ]
  },
  {
   "cell_type": "markdown",
   "id": "af103fe6-7de5-44d0-8898-72bd2b95d7d0",
   "metadata": {},
   "source": [
    "### 파이썬 입력은 input() 내장 함수로 가능하다."
   ]
  },
  {
   "cell_type": "code",
   "execution_count": null,
   "id": "06bb37b0-4065-4330-9e1b-9d4d5ecb15b5",
   "metadata": {},
   "outputs": [],
   "source": [
    "input_value = input(\"Message\")"
   ]
  },
  {
   "cell_type": "code",
   "execution_count": null,
   "id": "a23e0f26-21b6-4325-9971-f389e8e8b077",
   "metadata": {},
   "outputs": [],
   "source": [
    "print(\"input_value:\", input_value, \"\\ntype:\", type(input_value))"
   ]
  },
  {
   "cell_type": "code",
   "execution_count": null,
   "id": "86b88c28-a328-41a3-aecc-deebc9551073",
   "metadata": {},
   "outputs": [],
   "source": [
    "input_value2 = input(\"Message\")"
   ]
  },
  {
   "cell_type": "code",
   "execution_count": null,
   "id": "78e1bfc6-d12c-49ab-9db8-9e9e9764e76c",
   "metadata": {},
   "outputs": [],
   "source": [
    "input_value2 = int(input_value2) # input 입력값은 항상 str, 문자열"
   ]
  },
  {
   "cell_type": "code",
   "execution_count": null,
   "id": "87421b11-d863-43c4-bd8c-48f8f1e15e04",
   "metadata": {},
   "outputs": [],
   "source": [
    "input_value2 = float(input_value2)\n",
    "print(input_value2)"
   ]
  },
  {
   "cell_type": "code",
   "execution_count": null,
   "id": "61fd8755-4729-4947-ad09-a7299a38e386",
   "metadata": {},
   "outputs": [],
   "source": [
    "input_value2 = int(input_value2"
   ]
  },
  {
   "cell_type": "markdown",
   "id": "c491c816-3183-4050-84e1-9e6f00d1e18c",
   "metadata": {},
   "source": [
    "#### 연습문제\n",
    "사용자의 이름을 물어보고 이어서 2개의 정수를 받아서 덧셈을 한 후 결과를 출력하는 \n",
    "프로그램을 작성해보세요."
   ]
  },
  {
   "cell_type": "code",
   "execution_count": null,
   "id": "c10b17af-726f-4054-9649-773af061da90",
   "metadata": {
    "tags": []
   },
   "outputs": [],
   "source": [
    "input10 = input(\"이름을 입력하시오:\")\n",
    "print(input10, \"씨, 안녕하세요?\\n파이썬에 오신 것을 환영합니다.\")\n",
    "input11 = int(input(\"첫 번째 정수를 입력하세요:\"))\n",
    "input12 = int(input(\"두 번째 정수를 입력하세요:\"))\n",
    "print(input11, \"과\", input12, \"의 합은\", input11 + input12, \"입니다.\") # 이 라인에서 int로 변환해도 같은 결과가 나온다."
   ]
  },
  {
   "cell_type": "markdown",
   "id": "1c75f841-399b-48bb-9482-7fb870c6b0f2",
   "metadata": {},
   "source": [
    "#### 연습문제\n",
    "사용자에게 경기장, 점수, 이긴 팀, 진 팀, 우수 선수를 질문하고 변수에 저장합니다. 이들 \n",
    "문자열에 문장을 붙여서 기사를 작성해봅시다."
   ]
  },
  {
   "cell_type": "code",
   "execution_count": null,
   "id": "5e86be15-f59f-4d93-ad5e-d86b3a3e3fd7",
   "metadata": {},
   "outputs": [],
   "source": [
    "input13 = input(\"경기장은 어디입니까?\")\n",
    "input14 = input(\"이긴 팀은 어디입니까?\")\n",
    "input15 = input(\"진 팀은 어디입니까?\")\n",
    "input16 = input(\"우수 선수는 누구입니까?\")\n",
    "input17 = input(\"스코어는 몇대몇입니까?\")\n",
    "\n",
    "print(input14, \"가\", input17, \"로 승리...\", \"\\n오늘\", input13, \"경기장에서 야구 경기가 있었습니다.\\n\", input14, \"와\", input15, \"는 치열한 공방전을 펼쳤습니다.\\n이 경기에서\", input16, \"가 맹활약을 했습니다.\", \"\\n그 끝내\", input14, \"가\", input15, \"를\", input17, \"로 승리하였습니다.\\n기사 끝.\")"
   ]
  },
  {
   "cell_type": "markdown",
   "id": "40b91076-0ee3-43e3-aac2-9f08b5e9b999",
   "metadata": {},
   "source": [
    "### 입력 값을 여러 개의 변수에 저장하기"
   ]
  },
  {
   "cell_type": "code",
   "execution_count": null,
   "id": "70e998d6-cf5b-4449-8515-ea25dd72d798",
   "metadata": {},
   "outputs": [],
   "source": [
    "result = '1,2,3'.split(',')\n",
    "print(type(result))\n",
    "print(result)"
   ]
  },
  {
   "cell_type": "markdown",
   "id": "f198203e-9050-4576-9703-2b76b39c1974",
   "metadata": {},
   "source": [
    "#### 연습문제\n",
    "사용자로부터 “hh:mm:ss” 형태의 시간 값을 입력 받습니다. 예를 들면 12시 33분 23초일 \n",
    "때 “12:33:23” 과 같이 입력을 받습니다. 이 때 결과가 아래와 같게 나오도록 \n",
    "구현해보세요."
   ]
  },
  {
   "cell_type": "code",
   "execution_count": null,
   "id": "2b2f0eb0-5d90-4399-bd1f-d31a25a32af5",
   "metadata": {},
   "outputs": [],
   "source": [
    "input_time = input(\"hh:mm:ss 의 형태로 시간을 입력해주세요\")\n",
    "input_time_result = input_time.split(':')\n",
    "print(\"시 :\", input_time_result[0], \"\\n분 :\", input_time_result[1], \"\\n분 :\", input_time_result[2]) "
   ]
  },
  {
   "cell_type": "markdown",
   "id": "6e17c32f-0a23-4785-b26b-467baf1a526e",
   "metadata": {
    "tags": []
   },
   "source": [
    "### map()함수로 여러 번의 변환을 한번에 가능하다"
   ]
  },
  {
   "cell_type": "code",
   "execution_count": null,
   "id": "9fa8005b-eecc-416e-826b-337722da8fa6",
   "metadata": {},
   "outputs": [],
   "source": [
    "a = [1.2, 2.5, 3.7, 4.6]\n",
    "a = list(map(int, a))\n",
    "print(a)"
   ]
  },
  {
   "cell_type": "markdown",
   "id": "dc72297d-6b43-4641-b84b-bb6d0765bb01",
   "metadata": {},
   "source": [
    "### 연습 문제\n",
    "공무원 시험 결과가 국어, 영어, 한국사, 선택 교과1, 선택 교과2의 점수가 리스트 형태로 \n",
    "제공됩니다. 이때 한 과목이라도 60점 미만이면 과락입니다. 과락이면 False를 과락이 \n",
    "아니면 True를 출력하도록 코드를 완성해보세요."
   ]
  },
  {
   "cell_type": "code",
   "execution_count": 20,
   "id": "857153a9-3d04-49d4-b677-55df44a3cbae",
   "metadata": {},
   "outputs": [
    {
     "name": "stdout",
     "output_type": "stream",
     "text": [
      "국어, 영어, 수학, 과학 점수를 입력해주세요 98,100,96,100\n"
     ]
    },
    {
     "name": "stdout",
     "output_type": "stream",
     "text": [
      "평균 점수는 98.5 점입니다.\n"
     ]
    }
   ],
   "source": [
    "grade = input(\"국어, 영어, 수학, 과학 점수를 입력해주세요\")\n",
    "grade_result = grade.split(',')\n",
    "grade_result = list(map(int, grade_result))\n",
    "kor = grade_result[0]\n",
    "eng = grade_result[1]\n",
    "mat = grade_result[2]\n",
    "sci = grade_result[3]\n",
    "\n",
    "mean = (kor + eng + mat + sci)/4\n",
    "print(\"평균 점수는\", mean, \"점입니다.\")"
   ]
  },
  {
   "cell_type": "markdown",
   "id": "68564b97-d5b0-45a4-a57a-c20a7789c6da",
   "metadata": {},
   "source": [
    "### 파이썬 출력\n",
    "- 여러 값을 동시에 출력할 수 있다. 방법으로 ','를 사용해 separation과 함께 출력할 수 있고, '+'으로 str 끼리 concatenate 할 수 있다.\n",
    "- 값과 값을 구분하는 단위를 변경할 수 있다. default 값은 \" \" 인데 \"sep = 바꾸고 싶은 단위\"로 가능하다.\n",
    "- 출력값 마지막 부분을 변경할 수 있다. default 값으로 개행 문자가 적용되는데 \"end = 바꾸고 싶은 값\"으로 변경 가능하다.\n",
    "- 키워드는 맨 뒤에 기입해야한다."
   ]
  },
  {
   "cell_type": "markdown",
   "id": "21d709a6-39ff-41e7-b59d-a7d26c05a98d",
   "metadata": {},
   "source": [
    "#### 값과 값을 구분하는 단위 변경하기"
   ]
  },
  {
   "cell_type": "code",
   "execution_count": 21,
   "id": "3213ee79-6e81-49af-b94b-5171fee2369a",
   "metadata": {},
   "outputs": [
    {
     "name": "stdout",
     "output_type": "stream",
     "text": [
      "value, 1, 1.1, [1, 2, 'text']\n"
     ]
    }
   ],
   "source": [
    "print(\"value\", 1, 1.1, [1, 2, 'text'], sep = \", \")"
   ]
  },
  {
   "cell_type": "markdown",
   "id": "f55a7c1d-ecd4-457f-8c75-626d4a30ff8d",
   "metadata": {},
   "source": [
    "print() 에 default로 줄바꿈이 들어가도록 되어있다. 때문에 따로 줄바꿈을 하지 않아도 되는 것."
   ]
  },
  {
   "cell_type": "markdown",
   "id": "f310d0ee-2975-4074-a534-9629d47e3e11",
   "metadata": {},
   "source": [
    "키워드는 맨 뒤에"
   ]
  },
  {
   "cell_type": "markdown",
   "id": "0103b5ce-9fae-432b-ae33-4aa438227c7a",
   "metadata": {
    "tags": []
   },
   "source": [
    "#### 연습문제\n",
    "아래의 코드의 빈 줄을 완성하여 날짜와 시간이 실행 결과와 같이 출력되도록 \n",
    "구현해보세요."
   ]
  },
  {
   "cell_type": "code",
   "execution_count": 23,
   "id": "2d0c1391-4a4a-42bf-8226-a9cf4fbb5a8f",
   "metadata": {},
   "outputs": [
    {
     "name": "stdout",
     "output_type": "stream",
     "text": [
      "2021/02/03 18:33:23"
     ]
    }
   ],
   "source": [
    "year = '2021'\n",
    "month = '02'\n",
    "day = '03'\n",
    "hour = '18'\n",
    "minute = '33'\n",
    "second = '23'\n",
    "\n",
    "print(year, month, day, sep = \"/\", end = \" \")\n",
    "print(hour, minute, second, sep = \":\", end = \"\")"
   ]
  },
  {
   "cell_type": "markdown",
   "id": "f713bf1c-3ac1-4592-a599-4cbd6488e80f",
   "metadata": {
    "tags": []
   },
   "source": [
    "#### 연습문제\n",
    "사과는 하나에 1000원 귤은 하나에 200원입니다. 사과와 귤을 구매한만큼 총액을 \n",
    "계산해주는 프로그램을 구현해보세요."
   ]
  },
  {
   "cell_type": "code",
   "execution_count": 29,
   "id": "52fd28c4-83dc-49c3-b755-cdffea4697bd",
   "metadata": {},
   "outputs": [
    {
     "name": "stdout",
     "output_type": "stream",
     "text": [
      "사과와 귤을 몇개 드릴까요? 10,20\n"
     ]
    },
    {
     "name": "stdout",
     "output_type": "stream",
     "text": [
      "총 가격은 14000원입니다.\n"
     ]
    }
   ],
   "source": [
    "apple, orange = map(int, input(\"사과와 귤을 몇개 드릴까요?\").split(\",\"))\n",
    "price = apple * 1000 + orange * 200\n",
    "print(\"총 가격은 \", price, \"원입니다.\", sep = \"\")"
   ]
  },
  {
   "cell_type": "markdown",
   "id": "b73ba943-ef89-4d71-a8b9-c966b0898631",
   "metadata": {},
   "source": [
    "## 흐름제어문"
   ]
  },
  {
   "cell_type": "markdown",
   "id": "75e9ffcd-8ca5-43f6-a1b6-05b84a0e6e26",
   "metadata": {},
   "source": [
    "### if문"
   ]
  },
  {
   "cell_type": "code",
   "execution_count": 31,
   "id": "20629fdc-bcfb-45da-9526-7966f898c76e",
   "metadata": {},
   "outputs": [
    {
     "name": "stdout",
     "output_type": "stream",
     "text": [
      "input_value4는 정수입니다.\n"
     ]
    }
   ],
   "source": [
    "input_value4 = 4\n",
    "if type(input_value4) is int:\n",
    "    print(\"input_value4는 정수입니다.\")"
   ]
  },
  {
   "cell_type": "markdown",
   "id": "3749340c-031b-46fe-8946-126b08c61d50",
   "metadata": {
    "tags": []
   },
   "source": [
    "#### 연습문제\n",
    "사용자로부터 아이디를 입력받습니다. 이때 아이디가 'admin'이면 '최고 관리자, 모든 \n",
    "권한을 갖습니다.'를 출력하고 프로그램을 종료합니다. 아이디가 'admin'이 아니면 회원 \n",
    "등급을 정수로 입력받습니다. 만약 회원 레벨이 1~3 사이 값이면 '제한적인 권한을 \n",
    "갖습니다.'를 출력하고, 그렇지 않으면 '권한이 없습니다.'를 출력하는 프로그램을 \n",
    "작성해보세요."
   ]
  },
  {
   "cell_type": "code",
   "execution_count": 37,
   "id": "c342ca69-0f3e-409d-b569-f02c309907bd",
   "metadata": {},
   "outputs": [
    {
     "name": "stdout",
     "output_type": "stream",
     "text": [
      "아이디를 입력하세요: admin\n"
     ]
    }
   ],
   "source": [
    "id = input(\"아이디를 입력하세요:\")\n",
    "\n",
    "if id == 'admin': # 대입 연산자가 아닌 비교 연산자가 쓰임에 주목!\n",
    "    print(\"최고 관리자, 모든 권한을 갖습니다.\")\n",
    "    exit()\n",
    "elif not id == 'admin':\n",
    "    i_grade = int(input(\"회원 등급을 입력해주세요 : \"))\n",
    "    \n",
    "    if 0 < i_grade < 4:\n",
    "        print(\"제한적인 권한을 갖습니다.\")\n",
    "    else:\n",
    "            print(\"권한이 없습니다.\")"
   ]
  },
  {
   "cell_type": "markdown",
   "id": "866da9fa-724b-45c9-b986-eedaa9473777",
   "metadata": {},
   "source": [
    "#### 연습문제\n",
    "사용자로부터 자연수를 입력 받습니다. 그 숫자에서 50을 뺀 값을 출력하세요.\n",
    "- 단 출력 값의 범위는 0 이상입니다.\n",
    "- 50을 뺀 결과가 음수가 될 경우 0을 출력해야 합니다."
   ]
  },
  {
   "cell_type": "code",
   "execution_count": 4,
   "id": "815b39ef-bb12-47a6-9dce-21b3600a3e8c",
   "metadata": {},
   "outputs": [
    {
     "name": "stdout",
     "output_type": "stream",
     "text": [
      "자연수 하나 입력해주세요:  20\n"
     ]
    },
    {
     "name": "stdout",
     "output_type": "stream",
     "text": [
      "0\n"
     ]
    }
   ],
   "source": [
    "number1 = int(input(\"자연수 하나 입력해주세요: \"))\n",
    "num_result = number1 - 50\n",
    "if num_result > 0:\n",
    "    print(num_result)\n",
    "else:\n",
    "    print(0)"
   ]
  },
  {
   "cell_type": "markdown",
   "id": "2e190bfe-424b-447d-b70a-5383d0cdbb9a",
   "metadata": {},
   "source": [
    "#### 연습문제\n",
    "사용자로부터 자연수를 입력 받습니다.\n",
    "값이 짝수인지 홀수인지 화면에 출력합니다."
   ]
  },
  {
   "cell_type": "code",
   "execution_count": 7,
   "id": "f21df805-4c0f-4ccc-83d3-8f08d66677c7",
   "metadata": {},
   "outputs": [
    {
     "name": "stdout",
     "output_type": "stream",
     "text": [
      "자연수 하나 입력해주세요:  2\n"
     ]
    },
    {
     "name": "stdout",
     "output_type": "stream",
     "text": [
      "짝수입니다.\n"
     ]
    }
   ],
   "source": [
    "number1 = int(input(\"자연수 하나 입력해주세요: \"))\n",
    "num_result = number1 % 2\n",
    "if num_result == 0:\n",
    "    print(\"짝수입니다.\")\n",
    "else:\n",
    "    print(\"홀수입니다.\")"
   ]
  },
  {
   "cell_type": "markdown",
   "id": "8881e96a-146d-44ef-be20-232a1afebec9",
   "metadata": {},
   "source": [
    "#### 연습문제\n",
    "사용자로부터 소프트웨어 설계, 소프트웨어 개발, 데이터베이스 구축, 프로그래밍 언어 \n",
    "활용, 정보시스템 구축관리 점수를 입력 받습니다. 과목 평균 점수가 60점 이상일 때 \n",
    "합격입니다. 평균 점수에 따라 ‘합격’, ‘불합격’을 출력하는 프로그램을 만드세요.\n",
    "- 점수는 0점부터 100점까지만 유효합니다. 이를 벗어난 점수가 입력되면 “잘못된 \n",
    "점수입니다.”를 출력하고 ‘합격’, ‘불합격’에 대해선 출력않고 프로그램을 종료합니다.\n",
    "- 과목별 점수는 일단 전부 입력 받습니다."
   ]
  },
  {
   "cell_type": "code",
   "execution_count": 14,
   "id": "77aa1e44-29d6-46f3-a6c9-13dcb0857b8d",
   "metadata": {},
   "outputs": [
    {
     "name": "stdout",
     "output_type": "stream",
     "text": [
      "소프트웨어 설계 점수를 입력하세요 :  60\n",
      "소프트웨어 개발 점수를 입력하세요 :  40\n",
      "데이터베이스 구축 점수를 입력하세요 :  20\n",
      "프로그래밍 언어 활용 점수를 입력하세요 :  30\n",
      "정보시스템 구축관리 점수를 입력하세요 :  40\n"
     ]
    },
    {
     "name": "stdout",
     "output_type": "stream",
     "text": [
      "불합격입니다.\n"
     ]
    }
   ],
   "source": [
    "\n",
    "soft1 = int(input(\"소프트웨어 설계 점수를 입력하세요 : \"))\n",
    "soft2 = int(input(\"소프트웨어 개발 점수를 입력하세요 : \"))\n",
    "data = int(input(\"데이터베이스 구축 점수를 입력하세요 : \"))\n",
    "lang = int(input(\"프로그래밍 언어 활용 점수를 입력하세요 : \"))\n",
    "sys = int(input(\"정보시스템 구축관리 점수를 입력하세요 : \"))\n",
    "i = soft1 and soft2 and data and lang and sys\n",
    "if -1 < i < 101:\n",
    "    if i > 60:\n",
    "        print(\"합격입니다.\")\n",
    "    else:\n",
    "        print(\"불합격입니다.\")\n",
    "else:\n",
    "    print(\"잘못된 점수입니다.\")"
   ]
  },
  {
   "cell_type": "markdown",
   "id": "c430aee9-1ae2-4015-bab6-8d101053b5f8",
   "metadata": {},
   "source": [
    "#### 연습문제\n",
    "물의 온도에 따라 현재 상태를 출력하는 프로그램을 만들려고 합니다. 사용자로부터 물의 \n",
    "온도가 몇인지 입력을 받고 100 이상이면 ‘기체로 예상됩니다.’를 출력합니다. 100보다 \n",
    "작고 0 이상이면 ‘액체로 예상됩니다.’를 출력합니다. 0 보다 작으면 ‘고체로 예상됩니다.’\n",
    "를 출력합니다."
   ]
  },
  {
   "cell_type": "code",
   "execution_count": 16,
   "id": "8fb25a10-48e4-455b-9a0e-e13fc532de7c",
   "metadata": {},
   "outputs": [
    {
     "name": "stdout",
     "output_type": "stream",
     "text": [
      "물의 온도를 입력해주세요 :  -5\n"
     ]
    },
    {
     "name": "stdout",
     "output_type": "stream",
     "text": [
      "고체로 예상됩니다.\n"
     ]
    }
   ],
   "source": [
    "temp = int(input(\"물의 온도를 입력해주세요 : \"))\n",
    "if temp >= 100:\n",
    "    print(\"기체로 예상됩니다.\")\n",
    "elif 0 <= temp < 100: # '< 100' 조건이 제외되도 괜찮다.\n",
    "    print(\"액체로 예상됩니다.\")\n",
    "elif temp < 0:\n",
    "    print(\"고체로 예상됩니다.\")"
   ]
  },
  {
   "cell_type": "markdown",
   "id": "a64df627-ace1-4630-a3df-d8b007067014",
   "metadata": {},
   "source": [
    "#### 연습문제\n",
    "일반 시내 버스 요금을 받는 프로그램을 만들려고 합니다.  \n",
    "성인(19세 이상)이면 1500원 청소년(12 ~ 18세)이면 1100원 어린이(6~11세)면 800원을 받고 미취학 아동은 무료입니다.   \n",
    "사용자로부터 나이를 입력 받고 나이에 따른 일반 시내 버스 요금을 \n",
    "출력하세요."
   ]
  },
  {
   "cell_type": "code",
   "execution_count": 18,
   "id": "74f194d2-e497-4818-8c43-863ee4a38f68",
   "metadata": {},
   "outputs": [
    {
     "name": "stdout",
     "output_type": "stream",
     "text": [
      "나이를 입력하세요 :  5\n"
     ]
    },
    {
     "name": "stdout",
     "output_type": "stream",
     "text": [
      "800원\n"
     ]
    }
   ],
   "source": [
    "age = int(input(\"나이를 입력하세요 : \"))\n",
    "if age < 11:\n",
    "    print('800원')\n",
    "elif age < 18:\n",
    "    print('1100원')\n",
    "else:\n",
    "    print('1500원')"
   ]
  },
  {
   "cell_type": "markdown",
   "id": "03a0dab1-6fce-4996-b393-5e992abb65b5",
   "metadata": {},
   "source": [
    "#### 연습문제\n",
    "A사는 B사에서 C상품($10/개)을 납품합니다. 발주 수량에 따라 수량할인을 고려하여 납품가가 달라집니다. 1000개 미만은 수량할인이 적용되지 않습니다.  \n",
    "1000개부터 1500개까지 5%, 1500개 초과 2000개까지 10%를 할인합니다. 2000개 초과부터는 20%를 할인합니다.  \n",
    "발주 수량을 사용자로부터 입력 받고 총 발주금액을 출력하는 프로그램을 작성해보세요.(소수점은 할인의 일환으로 버립니다.)"
   ]
  },
  {
   "cell_type": "code",
   "execution_count": 27,
   "id": "dadf1f05-02e2-4799-9b0c-55fd34f5485e",
   "metadata": {},
   "outputs": [
    {
     "name": "stdout",
     "output_type": "stream",
     "text": [
      "발주 수량을 입력하세요: 2200\n"
     ]
    },
    {
     "name": "stdout",
     "output_type": "stream",
     "text": [
      "2200개를 주문하셨습니다.\n",
      "적용 할인율은20입니다.\n",
      "총 발주 금액은17600.0입니다.\n"
     ]
    }
   ],
   "source": [
    "send_num = int(input(\"발주 수량을 입력하세요:\"))\n",
    "if send_num > 2000:\n",
    "    dc = 20\n",
    "elif send_num <= 2000:\n",
    "    dc = 10\n",
    "elif send_num <= 1500:\n",
    "    dc = 5\n",
    "else:\n",
    "    dc = 0\n",
    "dc1 = ((100-dc)/100)\n",
    "price = send_num * 10 * dc1\n",
    "send_num = str(send_num)\n",
    "dc = str(dc)\n",
    "price = str(price)\n",
    "print(send_num + \"개를 주문하셨습니다.\\n\" + \"적용 할인율은\" + dc + \"입니다.\\n\" + \"총 발주 금액은\" + price + \"입니다.\")"
   ]
  },
  {
   "cell_type": "markdown",
   "id": "422e6152-937c-44f9-8759-0759abe2581f",
   "metadata": {},
   "source": [
    "#### 연습문제\n",
    "주민등록번호 뒷자리 7자리 중 맨 앞 번호가 1, 3인 경우는 남자이고 2, 4인 경우는 여자를 의미합니다.  \n",
    "주민등록번호 뒷자리를 입력 받아 성별을 확인하는 프로그램을 작성하세요.\n",
    "- 자리수가 7자리가 아니면 ‘자리수를 잘못 입력했습니다.”를 출력합니다.\n",
    "- 맨 앞 번호가 1, 2, 3, 4가 아니면 ‘잘못된 입력입니다.’를 출력합니다.\n"
   ]
  },
  {
   "cell_type": "code",
   "execution_count": 38,
   "id": "aa66179b-fe78-4a12-af64-8b891677c067",
   "metadata": {},
   "outputs": [
    {
     "name": "stdout",
     "output_type": "stream",
     "text": [
      "주민번호 뒷자리를 입력하세요: 1234567\n"
     ]
    },
    {
     "name": "stdout",
     "output_type": "stream",
     "text": [
      "남자입니다.\n"
     ]
    }
   ],
   "source": [
    "brnum = input(\"주민번호 뒷자리를 입력하세요:\")\n",
    "if len(brnum) != 7:\n",
    "    print('자리 수를 잘못 입력했습니다.')\n",
    "else:\n",
    "    if brnum[0] != '1' and brnum[0] != '2' and brnum[0] != '3' and brnum[0] != '4':\n",
    "        print(\"잘못된 입력입니다.\")\n",
    "    elif brnum[0] == '1' or brnum[0] == '3':\n",
    "        print(\"남자입니다.\")\n",
    "    else:\n",
    "        print(\"여자입니다.\")"
   ]
  },
  {
   "cell_type": "markdown",
   "id": "b21f6620-4aba-4c87-a2cf-d6e66a757327",
   "metadata": {},
   "source": [
    "#### 연습문제\n",
    "사용자로부터 연도 값을 입력받고 윤년인지 아닌지 결과를 출력하는 프로그램을 작성해보세요.\n",
    "- 연도가 4로 나누어 떨어지는 경우: 윤년, 그 밖의 해: 평년  \n",
    "  \n",
    "예외 규칙\n",
    "- 100으로 나누어 떨어지되 400으로 나누어 떨어지지 않는 해: 평년"
   ]
  },
  {
   "cell_type": "code",
   "execution_count": 44,
   "id": "dcf480b2-8550-495b-bea9-bb2870d3c287",
   "metadata": {},
   "outputs": [
    {
     "name": "stdout",
     "output_type": "stream",
     "text": [
      "확인할 연도를 입력하세요: 2004\n"
     ]
    },
    {
     "name": "stdout",
     "output_type": "stream",
     "text": [
      "윤년\n"
     ]
    }
   ],
   "source": [
    "# if, else 한 번씩만 사용해서 코딩해보기\n",
    "year = int(input(\"확인할 연도를 입력하세요:\"))\n",
    "\n",
    "if year % 100 == 0 and year % 400 != 0 or year % 4 != 0:\n",
    "    print(\"평년\")\n",
    "else:\n",
    "    print(\"윤년\")"
   ]
  },
  {
   "attachments": {},
   "cell_type": "markdown",
   "id": "ea67367d",
   "metadata": {},
   "source": [
    "## 반복문"
   ]
  },
  {
   "cell_type": "markdown",
   "id": "d972aa6c-e2f8-4a8c-aca0-1e7b58faf2e3",
   "metadata": {
    "tags": []
   },
   "source": [
    "### for문\n",
    "파이썬의 for문은 시퀀스 자료형의 항목들을 순서대로 이터레이션합니다(순서별로 요소를   \n",
    "하나씩 꺼냅니다).  \n",
    "- 반복되는 부분을 만들 때 활용하면 좋습니다.  \n",
    "\n",
    "- 혹은 iterable(객체)를 루핑할 때 좋습니다.  \n",
    "  \n",
    "- 반복 횟수가 정해져 있을 때 주로 사용합니다.  "
   ]
  },
  {
   "attachments": {},
   "cell_type": "markdown",
   "id": "e42df76e-b0cc-459e-b16b-4e919d2aa3d8",
   "metadata": {},
   "source": [
    "### for 문과 range() 내장 함수\n",
    "range() 내장 함수는 연속된 숫자를 만드는데 특화되어 있습니다.  \n",
    "for문은 반복 실행하는데 특화되어 있습니다.  "
   ]
  },
  {
   "attachments": {},
   "cell_type": "markdown",
   "id": "5f2ab0af-b886-4e4d-b120-fe0e5b8586fa",
   "metadata": {},
   "source": [
    "### range() 함수\n",
    "range는 연속되는 숫자 요소들을 만들 때 활용하면 좋습니다.  \n",
    "range() 함수는 슬라이싱과 구조가 비슷합니다. 다만, range()의 경우 함수의 형태로 쓰기   \n",
    "때문에 소괄호 안에 구분자는 당연히 콤마(,)입니다.  \n",
    "시작 인덱스는 포함(이상), 끝 인덱스는 불포함(미만)입니다. 시작 인덱스(default = 0)와   \n",
    "증감크기(default = 1)는 생략 가능합니다.  \n",
    "range() 함수를 숫자들의 시퀀스로 이터레이트할 때 사용하면 편리합니다.  "
   ]
  },
  {
   "cell_type": "markdown",
   "id": "9385f841-54b1-464c-83b6-56cb23beaca2",
   "metadata": {},
   "source": [
    "#### 연습문제\n",
    "한 문구를 여러 번 띄우는 코드를 작성하라."
   ]
  },
  {
   "cell_type": "code",
   "execution_count": 47,
   "id": "0b3b5ca6-b5a6-40fc-857e-e54aa1c1186b",
   "metadata": {},
   "outputs": [
    {
     "name": "stdout",
     "output_type": "stream",
     "text": [
      "Hello world\n",
      "Hello world\n",
      "Hello world\n",
      "Hello world\n",
      "Hello world\n",
      "Hello world\n",
      "Hello world\n",
      "Hello world\n",
      "Hello world\n",
      "Hello world\n"
     ]
    }
   ],
   "source": [
    "for n in range(10):\n",
    "    print(\"Hello world\") # 이런 걸 루핑이라고 하기도 한다."
   ]
  },
  {
   "cell_type": "markdown",
   "id": "b85ef379-c086-4139-a598-86b07d5af599",
   "metadata": {},
   "source": [
    "- range에서 시작과 증감 크기 요소는 생략이 가능하다."
   ]
  },
  {
   "cell_type": "code",
   "execution_count": 48,
   "id": "e7c96f79-a77b-4687-9e85-c82ea6955d58",
   "metadata": {},
   "outputs": [
    {
     "name": "stdout",
     "output_type": "stream",
     "text": [
      "[2, 4, 6, 8, 10, 12, 14, 16, 18, 20, 22, 24, 26, 28, 30, 32, 34, 36, 38, 40, 42, 44, 46, 48, 50, 52, 54, 56, 58, 60, 62, 64, 66, 68, 70, 72, 74, 76, 78, 80, 82, 84, 86, 88, 90, 92, 94, 96, 98]\n"
     ]
    }
   ],
   "source": [
    "even_numbers = list(range(2, 100, 2))\n",
    "print(even_numbers)"
   ]
  },
  {
   "cell_type": "markdown",
   "id": "94e0c78f-bd68-44cd-a8a6-18c9667eb406",
   "metadata": {
    "tags": []
   },
   "source": [
    "- range()가 돌려준 객체는 마치 리스트인 것처럼 동작하지만, 사실 리스트와는 다르다.  \n",
    "  range 객체는 iterate할 때 원하는 시퀀스 항목들을 순서대로 요소를 돌려주는 객체이지만,   \n",
    "  메모리에 공간을 할당하여 미리 모든 요소들을 만들어 두는 것이 아니라  \n",
    "  필요할 때마다 다음 요소를 만들어 반환하기 때문에 공간 효율적이다."
   ]
  },
  {
   "cell_type": "markdown",
   "id": "0b54e167-ce7d-4b17-a346-b844e1d14ea9",
   "metadata": {},
   "source": [
    "#### 연습문제\n",
    "Hello world를 100번 출력해주세요. 다만 숫자를 1부터 100까지 함께 출력해주세요. 아래 실행 결과를 참고하세요"
   ]
  },
  {
   "cell_type": "code",
   "execution_count": 59,
   "id": "d4dd8af7-e00f-4422-b63b-b6bd486586a8",
   "metadata": {},
   "outputs": [
    {
     "name": "stdout",
     "output_type": "stream",
     "text": [
      "Hello,world 1\n",
      "Hello,world 2\n",
      "Hello,world 3\n",
      "Hello,world 4\n",
      "Hello,world 5\n",
      "Hello,world 6\n",
      "Hello,world 7\n",
      "Hello,world 8\n",
      "Hello,world 9\n",
      "Hello,world 10\n"
     ]
    }
   ],
   "source": [
    "for i in range(1, 11):\n",
    "    print(\"Hello,world\", i)"
   ]
  },
  {
   "cell_type": "code",
   "execution_count": 65,
   "id": "127ac860-e483-42e4-8666-4f4fe48e856e",
   "metadata": {},
   "outputs": [
    {
     "name": "stdout",
     "output_type": "stream",
     "text": [
      "인사를 몇 번 해드릴까요? 3\n"
     ]
    },
    {
     "name": "stdout",
     "output_type": "stream",
     "text": [
      "(_ _) 1\n",
      "(_ _) 2\n",
      "(_ _) 3\n"
     ]
    }
   ],
   "source": [
    "hm = int(input(\"인사를 몇 번 해드릴까요?\"))\n",
    "for i in range(1, hm + 1):\n",
    "         print(\"(_ _)\", i)"
   ]
  },
  {
   "cell_type": "code",
   "execution_count": 72,
   "id": "05dd9435-9f7b-436f-9e13-4b89459a6f58",
   "metadata": {},
   "outputs": [
    {
     "name": "stdout",
     "output_type": "stream",
     "text": [
      "[1, 2, 3, 4, 5, 6, 7, 8, 9]\n",
      "[0, 3, 6, 9]\n",
      "[-1, -31, -61]\n"
     ]
    }
   ],
   "source": [
    "print(list(range(1, 10)))\n",
    "print(list(range(0, 10, 3)))\n",
    "print(list(range(-1, -71, -30)))"
   ]
  },
  {
   "attachments": {},
   "cell_type": "markdown",
   "id": "216c4f84-6125-4262-b8a3-14f472164116",
   "metadata": {
    "tags": []
   },
   "source": [
    "#### 연습문제\n",
    "아래의 실행 결과처럼 나오도록 for문과 range()를 활용해서 구현해봅시다.\n",
    "- 숫자와 숫자 사이에 \\t를 사용합니다.\n",
    "\n",
    "![image](https://user-images.githubusercontent.com/105477856/217546749-dab42a9f-f668-4400-a942-927687cde6a7.png)"
   ]
  },
  {
   "cell_type": "code",
   "execution_count": 2,
   "id": "f09db9d2-dd50-4c4c-9ab0-a43e986f4b1f",
   "metadata": {},
   "outputs": [
    {
     "ename": "SyntaxError",
     "evalue": "invalid syntax (1573684737.py, line 4)",
     "output_type": "error",
     "traceback": [
      "\u001b[1;36m  File \u001b[1;32m\"C:\\Users\\PlayData\\AppData\\Local\\Temp\\ipykernel_10364\\1573684737.py\"\u001b[1;36m, line \u001b[1;32m4\u001b[0m\n\u001b[1;33m    print(i, sep =  end = \"\")\u001b[0m\n\u001b[1;37m                        ^\u001b[0m\n\u001b[1;31mSyntaxError\u001b[0m\u001b[1;31m:\u001b[0m invalid syntax\n"
     ]
    }
   ],
   "source": [
    "num = int(input(\"자연수 하나 입력해주세요: \"))\n",
    "for i in range(num, 0, -1):\n",
    "    for j in range(i):\n",
    "        print(i, sep =  end = \"\")\n",
    "    print()"
   ]
  },
  {
   "cell_type": "code",
   "execution_count": 5,
   "id": "ac8746d2-8311-4d9c-96bf-8bccceaf984f",
   "metadata": {},
   "outputs": [
    {
     "name": "stdout",
     "output_type": "stream",
     "text": [
      "자연수 하나 입력해주세요:  6\n"
     ]
    },
    {
     "name": "stdout",
     "output_type": "stream",
     "text": [
      "6\t6\t6\t6\t6\t6\t\n",
      "5\t5\t5\t5\t5\t\n",
      "4\t4\t4\t4\t\n",
      "3\t3\t3\t\n",
      "2\t2\t\n",
      "1\t\n"
     ]
    }
   ],
   "source": [
    "num = int(input(\"자연수 하나 입력해주세요: \"))\n",
    "for i in range(num, 0, -1):\n",
    "    for j in range(i):\n",
    "        print(i, end = \"\\t\")\n",
    "    print()"
   ]
  },
  {
   "attachments": {},
   "cell_type": "markdown",
   "id": "988434cb-65b5-4e92-8914-bfc26591a45e",
   "metadata": {},
   "source": [
    "#### 연습문제\n",
    "1부터 사용자로부터 입력 받은 자연수까지의 홀수의 합을 구합니다.  \n",
    "1부터 입력 받은 수까지 홀수 전체를 각각 더하는 산식을 표현하고 그 계산식의 결과를 아래 실행결과와 같이 출력되도록 구해보세요.  \n",
    "![image](https://user-images.githubusercontent.com/105477856/217546906-21f1ffe3-61da-4329-a80c-5138cb6ad86e.png)"
   ]
  },
  {
   "cell_type": "markdown",
   "id": "461899c3-cfd9-45d2-8a1f-693a199ac1f2",
   "metadata": {},
   "source": [
    "#### 풀이"
   ]
  },
  {
   "cell_type": "code",
   "execution_count": 10,
   "id": "1290f580-ced9-426f-b3c5-a2067ed15af2",
   "metadata": {},
   "outputs": [
    {
     "name": "stdout",
     "output_type": "stream",
     "text": [
      " 100\n"
     ]
    },
    {
     "name": "stdout",
     "output_type": "stream",
     "text": [
      "1  +3  +5  +7  +9  +11  +13  +15  +17  +19  +21  +23  +25  +27  +29  +31  +33  +35  +37  +39  +41  +43  +45  +47  +49  +51  +53  +55  +57  +59  +61  +63  +65  +67  +69  +71  +73  +75  +77  +79  +81  +83  +85  +87  +89  +91  +93  +95  +97  +99  = 2500\n"
     ]
    }
   ],
   "source": [
    "n = int(input(\"\"))\n",
    "sum_num = 0\n",
    "for i in range(1, n, 2):\n",
    "    if i == n - 1:\n",
    "        print(i, \" =\", end = \"\")\n",
    "    else:\n",
    "        print(i, \" +\", end = \"\")\n",
    "    sum_num += i\n",
    "print(\"\", sum_num)"
   ]
  },
  {
   "cell_type": "markdown",
   "id": "e91a71d6-b05c-452b-88ed-9efdc97f5079",
   "metadata": {},
   "source": [
    "다른 풀이"
   ]
  },
  {
   "cell_type": "code",
   "execution_count": null,
   "id": "5767335c-8530-4a6b-b1fd-bc429a7bb64d",
   "metadata": {},
   "outputs": [],
   "source": [
    "n = int(input(\"\"))\n",
    "sun = 9\n",
    "print(1, end = \"\")\n",
    "for i in range(3, num + 1, 2):\n",
    "    sum = sum + i\n",
    "    print(\" +\", i, end = \"\")\n",
    "print(\" =\", sum + 1)"
   ]
  },
  {
   "cell_type": "markdown",
   "id": "e061cb1c-3dea-4f7d-b214-ef942bb9a631",
   "metadata": {},
   "source": [
    "#### 연습문제\n",
    "계승(Factorial)을 계산해보려합니다. 사용자로부터 정수를 하나 입력받습니다.  \n",
    "그리고 입력받은 숫자까지의 계승을 for문을 활용하여 구한 뒤 출력해주세요.  \n",
    "- 계승이란 1부터 n까지의 자연수를 모두 곱하는 것을 의미합니다.  \n",
    "→ n! = 1 × 2 × 3 × …… × (n-1) × n"
   ]
  },
  {
   "cell_type": "code",
   "execution_count": 91,
   "id": "339eea40-e108-4b1f-8481-933b0f3ea508",
   "metadata": {},
   "outputs": [
    {
     "name": "stdout",
     "output_type": "stream",
     "text": [
      "계승을 구할 숫자를 입력하세요. 7\n"
     ]
    },
    {
     "name": "stdout",
     "output_type": "stream",
     "text": [
      "5040\n"
     ]
    }
   ],
   "source": [
    "n = int(input(\"계승을 구할 숫자를 입력하세요.\"))\n",
    "x = 1\n",
    "for i in range(1, n + 1, 1):\n",
    "    x = x * i\n",
    "print(x)"
   ]
  },
  {
   "cell_type": "markdown",
   "id": "c6d0b001-8295-465e-8350-e57e301ec18e",
   "metadata": {
    "tags": []
   },
   "source": [
    "### 시퀀스 객체로 뒤집어서 반복하기\n",
    "reversed() 함수를 통해 역순으로 변경 가능하다. 리스트 메서드에 있는 reverse()와 다른 함수이다.\n",
    "- reversed(시퀀스) 함수는 반환값을 주지만 해당 시퀀스를 변경하지 않는다.\n",
    "- 리스트.reversed()함수는 리스트 요소 순서를 뒤집어주며 반환값이 없습니다(None).\n",
    "\n",
    "![](images/reversed.PNG)\n",
    "\n",
    "슬라이싱으로도 뒤집는게 가능하다. 변수[::-1]"
   ]
  },
  {
   "cell_type": "markdown",
   "id": "4412b459-8fed-48db-97d1-f6b5939634dd",
   "metadata": {},
   "source": [
    "#### 연습 문제\n",
    "제시된 리스트의 값을 for문을 활용하여 10배씩 증가시킨 후 아래의 실행 결과와 같이 \n",
    "출력해보세요.  \n",
    "x = [10, -42, 25, 103, 21, 77, 24]"
   ]
  },
  {
   "cell_type": "code",
   "execution_count": 11,
   "id": "3a3bda3b-d000-46d7-be1c-ba147b30b726",
   "metadata": {},
   "outputs": [
    {
     "name": "stdout",
     "output_type": "stream",
     "text": [
      "100 -420 250 1030 210 770 240 "
     ]
    }
   ],
   "source": [
    "x = [10, -42, 25, 103, 21, 77, 24]\n",
    "for i in [10, -42, 25, 103, 21, 77, 24]:\n",
    "    print(i * 10, end = \" \")"
   ]
  },
  {
   "cell_type": "markdown",
   "id": "363694c1-bc0b-41cd-a4bb-a0cc8421f45d",
   "metadata": {
    "tags": []
   },
   "source": [
    "#### 연습 문제\n",
    "사용자로부터 자연수를 입력받아옵니다. 그 숫자의 구구단을 출력하는 프로그램을 \n",
    "구현해보세요.  \n",
    "아래의 실행 결과를 참고하세요."
   ]
  },
  {
   "cell_type": "code",
   "execution_count": 97,
   "id": "529170a0-1096-4e60-a5b7-8439ceecf647",
   "metadata": {},
   "outputs": [
    {
     "name": "stdout",
     "output_type": "stream",
     "text": [
      " 9\n"
     ]
    },
    {
     "name": "stdout",
     "output_type": "stream",
     "text": [
      "9 * 1 = 9\n",
      "9 * 2 = 18\n",
      "9 * 3 = 27\n",
      "9 * 4 = 36\n",
      "9 * 5 = 45\n",
      "9 * 6 = 54\n",
      "9 * 7 = 63\n",
      "9 * 8 = 72\n",
      "9 * 9 = 81\n"
     ]
    }
   ],
   "source": [
    "x = [1, 2, 3, 4, 5, 6, 7, 8, 9]\n",
    "y = int(input())\n",
    "for i in x:\n",
    "    print(y, \"*\", i, \"=\", y * i)"
   ]
  },
  {
   "cell_type": "markdown",
   "id": "9f4c4576-8d00-4edb-82e5-f3ee89d77560",
   "metadata": {},
   "source": [
    "#### 연습 문제\n",
    "사용자로부터 자연수를 입력받아옵니다.  \n",
    "1부터 입력된 자연수까지의 합을 구하는 \n",
    "프로그램을 구현해보세요."
   ]
  },
  {
   "cell_type": "code",
   "execution_count": 101,
   "id": "92e6d3aa-32c7-4ccd-a55c-5d1dd499df1b",
   "metadata": {},
   "outputs": [
    {
     "name": "stdout",
     "output_type": "stream",
     "text": [
      " 100\n"
     ]
    },
    {
     "name": "stdout",
     "output_type": "stream",
     "text": [
      "5050\n"
     ]
    }
   ],
   "source": [
    "y = int(input())\n",
    "x = 0\n",
    "for i in range(1, y + 1):\n",
    "    x += i\n",
    "print(x)"
   ]
  }
 ],
 "metadata": {
  "kernelspec": {
   "display_name": "Python 3 (ipykernel)",
   "language": "python",
   "name": "python3"
  },
  "language_info": {
   "codemirror_mode": {
    "name": "ipython",
    "version": 3
   },
   "file_extension": ".py",
   "mimetype": "text/x-python",
   "name": "python",
   "nbconvert_exporter": "python",
   "pygments_lexer": "ipython3",
   "version": "3.9.13"
  }
 },
 "nbformat": 4,
 "nbformat_minor": 5
}
