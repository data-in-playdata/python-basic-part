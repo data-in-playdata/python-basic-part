{
 "cells": [
  {
   "cell_type": "markdown",
   "id": "8de917e1-ef1c-4aea-bc55-89aefaade9ad",
   "metadata": {},
   "source": [
    "### 퀴즈 풀이"
   ]
  },
  {
   "cell_type": "markdown",
   "id": "0d3d42d2-53e2-4a49-bea7-dd974ac35879",
   "metadata": {},
   "source": [
    "문제2. 사용자로부터 입력 받은 시간이 정각인지 판별할 수 있는 코드를 작성하세요. input(), split() 활용"
   ]
  },
  {
   "cell_type": "code",
   "execution_count": 41,
   "id": "6d648ac3-4269-4cfd-9cc9-5eec975c2ea0",
   "metadata": {},
   "outputs": [
    {
     "name": "stdout",
     "output_type": "stream",
     "text": [
      "현재 시간을 입력하세요. 2:00\n",
      "정각입니다.\n"
     ]
    }
   ],
   "source": [
    "hour, minute = input(\"현재 시간을 입력하세요.\").split(sep = \":\")\n",
    "minute = int(minute)\n",
    "if minute == 0:\n",
    "    print(\"정각입니다.\")\n",
    "else:\n",
    "    print(\"정각이 아닙니다.\")"
   ]
  },
  {
   "cell_type": "code",
   "execution_count": 16,
   "id": "a53fce04-9414-463c-ae29-31a959a68a18",
   "metadata": {},
   "outputs": [
    {
     "name": "stdout",
     "output_type": "stream",
     "text": [
      "33\n"
     ]
    }
   ],
   "source": [
    "print(minute)"
   ]
  },
  {
   "cell_type": "code",
   "execution_count": 14,
   "id": "27c2a472-a1ba-4d83-beac-6364ef054dca",
   "metadata": {},
   "outputs": [
    {
     "name": "stdout",
     "output_type": "stream",
     "text": [
      "Pt\n"
     ]
    }
   ],
   "source": [
    "language = 'Python'\n",
    "print(language[0], language[2], sep = \"\")"
   ]
  },
  {
   "cell_type": "markdown",
   "id": "9f4ab990-da5d-4be3-8e7f-e7db51914f97",
   "metadata": {},
   "source": [
    "문제4. list_a의 값을 슬라이싱을 통해 변경 및 출력하는 코드를 작성하세요.  \n",
    "list_a = [1, 2, 3, 4, 5, 6, 7, 8, 9, 10]  \n",
    "결과 : [1, 2, '짝', 4, 5, '짝', 7, 8, '짝', 10] "
   ]
  },
  {
   "cell_type": "code",
   "execution_count": null,
   "id": "c9258d68-4246-4245-ae28-c942e8f3ee67",
   "metadata": {},
   "outputs": [
    {
     "ename": "ValueError",
     "evalue": "attempt to assign sequence of size 1 to extended slice of size 4",
     "output_type": "error",
     "traceback": [
      "\u001b[1;31m---------------------------------------------------------------------------\u001b[0m",
      "\u001b[1;31mValueError\u001b[0m                                Traceback (most recent call last)",
      "\u001b[1;32m~\\AppData\\Local\\Temp\\ipykernel_20020\\3540620674.py\u001b[0m in \u001b[0;36m<module>\u001b[1;34m\u001b[0m\n\u001b[0;32m      1\u001b[0m \u001b[0mlist_a\u001b[0m \u001b[1;33m=\u001b[0m \u001b[1;33m[\u001b[0m\u001b[1;36m1\u001b[0m\u001b[1;33m,\u001b[0m\u001b[1;36m2\u001b[0m\u001b[1;33m,\u001b[0m\u001b[1;36m3\u001b[0m\u001b[1;33m,\u001b[0m\u001b[1;36m4\u001b[0m\u001b[1;33m,\u001b[0m\u001b[1;36m5\u001b[0m\u001b[1;33m,\u001b[0m\u001b[1;36m6\u001b[0m\u001b[1;33m,\u001b[0m\u001b[1;36m7\u001b[0m\u001b[1;33m,\u001b[0m\u001b[1;36m8\u001b[0m\u001b[1;33m,\u001b[0m\u001b[1;36m9\u001b[0m\u001b[1;33m,\u001b[0m\u001b[1;36m10\u001b[0m\u001b[1;33m]\u001b[0m\u001b[1;33m\u001b[0m\u001b[1;33m\u001b[0m\u001b[0m\n\u001b[1;32m----> 2\u001b[1;33m \u001b[0mlist_a\u001b[0m\u001b[1;33m[\u001b[0m\u001b[1;36m3\u001b[0m\u001b[1;33m:\u001b[0m\u001b[1;33m:\u001b[0m\u001b[1;36m2\u001b[0m\u001b[1;33m]\u001b[0m \u001b[1;33m=\u001b[0m \u001b[1;34m\"짝\"\u001b[0m\u001b[1;33m\u001b[0m\u001b[1;33m\u001b[0m\u001b[0m\n\u001b[0m\u001b[0;32m      3\u001b[0m \u001b[0mprint\u001b[0m\u001b[1;33m(\u001b[0m\u001b[0mlist_a\u001b[0m\u001b[1;33m)\u001b[0m\u001b[1;33m\u001b[0m\u001b[1;33m\u001b[0m\u001b[0m\n",
      "\u001b[1;31mValueError\u001b[0m: attempt to assign sequence of size 1 to extended slice of size 4"
     ]
    }
   ],
   "source": [
    "list_a = [1,2,3,4,5,6,7,8,9,10]\n",
    "list_a[3::2] = \"짝\"\n",
    "print(list_a)\n",
    "# 시간 내에 아래의 오류에서 캐치해내지 못했다."
   ]
  },
  {
   "cell_type": "code",
   "execution_count": 3,
   "id": "c17feb43-1f91-4652-babe-3e47147e05df",
   "metadata": {},
   "outputs": [
    {
     "name": "stdout",
     "output_type": "stream",
     "text": [
      "[1, 2, '짝', 4, 5, '짝', 7, 8, '짝', 10]\n"
     ]
    }
   ],
   "source": [
    "list_a = [1,2,3,4,5,6,7,8,9,10]\n",
    "list_a[2::3] = \"짝\" * 3\n",
    "print(list_a)\n",
    "# 다른 풀이법도 있다."
   ]
  },
  {
   "cell_type": "code",
   "execution_count": 30,
   "id": "96435d87-0b3d-4a22-9d65-e0bd56297aa8",
   "metadata": {},
   "outputs": [
    {
     "data": {
      "text/plain": [
       "[0, 0, 0, 0, 0, 0, 0, 0, 0, 0]"
      ]
     },
     "execution_count": 30,
     "metadata": {},
     "output_type": "execute_result"
    }
   ],
   "source": [
    "[0] * 10"
   ]
  },
  {
   "cell_type": "markdown",
   "id": "c9e9eaf7-7417-426f-a7ae-8f380e43bf2e",
   "metadata": {},
   "source": [
    "문제8. 1~10까지의 숫자 중 모든 홀수의 합을 출력하는 프로그램을 for문을 사용해서 작성해보세요."
   ]
  },
  {
   "cell_type": "code",
   "execution_count": null,
   "id": "791a5377-a5fb-4998-8862-341421e5bec5",
   "metadata": {},
   "outputs": [
    {
     "name": "stdout",
     "output_type": "stream",
     "text": [
      "25\n"
     ]
    }
   ],
   "source": [
    "num = 0\n",
    "for i in range(1,11):\n",
    "    if i % 2 != 0:\n",
    "        num += i\n",
    "print(num)        "
   ]
  },
  {
   "cell_type": "code",
   "execution_count": 34,
   "id": "49806b3b-bb0e-45aa-bdb0-f4e525a010dd",
   "metadata": {},
   "outputs": [
    {
     "name": "stdout",
     "output_type": "stream",
     "text": [
      "[4, 6, 8, 10]\n"
     ]
    }
   ],
   "source": [
    "print(list_a[3::2])"
   ]
  },
  {
   "cell_type": "code",
   "execution_count": 40,
   "id": "f3b73a21-52f1-4749-92cd-3b2ed64a7175",
   "metadata": {},
   "outputs": [
    {
     "ename": "SyntaxError",
     "evalue": "invalid syntax (924316851.py, line 1)",
     "output_type": "error",
     "traceback": [
      "\u001b[1;36m  File \u001b[1;32m\"C:\\Users\\PlayData\\AppData\\Local\\Temp\\ipykernel_20020\\924316851.py\"\u001b[1;36m, line \u001b[1;32m1\u001b[0m\n\u001b[1;33m    print(type(Hello world))\u001b[0m\n\u001b[1;37m                     ^\u001b[0m\n\u001b[1;31mSyntaxError\u001b[0m\u001b[1;31m:\u001b[0m invalid syntax\n"
     ]
    }
   ],
   "source": [
    "print(type(Hello world))"
   ]
  },
  {
   "cell_type": "markdown",
   "id": "a8992ad7-10a1-47e1-9bf7-5a46c527d02d",
   "metadata": {},
   "source": [
    "### Tip\n",
    "for문은 요소마다 반복"
   ]
  },
  {
   "cell_type": "markdown",
   "id": "f1ee4d11-87f3-4e62-87c4-cd5d05e7514e",
   "metadata": {
    "tags": []
   },
   "source": [
    "#### 연습문제\n",
    "for문 안에 for 문을 중첩하여 '*' 문자로 5 x 5 사각형을 그려보세요."
   ]
  },
  {
   "cell_type": "code",
   "execution_count": 51,
   "id": "80e5ed47-4ec8-4275-a7e1-957cbc9fe1c6",
   "metadata": {},
   "outputs": [
    {
     "name": "stdout",
     "output_type": "stream",
     "text": [
      "*****\n",
      "*****\n",
      "*****\n",
      "*****\n",
      "*****\n"
     ]
    }
   ],
   "source": [
    "for i in range(5):\n",
    "    print(\"*\" * 5)"
   ]
  },
  {
   "cell_type": "code",
   "execution_count": 50,
   "id": "bb89f3a4-4074-4e37-b1b8-fd6bf5453b99",
   "metadata": {
    "tags": []
   },
   "outputs": [
    {
     "name": "stdout",
     "output_type": "stream",
     "text": [
      "*****\n",
      "*****\n",
      "*****\n",
      "*****\n",
      "*****\n"
     ]
    }
   ],
   "source": [
    "for i in range(5):\n",
    "    for j in range(5):\n",
    "        print(\"*\", end = \"\")\n",
    "    print()"
   ]
  },
  {
   "cell_type": "markdown",
   "id": "5109eace-c3c4-4822-b94a-ce133e0c132f",
   "metadata": {
    "tags": []
   },
   "source": [
    "## while 문\n",
    "while 반복문은 조건식으로만 동작합니다. 아래 예제에서는 반복할 코드 안에 조건식에 영향을 주는 변화식이 포함됩니다.  \n",
    "\n",
    "while 문 실행 순서\n",
    "1. 조건식을 판별합니다.\n",
    "2. 조건식이 True인 동안 계속해서 while문의 바디를 실행합니다.\n",
    "3. 조건식이 False가 되면 while문을 빠져나갑니다."
   ]
  },
  {
   "cell_type": "code",
   "execution_count": null,
   "id": "48b54f22-623e-4814-b741-795682fc4316",
   "metadata": {},
   "outputs": [],
   "source": [
    "i = 0 # 초기식  \n",
    "while i < 100: # while 조건식  \n",
    "    print(\"Hello world!\") # 반복할 코드  \n",
    "    i += 1 # 변화식\n",
    "# while 문 안에서는 초기식, 조건식, 변화식 이 세가지는 써야한다."
   ]
  },
  {
   "cell_type": "code",
   "execution_count": 3,
   "id": "9bac8561-e94b-43b9-a0ca-6efbbf2368dc",
   "metadata": {},
   "outputs": [
    {
     "name": "stdout",
     "output_type": "stream",
     "text": [
      "반복할 횟수를 입력하세요:  3\n",
      "Hello world 3\n",
      "Hello world 2\n",
      "Hello world 1\n"
     ]
    }
   ],
   "source": [
    "count = int(input(\"반복할 횟수를 입력하세요: \"))\n",
    "\n",
    "while count > 0:\n",
    "    print(\"Hello world\", count)\n",
    "    count -= 1"
   ]
  },
  {
   "cell_type": "markdown",
   "id": "e72abf68-0692-47d5-9f2f-ecb597bf0254",
   "metadata": {},
   "source": [
    "#### 연습문제\n",
    "while 문을 사용하여 1 이상 100 이하의 짝수를 구분자로 '/t'로 설정하여 출력해보시오."
   ]
  },
  {
   "cell_type": "code",
   "execution_count": 8,
   "id": "fc2b810f-dab5-4ec4-9833-153ba1c8548f",
   "metadata": {},
   "outputs": [
    {
     "name": "stdout",
     "output_type": "stream",
     "text": [
      "2\t4\t6\t8\t10\t12\t14\t16\t18\t20\t22\t24\t26\t28\t30\t32\t34\t36\t38\t40\t42\t44\t46\t48\t50\t52\t54\t56\t58\t60\t62\t64\t66\t68\t70\t72\t74\t76\t78\t80\t82\t84\t86\t88\t90\t92\t94\t96\t98\t100\t"
     ]
    }
   ],
   "source": [
    "i = 2\n",
    "while i < 101:\n",
    "    print(i, end=\"\\t\")\n",
    "    i += 2"
   ]
  },
  {
   "cell_type": "markdown",
   "id": "617ac796-e67f-4f6d-8f7e-4e258edfcdb3",
   "metadata": {},
   "source": [
    "#### 연습문제\n",
    "사용자로부터 자연수를 입력받아옵니다.  \n",
    "그 숫자의 구구단을 출력하는 프로그램을 구현해보세요.  \n",
    "아래의 실행 결과를 참고하세요.(while문 활용)"
   ]
  },
  {
   "cell_type": "code",
   "execution_count": 12,
   "id": "beae797c-1045-495c-9c6a-c0cebaab1666",
   "metadata": {},
   "outputs": [
    {
     "name": "stdout",
     "output_type": "stream",
     "text": [
      "9 * 1 = 9\n",
      "9 * 2 = 18\n",
      "9 * 3 = 27\n",
      "9 * 4 = 36\n",
      "9 * 5 = 45\n",
      "9 * 6 = 54\n",
      "9 * 7 = 63\n",
      "9 * 8 = 72\n",
      "9 * 9 = 81\n"
     ]
    }
   ],
   "source": [
    "i = 1\n",
    "while i < 10:\n",
    "    print(f\"{9} * {i} = {9 * i}\")\n",
    "    i += 1"
   ]
  },
  {
   "attachments": {},
   "cell_type": "markdown",
   "id": "2b40392c-e127-4e65-9256-5d4857b8b402",
   "metadata": {},
   "source": [
    "### for문으로 시퀀스 객체의 인덱스 루프(loop) 테크닉"
   ]
  },
  {
   "attachments": {},
   "cell_type": "markdown",
   "id": "14c3c4df-dfd0-4123-86a0-b28ebc69b111",
   "metadata": {},
   "source": [
    "### while문으로 시퀀스 객체의 인덱스 루프(loop) 테크닉\n",
    "while문과 len() 함수를 함께 사용해서 시퀀스 객체의 요소를 인덱스들로 이터레이트 \n",
    "하려면 아래처럼 작성하여 처리할 수 있습니다.  "
   ]
  },
  {
   "cell_type": "markdown",
   "id": "5d98905f-9a7d-4d9b-b3e5-0f85e81668d5",
   "metadata": {},
   "source": [
    "#### 연습문제\n",
    "사용자로부터 학생의 숫자와 학생 성적을 입력받습니다.  \n",
    "학생 성적 평균을 구하는 프로그램을 while문으로 구현해보세요."
   ]
  },
  {
   "cell_type": "markdown",
   "id": "fcc3db96-8302-47c6-b0ff-3fe6f9f3f331",
   "metadata": {},
   "source": [
    "풀이1"
   ]
  },
  {
   "cell_type": "code",
   "execution_count": 27,
   "id": "f4eeb321-ad69-4944-8376-aba813029c99",
   "metadata": {},
   "outputs": [
    {
     "name": "stdout",
     "output_type": "stream",
     "text": [
      "학생의 수:  3\n",
      "1번 학생의 점수 :  77\n",
      "2번 학생의 점수 :  88\n",
      "3번 학생의 점수 :  99\n",
      "88.0\n"
     ]
    }
   ],
   "source": [
    "stu = int(input(\"학생의 수: \"))\n",
    "i = 0\n",
    "result = 0 \n",
    "while i < stu:\n",
    "    i += 1\n",
    "    grd = input(f\"{i}번 학생의 점수 : \")\n",
    "    grd = int(grd)\n",
    "    result += grd\n",
    "result = result / stu\n",
    "print(result)"
   ]
  },
  {
   "cell_type": "markdown",
   "id": "989e5588-ae40-4c39-b4e7-e2e745030d76",
   "metadata": {},
   "source": [
    "#### 연습문제\n",
    "A학급의 수학 점수가 다음과 같을 때 while문 조건식에 len()함수를 사용하여 이 학급의 평균 점수를 구하는 프로그램을 구현해보세요."
   ]
  },
  {
   "cell_type": "code",
   "execution_count": 37,
   "id": "fc6155bb-4b21-4905-ab2a-2cec87d2f85d",
   "metadata": {},
   "outputs": [
    {
     "name": "stdout",
     "output_type": "stream",
     "text": [
      "79.0\n"
     ]
    }
   ],
   "source": [
    "class_a = (70, 60, 55, 75, 95, 90, 80, 80, 85, 100)\n",
    "mean = 0\n",
    "ind = 0\n",
    "while ind < len(class_a):\n",
    "    mean += class_a[ind]\n",
    "    ind += 1\n",
    "result = mean / len(class_a)\n",
    "print(result)"
   ]
  },
  {
   "cell_type": "markdown",
   "id": "8e7ba300-3b2c-47a1-9f77-d819188d73df",
   "metadata": {},
   "source": [
    "### break문\n",
    "for, while문에서 break는 해당 반복문을 완전히 빠져나가기 위해서 쓰인다.  \n",
    "보통 if문과 함께 쓰인다."
   ]
  },
  {
   "attachments": {},
   "cell_type": "markdown",
   "id": "bce52207-1e18-4494-9fea-3c5b1b808b77",
   "metadata": {},
   "source": [
    "#### 연습문제\n",
    "0부터 100까지 자연수의 총합을 구하는 프로그램을 구현해보세요. \n",
    "- while문과 break를 활용해서 작성해보세요."
   ]
  },
  {
   "cell_type": "code",
   "execution_count": 39,
   "id": "d06a7d72-aebd-4e69-aa25-cc221b3eeac4",
   "metadata": {},
   "outputs": [
    {
     "name": "stdout",
     "output_type": "stream",
     "text": [
      "5050\n"
     ]
    }
   ],
   "source": [
    "i = 0\n",
    "total = 0\n",
    "while True:\n",
    "    total += i\n",
    "    i += 1\n",
    "    if i > 100:\n",
    "        break\n",
    "print(total)"
   ]
  },
  {
   "cell_type": "markdown",
   "id": "dd827df8-a87b-4cb6-8f0e-aa1ff5568914",
   "metadata": {},
   "source": [
    "### while문 - 무한 루프의 활용\n",
    "while문을 활용한 무한 루프와 input()을 조합하면 콘솔 프로그램에서 원하는 값을 받을 때까지 입력을 받는 프로그램을 구현할 수 있다."
   ]
  },
  {
   "cell_type": "code",
   "execution_count": 40,
   "id": "c3d302de-b399-4807-9161-c81730212d95",
   "metadata": {},
   "outputs": [
    {
     "name": "stdout",
     "output_type": "stream",
     "text": [
      "q를 입력하면 종료됩니다. 1\n",
      "q를 입력하면 종료됩니다. 2\n",
      "q를 입력하면 종료됩니다. q\n",
      "프로그램을 종료합니다.\n"
     ]
    }
   ],
   "source": [
    "while True:\n",
    "    input_value = input(\"q를 입력하면 종료됩니다.\")\n",
    "    if input_value == \"q\": break\n",
    "print(\"프로그램을 종료합니다.\")"
   ]
  },
  {
   "attachments": {},
   "cell_type": "markdown",
   "id": "2a1406ef-2ec0-4cc8-bc87-3fbcd2b97bac",
   "metadata": {
    "tags": []
   },
   "source": [
    "### continue\n",
    "continue는 제어흐름을 유지하고, continue가 실행된 반복 횟수의 코드 실행만 건너뜁니다.  "
   ]
  },
  {
   "cell_type": "code",
   "execution_count": 41,
   "id": "4e92fae7-72c8-4c92-b6e9-a2b6e55d1a6d",
   "metadata": {},
   "outputs": [
    {
     "name": "stdout",
     "output_type": "stream",
     "text": [
      "1\t3\t5\t7\t9\t11\t13\t15\t17\t19\t21\t23\t25\t27\t29\t31\t33\t35\t37\t39\t41\t43\t45\t47\t49\t51\t53\t55\t57\t59\t61\t63\t65\t67\t69\t71\t73\t75\t77\t79\t81\t83\t85\t87\t89\t91\t93\t95\t97\t99\t"
     ]
    }
   ],
   "source": [
    "for i in range(100):\n",
    "    if i % 2 == 0:\n",
    "        continue                # 아래 코드를 실행하지 않고 건너뜀\n",
    "    print(i, end = \"\\t\")"
   ]
  },
  {
   "cell_type": "code",
   "execution_count": 1,
   "id": "a02296b5-e43f-4af5-983a-644c6aedd6d3",
   "metadata": {},
   "outputs": [
    {
     "name": "stdout",
     "output_type": "stream",
     "text": [
      "1\t3\t5\t7\t9\t11\t13\t15\t17\t19\t21\t23\t25\t27\t29\t31\t33\t35\t37\t39\t41\t43\t45\t47\t49\t51\t53\t55\t57\t59\t61\t63\t65\t67\t69\t71\t73\t75\t77\t79\t81\t83\t85\t87\t89\t91\t93\t95\t97\t99\t"
     ]
    }
   ],
   "source": [
    "i = 0\n",
    "while i < 100:\n",
    "    i += 1\n",
    "    if i % 2 == 0:\n",
    "        continue\n",
    "    print(i, end=\"\\t\")"
   ]
  },
  {
   "attachments": {},
   "cell_type": "markdown",
   "id": "a0bddcca-0978-4686-9138-1a580b8eddef",
   "metadata": {},
   "source": [
    "#### 연습문제\n",
    "0부터 100 사이의 숫자 중 3으로 끝나는 숫자만 출력되게 \n",
    "만드세요."
   ]
  },
  {
   "cell_type": "code",
   "execution_count": 51,
   "id": "ed3212b3-d707-465a-8a87-a8ede04f91ac",
   "metadata": {
    "tags": []
   },
   "outputs": [
    {
     "name": "stdout",
     "output_type": "stream",
     "text": [
      "3 13 23 33 43 53 63 73 83 93 "
     ]
    }
   ],
   "source": [
    "i = 0\n",
    "while True:\n",
    "    if i % 10 != 3:\n",
    "        i += 1\n",
    "        continue\n",
    "    if i > 100:\n",
    "        break\n",
    "    print(i, end = \" \")\n",
    "    i += 1"
   ]
  },
  {
   "cell_type": "markdown",
   "id": "0fb28ad4-5f81-4233-8764-965598ca6d87",
   "metadata": {
    "tags": []
   },
   "source": [
    "#### 연습문제\n",
    "1부터 10까지의 순서대로 줄을 바꾸지 않고 출력 값마다 뒤에 공백을 표시합니다.  \n",
    "(for / while 모두 작성)"
   ]
  },
  {
   "cell_type": "code",
   "execution_count": 55,
   "id": "bcf6b4aa-4def-4e65-985f-e44653afeee3",
   "metadata": {},
   "outputs": [
    {
     "name": "stdout",
     "output_type": "stream",
     "text": [
      "1 2 3 4 5 6 7 8 9 10 "
     ]
    }
   ],
   "source": [
    "num = 1\n",
    "while num <= 10:\n",
    "    print(num, end = \" \")\n",
    "    num += 1"
   ]
  },
  {
   "cell_type": "code",
   "execution_count": 57,
   "id": "b34aca38-606b-4710-8cd0-437b472f75c4",
   "metadata": {},
   "outputs": [
    {
     "name": "stdout",
     "output_type": "stream",
     "text": [
      "1 2 3 4 5 6 7 8 9 10 "
     ]
    }
   ],
   "source": [
    "for i in range(1, 11):\n",
    "    print(i, end = \" \")"
   ]
  },
  {
   "cell_type": "markdown",
   "id": "a7573e41-0a73-4c95-9f62-3f8a0fd0f111",
   "metadata": {
    "tags": []
   },
   "source": [
    "#### 연습문제\n",
    "두 자연수 n부터 m을 입력받고, n부터 m 까지의 합을 구하는 프로그램을 작성하세요.  \n",
    "(for / while 모두 작성)"
   ]
  },
  {
   "cell_type": "code",
   "execution_count": 79,
   "id": "1a07205c-9a2b-4cbd-b85b-649d08ad4398",
   "metadata": {},
   "outputs": [
    {
     "name": "stdout",
     "output_type": "stream",
     "text": [
      "시작하는 정수 입력 : 1\n",
      "끝나는 정수 입력 : 10\n",
      "1부터 10까지의 합은 55입니다.\n"
     ]
    }
   ],
   "source": [
    "sum_nm = 0\n",
    "n = int(input(\"시작하는 정수 입력 :\"))\n",
    "m = int(input(\"끝나는 정수 입력 :\"))\n",
    "for i in range(n, m + 1):\n",
    "    sum_nm += i\n",
    "print(f\"{n}부터 {m}까지의 합은 {sum_nm}입니다.\")"
   ]
  },
  {
   "cell_type": "code",
   "execution_count": 68,
   "id": "c3bbfea9-6071-4822-b210-bf4f75896cf8",
   "metadata": {},
   "outputs": [
    {
     "name": "stdout",
     "output_type": "stream",
     "text": [
      "시작하는 정수 입력 : 1\n",
      "끝나는 정수 입력 : 10\n",
      "55\n"
     ]
    }
   ],
   "source": [
    "sum_nm = 0\n",
    "n = int(input(\"시작하는 정수 입력 :\"))\n",
    "m = int(input(\"끝나는 정수 입력 :\"))\n",
    "while n <= m:        # while 문 사용\n",
    "    sum_nm += n\n",
    "    n += 1\n",
    "print(sum_nm)"
   ]
  },
  {
   "cell_type": "markdown",
   "id": "172238fc-6f51-4018-91f7-a7d3823de01f",
   "metadata": {},
   "source": [
    "#### Tip\n",
    "n, m, total은 변수명  \n",
    "f-string은 3.6버전부터 지원된다.  \n",
    "print(f\"{n}부터 {m}까지의 합은 {total}입니다.\")"
   ]
  },
  {
   "attachments": {},
   "cell_type": "markdown",
   "id": "a60965bb-98c3-4336-8439-ee6c0865bd3d",
   "metadata": {
    "tags": []
   },
   "source": [
    "#### 연습문제\n",
    "두 자연수 n부터 m을 입력받고, n부터 m 까지의 수 중 짝수들의 제곱의 합을 구하세요.  \n",
    "(for / while 모두 작성)  "
   ]
  },
  {
   "cell_type": "code",
   "execution_count": 89,
   "id": "022cab36-1288-488d-a733-78571e694bd6",
   "metadata": {},
   "outputs": [
    {
     "name": "stdout",
     "output_type": "stream",
     "text": [
      "시작하는 정수 입력 : 4\n",
      "끝나는 정수 입력 : 7\n",
      "4부터 7사이의 짝수 제곱의 합은 52입니다.\n"
     ]
    }
   ],
   "source": [
    "sum_square = 0\n",
    "n = int(input(\"시작하는 정수 입력 :\"))\n",
    "m = int(input(\"끝나는 정수 입력 :\"))\n",
    "for i in range(n, m + 1):\n",
    "    if i % 2 == 0:\n",
    "        sqare = i ** 2\n",
    "        sum_square += square\n",
    "print(f\"{n}부터 {m}사이의 짝수 제곱의 합은 {sum_square}입니다.\")"
   ]
  },
  {
   "cell_type": "code",
   "execution_count": 90,
   "id": "8d120d7d-2f19-4242-ab96-420f2115f4f6",
   "metadata": {},
   "outputs": [
    {
     "name": "stdout",
     "output_type": "stream",
     "text": [
      "시작하는 정수 입력 : 4\n",
      "끝나는 정수 입력 : 7\n",
      "4부터 7사이의 짝수 제곱의 합은 52입니다.\n"
     ]
    }
   ],
   "source": [
    "sum_square = 0\n",
    "n = int(input(\"시작하는 정수 입력 :\"))\n",
    "m = int(input(\"끝나는 정수 입력 :\"))\n",
    "n2 = n\n",
    "while n2 <= m:\n",
    "    if n2 % 2 == 0:\n",
    "        sqare = n2 ** 2\n",
    "        sum_square += square\n",
    "    n2 = n2 + 1\n",
    "print(f\"{n}부터 {m}사이의 짝수 제곱의 합은 {sum_square}입니다.\")"
   ]
  },
  {
   "attachments": {},
   "cell_type": "markdown",
   "id": "1ea7deb0-17e1-45b3-867e-e452f7451395",
   "metadata": {
    "tags": []
   },
   "source": [
    "#### 연습문제\n",
    "어떤 학급의 국어 점수가 다음과 같을 때 반복문을 이용하여 A학급의 평균 점수 구하기.  \n",
    "(for / while 모두 작성)  \n",
    "Kor = [70, 60, 55, 75, 95, 90, 80, 80, 85, 100]"
   ]
  },
  {
   "cell_type": "code",
   "execution_count": 92,
   "id": "c423b6be-58ab-4944-9e22-1294899743d4",
   "metadata": {},
   "outputs": [
    {
     "name": "stdout",
     "output_type": "stream",
     "text": [
      "79.0\n"
     ]
    }
   ],
   "source": [
    "Kor = [70, 60, 55, 75, 95, 90, 80, 80, 85, 100]\n",
    "sum_Kor = 0\n",
    "for i in Kor[:]:           # Kor 뒤에 [:]를 기입하지 않아도 괜찮다.\n",
    "    sum_Kor += i           # i값을 활용하면 더 간결하게 정리된다!\n",
    "print(sum_Kor / len(Kor))"
   ]
  },
  {
   "cell_type": "code",
   "execution_count": 98,
   "id": "40e7b0a9-4f52-477c-b18f-05a692892f27",
   "metadata": {},
   "outputs": [
    {
     "name": "stdout",
     "output_type": "stream",
     "text": [
      "79.0\n"
     ]
    }
   ],
   "source": [
    "Kor = [70, 60, 55, 75, 95, 90, 80, 80, 85, 100]\n",
    "sum_Kor = 0\n",
    "i = 0\n",
    "while i < len(Kor):\n",
    "    sum_Kor += Kor[i]\n",
    "    i += 1\n",
    "print(sum_Kor / len(Kor))"
   ]
  },
  {
   "attachments": {},
   "cell_type": "markdown",
   "id": "794b6f44-63bb-476f-b765-fbd7e7dd8bf1",
   "metadata": {},
   "source": [
    "#### 연습문제\n",
    "10 미만의 자연수에서 3과 5의 배수를 구하면 3, 5, 6, 9 입니다.  \n",
    "이들의 총합은 23 입니다.  \n",
    "1000미만의 자연수에서 3의 배수와 5의 배수의 총합을 구하세요.  \n",
    "(for / while 모두 작성)  "
   ]
  },
  {
   "cell_type": "code",
   "execution_count": 114,
   "id": "8bdf69b3-de8d-4032-8d22-23d1ace0e435",
   "metadata": {},
   "outputs": [
    {
     "name": "stdout",
     "output_type": "stream",
     "text": [
      "233168\n"
     ]
    }
   ],
   "source": [
    "nature = 0\n",
    "sum_3_5 = 0\n",
    "for i in range(999):\n",
    "    nature += 1\n",
    "    if nature % 3 == 0 or nature % 5 == 0:\n",
    "        sum_3_5 += nature\n",
    "\n",
    "print(sum_3_5)"
   ]
  },
  {
   "cell_type": "code",
   "execution_count": 115,
   "id": "5b069698-cb57-4d8e-ab3f-4ed87a36025d",
   "metadata": {},
   "outputs": [
    {
     "name": "stdout",
     "output_type": "stream",
     "text": [
      "233168\n"
     ]
    }
   ],
   "source": [
    "nature = 0\n",
    "sum_3_5 = 0\n",
    "while nature < 999:\n",
    "    nature += 1\n",
    "    if nature % 3 == 0 or nature % 5 == 0:\n",
    "        sum_3_5 += nature\n",
    "print(sum_3_5)"
   ]
  },
  {
   "attachments": {},
   "cell_type": "markdown",
   "id": "917f4e43-08af-40d7-839c-f6a71493e56b",
   "metadata": {},
   "source": [
    "#### 연습 문제\n",
    "5명의 시험관이 채점한 어느 학생의 실기 시험 점수를 입력받아 Scores라는 list를 만듭니다.(split(), map(), list() 사용)  \n",
    "공정성을 위해 최고 점수와 최저점수는 제외하고 나머지 점수들의 합계를 총점으로 반영합니다.  \n",
    "이 학생의 최종 실기 평균을 구하세요."
   ]
  },
  {
   "cell_type": "code",
   "execution_count": 34,
   "id": "d1696ceb-0c9b-4a13-90de-736ecaff4fb9",
   "metadata": {},
   "outputs": [],
   "source": [
    "# 내 풀이\n",
    "do_score = list(map(int, input(\"실기 점수를 입력하세요 : \").split()))"
   ]
  },
  {
   "cell_type": "code",
   "execution_count": 36,
   "id": "6fa786df-efaa-4bd9-9890-e34c1819fb39",
   "metadata": {},
   "outputs": [],
   "source": [
    "highest = 0\n",
    "lowest = 100"
   ]
  },
  {
   "cell_type": "code",
   "execution_count": 40,
   "id": "eb9a4ebc-1183-4338-9dbf-2903de6534df",
   "metadata": {},
   "outputs": [
    {
     "name": "stdout",
     "output_type": "stream",
     "text": [
      "79.0\n"
     ]
    }
   ],
   "source": [
    "sum_do_score = 0\n",
    "\n",
    "for i in do_score:\n",
    "    if i > highest:\n",
    "        highest = i\n",
    "    if i < lowest:\n",
    "        lowest = i\n",
    "    sum_do_score += i\n",
    "\n",
    "print((sum_do_score - (lowest + largest)) / (len(do_score)-2)) # do_score 의 갯수를 이렇게 컨트롤하지 않고 최댓값과 최솟값 요소를 do_score 리스트에서 제외\n",
    "                                                               # 하는 편이 더 파이써닉하다."
   ]
  },
  {
   "attachments": {},
   "cell_type": "markdown",
   "id": "d50f8daf-1634-4daf-b87f-a9f91a872f80",
   "metadata": {},
   "source": [
    "#### 연습 문제\n",
    "파이썬대학교에서는 다음과 같이 학생들의 점수에 따라 학점을 부여합니다.  \n",
    "● 85점 ~ 100점: A 학점  \n",
    "● 70점 ~ 84점: B학점  \n",
    "● 55점 ~ 69점: C학점  \n",
    "● 40점 ~ 54점: D학점  \n",
    "● 0점 ~ 39점: F학점  \n",
    "A학점, B학점, C학점, D학점, F학점을\n",
    "받은 학생들의 수로 grade_counter라는 \n",
    "이름의 리스트를 만들어 출력할 수 있도록\n",
    "다음의 코드를 완성하세요.  \n",
    "점수 리스트 [86,72,98,60,45]  "
   ]
  },
  {
   "cell_type": "code",
   "execution_count": 44,
   "id": "6940a699-dec9-4dac-a0c4-75b0f54e8471",
   "metadata": {},
   "outputs": [
    {
     "name": "stdout",
     "output_type": "stream",
     "text": [
      "실기 점수를 입력하세요 :  86 72 98 60 45\n"
     ]
    }
   ],
   "source": [
    "# 내 풀이\n",
    "py_score = list(map(int, input(\"실기 점수를 입력하세요 : \").split()))"
   ]
  },
  {
   "cell_type": "code",
   "execution_count": 49,
   "id": "73ae3008-f5ef-4a73-a71b-debeb884012d",
   "metadata": {
    "tags": []
   },
   "outputs": [
    {
     "name": "stdout",
     "output_type": "stream",
     "text": [
      "[2, 1, 1, 1, 0]\n"
     ]
    }
   ],
   "source": [
    "grade_list = []\n",
    "result = [0, 0, 0, 0, 0]\n",
    "for i in py_score:\n",
    "    if 85 <= i <= 100:\n",
    "        grade_counter = \"A\"\n",
    "    elif 70 <= i < 85:\n",
    "        grade_counter = \"B\"\n",
    "    elif 55 <= i < 70:\n",
    "        grade_counter = \"C\"\n",
    "    elif 40 <= i < 55:\n",
    "        grade_counter = \"D\"\n",
    "    elif i < 40:\n",
    "        grade_counter = \"F\"\n",
    "    grade_list.append(grade_counter)\n",
    "for i in grade_list:\n",
    "    result[0] = grade_list.count(\"A\")\n",
    "    result[1] = grade_list.count(\"B\")\n",
    "    result[2] = grade_list.count(\"C\")\n",
    "    result[3] = grade_list.count(\"D\")\n",
    "    result[4] = grade_list.count(\"F\")\n",
    "print(result)"
   ]
  },
  {
   "attachments": {},
   "cell_type": "markdown",
   "id": "c76e366e-b9b5-4a18-91a7-f47400778442",
   "metadata": {},
   "source": [
    "#### 연습 문제\n",
    "FizzBuzz 문제  \n",
    "- 1 ~ 100까지의 범위를 갖습니다.\n",
    "- 3의 배수는 Fizz를 출력합니다.\n",
    "- 5의 배수는 Buzz를 출력합니다.\n",
    "- 3과 5의 배수는 FizzBuzz를 출력합니다.  "
   ]
  },
  {
   "cell_type": "code",
   "execution_count": 53,
   "id": "2be5c6c0-eaa8-4728-a9c1-522f38668f34",
   "metadata": {},
   "outputs": [
    {
     "name": "stdout",
     "output_type": "stream",
     "text": [
      "1 2 Fizz 4 Buzz Fizz 7 8 Fizz Buzz 11 Fizz 13 14 FizzBuzz 16 17 Fizz 19 Buzz Fizz 22 23 Fizz Buzz 26 Fizz 28 29 FizzBuzz 31 32 Fizz 34 Buzz Fizz 37 38 Fizz Buzz 41 Fizz 43 44 FizzBuzz 46 47 Fizz 49 Buzz Fizz 52 53 Fizz Buzz 56 Fizz 58 59 FizzBuzz 61 62 Fizz 64 Buzz Fizz 67 68 Fizz Buzz 71 Fizz 73 74 FizzBuzz 76 77 Fizz 79 Buzz Fizz 82 83 Fizz Buzz 86 Fizz 88 89 FizzBuzz 91 92 Fizz 94 Buzz Fizz 97 98 Fizz Buzz "
     ]
    }
   ],
   "source": [
    "# 내 풀이\n",
    "for i in range(1, 101):\n",
    "    if i % 3 == 0 and not i % 5 == 0:\n",
    "        print(\"Fizz\", end = \" \")\n",
    "    elif i % 5 == 0 and not i % 3 == 0:\n",
    "        print(\"Buzz\", end = \" \")\n",
    "    elif i % 5 == 0 and i % 3 == 0:\n",
    "        print(\"FizzBuzz\", end = \" \")\n",
    "    else:\n",
    "        print(i, end = \" \")"
   ]
  },
  {
   "cell_type": "markdown",
   "id": "2ae5cbdc-5a93-4bee-b575-bd2ca07af443",
   "metadata": {},
   "source": [
    "- 풀면서 어떻게 생각하면 더 파이써닉할지 생각하지 못했다. 지금 떠오르는 표현으로는 \"순서가 효율적으로 설정되지 못했다?\"  \n",
    "  아래 코드와 비교해보자."
   ]
  },
  {
   "cell_type": "code",
   "execution_count": 54,
   "id": "9b8ac91d-9b3d-442a-8826-4b9fdfe9dae8",
   "metadata": {},
   "outputs": [
    {
     "name": "stdout",
     "output_type": "stream",
     "text": [
      "1 2 Fizz 4 Buzz Fizz 7 8 Fizz Buzz 11 Fizz 13 14 FizzBuzz 16 17 Fizz 19 Buzz Fizz 22 23 Fizz Buzz 26 Fizz 28 29 FizzBuzz 31 32 Fizz 34 Buzz Fizz 37 38 Fizz Buzz 41 Fizz 43 44 FizzBuzz 46 47 Fizz 49 Buzz Fizz 52 53 Fizz Buzz 56 Fizz 58 59 FizzBuzz 61 62 Fizz 64 Buzz Fizz 67 68 Fizz Buzz 71 Fizz 73 74 FizzBuzz 76 77 Fizz 79 Buzz Fizz 82 83 Fizz Buzz 86 Fizz 88 89 FizzBuzz 91 92 Fizz 94 Buzz Fizz 97 98 Fizz Buzz "
     ]
    }
   ],
   "source": [
    "for i in range(1, 101):\n",
    "    if i % 5 == 0 and i % 3 == 0:\n",
    "        print(\"FizzBuzz\", end = \" \")\n",
    "    elif i % 3 == 0:\n",
    "        print(\"Fizz\", end = \" \")\n",
    "    elif i % 5 == 0:\n",
    "        print(\"Buzz\", end = \" \")\n",
    "    else:\n",
    "        print(i, end = \" \")"
   ]
  },
  {
   "cell_type": "code",
   "execution_count": 1,
   "id": "c988f454-b2ff-46ff-bad0-8f6dfea03cbf",
   "metadata": {},
   "outputs": [
    {
     "name": "stdout",
     "output_type": "stream",
     "text": [
      "1 2 Fizz 4 Buzz Fizz 7 8 Fizz Buzz 11 Fizz 13 14 FizzBuzz 16 17 Fizz 19 Buzz Fizz 22 23 Fizz Buzz 26 Fizz 28 29 FizzBuzz 31 32 Fizz 34 Buzz Fizz 37 38 Fizz Buzz 41 Fizz 43 44 FizzBuzz 46 47 Fizz 49 Buzz Fizz 52 53 Fizz Buzz 56 Fizz 58 59 FizzBuzz 61 62 Fizz 64 Buzz Fizz 67 68 Fizz Buzz 71 Fizz 73 74 FizzBuzz 76 77 Fizz 79 Buzz Fizz 82 83 Fizz Buzz 86 Fizz 88 89 FizzBuzz 91 92 Fizz 94 Buzz Fizz 97 98 Fizz Buzz "
     ]
    }
   ],
   "source": [
    "for i in range(1, 101):\n",
    "    if i % 15 == 0:\n",
    "        print(\"FizzBuzz\", end = \" \")\n",
    "    elif i % 3 == 0:\n",
    "        print(\"Fizz\", end = \" \")\n",
    "    elif i % 5 == 0:\n",
    "        print(\"Buzz\", end = \" \")\n",
    "    else:\n",
    "        print(i, end = \" \")"
   ]
  },
  {
   "cell_type": "markdown",
   "id": "f61b6a8b-f9c1-4a21-9b6b-0fe0be3fdeeb",
   "metadata": {},
   "source": [
    "- 코드 줄인 풀이 ( 굉장히 창의적인 풀이 )"
   ]
  },
  {
   "cell_type": "code",
   "execution_count": 57,
   "id": "19739cd0-d2a3-402d-9caa-a5d626f4801c",
   "metadata": {},
   "outputs": [
    {
     "name": "stdout",
     "output_type": "stream",
     "text": [
      "1 2 Fizz 4 Buzz Fizz 7 8 Fizz Buzz 11 Fizz 13 14 FizzBuzz 16 17 Fizz 19 Buzz Fizz 22 23 Fizz Buzz 26 Fizz 28 29 FizzBuzz 31 32 Fizz 34 Buzz Fizz 37 38 Fizz Buzz 41 Fizz 43 44 FizzBuzz 46 47 Fizz 49 Buzz Fizz 52 53 Fizz Buzz 56 Fizz 58 59 FizzBuzz 61 62 Fizz 64 Buzz Fizz 67 68 Fizz Buzz 71 Fizz 73 74 FizzBuzz 76 77 Fizz 79 Buzz Fizz 82 83 Fizz Buzz 86 Fizz 88 89 FizzBuzz 91 92 Fizz 94 Buzz Fizz 97 98 Fizz Buzz "
     ]
    }
   ],
   "source": [
    "for i in range(1, 101):\n",
    "    print(\"Fizz\" * (i % 3 == 0) + \"Buzz\" * (i % 5 == 0) or i, end = \" \")"
   ]
  },
  {
   "attachments": {},
   "cell_type": "markdown",
   "id": "81f93c4c-c094-4a75-a31f-93d7303af0c3",
   "metadata": {},
   "source": [
    "#### 연습 문제\n",
    "학생들의 이름이 들어있는 명단이 name_list라는 리스트 형태로 주어질 때 이름에 ‘m’또는 ‘h’가 들어있는 학생의 수를 구하려고 합니다.  \n",
    "예를 들어 john 에는 h가 들어가 있으며, matthew 에는 m 과 h가 모두 들어있습니다.  \n",
    "(m과 h 모두 들어있는 이름은 하나로 취급함)  \n",
    "- name_list = [‘matthew’, ‘mark’, ‘luke’, ‘john’, ‘paul’, ‘peter’]  "
   ]
  },
  {
   "cell_type": "code",
   "execution_count": 58,
   "id": "a20c5dfe-7e8a-4528-ae90-1f2c2a2d152d",
   "metadata": {},
   "outputs": [],
   "source": [
    "name_list = ['matthew', 'mark', 'luke', 'john', 'paul', 'peter']"
   ]
  },
  {
   "cell_type": "code",
   "execution_count": 61,
   "id": "92d1efea-4509-4159-b5ab-26544d6a5ba1",
   "metadata": {},
   "outputs": [
    {
     "name": "stdout",
     "output_type": "stream",
     "text": [
      "3\n"
     ]
    }
   ],
   "source": [
    "count_alph = 0\n",
    "for i in name_list:\n",
    "    if i.count(\"m\"):\n",
    "        count_alph += i.count(\"m\")\n",
    "    elif i.count(\"h\"):\n",
    "        count_alph += i.count(\"h\")\n",
    "print(count_alph)"
   ]
  },
  {
   "cell_type": "code",
   "execution_count": 62,
   "id": "424536f4-26a7-4181-a927-f4c35faa9d32",
   "metadata": {},
   "outputs": [
    {
     "name": "stdout",
     "output_type": "stream",
     "text": [
      "3\n"
     ]
    }
   ],
   "source": [
    "count_alph = 0\n",
    "for i in name_list:\n",
    "    if \"m\" in i:\n",
    "        count_alph += i.count(\"m\")\n",
    "    elif \"h\" in i:\n",
    "        count_alph += i.count(\"h\")\n",
    "print(count_alph)"
   ]
  },
  {
   "cell_type": "markdown",
   "id": "13524ce5-1f3a-4c34-a4b8-c7cebf8da80b",
   "metadata": {},
   "source": [
    "- 더 파이써닉한 풀이"
   ]
  },
  {
   "cell_type": "code",
   "execution_count": 70,
   "id": "6cd37d87-9877-458f-964a-564b9aa52a62",
   "metadata": {},
   "outputs": [
    {
     "name": "stdout",
     "output_type": "stream",
     "text": [
      "3\n"
     ]
    }
   ],
   "source": [
    "count_alph = 0\n",
    "for i in name_list:\n",
    "    for n in i:\n",
    "        if \"m\" in n or \"n\" in n:\n",
    "            count_alph += 1\n",
    "            break # ??\n",
    "print(count_alph)"
   ]
  },
  {
   "cell_type": "code",
   "execution_count": 68,
   "id": "48d1ece2-a9fc-4dad-ab23-d7570d3a4d5a",
   "metadata": {},
   "outputs": [
    {
     "name": "stdout",
     "output_type": "stream",
     "text": [
      "3\n"
     ]
    }
   ],
   "source": [
    "count_alph = 0\n",
    "for i in name_list:\n",
    "        if \"m\" in i or \"n\" in i:\n",
    "            count_alph += 1\n",
    "print(count_alph)"
   ]
  },
  {
   "cell_type": "markdown",
   "id": "576dc177-ec3d-4252-8a75-a4ac71ecaaf2",
   "metadata": {},
   "source": [
    "### Tip\n",
    "- for 변수 in iterable:  \n",
    "- for (인덱스 변수) range(len(iterable)):"
   ]
  },
  {
   "attachments": {},
   "cell_type": "markdown",
   "id": "590c3ce0-d441-4856-a9f4-78453263bd42",
   "metadata": {
    "tags": []
   },
   "source": [
    "#### 연습 문제\n",
    "총 5명의 학생이 시험을 보았습니다. 시험 점수가 60점을 넘어 합격한 사람에게만 축하 메시지를 보내는 프로그램을 구현합니다.  \n",
    "(불합격자에게는 메시지를 띄우지 않습니다.)  \n",
    "(for / while 모두 작성, continue 활용)  \n",
    "- marks = [90, 25, 67, 45, 80]  "
   ]
  },
  {
   "cell_type": "code",
   "execution_count": 2,
   "id": "481c2c78-025c-4559-91eb-a4f5be4943dc",
   "metadata": {},
   "outputs": [],
   "source": [
    "marks = [90, 25, 67, 45, 80]"
   ]
  },
  {
   "cell_type": "code",
   "execution_count": 75,
   "id": "2cac992a-d951-43e1-bf61-1e87570856ab",
   "metadata": {},
   "outputs": [
    {
     "name": "stdout",
     "output_type": "stream",
     "text": [
      "1번 학생 축하합니다. 합격입니다.\n",
      "3번 학생 축하합니다. 합격입니다.\n",
      "5번 학생 축하합니다. 합격입니다.\n"
     ]
    }
   ],
   "source": [
    "for i, v in enumerate(marks):\n",
    "    if v > 60:\n",
    "        print(f\"{i+1}번 학생 축하합니다. 합격입니다.\")"
   ]
  },
  {
   "cell_type": "code",
   "execution_count": 3,
   "id": "8d675c61-045e-48f0-b5b8-7bb6578b4ec0",
   "metadata": {},
   "outputs": [
    {
     "name": "stdout",
     "output_type": "stream",
     "text": [
      "1번 학생 축하합니다. 합격입니다.\n",
      "3번 학생 축하합니다. 합격입니다.\n",
      "5번 학생 축하합니다. 합격입니다.\n"
     ]
    }
   ],
   "source": [
    "i = 0\n",
    "while i < 5:\n",
    "    if marks[i] > 60:\n",
    "        print(f\"{i+1}번 학생 축하합니다. 합격입니다.\")\n",
    "    i += 1"
   ]
  },
  {
   "cell_type": "code",
   "execution_count": 4,
   "id": "9dce23a4-724d-4d7e-bb1d-e33a616ac32b",
   "metadata": {},
   "outputs": [
    {
     "name": "stdout",
     "output_type": "stream",
     "text": [
      "1번 학생 축하합니다. 합격입니다.\n",
      "3번 학생 축하합니다. 합격입니다.\n",
      "5번 학생 축하합니다. 합격입니다.\n"
     ]
    }
   ],
   "source": [
    "for i, v in enumerate(marks):\n",
    "    if v < 60:\n",
    "        continue\n",
    "    print(f\"{i+1}번 학생 축하합니다. 합격입니다.\")"
   ]
  },
  {
   "attachments": {},
   "cell_type": "markdown",
   "id": "e892c411-0320-447c-9425-be6b42ee8de8",
   "metadata": {
    "tags": []
   },
   "source": [
    "#### 연습 문제\n",
    "주어진 리스트의 순서를 뒤집으려고 합니다. 주어진 리스트는 [1,4,2,3]이며, 순서를 뒤집은 리스트 [3, 2, 4, 1] 입니다.  \n",
    "정수가 들어있는 리스트 arr을 뒤집어서 인쇄하도록 코딩해보세요.  "
   ]
  },
  {
   "cell_type": "code",
   "execution_count": 9,
   "id": "ac08f8f9-2714-4732-b121-9ba79e22e549",
   "metadata": {},
   "outputs": [
    {
     "name": "stdout",
     "output_type": "stream",
     "text": [
      "변환돤 arr은 [3, 2, 4, 1] 입니다.\n"
     ]
    }
   ],
   "source": [
    "arr = [1, 4, 2, 3]\n",
    "left, right = 0, len(arr) - 1\n",
    "while left < right:\n",
    "    arr[left], arr[right] = arr[right], arr[left]\n",
    "    left += 1\n",
    "    right -= 1\n",
    "print(\"변환된 arr은\", arr, \"입니다.\")"
   ]
  },
  {
   "attachments": {},
   "cell_type": "markdown",
   "id": "15b07884-9043-4205-abf7-ba4c79460c48",
   "metadata": {
    "tags": []
   },
   "source": [
    "#### 연습 문제\n",
    "<구구단>반복문을 사용하여 아래와 같이 구구단 전체를 화면에 프린트해 주세요.  \n",
    "for/while 모두 작성  "
   ]
  },
  {
   "cell_type": "code",
   "execution_count": 10,
   "id": "3fe89465-d44c-4bd3-82d1-a398d2dde73d",
   "metadata": {},
   "outputs": [
    {
     "name": "stdout",
     "output_type": "stream",
     "text": [
      "2x1=2\t3x1=3\t4x1=4\t5x1=5\t6x1=6\t7x1=7\t8x1=8\t9x1=9\t\n",
      "2x2=4\t3x2=6\t4x2=8\t5x2=10\t6x2=12\t7x2=14\t8x2=16\t9x2=18\t\n",
      "2x3=6\t3x3=9\t4x3=12\t5x3=15\t6x3=18\t7x3=21\t8x3=24\t9x3=27\t\n",
      "2x4=8\t3x4=12\t4x4=16\t5x4=20\t6x4=24\t7x4=28\t8x4=32\t9x4=36\t\n",
      "2x5=10\t3x5=15\t4x5=20\t5x5=25\t6x5=30\t7x5=35\t8x5=40\t9x5=45\t\n",
      "2x6=12\t3x6=18\t4x6=24\t5x6=30\t6x6=36\t7x6=42\t8x6=48\t9x6=54\t\n",
      "2x7=14\t3x7=21\t4x7=28\t5x7=35\t6x7=42\t7x7=49\t8x7=56\t9x7=63\t\n",
      "2x8=16\t3x8=24\t4x8=32\t5x8=40\t6x8=48\t7x8=56\t8x8=64\t9x8=72\t\n",
      "2x9=18\t3x9=27\t4x9=36\t5x9=45\t6x9=54\t7x9=63\t8x9=72\t9x9=81\t\n"
     ]
    }
   ],
   "source": [
    "for i in range(1, 10):\n",
    "    for j in range(2, 10):\n",
    "        print(f\"{j}x{i}={i*j}\", end = \"\\t\")\n",
    "    print()"
   ]
  },
  {
   "cell_type": "code",
   "execution_count": 10,
   "id": "0eff46a4-c64c-4403-a943-6d06df26dbe0",
   "metadata": {},
   "outputs": [
    {
     "name": "stdout",
     "output_type": "stream",
     "text": [
      "2x1=2\t3x1=3\t4x1=4\t5x1=5\t6x1=6\t7x1=7\t8x1=8\t9x1=9\t\n",
      "2x2=4\t3x2=6\t4x2=8\t5x2=10\t6x2=12\t7x2=14\t8x2=16\t9x2=18\t\n",
      "2x3=6\t3x3=9\t4x3=12\t5x3=15\t6x3=18\t7x3=21\t8x3=24\t9x3=27\t\n",
      "2x4=8\t3x4=12\t4x4=16\t5x4=20\t6x4=24\t7x4=28\t8x4=32\t9x4=36\t\n",
      "2x5=10\t3x5=15\t4x5=20\t5x5=25\t6x5=30\t7x5=35\t8x5=40\t9x5=45\t\n",
      "2x6=12\t3x6=18\t4x6=24\t5x6=30\t6x6=36\t7x6=42\t8x6=48\t9x6=54\t\n",
      "2x7=14\t3x7=21\t4x7=28\t5x7=35\t6x7=42\t7x7=49\t8x7=56\t9x7=63\t\n",
      "2x8=16\t3x8=24\t4x8=32\t5x8=40\t6x8=48\t7x8=56\t8x8=64\t9x8=72\t\n",
      "2x9=18\t3x9=27\t4x9=36\t5x9=45\t6x9=54\t7x9=63\t8x9=72\t9x9=81\t\n"
     ]
    }
   ],
   "source": [
    "i=1\n",
    "j=2\n",
    "while i<10:\n",
    "    while j<10:\n",
    "        print(f\"{j}x{i}={i*j}\", end = \"\\t\")\n",
    "    i+=1\n",
    "    j=2\n",
    "    print()"
   ]
  }
 ],
 "metadata": {
  "kernelspec": {
   "display_name": "Python 3 (ipykernel)",
   "language": "python",
   "name": "python3"
  },
  "language_info": {
   "codemirror_mode": {
    "name": "ipython",
    "version": 3
   },
   "file_extension": ".py",
   "mimetype": "text/x-python",
   "name": "python",
   "nbconvert_exporter": "python",
   "pygments_lexer": "ipython3",
   "version": "3.9.13"
  },
  "vscode": {
   "interpreter": {
    "hash": "590460d1c6a1decd747a956dcc1319ee0f5ececbb879478eef4e264711b39e33"
   }
  }
 },
 "nbformat": 4,
 "nbformat_minor": 5
}
