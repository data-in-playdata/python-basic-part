{
 "cells": [
  {
   "cell_type": "code",
   "execution_count": 1,
   "id": "73630cd7",
   "metadata": {
    "tags": []
   },
   "outputs": [],
   "source": [
    "class Team:\n",
    "    '''팀 객체를 만듭니다.'''\n",
    "    count = 0\n",
    "    order = []\n",
    "    def __init__(self,number):\n",
    "        self.number = number\n",
    "        self.name = None\n",
    "        self.member = set()\n",
    "        self.count = self.count + 1\n",
    "    # 내장 함수(Built-in function) len(Team()) --> 파이썬이 __len__(self)를 찾아서 실행    \n",
    "    def __len__(self):\n",
    "        return len(self.member)\n",
    "    def add_member(self,name):\n",
    "        if name in self.member:\n",
    "            print(f\"{name}님은 이미 팀에 있습니다.\")\n",
    "        else:\n",
    "            self.member.add(name)\n",
    "            print(f\"{name}님을 {self.number}팀에 추가했습니다.\")\n",
    "    def rm_member(self,name):\n",
    "        if name in self.member:\n",
    "            self.member.remove(name)\n",
    "            print(f\"{name}님을 {self.number}팀에서 삭제했습니다.\")\n",
    "        else:\n",
    "            print(f\"{name}님은 해당 팀에 없습니다.\")\n",
    "    def get_count(self):\n",
    "        print(f\"count: {Team.count}\")\n",
    "    def get_order(self):\n",
    "        print(f\"order: {Team.order}\")\n",
    "    def set_order(self,num):\n",
    "        if num in Team.order:\n",
    "            Team.order.remove(num)\n",
    "        Team.order.append(num)\n",
    "    def print_team_number(self):\n",
    "        return self.number"
   ]
  },
  {
   "cell_type": "code",
   "execution_count": 7,
   "id": "2d2096af",
   "metadata": {},
   "outputs": [],
   "source": [
    "import random\n",
    "\n",
    "class TeamBuilder:\n",
    "    has_team = 0\n",
    "    teams = []\n",
    "    def __init__(self, members, team_count):\n",
    "        self.members = members\n",
    "        self.team_count = team_count\n",
    "    def create_team(self):\n",
    "        if TeamBuilder.has_team > 0:\n",
    "            TeamBuilder.has_team = 0\n",
    "            TeamBuilder.teams = []\n",
    "        member_number = len(self.members) // self.team_count  # 팀 인원 설정 : 팀과 인원이 주어졌을 때 팀끼리 인원 수가 +-1 보다 크지 않게 설정\n",
    "        for i in range(1, self.team_count+1):\n",
    "            t = []\n",
    "            team_2 = Team(i)\n",
    "            t.append(team_2)     # 도움 받은 코드, 만들어야 하는 팀 갯수만큼 팀을 선언\n",
    "            TeamBuilder.teams.append(team_2)                                    \n",
    "            for j in range(len(t)):\n",
    "                while len(t[j]) < member_number:\n",
    "                    choose_member = tuple(map(str, random.sample(self.members, 1)))\n",
    "                    for k in range(len(t)):\n",
    "                        if  choose_member not in t[j].member:\n",
    "                            t[j].add_member(choose_member) \n",
    "            TeamBuilder.has_team += 1\n",
    "\n",
    "    def show_team_info(self):\n",
    "        for k in range(self.team_count):\n",
    "            print(f\"{TeamBuilder.teams[k].print_team_number()}팀은\", end=\"\")\n",
    "            for i in range(len(TeamBuilder.teams[k].member)-1):\n",
    "                print(f\"{TeamBuilder.teams[k].member[i][0]}, \", end=\"\")\n",
    "            print(f\"{TeamBuilder.teams[k].member[len(TeamBuilder.teams[k].member)-1][0]}입니다.\")"
   ]
  },
  {
   "cell_type": "code",
   "execution_count": 8,
   "id": "114acc7c-600a-4bcb-8e4d-ec68fc2fefeb",
   "metadata": {},
   "outputs": [],
   "source": [
    "members =\"강지인 김강직 김경목 김기훈 김민수 김예린 김유림 김호영 도강현 맹지호 민병창 서영호 신제우 우상욱 윤규헌 이민호 이병호 이선주 이호진 허경모 황도희\".split()"
   ]
  },
  {
   "cell_type": "code",
   "execution_count": 9,
   "id": "a460e749",
   "metadata": {},
   "outputs": [],
   "source": [
    "tb = TeamBuilder(members, 7)"
   ]
  },
  {
   "cell_type": "code",
   "execution_count": 10,
   "id": "db389636",
   "metadata": {},
   "outputs": [
    {
     "ename": "TypeError",
     "evalue": "'Team' object is not subscriptable",
     "output_type": "error",
     "traceback": [
      "\u001b[1;31m---------------------------------------------------------------------------\u001b[0m",
      "\u001b[1;31mTypeError\u001b[0m                                 Traceback (most recent call last)",
      "\u001b[1;32m~\\AppData\\Local\\Temp\\ipykernel_11820\\271455687.py\u001b[0m in \u001b[0;36m<module>\u001b[1;34m\u001b[0m\n\u001b[1;32m----> 1\u001b[1;33m \u001b[0mtb\u001b[0m\u001b[1;33m.\u001b[0m\u001b[0mcreate_team\u001b[0m\u001b[1;33m(\u001b[0m\u001b[1;33m)\u001b[0m\u001b[1;33m\u001b[0m\u001b[1;33m\u001b[0m\u001b[0m\n\u001b[0m",
      "\u001b[1;32m~\\AppData\\Local\\Temp\\ipykernel_11820\\649618507.py\u001b[0m in \u001b[0;36mcreate_team\u001b[1;34m(self)\u001b[0m\n\u001b[0;32m     21\u001b[0m                     \u001b[0mchoose_member\u001b[0m \u001b[1;33m=\u001b[0m \u001b[0mtuple\u001b[0m\u001b[1;33m(\u001b[0m\u001b[0mmap\u001b[0m\u001b[1;33m(\u001b[0m\u001b[0mstr\u001b[0m\u001b[1;33m,\u001b[0m \u001b[0mrandom\u001b[0m\u001b[1;33m.\u001b[0m\u001b[0msample\u001b[0m\u001b[1;33m(\u001b[0m\u001b[0mself\u001b[0m\u001b[1;33m.\u001b[0m\u001b[0mmembers\u001b[0m\u001b[1;33m,\u001b[0m \u001b[1;36m1\u001b[0m\u001b[1;33m)\u001b[0m\u001b[1;33m)\u001b[0m\u001b[1;33m)\u001b[0m\u001b[1;33m\u001b[0m\u001b[1;33m\u001b[0m\u001b[0m\n\u001b[0;32m     22\u001b[0m                     \u001b[1;32mfor\u001b[0m \u001b[0mk\u001b[0m \u001b[1;32min\u001b[0m \u001b[0mrange\u001b[0m\u001b[1;33m(\u001b[0m\u001b[0mlen\u001b[0m\u001b[1;33m(\u001b[0m\u001b[0mt\u001b[0m\u001b[1;33m)\u001b[0m\u001b[1;33m)\u001b[0m\u001b[1;33m:\u001b[0m\u001b[1;33m\u001b[0m\u001b[1;33m\u001b[0m\u001b[0m\n\u001b[1;32m---> 23\u001b[1;33m                         \u001b[1;32mif\u001b[0m  \u001b[0mchoose_member\u001b[0m \u001b[1;32mnot\u001b[0m \u001b[1;32min\u001b[0m \u001b[0mt\u001b[0m\u001b[1;33m[\u001b[0m\u001b[0mj\u001b[0m\u001b[1;33m]\u001b[0m\u001b[1;33m[\u001b[0m\u001b[0mk\u001b[0m\u001b[1;33m]\u001b[0m\u001b[1;33m:\u001b[0m\u001b[1;33m\u001b[0m\u001b[1;33m\u001b[0m\u001b[0m\n\u001b[0m\u001b[0;32m     24\u001b[0m                             \u001b[0mt\u001b[0m\u001b[1;33m[\u001b[0m\u001b[0mj\u001b[0m\u001b[1;33m]\u001b[0m\u001b[1;33m.\u001b[0m\u001b[0madd_member\u001b[0m\u001b[1;33m(\u001b[0m\u001b[0mchoose_member\u001b[0m\u001b[1;33m)\u001b[0m\u001b[1;33m\u001b[0m\u001b[1;33m\u001b[0m\u001b[0m\n\u001b[0;32m     25\u001b[0m             \u001b[0mTeamBuilder\u001b[0m\u001b[1;33m.\u001b[0m\u001b[0mhas_team\u001b[0m \u001b[1;33m+=\u001b[0m \u001b[1;36m1\u001b[0m\u001b[1;33m\u001b[0m\u001b[1;33m\u001b[0m\u001b[0m\n",
      "\u001b[1;31mTypeError\u001b[0m: 'Team' object is not subscriptable"
     ]
    }
   ],
   "source": [
    "tb.create_team()"
   ]
  },
  {
   "cell_type": "code",
   "execution_count": 321,
   "id": "fb1189dc",
   "metadata": {},
   "outputs": [
    {
     "name": "stdout",
     "output_type": "stream",
     "text": [
      "1팀은"
     ]
    },
    {
     "ename": "TypeError",
     "evalue": "'set' object is not subscriptable",
     "output_type": "error",
     "traceback": [
      "\u001b[1;31m---------------------------------------------------------------------------\u001b[0m",
      "\u001b[1;31mTypeError\u001b[0m                                 Traceback (most recent call last)",
      "\u001b[1;32m~\\AppData\\Local\\Temp\\ipykernel_16588\\4205704980.py\u001b[0m in \u001b[0;36m<module>\u001b[1;34m\u001b[0m\n\u001b[1;32m----> 1\u001b[1;33m \u001b[0mtb\u001b[0m\u001b[1;33m.\u001b[0m\u001b[0mshow_team_info\u001b[0m\u001b[1;33m(\u001b[0m\u001b[1;33m)\u001b[0m\u001b[1;33m\u001b[0m\u001b[1;33m\u001b[0m\u001b[0m\n\u001b[0m",
      "\u001b[1;32m~\\AppData\\Local\\Temp\\ipykernel_16588\\3097110816.py\u001b[0m in \u001b[0;36mshow_team_info\u001b[1;34m(self)\u001b[0m\n\u001b[0;32m     28\u001b[0m             \u001b[0mprint\u001b[0m\u001b[1;33m(\u001b[0m\u001b[1;34mf\"{TeamBuilder.teams[k].print_team_number()}팀은\"\u001b[0m\u001b[1;33m,\u001b[0m \u001b[0mend\u001b[0m\u001b[1;33m=\u001b[0m\u001b[1;34m\"\"\u001b[0m\u001b[1;33m)\u001b[0m\u001b[1;33m\u001b[0m\u001b[1;33m\u001b[0m\u001b[0m\n\u001b[0;32m     29\u001b[0m             \u001b[1;32mfor\u001b[0m \u001b[0mi\u001b[0m \u001b[1;32min\u001b[0m \u001b[0mrange\u001b[0m\u001b[1;33m(\u001b[0m\u001b[0mlen\u001b[0m\u001b[1;33m(\u001b[0m\u001b[0mTeamBuilder\u001b[0m\u001b[1;33m.\u001b[0m\u001b[0mteams\u001b[0m\u001b[1;33m[\u001b[0m\u001b[0mk\u001b[0m\u001b[1;33m]\u001b[0m\u001b[1;33m.\u001b[0m\u001b[0mmember\u001b[0m\u001b[1;33m)\u001b[0m\u001b[1;33m-\u001b[0m\u001b[1;36m1\u001b[0m\u001b[1;33m)\u001b[0m\u001b[1;33m:\u001b[0m\u001b[1;33m\u001b[0m\u001b[1;33m\u001b[0m\u001b[0m\n\u001b[1;32m---> 30\u001b[1;33m                 \u001b[0mprint\u001b[0m\u001b[1;33m(\u001b[0m\u001b[1;34mf\"{TeamBuilder.teams[k].member[i][0]}, \"\u001b[0m\u001b[1;33m,\u001b[0m \u001b[0mend\u001b[0m\u001b[1;33m=\u001b[0m\u001b[1;34m\"\"\u001b[0m\u001b[1;33m)\u001b[0m\u001b[1;33m\u001b[0m\u001b[1;33m\u001b[0m\u001b[0m\n\u001b[0m\u001b[0;32m     31\u001b[0m             \u001b[0mprint\u001b[0m\u001b[1;33m(\u001b[0m\u001b[1;34mf\"{TeamBuilder.teams[k].member[len(TeamBuilder.teams[k].member)-1][0]}입니다.\"\u001b[0m\u001b[1;33m)\u001b[0m\u001b[1;33m\u001b[0m\u001b[1;33m\u001b[0m\u001b[0m\n",
      "\u001b[1;31mTypeError\u001b[0m: 'set' object is not subscriptable"
     ]
    }
   ],
   "source": [
    "tb.show_team_info()"
   ]
  },
  {
   "cell_type": "code",
   "execution_count": 322,
   "id": "b7672b59-6e19-4f9c-8a75-e7e717a83973",
   "metadata": {},
   "outputs": [
    {
     "name": "stdout",
     "output_type": "stream",
     "text": [
      "<__main__.Team object at 0x000001EBCA93B220>\n"
     ]
    }
   ],
   "source": [
    "T1 = Team(1)\n",
    "print(T1)\n"
   ]
  },
  {
   "cell_type": "code",
   "execution_count": 190,
   "id": "90d10c88",
   "metadata": {},
   "outputs": [
    {
     "data": {
      "text/plain": [
       "[3, 2]"
      ]
     },
     "execution_count": 190,
     "metadata": {},
     "output_type": "execute_result"
    }
   ],
   "source": [
    "li = [1, 2, 3]\n",
    "# 리스트에서 2개 랜덤 추출\n",
    "sampleList = random.sample(li, 2)\n",
    "sampleList"
   ]
  },
  {
   "cell_type": "code",
   "execution_count": 210,
   "id": "37a9cac7-832d-42a1-84fc-0b7e5a786340",
   "metadata": {},
   "outputs": [
    {
     "data": {
      "text/plain": [
       "<__main__.Team at 0x1ebcd8a45b0>"
      ]
     },
     "execution_count": 210,
     "metadata": {},
     "output_type": "execute_result"
    }
   ],
   "source": [
    "TeamBuilder.teams[1]"
   ]
  },
  {
   "cell_type": "code",
   "execution_count": 211,
   "id": "b1dfac7a-0a81-4128-a241-ff7c4158b722",
   "metadata": {},
   "outputs": [
    {
     "data": {
      "text/plain": [
       "[<__main__.Team at 0x1ebcd8a4760>,\n",
       " <__main__.Team at 0x1ebcd8a45b0>,\n",
       " <__main__.Team at 0x1ebcd8a4c70>,\n",
       " <__main__.Team at 0x1ebcd8a4520>,\n",
       " <__main__.Team at 0x1ebcd8a4f40>,\n",
       " <__main__.Team at 0x1ebcd8a4160>,\n",
       " <__main__.Team at 0x1ebcdcf4ac0>]"
      ]
     },
     "execution_count": 211,
     "metadata": {},
     "output_type": "execute_result"
    }
   ],
   "source": [
    "TeamBuilder.teams"
   ]
  },
  {
   "cell_type": "code",
   "execution_count": 250,
   "id": "9b322e35-dac6-486d-95da-ba5fb5e62a05",
   "metadata": {},
   "outputs": [
    {
     "ename": "TypeError",
     "evalue": "'set' object is not subscriptable",
     "output_type": "error",
     "traceback": [
      "\u001b[1;31m---------------------------------------------------------------------------\u001b[0m",
      "\u001b[1;31mTypeError\u001b[0m                                 Traceback (most recent call last)",
      "\u001b[1;32m~\\AppData\\Local\\Temp\\ipykernel_16588\\271455687.py\u001b[0m in \u001b[0;36m<module>\u001b[1;34m\u001b[0m\n\u001b[1;32m----> 1\u001b[1;33m \u001b[0mtb\u001b[0m\u001b[1;33m.\u001b[0m\u001b[0mcreate_team\u001b[0m\u001b[1;33m(\u001b[0m\u001b[1;33m)\u001b[0m\u001b[1;33m\u001b[0m\u001b[1;33m\u001b[0m\u001b[0m\n\u001b[0m",
      "\u001b[1;32m~\\AppData\\Local\\Temp\\ipykernel_16588\\2376220457.py\u001b[0m in \u001b[0;36mcreate_team\u001b[1;34m(self)\u001b[0m\n\u001b[0;32m     20\u001b[0m                 \u001b[0mchoose_member\u001b[0m \u001b[1;33m=\u001b[0m \u001b[0mmap\u001b[0m\u001b[1;33m(\u001b[0m\u001b[0mint\u001b[0m\u001b[1;33m,\u001b[0m \u001b[0mrandom\u001b[0m\u001b[1;33m.\u001b[0m\u001b[0msample\u001b[0m\u001b[1;33m(\u001b[0m\u001b[0mself\u001b[0m\u001b[1;33m.\u001b[0m\u001b[0mmembers\u001b[0m\u001b[1;33m,\u001b[0m \u001b[1;36m1\u001b[0m\u001b[1;33m)\u001b[0m\u001b[1;33m)\u001b[0m\u001b[1;33m\u001b[0m\u001b[1;33m\u001b[0m\u001b[0m\n\u001b[0;32m     21\u001b[0m                 \u001b[1;32mfor\u001b[0m \u001b[0mj\u001b[0m \u001b[1;32min\u001b[0m \u001b[0mrange\u001b[0m\u001b[1;33m(\u001b[0m\u001b[0mlen\u001b[0m\u001b[1;33m(\u001b[0m\u001b[0mt\u001b[0m\u001b[1;33m)\u001b[0m\u001b[1;33m)\u001b[0m\u001b[1;33m:\u001b[0m\u001b[1;33m\u001b[0m\u001b[1;33m\u001b[0m\u001b[0m\n\u001b[1;32m---> 22\u001b[1;33m                     \u001b[0mt\u001b[0m\u001b[1;33m[\u001b[0m\u001b[0mj\u001b[0m\u001b[1;33m]\u001b[0m\u001b[1;33m.\u001b[0m\u001b[0mrm_member\u001b[0m\u001b[1;33m(\u001b[0m\u001b[0mchoose_member\u001b[0m\u001b[1;33m)\u001b[0m  \u001b[1;31m# 세트 t 안에 들어있는 각각의 Team 인스턴스들\u001b[0m\u001b[1;33m\u001b[0m\u001b[1;33m\u001b[0m\u001b[0m\n\u001b[0m\u001b[0;32m     23\u001b[0m                     \u001b[0mt\u001b[0m\u001b[1;33m[\u001b[0m\u001b[0mj\u001b[0m\u001b[1;33m]\u001b[0m\u001b[1;33m.\u001b[0m\u001b[0madd_member\u001b[0m\u001b[1;33m(\u001b[0m\u001b[0mchoose_member\u001b[0m\u001b[1;33m)\u001b[0m\u001b[1;33m\u001b[0m\u001b[1;33m\u001b[0m\u001b[0m\n\u001b[0;32m     24\u001b[0m                     \u001b[0mTeamBuilder\u001b[0m\u001b[1;33m.\u001b[0m\u001b[0mhas_team\u001b[0m \u001b[1;33m+=\u001b[0m \u001b[1;36m1\u001b[0m\u001b[1;33m\u001b[0m\u001b[1;33m\u001b[0m\u001b[0m\n",
      "\u001b[1;31mTypeError\u001b[0m: 'set' object is not subscriptable"
     ]
    }
   ],
   "source": [
    "tb.create_team()"
   ]
  },
  {
   "cell_type": "code",
   "execution_count": 303,
   "id": "ac1d5e96-101c-46ec-99f6-54ba8d7c4e06",
   "metadata": {},
   "outputs": [
    {
     "data": {
      "text/plain": [
       "'{<map object at 0x000001EBCA11D310>, <map object at 0x000001EBCA11DEE0>, <map object at 0x000001EBCC6C5970>}'"
      ]
     },
     "execution_count": 303,
     "metadata": {},
     "output_type": "execute_result"
    }
   ],
   "source": [
    "str(TeamBuilder.teams[1].member)"
   ]
  },
  {
   "cell_type": "code",
   "execution_count": null,
   "id": "da06d6e7-8bef-4ca9-8ef3-7de5c8c4084d",
   "metadata": {},
   "outputs": [],
   "source": [
    "random, np.random, 랜덤 인덱스 번호 이용"
   ]
  },
  {
   "cell_type": "code",
   "execution_count": 11,
   "id": "6c6b1f74-4968-414e-87c4-779bfb9c0a71",
   "metadata": {
    "tags": []
   },
   "outputs": [],
   "source": [
    "class Team:\n",
    "    \"\"\"팀 객체를 만듭니다.\"\"\"\n",
    "    # 클래스 속성\n",
    "    count = 0 # Team 클래스로부터 초기화된 인스턴스 개수\n",
    "    order = []\n",
    "    def __init__(self, number, name=None, member=set()):\n",
    "        self.number = number\n",
    "        self.name = name\n",
    "        self.__member = member\n",
    "        Team.count += 1\n",
    "    def add_member(self, name):\n",
    "        # 해당 이름이 팀에 있을 경우\n",
    "        if name in self.__member:\n",
    "            print(f\"{name} 님은 이미 팀에 있습니다.\")\n",
    "            return\n",
    "        # 해당 이름이 팀에 없을 경우\n",
    "        else:\n",
    "            self.__member.add(name)\n",
    "            print(f\"{name} 님을 {self.number} 팀에 추가했습니다.\")\n",
    "    def rm_member(self, name):\n",
    "        # 해당 이름이 팀에 있을 경우\n",
    "        if name in self.__member:\n",
    "            self.__member.discard(name)\n",
    "            print(f\"{name} 님을 {self.number} 팀에서 삭제했습니다.\")\n",
    "        # 해당 이름이 팀에 없을 경우\n",
    "        else:\n",
    "            print(f\"{name} 님은 해당 팀에 없습니다.\")\n",
    "    def get_member(self):\n",
    "        return self.__member\n",
    "    def get_count(self):\n",
    "        return self.count\n",
    "    def get_order(self):\n",
    "        return self.order\n",
    "    def set_order(self, number):\n",
    "        if number in self.order:\n",
    "            self.order.remove(number)\n",
    "        self.order.append(number)\n",
    "    # 내장 함수(Built-in function) len(Team()) --> 파이썬이 __len__(self)를 찾아서 실행\n",
    "    def __len__(self):\n",
    "        return len(self.__member)"
   ]
  },
  {
   "cell_type": "code",
   "execution_count": 7,
   "id": "f7c49de4-2c28-4865-9a32-6cb813baab44",
   "metadata": {},
   "outputs": [],
   "source": [
    "class TeamBuilder:\n",
    "    has_team = 0\n",
    "    teams = []\n",
    "    def __init__(self, members, team_count):\n",
    "        self.members = members\n",
    "        self.team_count = team_count\n",
    "    def create_team(self):\n",
    "        if TeamBuilder.has_team > 0:\n",
    "            TeamBuilder.has_team = 0\n",
    "            TeamBuilder.teams = []\n",
    "        member_number = len(self.members) // self.team_count  # 팀 인원 설정 : 팀과 인원이 주어졌을 때 팀끼리 인원 수가 +-1 보다 크지 않게 설정\n",
    "        for i in range(1, self.team_count+1):\n",
    "            declared_team = Team(i)\n",
    "            TeamBuilder.teams.append(declared_team)     # 도움 받은 코드, 만들어야 하는 팀 갯수만큼 팀을 선언   \n",
    "            chose_member = \n",
    "            for i in range(member_number):\n",
    "                \n",
    "                declared_team.\n",
    "            \n",
    "            \n",
    "            for j in range(:\n",
    "                while len(t[j]) < member_number:\n",
    "                    choose_member = tuple(map(str, random.sample(self.members, 1)))\n",
    "                    for k in range(len(t)):\n",
    "                        if  choose_member not in t[j][k]:\n",
    "                            t[j].add_member(choose_member) \n",
    "            TeamBuilder.has_team += 1\n",
    "\n",
    "    def show_team_info(self):\n",
    "        for k in range(self.team_count):\n",
    "            print(f\"{TeamBuilder.teams[k].print_team_number()}팀은\", end=\"\")\n",
    "            for i in range(len(TeamBuilder.teams[k].member)-1):\n",
    "                print(f\"{TeamBuilder.teams[k].member[i][0]}, \", end=\"\")\n",
    "            print(f\"{TeamBuilder.teams[k].member[len(TeamBuilder.teams[k].member)-1][0]}입니다.\")"
   ]
  },
  {
   "attachments": {},
   "cell_type": "markdown",
   "id": "0129ad05",
   "metadata": {},
   "source": [
    "# 답안"
   ]
  },
  {
   "cell_type": "code",
   "execution_count": 1,
   "id": "3040f754",
   "metadata": {},
   "outputs": [],
   "source": [
    "class Team:\n",
    "    \"\"\"팀 객체를 만듭니다.\"\"\"\n",
    "    # 클래스 속성\n",
    "    count = 0 # Team 클래스로부터 초기화된 인스턴스 개수\n",
    "    order = []\n",
    "    def __init__(self, number, name=None):\n",
    "        self.number = number\n",
    "        self.name = name\n",
    "        self.__member = set()\n",
    "        Team.count += 1\n",
    "    def add_member(self, name):\n",
    "        # 해당 이름이 팀에 있을 경우\n",
    "        if name in self.__member:\n",
    "            print(f\"{name} 님은 이미 팀에 있습니다.\")\n",
    "            return\n",
    "        # 해당 이름이 팀에 없을 경우\n",
    "        else:\n",
    "            self.__member.add(name)\n",
    "            print(f\"{name} 님을 {self.number} 팀에 추가했습니다.\")\n",
    "    def rm_member(self, name):\n",
    "        # 해당 이름이 팀에 있을 경우\n",
    "        if name in self.__member:\n",
    "            self.__member.discard(name)\n",
    "            print(f\"{name} 님을 {self.number} 팀에서 삭제했습니다.\")\n",
    "        # 해당 이름이 팀에 없을 경우\n",
    "        else:\n",
    "            print(f\"{name} 님은 해당 팀에 없습니다.\")\n",
    "    def get_member(self):\n",
    "        return self.__member\n",
    "    def get_count(self):\n",
    "        return self.count\n",
    "    def get_order(self):\n",
    "        return self.order\n",
    "    def set_order(self, number):\n",
    "        if number in self.order:\n",
    "            self.order.remove(number)\n",
    "        self.order.append(number)\n",
    "    # 내장 함수(Built-in function) len(Team()) --> 파이썬이 __len__(self)를 찾아서 실행\n",
    "    def __len__(self):\n",
    "        return len(self.__member)"
   ]
  },
  {
   "cell_type": "code",
   "execution_count": 2,
   "id": "dcad2459",
   "metadata": {},
   "outputs": [],
   "source": [
    "# 방식 1\n",
    "import numpy as np\n",
    "class TeamBuilder:\n",
    "    # 기존에 팀이 생성된 적이 있는지 확인하는 용도로 씀\n",
    "    has_team = False\n",
    "    # Team 객체를 담는 변수\n",
    "    teams = []\n",
    "    def __init__(self, members, team_count):\n",
    "        # 이름들을 갖는 리스트\n",
    "        self.members = members\n",
    "        # 몇개의 팀이 만들 것인지\n",
    "        self.team_count = team_count\n",
    "    def create_teams(self):\n",
    "        \"\"\"팀을 구성할 때 랜덤하게 하고, 또 팀 간의 인원차이를 최소화\"\"\"\n",
    "        if TeamBuilder.has_team == True:\n",
    "            print(\"기존의 팀 정보를 지우고 새로 생성합니다.\")\n",
    "            TeamBuilder.teams.clear()\n",
    "        # 몫, 나머지를 먼저 구한다.\n",
    "        # 나머지 값이 있는 동안은 팀의 크기를 +1만큼 증가시킨다.\n",
    "        # 팀 사이즈를 정해놓고 그만큼씩 Team 객체에 할당해주는 방식입니다.\n",
    "        _q, _r = divmod(len(self.members), self.team_count)\n",
    "        for _ in range(self.team_count):\n",
    "            _team_size = _q\n",
    "            if _r > 0:\n",
    "                _team_size += 1\n",
    "                _r -= 1\n",
    "            _team_member = np.random.choice(self.members, size=_team_size, replace=False)\n",
    "            _team = Team(_ + 1)\n",
    "            for _member in _team_member:\n",
    "                _team.add_member(_member)\n",
    "                self.members.remove(_member)\n",
    "            TeamBuilder.teams.append(_team)\n",
    "        TeamBuilder.has_team = True\n",
    "        print(f\"팀을 {self.team_count}개 생성했습니다.\")\n",
    "    def show_team_info(self):\n",
    "        for _ in range(self.team_count):\n",
    "            print(f\"{self.teams[_].number}팀은 {', '.join(sorted(self.teams[_].get_member()))} 입니다.\")\n",
    "    def __repr__(self):\n",
    "        return f\"<TeamBuilder {hex(id(TeamBuilder))}>\""
   ]
  },
  {
   "cell_type": "code",
   "execution_count": 3,
   "id": "1f578080",
   "metadata": {},
   "outputs": [],
   "source": [
    "# tb = TeamBuilder(\"강지인 김강직 김경목 김기훈 김민수 \"\n",
    "#                  \"김예린 김유림 김호영 도강현 맹지호 \"\n",
    "#                  \"민병창 서영호 신제우 우상욱 윤규헌 \"\n",
    "#                  \"이민호 이병호 이선주 이호진 허경모 황도희\".split(), 7)\n",
    "# tb.create_teams()\n",
    "# tb.show_team_info()"
   ]
  },
  {
   "cell_type": "code",
   "execution_count": null,
   "id": "3ff82b6d",
   "metadata": {},
   "outputs": [],
   "source": [
    "# 방식2\n",
    "import numpy as np\n",
    "class TeamBuilder:\n",
    "    has_team = False\n",
    "    teams = []\n",
    "    def __init__(self, members, team_count):\n",
    "        self.members = members\n",
    "        self.team_count = team_count\n",
    "    def create_teams(self):\n",
    "        if TeamBuilder.has_team == True:\n",
    "            print(\"기존의 팀 정보를 지우고 새로 생성합니다.\")\n",
    "            TeamBuilder.teams.clear()\n",
    "        # 팀을 만들 순서를 랜덤하게 만듭니다.\n",
    "        np.random.shuffle(self.members)\n",
    "        # 팀 객체를 팀이 필요한 크기만큼 만들어서 클래스 속성인 teams에 추가합니다.\n",
    "        TeamBuilder.teams.extend( [ Team(_ + 1) for _ in range(self.team_count) ] )\n",
    "        # members에 값이 있을 때까지 반복하면서 만들어 놓은 Team 객체에 접근하면서 값을 할당합니다.\n",
    "        i = 0\n",
    "        while self.members:\n",
    "            # 각 팀마다 1명씩 추가하는 방식입니다.\n",
    "            # 추가한 members에 대한 요소는 사용되고 members 리스트에서 제거합니다.\n",
    "            TeamBuilder.teams[i].add_member(self.members.pop())\n",
    "            i += 1\n",
    "            if i == self.team_count:\n",
    "                i = 0\n",
    "        print(f\"팀을 {self.team_count}개 생성했습니다.\")\n",
    "    def show_team_info(self):\n",
    "        for _ in range(self.team_count):\n",
    "            print(f\"{self.teams[_].number}팀은 {', '.join(sorted(self.teams[_].get_member()))} 입니다.\")\n",
    "    def __repr__(self):\n",
    "        return f\"<TeamBuilder {hex(id(TeamBuilder))}>\""
   ]
  },
  {
   "cell_type": "code",
   "execution_count": null,
   "id": "e7a63698",
   "metadata": {},
   "outputs": [],
   "source": [
    "# tb = TeamBuilder(\"강지인 김강직 김경목 김기훈 김민수 \"\n",
    "#                  \"김예린 김유림 김호영 도강현 맹지호 \"\n",
    "#                  \"민병창 서영호 신제우 우상욱 윤규헌 \"\n",
    "#                  \"이민호 이병호 이선주 이호진 허경모 황도희\".split(), 7)\n",
    "# tb.create_teams()\n",
    "# tb.show_team_info()"
   ]
  }
 ],
 "metadata": {
  "kernelspec": {
   "display_name": "base",
   "language": "python",
   "name": "python3"
  },
  "language_info": {
   "codemirror_mode": {
    "name": "ipython",
    "version": 3
   },
   "file_extension": ".py",
   "mimetype": "text/x-python",
   "name": "python",
   "nbconvert_exporter": "python",
   "pygments_lexer": "ipython3",
   "version": "3.9.13"
  },
  "vscode": {
   "interpreter": {
    "hash": "7f3124b86b953d827ebe31858c9d7d57fd1033c1acdaf6cbd0987152aea75cb0"
   }
  }
 },
 "nbformat": 4,
 "nbformat_minor": 5
}
