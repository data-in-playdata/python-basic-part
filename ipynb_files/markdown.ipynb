{
 "cells": [
  {
   "cell_type": "markdown",
   "id": "c2955f51-8e27-46e9-a28a-6d544a203d58",
   "metadata": {
    "tags": []
   },
   "source": [
    "# h1\n",
    "## h2\n",
    "### h3\n",
    "#### h4\n",
    "##### h5\n",
    "###### h6"
   ]
  },
  {
   "cell_type": "markdown",
   "id": "5a66557c-f6a2-4ae6-bdaf-f7bc638c0e92",
   "metadata": {},
   "source": [
    "# 1. markdown 학습\n",
    "## 1.1. 해시 기호 이용"
   ]
  },
  {
   "cell_type": "markdown",
   "id": "0cf957d2-eefe-4aa6-84df-b526d3f3f4a8",
   "metadata": {},
   "source": [
    "일반 텍스트는 그냥 입력하시면 됩니다.  \n",
    "**굵은 글씨**는 이렇게 사용합니다.  \n",
    "*기울인 글씨*는 이렇게 쑵니다.  \n",
    "~취소선~은 이렇게 씁니다.  "
   ]
  },
  {
   "cell_type": "markdown",
   "id": "e650e32e-8128-4881-a5db-b244ef2af47c",
   "metadata": {},
   "source": [
    "> 구획이  \n",
    "> 잡힌  \n",
    "> 글입니다."
   ]
  },
  {
   "cell_type": "markdown",
   "id": "3cde1c2a-c82f-424f-aa06-ba3ffd33508c",
   "metadata": {},
   "source": [
    "- 목록1\n",
    "- 목록2\n",
    "- 목록3"
   ]
  },
  {
   "cell_type": "markdown",
   "id": "7a942270-4aac-4192-9545-fc55f7657f4c",
   "metadata": {},
   "source": [
    "* 목록1  \n",
    "* 목록2  \n",
    "* 목록3"
   ]
  },
  {
   "cell_type": "markdown",
   "id": "6d99c8ac-fbf0-43de-bdb1-120c325e2b55",
   "metadata": {},
   "source": [
    "1. 순서가 있는 목록1 \n",
    "2. 순서가 있는 목록2\n",
    "3. 순서가 잇는 목록3"
   ]
  },
  {
   "cell_type": "markdown",
   "id": "eedbd324-1df6-499c-83a5-921f5741e957",
   "metadata": {},
   "source": [
    "[Google](http://www.google.com)"
   ]
  },
  {
   "cell_type": "markdown",
   "id": "9bddfd07-1467-41b9-b6bc-a684b28c6fd4",
   "metadata": {},
   "source": [
    "![이미지에 대한 설명](https://dimg.donga.com/wps/NEWS/IMAGE/2020/08/22/102591473.3.jpg)"
   ]
  },
  {
   "cell_type": "markdown",
   "id": "a3ad2e8b-8496-4933-af8c-4b0ff43d3408",
   "metadata": {},
   "source": [
    "|제목 셀|제목 셀|\n",
    "|--|--|\n",
    "|값1|값2|"
   ]
  },
  {
   "cell_type": "markdown",
   "id": "e8d57e93-c2c0-43e3-9c4a-b5d4acd487d8",
   "metadata": {},
   "source": [
    "|제목 셀|제목 셀|제목 셀|\n",
    "|:--|--:|:--:|\n",
    "|값1|값2|값3|"
   ]
  },
  {
   "cell_type": "markdown",
   "id": "603dd071-27cb-4578-ac36-7fabdb69717b",
   "metadata": {},
   "source": [
    "```python\n",
    "\n",
    "x = int(input(\"인사를 몇 번 할까요?\"))\n",
    "\n",
    "for _ in range(x):\n",
    "    print(\"Hello world\")\n",
    "\n",
    "```"
   ]
  }
 ],
 "metadata": {
  "kernelspec": {
   "display_name": "Python 3 (ipykernel)",
   "language": "python",
   "name": "python3"
  },
  "language_info": {
   "codemirror_mode": {
    "name": "ipython",
    "version": 3
   },
   "file_extension": ".py",
   "mimetype": "text/x-python",
   "name": "python",
   "nbconvert_exporter": "python",
   "pygments_lexer": "ipython3",
   "version": "3.9.13"
  }
 },
 "nbformat": 4,
 "nbformat_minor": 5
}
