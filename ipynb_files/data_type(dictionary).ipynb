{
 "cells": [
  {
   "attachments": {},
   "cell_type": "markdown",
   "id": "2673e199-3490-448c-bd4a-1f14b74333e3",
   "metadata": {
    "tags": []
   },
   "source": [
    "## 딕셔너리 자료형\n",
    "> 딕셔너리 자료형(Dictionary type)은 비 시퀀스 자료형입니다. 따라서 인덱스를 갖지 않습니다.  \n",
    "> 대신 이 자료형은 고유한 키(key)값을 갖습니다. 이 키(key)는 1대1로 매칭되는 값(value)를 갖습니다.  \n",
    "> 이를 key-value pair라고 하며 딕셔너리 자료형의 특징입니다.  "
   ]
  },
  {
   "attachments": {},
   "cell_type": "markdown",
   "id": "560866b4-6362-4df7-bf15-81724bcd6d8e",
   "metadata": {},
   "source": [
    "- 중괄호({})를 활용하여 딕셔너리 자료형을 생성할 수 있습니다. 중괄호 안에는 key-value pair를 작성하며 형태는 key:value 와 같습니다.  \n",
    "  key-value pair는 각각 콤마로 구분지어 요소로 등록할 수 있습니다.  \n"
   ]
  },
  {
   "attachments": {},
   "cell_type": "markdown",
   "id": "21d1d964-a99a-4d48-8a8e-e3b3f9cce2f0",
   "metadata": {},
   "source": [
    "- 딕셔너리 자료형에서 키(key)는 중복해서 존재하지 않습니다. 만약 중복해서 넣게되면 가장 최근에 넣은 key-value pair만 남습니다.\n",
    "- 키(key)는 문자열(str), 정수(int), 실수(float), 불(bool), 튜플(tuple)을 사용할 수 있습니다. 또 키에 이 자료형을 섞어서 사용해도 됩니다.\n",
    "- 단 키에는 리스트(list), 딕셔너리(dictionary), 집합(set)을 사용할 수 없습니다.\n",
    "- 또 키(key)는 고유한 값을 가져야 합니다. (인덱스에 겹치는 숫자가 없듯이)  \n",
    "- 값(value)에는 모든 자료형이 사용될 수 있습니다."
   ]
  },
  {
   "cell_type": "markdown",
   "id": "597955fd-3559-4211-b20e-a14a5fc8fd72",
   "metadata": {},
   "source": [
    "### 딕셔너리 자료형 - 빈 딕셔너리 생성하기\n",
    "비어있는 빈 딕셔너리를 만들 때는 중괄호({})만 쓰거나 인자 없이 dict() 함수를 사용하면 \n",
    "됩니다."
   ]
  },
  {
   "cell_type": "markdown",
   "id": "b0c76a5b-a616-41db-a36b-59003aa8955d",
   "metadata": {
    "tags": []
   },
   "source": [
    "### 딕셔너리 자료형 - dict() 함수로 생성하기"
   ]
  },
  {
   "cell_type": "markdown",
   "id": "f5868be3-d022-4ddf-82f8-93cac4ffda8d",
   "metadata": {},
   "source": [
    "dict() 함수에 키워드 인자값을 활용하면 딕셔너리를 만들 수 있습니다.  \n",
    "함수에 사용하는 키워드 인자의 키워드 부분은 변수명처럼 따옴표(‘’, “”)를 사용하지 않습니다.  \n",
    "이렇게 생성할 때 키를 str으로 입력하지 않아도 str으로 입력되는 걸 잘 기억해두면 좋습니다."
   ]
  },
  {
   "cell_type": "markdown",
   "id": "c6af846c-1af8-4373-9f23-995e1b196518",
   "metadata": {
    "tags": []
   },
   "source": [
    "### 딕셔너리 자료형 - dict() 함수와 시퀀스 객체로 생성하기\n",
    "키와 값 한 쌍을 갖는 시퀀스 객체를 요소로 갖는 시퀀스 객체를 생성하여 딕셔너리 자료형으로 만들 수 있습니다."
   ]
  },
  {
   "cell_type": "markdown",
   "id": "351c1d02-58d2-46db-aa01-3908cf2968e9",
   "metadata": {},
   "source": [
    "### 딕셔너리 자료형 - dict() 함수와 zip() 함수로 생성하기"
   ]
  },
  {
   "attachments": {},
   "cell_type": "markdown",
   "id": "7c13b074-c35d-4f3e-8e29-01bf006e7ccc",
   "metadata": {},
   "source": [
    "zip() 함수를 통하여 키와 값 한 쌍을 갖는 튜플을 요소로 갖는 객체로 딕셔너리 자료형을 생성할 수 있습니다.  \n",
    "이 방법으로 생성하면 갯수가 맞지 않아도 더 적은 갯수의 요소에 맞춰 유동적으로 생성해줍니다.  "
   ]
  },
  {
   "cell_type": "markdown",
   "id": "97c6fbcb-879a-443c-9541-a4289eebe54e",
   "metadata": {},
   "source": [
    "### 딕셔너리 자료형 - 키로 값에 접근하기"
   ]
  },
  {
   "cell_type": "markdown",
   "id": "f778d237-ba71-4dd1-ab37-a291168913d6",
   "metadata": {},
   "source": [
    "인덱싱과 마찬가지입니다. 다만 인덱싱은 0이상의 정수를 활용하여 각 요소에 접근하지만 딕셔너리 자료형은 키를 활용하여 해당 값에 접근합니다."
   ]
  },
  {
   "cell_type": "markdown",
   "id": "9c84b027-0be4-45bd-9a7d-fcac647c876e",
   "metadata": {},
   "source": [
    "### 딕셔너리 자료형 - 키로 값 변경하기"
   ]
  },
  {
   "cell_type": "markdown",
   "id": "4aba63f3-8731-4a9b-ab2e-111197129fc9",
   "metadata": {},
   "source": [
    "키를 통해 접근한 요소에 값을 할당하면 해당 값을 변경할 수 있습니다."
   ]
  },
  {
   "cell_type": "markdown",
   "id": "fd0d4ea3-5579-4cad-861b-a40ed81c66cd",
   "metadata": {},
   "source": [
    "### 딕셔너리 자료형 - 키와 값 추가하기"
   ]
  },
  {
   "cell_type": "markdown",
   "id": "f998f80d-b6d3-40b8-8844-e5a0d66a0400",
   "metadata": {},
   "source": [
    "딕셔너리 자료형에 없는 키를 활용하여 값을 할당하면 딕셔너리 자료형에 새로운 키와 값의 쌍이 추가됩니다."
   ]
  },
  {
   "cell_type": "markdown",
   "id": "73c5c414-b35c-45c8-8726-fcbd0d7974d5",
   "metadata": {},
   "source": [
    "### 딕셔너리 자료형 - 없는 키에 접근하는 경우"
   ]
  },
  {
   "cell_type": "markdown",
   "id": "ad59d451-6c2e-48cf-ae4d-5f28e350e2c4",
   "metadata": {},
   "source": [
    "범위를 벗어난 인덱스에 접근하면 에러가 발생하듯이 딕셔너리 자료형에서도 존재하지 않는 키를 접근하려하면 KeyError가 발생됩니다."
   ]
  },
  {
   "cell_type": "markdown",
   "id": "c46a0a36-5ac4-44bc-8188-2644cbff19dc",
   "metadata": {},
   "source": [
    "### 딕셔너리 자료형 - 특정 키가 딕셔너리 자료형에 있나 확인"
   ]
  },
  {
   "cell_type": "markdown",
   "id": "7a8bee67-442d-4c59-aede-78dde6c1a58a",
   "metadata": {},
   "source": [
    "딕셔너리 자료형에서 특정 키가 존재하는 지 확인할 때 in 연산자를 활용할 수 있습니다."
   ]
  },
  {
   "cell_type": "markdown",
   "id": "db82594c-64e9-40f4-9205-f342a0611e99",
   "metadata": {},
   "source": [
    "### 딕셔너리 자료형 - 특정 키와 값의 쌍을 삭제하기"
   ]
  },
  {
   "cell_type": "markdown",
   "id": "fe4ea8a0-ffa1-4cbb-82ce-49a742ddbe03",
   "metadata": {},
   "source": [
    "딕셔너리 자료형에서 del 키워드를 활용하여 특정 키와 값의 쌍을 삭제할 수 있습니다."
   ]
  },
  {
   "cell_type": "markdown",
   "id": "cbc54d1f-579f-423a-9f11-6483f744f596",
   "metadata": {},
   "source": [
    "### 딕셔너리 자료형 - 키와 값의 쌍 갯수 구하기"
   ]
  },
  {
   "cell_type": "markdown",
   "id": "29b64357-d00b-4646-8c0f-8622546f6d10",
   "metadata": {},
   "source": [
    "키와 값은 1대1로 한 쌍을 이룹니다.  \n",
    "len() 함수를 통해 딕셔너리 자료형의 크기를 구하면 그건 키의 크기(개수)이기도하고 값의 크기(개수)이기도 합니다."
   ]
  },
  {
   "cell_type": "markdown",
   "id": "bb1571d9-1962-41aa-9e9a-7c11fab382fb",
   "metadata": {},
   "source": [
    "#### 연습 문제\n",
    "input() 함수를 통해 원하는 과일 이름을 입력하면 가격이 출력되는 프로그램을 구현해봅시다.  \n",
    "과일 이름(str)을 key로 만들고 가격(int)을 value로 해서 딕셔너리 자료형을 만듭니다.\n",
    "- 사과는 1000원, 바나나는 700원, 오렌지는 1500원, 파인애플은 2000원"
   ]
  },
  {
   "cell_type": "code",
   "execution_count": 3,
   "id": "4dbc2958-053c-4f90-8e70-a0f052c7f50f",
   "metadata": {},
   "outputs": [],
   "source": [
    "vet_prc = {\"사과\" : \"1000원\", \"바나나\" : \"700원\", \"오렌지\" : \"1500원\", \"파인애플\" : \"2000원\"}"
   ]
  },
  {
   "cell_type": "code",
   "execution_count": 4,
   "id": "2e0b1f5e-1a4b-414d-abc0-451fc4602fb6",
   "metadata": {},
   "outputs": [
    {
     "name": "stdout",
     "output_type": "stream",
     "text": [
      "과일 이름을 입력하세요 :  사과\n"
     ]
    },
    {
     "data": {
      "text/plain": [
       "'1000원'"
      ]
     },
     "execution_count": 4,
     "metadata": {},
     "output_type": "execute_result"
    }
   ],
   "source": [
    "vet_name = input(\"과일 이름을 입력하세요 : \")\n",
    "vet_prc[vet_name]"
   ]
  },
  {
   "cell_type": "markdown",
   "id": "62c90ae7-9319-4394-9a19-439ca690a0d7",
   "metadata": {},
   "source": [
    "#### 연습 문제\n",
    "input() 함수를 통해 이름 값 여럿을 입력 받습니다. 이름을 입력 받고 난 후에 이름 순서와 개수를 동일하게 몸무게 값을 입력 받습니다.  \n",
    "이름(str)을 키(key)로 몸무게(float)를 값(value)으로 하는 딕셔너리 자료형을 만들고 그 결과를 출력해보세요.  "
   ]
  },
  {
   "cell_type": "code",
   "execution_count": 14,
   "id": "117d8ec2-1891-46d9-837f-f0e5ffe65904",
   "metadata": {},
   "outputs": [
    {
     "name": "stdout",
     "output_type": "stream",
     "text": [
      "이름을 기입해주세요 :  q w e r\n"
     ]
    },
    {
     "name": "stdout",
     "output_type": "stream",
     "text": [
      "{'q': 20.4, 'w': 16.2, 'e': 22.3, 'r': 5.2}\n"
     ]
    }
   ],
   "source": [
    "bororo_name = list(input(\"이름을 기입해주세요 : \").split())\n",
    "bor_name_weight = dict(zip(bororo_name, [20.4, 16.2, 22.3, 5.2]))\n",
    "print(bor_name_weight)"
   ]
  },
  {
   "cell_type": "markdown",
   "id": "36a57aba-1729-4d0d-ae50-30dd770f648a",
   "metadata": {},
   "source": [
    "- 앗... 무게도 입력받아야 하는 거였다..."
   ]
  },
  {
   "cell_type": "code",
   "execution_count": null,
   "id": "8d2b3aba-a7ab-4588-9f64-8693ec63841f",
   "metadata": {},
   "outputs": [],
   "source": [
    "bororo_name = list(input(\"이름을 기입해주세요 : \").split())\n",
    "bororo_weight = map(float, input(\"몸무게를 입력해주세요: \").split())\n",
    "\n",
    "bor_name_weight = dict(zip(bororo_name, bororo_weight))\n",
    "print(bor_name_weight)"
   ]
  },
  {
   "cell_type": "markdown",
   "id": "0111e3ff-650c-4a55-8b4a-069d345550bf",
   "metadata": {},
   "source": [
    "- for 문으로 풀이"
   ]
  },
  {
   "cell_type": "code",
   "execution_count": null,
   "id": "1c9e8abd-8c58-421a-824c-b4fd04d1fa0c",
   "metadata": {},
   "outputs": [],
   "source": [
    "bororo_name = list(input(\"이름을 기입해주세요 : \").split())\n",
    "bororo_weight = list(map(float, input(\"몸무게를 입력해주세요: \").split()))\n",
    "\n",
    "dict_nw = {}\n",
    "# dict_nw = dict()\n",
    "for i in range(len(names)):\n",
    "    dict_nw[names[i]] = weights[i]\n",
    "print(dict_nw)"
   ]
  }
 ],
 "metadata": {
  "kernelspec": {
   "display_name": "base",
   "language": "python",
   "name": "python3"
  },
  "language_info": {
   "codemirror_mode": {
    "name": "ipython",
    "version": 3
   },
   "file_extension": ".py",
   "mimetype": "text/x-python",
   "name": "python",
   "nbconvert_exporter": "python",
   "pygments_lexer": "ipython3",
   "version": "3.9.16"
  },
  "vscode": {
   "interpreter": {
    "hash": "7f3124b86b953d827ebe31858c9d7d57fd1033c1acdaf6cbd0987152aea75cb0"
   }
  }
 },
 "nbformat": 4,
 "nbformat_minor": 5
}
